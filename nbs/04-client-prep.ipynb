{
 "cells": [
  {
   "cell_type": "code",
   "execution_count": 1,
   "id": "3af11175-6830-4f62-8774-7d77b93e4cc8",
   "metadata": {},
   "outputs": [],
   "source": [
    "#hide\n",
    "#default_exp dev.clientprep"
   ]
  },
  {
   "cell_type": "markdown",
   "id": "9eece896-76aa-4899-838c-3f3e9e82445e",
   "metadata": {},
   "source": [
    "# Client Preparation"
   ]
  },
  {
   "cell_type": "markdown",
   "id": "8b0cccd6-d3f4-4446-bae7-5d47df0b15d1",
   "metadata": {},
   "source": [
    "<br>\n",
    "\n",
    "### Imports"
   ]
  },
  {
   "cell_type": "code",
   "execution_count": 2,
   "id": "fa431cf3-5d3f-495d-961a-94a1f0fcbd33",
   "metadata": {},
   "outputs": [],
   "source": [
    "#exports\n",
    "from tqdm import tqdm\n",
    "from warnings import warn\n",
    "from functools import reduce\n",
    "\n",
    "from ElexonDataPortal.dev import rawgen, specgen, raw, utils"
   ]
  },
  {
   "cell_type": "code",
   "execution_count": 3,
   "id": "93172df8-b8c2-40d8-b9f6-e119293b571c",
   "metadata": {},
   "outputs": [],
   "source": [
    "from IPython.display import JSON\n",
    "import pandas as pd"
   ]
  },
  {
   "cell_type": "code",
   "execution_count": null,
   "id": "403ab274-9371-419a-bd26-cfd02ee84fd7",
   "metadata": {},
   "outputs": [],
   "source": []
  },
  {
   "cell_type": "code",
   "execution_count": 4,
   "id": "3edeb09b-3b9e-4c22-b94c-23034be48433",
   "metadata": {},
   "outputs": [],
   "source": [
    "import os\n",
    "from dotenv import load_dotenv\n",
    "\n",
    "assert load_dotenv('../.env'), 'Environment variables could not be loaded'\n",
    "\n",
    "api_key = os.environ['BMRS_API_KEY']"
   ]
  },
  {
   "cell_type": "code",
   "execution_count": null,
   "id": "1233a2ec-fead-4450-8533-d8af9245430e",
   "metadata": {},
   "outputs": [],
   "source": []
  },
  {
   "cell_type": "code",
   "execution_count": 5,
   "id": "687721a1-c118-43cd-9c5f-dfa7d334d382",
   "metadata": {},
   "outputs": [
    {
     "data": {
      "application/json": {
       "info": {
        "description": "API for the Elexon Balancing Mechanism Reporting Service",
        "title": "BMRS API",
        "version": "2.0"
       },
       "openapi": "3.0.1",
       "paths": {
        "/BMRS/B0610/v1": {
         "get": {
          "description": "Actual Total Load per Bidding Zone",
          "parameters": [
           {
            "example": "AP8DA23",
            "in": "query",
            "name": "APIKey",
            "schema": {
             "type": "string"
            }
           },
           {
            "example": "2021-01-01",
            "in": "query",
            "name": "SettlementDate",
            "schema": {
             "type": "string"
            }
           },
           {
            "example": "1",
            "in": "query",
            "name": "Period",
            "schema": {
             "type": "string"
            }
           },
           {
            "examples": {
             "csv": {
              "value": "csv"
             },
             "xml": {
              "value": "xml"
             }
            },
            "in": "query",
            "name": "ServiceType",
            "schema": {
             "type": "string"
            }
           }
          ],
          "responses": {
           "200": {
            "description": "Actual Total Load per Bidding Zone"
           }
          },
          "servers": [
           {
            "url": "https://api.bmreports.com"
           }
          ],
          "tags": [
           "Demand"
          ],
          "x-title": "B0610"
         },
         "servers": [
          {
           "url": "https://api.bmreports.com"
          }
         ]
        },
        "/BMRS/B0620/v1": {
         "get": {
          "description": "Day-Ahead Total Load Forecast per Bidding Zone",
          "parameters": [
           {
            "example": "AP8DA23",
            "in": "query",
            "name": "APIKey",
            "schema": {
             "type": "string"
            }
           },
           {
            "example": "2021-01-01",
            "in": "query",
            "name": "SettlementDate",
            "schema": {
             "type": "string"
            }
           },
           {
            "example": "1",
            "in": "query",
            "name": "Period",
            "schema": {
             "type": "string"
            }
           },
           {
            "examples": {
             "csv": {
              "value": "csv"
             },
             "xml": {
              "value": "xml"
             }
            },
            "in": "query",
            "name": "ServiceType",
            "schema": {
             "type": "string"
            }
           }
          ],
          "responses": {
           "200": {
            "description": "Day-Ahead Total Load Forecast per Bidding Zone"
           }
          },
          "servers": [
           {
            "url": "https://api.bmreports.com"
           }
          ],
          "tags": [
           "Demand"
          ],
          "x-title": "B0620"
         },
         "servers": [
          {
           "url": "https://api.bmreports.com"
          }
         ]
        },
        "/BMRS/B0630/v1": {
         "get": {
          "description": "Week-Ahead Total Load Forecast per Bidding Zone",
          "parameters": [
           {
            "example": "AP8DA23",
            "in": "query",
            "name": "APIKey",
            "schema": {
             "type": "string"
            }
           },
           {
            "example": "2021",
            "in": "query",
            "name": "Year",
            "schema": {
             "type": "string"
            }
           },
           {
            "example": "22",
            "in": "query",
            "name": "Week",
            "schema": {
             "type": "string"
            }
           },
           {
            "examples": {
             "csv": {
              "value": "csv"
             },
             "xml": {
              "value": "xml"
             }
            },
            "in": "query",
            "name": "ServiceType",
            "schema": {
             "type": "string"
            }
           }
          ],
          "responses": {
           "200": {
            "description": "Week-Ahead Total Load Forecast per Bidding Zone"
           }
          },
          "servers": [
           {
            "url": "https://api.bmreports.com"
           }
          ],
          "tags": [
           "Demand"
          ],
          "x-title": "B0630"
         },
         "servers": [
          {
           "url": "https://api.bmreports.com"
          }
         ]
        },
        "/BMRS/B0640/v1": {
         "get": {
          "description": "Month-Ahead Total Load Forecast Per Bidding Zone",
          "parameters": [
           {
            "example": "AP8DA23",
            "in": "query",
            "name": "APIKey",
            "schema": {
             "type": "string"
            }
           },
           {
            "example": "2021",
            "in": "query",
            "name": "Year",
            "schema": {
             "type": "string"
            }
           },
           {
            "example": "MAR",
            "in": "query",
            "name": "Month",
            "schema": {
             "type": "string"
            }
           },
           {
            "examples": {
             "csv": {
              "value": "csv"
             },
             "xml": {
              "value": "xml"
             }
            },
            "in": "query",
            "name": "ServiceType",
            "schema": {
             "type": "string"
            }
           }
          ],
          "responses": {
           "200": {
            "description": "Month-Ahead Total Load Forecast Per Bidding Zone"
           }
          },
          "servers": [
           {
            "url": "https://api.bmreports.com"
           }
          ],
          "tags": [
           "Demand"
          ],
          "x-title": "B0640"
         },
         "servers": [
          {
           "url": "https://api.bmreports.com"
          }
         ]
        },
        "/BMRS/B0650/v1": {
         "get": {
          "description": "Year Ahead Total Load Forecast per Bidding Zone",
          "parameters": [
           {
            "example": "AP8DA23",
            "in": "query",
            "name": "APIKey",
            "schema": {
             "type": "string"
            }
           },
           {
            "example": "2021",
            "in": "query",
            "name": "Year",
            "schema": {
             "type": "string"
            }
           },
           {
            "examples": {
             "csv": {
              "value": "csv"
             },
             "xml": {
              "value": "xml"
             }
            },
            "in": "query",
            "name": "ServiceType",
            "schema": {
             "type": "string"
            }
           }
          ],
          "responses": {
           "200": {
            "description": "Year Ahead Total Load Forecast per Bidding Zone"
           }
          },
          "servers": [
           {
            "url": "https://api.bmreports.com"
           }
          ],
          "tags": [
           "Demand"
          ],
          "x-title": "B0650"
         },
         "servers": [
          {
           "url": "https://api.bmreports.com"
          }
         ]
        },
        "/BMRS/B0710/v1": {
         "get": {
          "description": "Planned Unavailability of Consumption Units",
          "parameters": [
           {
            "example": "AP8DA23",
            "in": "query",
            "name": "APIKey",
            "schema": {
             "type": "string"
            }
           },
           {
            "example": "23:59:59",
            "in": "query",
            "name": "EndTime",
            "schema": {
             "type": "string"
            }
           },
           {
            "example": "00:00:00",
            "in": "query",
            "name": "StartTime",
            "schema": {
             "type": "string"
            }
           },
           {
            "example": "2021-01-01",
            "in": "query",
            "name": "StartDate",
            "schema": {
             "type": "string"
            }
           },
           {
            "example": "2021-02-01",
            "in": "query",
            "name": "EndDate",
            "schema": {
             "type": "string"
            }
           },
           {
            "examples": {
             "csv": {
              "value": "csv"
             },
             "xml": {
              "value": "xml"
             }
            },
            "in": "query",
            "name": "ServiceType",
            "schema": {
             "type": "string"
            }
           }
          ],
          "responses": {
           "200": {
            "description": "Planned Unavailability of Consumption Units"
           }
          },
          "servers": [
           {
            "url": "https://api.bmreports.com"
           }
          ],
          "tags": [
           "Demand"
          ],
          "x-title": "B0710"
         },
         "servers": [
          {
           "url": "https://api.bmreports.com"
          }
         ]
        },
        "/BMRS/B0720/v1": {
         "get": {
          "description": "Changes In Actual Availability Of Consumption Units",
          "parameters": [
           {
            "example": "AP8DA23",
            "in": "query",
            "name": "APIKey",
            "schema": {
             "type": "string"
            }
           },
           {
            "example": "2021-01-01",
            "in": "query",
            "name": "StartDate",
            "schema": {
             "type": "string"
            }
           },
           {
            "example": "00:00:00",
            "in": "query",
            "name": "StartTime",
            "schema": {
             "type": "string"
            }
           },
           {
            "example": "2021-02-01",
            "in": "query",
            "name": "EndDate",
            "schema": {
             "type": "string"
            }
           },
           {
            "example": "23:59:59",
            "in": "query",
            "name": "EndTime",
            "schema": {
             "type": "string"
            }
           },
           {
            "examples": {
             "csv": {
              "value": "csv"
             },
             "xml": {
              "value": "xml"
             }
            },
            "in": "query",
            "name": "ServiceType",
            "schema": {
             "type": "string"
            }
           }
          ],
          "responses": {
           "200": {
            "description": "Changes In Actual Availability Of Consumption Units"
           }
          },
          "servers": [
           {
            "url": "https://api.bmreports.com"
           }
          ],
          "tags": [
           "Demand"
          ],
          "x-title": "B0720"
         },
         "servers": [
          {
           "url": "https://api.bmreports.com"
          }
         ]
        },
        "/BMRS/B0810/v1": {
         "get": {
          "description": "Year Ahead Forecast Margin",
          "parameters": [
           {
            "example": "AP8DA23",
            "in": "query",
            "name": "APIKey",
            "schema": {
             "type": "string"
            }
           },
           {
            "example": "2021",
            "in": "query",
            "name": "Year",
            "schema": {
             "type": "string"
            }
           },
           {
            "examples": {
             "csv": {
              "value": "csv"
             },
             "xml": {
              "value": "xml"
             }
            },
            "in": "query",
            "name": "ServiceType",
            "schema": {
             "type": "string"
            }
           }
          ],
          "responses": {
           "200": {
            "description": "Year Ahead Forecast Margin"
           }
          },
          "servers": [
           {
            "url": "https://api.bmreports.com"
           }
          ],
          "tags": [
           "Demand"
          ],
          "x-title": "B0810"
         },
         "servers": [
          {
           "url": "https://api.bmreports.com"
          }
         ]
        },
        "/BMRS/B0910/v1": {
         "get": {
          "description": "Expansion and Dismantling Projects",
          "parameters": [
           {
            "example": "AP8DA23",
            "in": "query",
            "name": "APIKey",
            "schema": {
             "type": "string"
            }
           },
           {
            "example": "2021",
            "in": "query",
            "name": "Year",
            "schema": {
             "type": "integer"
            }
           },
           {
            "examples": {
             "csv": {
              "value": "csv"
             },
             "xml": {
              "value": "xml"
             }
            },
            "in": "query",
            "name": "ServiceType",
            "schema": {
             "type": "string"
            }
           }
          ],
          "responses": {
           "200": {
            "description": "Expansion and Dismantling Projects"
           }
          },
          "servers": [
           {
            "url": "https://api.bmreports.com"
           }
          ],
          "tags": [
           "Transmission"
          ],
          "x-title": "B0910"
         },
         "servers": [
          {
           "url": "https://api.bmreports.com"
          }
         ]
        },
        "/BMRS/B1010/v1": {
         "get": {
          "description": "Planned Unavailability In The Transmission Grid",
          "parameters": [
           {
            "example": "AP8DA23",
            "in": "query",
            "name": "APIKey",
            "schema": {
             "type": "string"
            }
           },
           {
            "example": "2021-01-01",
            "in": "query",
            "name": "StartDate",
            "schema": {
             "type": "string"
            }
           },
           {
            "example": "2021-02-01",
            "in": "query",
            "name": "EndDate",
            "schema": {
             "type": "string"
            }
           },
           {
            "example": "00:00:00",
            "in": "query",
            "name": "StartTime",
            "schema": {
             "type": "string"
            }
           },
           {
            "example": "23:59:59",
            "in": "query",
            "name": "EndTime",
            "schema": {
             "type": "string"
            }
           },
           {
            "examples": {
             "csv": {
              "value": "csv"
             },
             "xml": {
              "value": "xml"
             }
            },
            "in": "query",
            "name": "ServiceType",
            "schema": {
             "type": "string"
            }
           }
          ],
          "responses": {
           "200": {
            "description": "Planned Unavailability In The Transmission Grid"
           }
          },
          "servers": [
           {
            "url": "https://api.bmreports.com"
           }
          ],
          "tags": [
           "Transmission"
          ],
          "x-title": "B1010"
         },
         "servers": [
          {
           "url": "https://api.bmreports.com"
          }
         ]
        },
        "/BMRS/B1020/v1": {
         "get": {
          "description": "Changes In Actual Availability In The Transmission Grid",
          "parameters": [
           {
            "example": "AP8DA23",
            "in": "query",
            "name": "APIKey",
            "schema": {
             "type": "string"
            }
           },
           {
            "example": "2021-01-01",
            "in": "query",
            "name": "StartDate",
            "schema": {
             "type": "string"
            }
           },
           {
            "example": "2021-02-01",
            "in": "query",
            "name": "EndDate",
            "schema": {
             "type": "string"
            }
           },
           {
            "example": "00:00:00",
            "in": "query",
            "name": "StartTime",
            "schema": {
             "type": "string"
            }
           },
           {
            "example": "23:59:59",
            "in": "query",
            "name": "EndTime",
            "schema": {
             "type": "string"
            }
           },
           {
            "examples": {
             "csv": {
              "value": "csv"
             },
             "xml": {
              "value": "xml"
             }
            },
            "in": "query",
            "name": "ServiceType",
            "schema": {
             "type": "string"
            }
           }
          ],
          "responses": {
           "200": {
            "description": "Changes In Actual Availability In The Transmission Grid"
           }
          },
          "servers": [
           {
            "url": "https://api.bmreports.com"
           }
          ],
          "tags": [
           "Transmission"
          ],
          "x-title": "B1020"
         },
         "servers": [
          {
           "url": "https://api.bmreports.com"
          }
         ]
        },
        "/BMRS/B1030/v1": {
         "get": {
          "description": "Changes In Actual Availability of Offshore Grid Infrastructure",
          "parameters": [
           {
            "example": "AP8DA23",
            "in": "query",
            "name": "APIKey",
            "schema": {
             "type": "string"
            }
           },
           {
            "example": "2021-01-01",
            "in": "query",
            "name": "StartDate",
            "schema": {
             "type": "string"
            }
           },
           {
            "example": "2021-02-01",
            "in": "query",
            "name": "EndDate",
            "schema": {
             "type": "string"
            }
           },
           {
            "example": "00:00:00",
            "in": "query",
            "name": "StartTime",
            "schema": {
             "type": "string"
            }
           },
           {
            "example": "23:59:59",
            "in": "query",
            "name": "EndTime",
            "schema": {
             "type": "string"
            }
           },
           {
            "examples": {
             "csv": {
              "value": "csv"
             },
             "xml": {
              "value": "xml"
             }
            },
            "in": "query",
            "name": "ServiceType",
            "schema": {
             "type": "string"
            }
           }
          ],
          "responses": {
           "200": {
            "description": "Changes In Actual Availability of Offshore Grid Infrastructure"
           }
          },
          "servers": [
           {
            "url": "https://api.bmreports.com"
           }
          ],
          "tags": [
           "Transmission"
          ],
          "x-title": "B1030"
         },
         "servers": [
          {
           "url": "https://api.bmreports.com"
          }
         ]
        },
        "/BMRS/B1320/v1": {
         "get": {
          "description": "Congestion Management Measures Countertrading",
          "parameters": [
           {
            "example": "AP8DA23",
            "in": "query",
            "name": "APIKey",
            "schema": {
             "type": "string"
            }
           },
           {
            "example": "2021-01-01",
            "in": "query",
            "name": "SettlementDate",
            "schema": {
             "type": "string"
            }
           },
           {
            "example": "1",
            "in": "query",
            "name": "Period",
            "schema": {
             "type": "string"
            }
           },
           {
            "examples": {
             "csv": {
              "value": "csv"
             },
             "xml": {
              "value": "xml"
             }
            },
            "in": "query",
            "name": "ServiceType",
            "schema": {
             "type": "string"
            }
           }
          ],
          "responses": {
           "200": {
            "description": "Congestion Management Measures Countertrading"
           }
          },
          "servers": [
           {
            "url": "https://api.bmreports.com"
           }
          ],
          "tags": [
           "Transmission"
          ],
          "x-title": "B1320"
         },
         "servers": [
          {
           "url": "https://api.bmreports.com"
          }
         ]
        },
        "/BMRS/B1330/v1": {
         "get": {
          "description": "Congestion Management Measures Costs of Congestion Management",
          "parameters": [
           {
            "example": "AP8DA23",
            "in": "query",
            "name": "APIKey",
            "schema": {
             "type": "string"
            }
           },
           {
            "example": "2021",
            "in": "query",
            "name": "Year",
            "schema": {
             "type": "string"
            }
           },
           {
            "example": "Mar",
            "in": "query",
            "name": "Month",
            "schema": {
             "type": "string"
            }
           },
           {
            "examples": {
             "csv": {
              "value": "csv"
             },
             "xml": {
              "value": "xml"
             }
            },
            "in": "query",
            "name": "ServiceType",
            "schema": {
             "type": "string"
            }
           }
          ],
          "responses": {
           "200": {
            "description": "Congestion Management Measures Costs of Congestion Management"
           }
          },
          "servers": [
           {
            "url": "https://api.bmreports.com"
           }
          ],
          "tags": [
           "Transmission"
          ],
          "x-title": "B1330"
         },
         "servers": [
          {
           "url": "https://api.bmreports.com"
          }
         ]
        },
        "/BMRS/B1410/v1": {
         "get": {
          "description": "Installed Generation Capacity Aggregated",
          "parameters": [
           {
            "example": "AP8DA23",
            "in": "query",
            "name": "APIKey",
            "schema": {
             "type": "string"
            }
           },
           {
            "example": "2021",
            "in": "query",
            "name": "Year",
            "schema": {
             "type": "string"
            }
           },
           {
            "examples": {
             "csv": {
              "value": "csv"
             },
             "xml": {
              "value": "xml"
             }
            },
            "in": "query",
            "name": "ServiceType",
            "schema": {
             "type": "string"
            }
           }
          ],
          "responses": {
           "200": {
            "description": "Installed Generation Capacity Aggregated"
           }
          },
          "servers": [
           {
            "url": "https://api.bmreports.com"
           }
          ],
          "tags": [
           "Generation"
          ],
          "x-title": "B1410"
         },
         "servers": [
          {
           "url": "https://api.bmreports.com"
          }
         ]
        },
        "/BMRS/B1420/v1": {
         "get": {
          "description": "Installed Generation Capacity per Unit",
          "parameters": [
           {
            "example": "AP8DA23",
            "in": "query",
            "name": "APIKey",
            "schema": {
             "type": "string"
            }
           },
           {
            "example": "2021",
            "in": "query",
            "name": "Year",
            "schema": {
             "type": "string"
            }
           },
           {
            "examples": {
             "csv": {
              "value": "csv"
             },
             "xml": {
              "value": "xml"
             }
            },
            "in": "query",
            "name": "ServiceType",
            "schema": {
             "type": "string"
            }
           }
          ],
          "responses": {
           "200": {
            "description": "Installed Generation Capacity per Unit"
           }
          },
          "servers": [
           {
            "url": "https://api.bmreports.com"
           }
          ],
          "tags": [
           "Generation"
          ],
          "x-title": "B1420"
         },
         "servers": [
          {
           "url": "https://api.bmreports.com"
          }
         ]
        },
        "/BMRS/B1430/v1": {
         "get": {
          "description": "Day-Ahead Aggregated Generation",
          "parameters": [
           {
            "example": "AP8DA23",
            "in": "query",
            "name": "APIKey",
            "schema": {
             "type": "string"
            }
           },
           {
            "example": "2021-01-01",
            "in": "query",
            "name": "SettlementDate",
            "schema": {
             "type": "string"
            }
           },
           {
            "example": "1",
            "in": "query",
            "name": "Period",
            "schema": {
             "type": "string"
            }
           },
           {
            "examples": {
             "csv": {
              "value": "csv"
             },
             "xml": {
              "value": "xml"
             }
            },
            "in": "query",
            "name": "ServiceType",
            "schema": {
             "type": "string"
            }
           }
          ],
          "responses": {
           "200": {
            "description": "Day-Ahead Aggregated Generation"
           }
          },
          "servers": [
           {
            "url": "https://api.bmreports.com"
           }
          ],
          "tags": [
           "Generation"
          ],
          "x-title": "B1430"
         },
         "servers": [
          {
           "url": "https://api.bmreports.com"
          }
         ]
        },
        "/BMRS/B1440/v1": {
         "get": {
          "description": "Generation forecasts for Wind and Solar",
          "parameters": [
           {
            "example": "AP8DA23",
            "in": "query",
            "name": "APIKey",
            "schema": {
             "type": "string"
            }
           },
           {
            "example": "2021-01-01",
            "in": "query",
            "name": "SettlementDate",
            "schema": {
             "type": "string"
            }
           },
           {
            "example": "1",
            "in": "query",
            "name": "Period",
            "schema": {
             "type": "string"
            }
           },
           {
            "example": "Day Ahead",
            "in": "query",
            "name": "ProcessType",
            "schema": {
             "type": "string"
            }
           },
           {
            "examples": {
             "csv": {
              "value": "csv"
             },
             "xml": {
              "value": "xml"
             }
            },
            "in": "query",
            "name": "ServiceType",
            "schema": {
             "type": "string"
            }
           }
          ],
          "responses": {
           "200": {
            "description": "Generation forecasts for Wind and Solar"
           }
          },
          "servers": [
           {
            "url": "https://api.bmreports.com"
           }
          ],
          "tags": [
           "Generation"
          ],
          "x-title": "B1440"
         },
         "servers": [
          {
           "url": "https://api.bmreports.com"
          }
         ]
        },
        "/BMRS/B1510/v1": {
         "get": {
          "description": "Planned Unavailability of Generation Units",
          "parameters": [
           {
            "example": "AP8DA23",
            "in": "query",
            "name": "APIKey",
            "schema": {
             "type": "string"
            }
           },
           {
            "example": "2021-01-01",
            "in": "query",
            "name": "StartDate",
            "schema": {
             "type": "string"
            }
           },
           {
            "example": "2021-02-01",
            "in": "query",
            "name": "EndDate",
            "schema": {
             "type": "string"
            }
           },
           {
            "example": "00:00:00",
            "in": "query",
            "name": "StartTime",
            "schema": {
             "type": "string"
            }
           },
           {
            "example": "23:59:59",
            "in": "query",
            "name": "EndTime",
            "schema": {
             "type": "string"
            }
           },
           {
            "examples": {
             "csv": {
              "value": "csv"
             },
             "xml": {
              "value": "xml"
             }
            },
            "in": "query",
            "name": "ServiceType",
            "schema": {
             "type": "string"
            }
           }
          ],
          "responses": {
           "200": {
            "description": "Planned Unavailability of Generation Units"
           }
          },
          "servers": [
           {
            "url": "https://api.bmreports.com"
           }
          ],
          "tags": [
           "Generation"
          ],
          "x-title": "B1510"
         },
         "servers": [
          {
           "url": "https://api.bmreports.com"
          }
         ]
        },
        "/BMRS/B1520/v1": {
         "get": {
          "description": "Changes In Actual Availability of Generation Units",
          "parameters": [
           {
            "example": "AP8DA23",
            "in": "query",
            "name": "APIKey",
            "schema": {
             "type": "string"
            }
           },
           {
            "example": "2021-01-01",
            "in": "query",
            "name": "StartDate",
            "schema": {
             "type": "string"
            }
           },
           {
            "example": "2021-02-01",
            "in": "query",
            "name": "EndDate",
            "schema": {
             "type": "string"
            }
           },
           {
            "example": "00:00:00",
            "in": "query",
            "name": "StartTime",
            "schema": {
             "type": "string"
            }
           },
           {
            "example": "23:59:59",
            "in": "query",
            "name": "EndTime",
            "schema": {
             "type": "string"
            }
           },
           {
            "examples": {
             "csv": {
              "value": "csv"
             },
             "xml": {
              "value": "xml"
             }
            },
            "in": "query",
            "name": "ServiceType",
            "schema": {
             "type": "string"
            }
           }
          ],
          "responses": {
           "200": {
            "description": "Changes In Actual Availability of Generation Units"
           }
          },
          "servers": [
           {
            "url": "https://api.bmreports.com"
           }
          ],
          "tags": [
           "Generation"
          ],
          "x-title": "B1520"
         },
         "servers": [
          {
           "url": "https://api.bmreports.com"
          }
         ]
        },
        "/BMRS/B1530/v1": {
         "get": {
          "description": "Planned Unavailability of Production Units",
          "parameters": [
           {
            "example": "AP8DA23",
            "in": "query",
            "name": "APIKey",
            "schema": {
             "type": "string"
            }
           },
           {
            "example": "2021-01-01",
            "in": "query",
            "name": "StartDate",
            "schema": {
             "type": "string"
            }
           },
           {
            "example": "2021-02-01",
            "in": "query",
            "name": "EndDate",
            "schema": {
             "type": "string"
            }
           },
           {
            "example": "00:00:00",
            "in": "query",
            "name": "StartTime",
            "schema": {
             "type": "string"
            }
           },
           {
            "example": "23:59:59",
            "in": "query",
            "name": "EndTime",
            "schema": {
             "type": "string"
            }
           },
           {
            "examples": {
             "csv": {
              "value": "csv"
             },
             "xml": {
              "value": "xml"
             }
            },
            "in": "query",
            "name": "ServiceType",
            "schema": {
             "type": "string"
            }
           }
          ],
          "responses": {
           "200": {
            "description": "Planned Unavailability of Production Units"
           }
          },
          "servers": [
           {
            "url": "https://api.bmreports.com"
           }
          ],
          "tags": [
           "Generation"
          ],
          "x-title": "B1530"
         },
         "servers": [
          {
           "url": "https://api.bmreports.com"
          }
         ]
        },
        "/BMRS/B1540/v1": {
         "get": {
          "description": "Changes In Actual Availability of Production Units",
          "parameters": [
           {
            "example": "AP8DA23",
            "in": "query",
            "name": "APIKey",
            "schema": {
             "type": "string"
            }
           },
           {
            "example": "2021-01-01",
            "in": "query",
            "name": "StartDate",
            "schema": {
             "type": "string"
            }
           },
           {
            "example": "2021-02-01",
            "in": "query",
            "name": "EndDate",
            "schema": {
             "type": "string"
            }
           },
           {
            "example": "00:00:00",
            "in": "query",
            "name": "StartTime",
            "schema": {
             "type": "string"
            }
           },
           {
            "example": "23:59:59",
            "in": "query",
            "name": "EndTime",
            "schema": {
             "type": "string"
            }
           },
           {
            "examples": {
             "csv": {
              "value": "csv"
             },
             "xml": {
              "value": "xml"
             }
            },
            "in": "query",
            "name": "ServiceType",
            "schema": {
             "type": "string"
            }
           }
          ],
          "responses": {
           "200": {
            "description": "Changes In Actual Availability of Production Units"
           }
          },
          "servers": [
           {
            "url": "https://api.bmreports.com"
           }
          ],
          "tags": [
           "Generation"
          ],
          "x-title": "B1540"
         },
         "servers": [
          {
           "url": "https://api.bmreports.com"
          }
         ]
        },
        "/BMRS/B1610/v2": {
         "get": {
          "description": "Actual Generation Output per Generation Unit",
          "parameters": [
           {
            "example": "AP8DA23",
            "in": "query",
            "name": "APIKey",
            "schema": {
             "type": "string"
            }
           },
           {
            "example": "2021-01-01",
            "in": "query",
            "name": "SettlementDate",
            "schema": {
             "type": "string"
            }
           },
           {
            "example": "1",
            "in": "query",
            "name": "Period",
            "schema": {
             "type": "string"
            }
           },
           {
            "example": "*",
            "in": "query",
            "name": "NGCBMUnitID",
            "schema": {
             "type": "string"
            }
           },
           {
            "examples": {
             "csv": {
              "value": "csv"
             },
             "xml": {
              "value": "xml"
             }
            },
            "in": "query",
            "name": "ServiceType",
            "schema": {
             "type": "string"
            }
           }
          ],
          "responses": {
           "200": {
            "description": "Actual Generation Output per Generation Unit"
           }
          },
          "servers": [
           {
            "url": "https://api.bmreports.com"
           }
          ],
          "tags": [
           "Generation"
          ],
          "x-title": "B1610"
         },
         "servers": [
          {
           "url": "https://api.bmreports.com"
          }
         ]
        },
        "/BMRS/B1620/v1": {
         "get": {
          "description": "Actual Aggregated Generation per Type",
          "parameters": [
           {
            "example": "AP8DA23",
            "in": "query",
            "name": "APIKey",
            "schema": {
             "type": "string"
            }
           },
           {
            "example": "2021-01-01",
            "in": "query",
            "name": "SettlementDate",
            "schema": {
             "type": "string"
            }
           },
           {
            "example": "1",
            "in": "query",
            "name": "Period",
            "schema": {
             "type": "string"
            }
           },
           {
            "examples": {
             "csv": {
              "value": "csv"
             },
             "xml": {
              "value": "xml"
             }
            },
            "in": "query",
            "name": "ServiceType",
            "schema": {
             "type": "string"
            }
           }
          ],
          "responses": {
           "200": {
            "description": "Actual Aggregated Generation per Type"
           }
          },
          "servers": [
           {
            "url": "https://api.bmreports.com"
           }
          ],
          "tags": [
           "Generation"
          ],
          "x-title": "B1620"
         },
         "servers": [
          {
           "url": "https://api.bmreports.com"
          }
         ]
        },
        "/BMRS/B1630/v1": {
         "get": {
          "description": "Actual Or Estimated Wind and Solar Power Generation",
          "parameters": [
           {
            "example": "AP8DA23",
            "in": "query",
            "name": "APIKey",
            "schema": {
             "type": "string"
            }
           },
           {
            "example": "2021-01-01",
            "in": "query",
            "name": "SettlementDate",
            "schema": {
             "type": "string"
            }
           },
           {
            "example": "1",
            "in": "query",
            "name": "Period",
            "schema": {
             "type": "string"
            }
           },
           {
            "examples": {
             "csv": {
              "value": "csv"
             },
             "xml": {
              "value": "xml"
             }
            },
            "in": "query",
            "name": "ServiceType",
            "schema": {
             "type": "string"
            }
           }
          ],
          "responses": {
           "200": {
            "description": "Actual Or Estimated Wind and Solar Power Generation"
           }
          },
          "servers": [
           {
            "url": "https://api.bmreports.com"
           }
          ],
          "tags": [
           "Generation"
          ],
          "x-title": "B1630"
         },
         "servers": [
          {
           "url": "https://api.bmreports.com"
          }
         ]
        },
        "/BMRS/B1720/v1": {
         "get": {
          "description": "Amount Of Balancing Reserves Under Contract Service",
          "parameters": [
           {
            "example": "AP8DA23",
            "in": "query",
            "name": "APIKey",
            "schema": {
             "type": "string"
            }
           },
           {
            "example": "2021-01-01",
            "in": "query",
            "name": "SettlementDate",
            "schema": {
             "type": "string"
            }
           },
           {
            "example": "1",
            "in": "query",
            "name": "Period",
            "schema": {
             "type": "string"
            }
           },
           {
            "examples": {
             "csv": {
              "value": "csv"
             },
             "xml": {
              "value": "xml"
             }
            },
            "in": "query",
            "name": "ServiceType",
            "schema": {
             "type": "string"
            }
           }
          ],
          "responses": {
           "200": {
            "description": "Amount Of Balancing Reserves Under Contract Service"
           }
          },
          "servers": [
           {
            "url": "https://api.bmreports.com"
           }
          ],
          "tags": [
           "Balancing"
          ],
          "x-title": "B1720"
         },
         "servers": [
          {
           "url": "https://api.bmreports.com"
          }
         ]
        },
        "/BMRS/B1730/v1": {
         "get": {
          "description": "Prices Of Procured Balancing Reserves Service",
          "parameters": [
           {
            "example": "AP8DA23",
            "in": "query",
            "name": "APIKey",
            "schema": {
             "type": "string"
            }
           },
           {
            "example": "2021-01-01",
            "in": "query",
            "name": "SettlementDate",
            "schema": {
             "type": "string"
            }
           },
           {
            "example": "1",
            "in": "query",
            "name": "Period",
            "schema": {
             "type": "string"
            }
           },
           {
            "examples": {
             "csv": {
              "value": "csv"
             },
             "xml": {
              "value": "xml"
             }
            },
            "in": "query",
            "name": "ServiceType",
            "schema": {
             "type": "string"
            }
           }
          ],
          "responses": {
           "200": {
            "description": "Prices Of Procured Balancing Reserves Service"
           }
          },
          "servers": [
           {
            "url": "https://api.bmreports.com"
           }
          ],
          "tags": [
           "Balancing"
          ],
          "x-title": "B1730"
         },
         "servers": [
          {
           "url": "https://api.bmreports.com"
          }
         ]
        },
        "/BMRS/B1740/v1": {
         "get": {
          "description": "Accepted Aggregated Offers",
          "parameters": [
           {
            "example": "AP8DA23",
            "in": "query",
            "name": "APIKey",
            "schema": {
             "type": "string"
            }
           },
           {
            "example": "2021-01-01",
            "in": "query",
            "name": "SettlementDate",
            "schema": {
             "type": "string"
            }
           },
           {
            "example": "1",
            "in": "query",
            "name": "Period",
            "schema": {
             "type": "string"
            }
           },
           {
            "examples": {
             "csv": {
              "value": "csv"
             },
             "xml": {
              "value": "xml"
             }
            },
            "in": "query",
            "name": "ServiceType",
            "schema": {
             "type": "string"
            }
           }
          ],
          "responses": {
           "200": {
            "description": "Accepted Aggregated Offers"
           }
          },
          "servers": [
           {
            "url": "https://api.bmreports.com"
           }
          ],
          "tags": [
           "Balancing"
          ],
          "x-title": "B1740"
         },
         "servers": [
          {
           "url": "https://api.bmreports.com"
          }
         ]
        },
        "/BMRS/B1750/v1": {
         "get": {
          "description": "Activated Balancing Energy",
          "parameters": [
           {
            "example": "AP8DA23",
            "in": "query",
            "name": "APIKey",
            "schema": {
             "type": "string"
            }
           },
           {
            "example": "2021-01-01",
            "in": "query",
            "name": "SettlementDate",
            "schema": {
             "type": "string"
            }
           },
           {
            "example": "1",
            "in": "query",
            "name": "Period",
            "schema": {
             "type": "string"
            }
           },
           {
            "examples": {
             "csv": {
              "value": "csv"
             },
             "xml": {
              "value": "xml"
             }
            },
            "in": "query",
            "name": "ServiceType",
            "schema": {
             "type": "string"
            }
           }
          ],
          "responses": {
           "200": {
            "description": "Activated Balancing Energy"
           }
          },
          "servers": [
           {
            "url": "https://api.bmreports.com"
           }
          ],
          "tags": [
           "Balancing"
          ],
          "x-title": "B1750"
         },
         "servers": [
          {
           "url": "https://api.bmreports.com"
          }
         ]
        },
        "/BMRS/B1760/v1": {
         "get": {
          "description": "Prices Of Activated Balancing Energy",
          "parameters": [
           {
            "example": "AP8DA23",
            "in": "query",
            "name": "APIKey",
            "schema": {
             "type": "string"
            }
           },
           {
            "example": "2021-01-01",
            "in": "query",
            "name": "SettlementDate",
            "schema": {
             "type": "string"
            }
           },
           {
            "example": "1",
            "in": "query",
            "name": "Period",
            "schema": {
             "type": "string"
            }
           },
           {
            "examples": {
             "csv": {
              "value": "csv"
             },
             "xml": {
              "value": "xml"
             }
            },
            "in": "query",
            "name": "ServiceType",
            "schema": {
             "type": "string"
            }
           }
          ],
          "responses": {
           "200": {
            "description": "Prices Of Activated Balancing Energy"
           }
          },
          "servers": [
           {
            "url": "https://api.bmreports.com"
           }
          ],
          "tags": [
           "Balancing"
          ],
          "x-title": "B1760"
         },
         "servers": [
          {
           "url": "https://api.bmreports.com"
          }
         ]
        },
        "/BMRS/B1770/v1": {
         "get": {
          "description": "Imbalance Prices",
          "parameters": [
           {
            "example": "AP8DA23",
            "in": "query",
            "name": "APIKey",
            "schema": {
             "type": "string"
            }
           },
           {
            "example": "2021-01-01",
            "in": "query",
            "name": "SettlementDate",
            "schema": {
             "type": "string"
            }
           },
           {
            "example": "1",
            "in": "query",
            "name": "Period",
            "schema": {
             "type": "string"
            }
           },
           {
            "examples": {
             "csv": {
              "value": "csv"
             },
             "xml": {
              "value": "xml"
             }
            },
            "in": "query",
            "name": "ServiceType",
            "schema": {
             "type": "string"
            }
           }
          ],
          "responses": {
           "200": {
            "description": "Imbalance Prices"
           }
          },
          "servers": [
           {
            "url": "https://api.bmreports.com"
           }
          ],
          "tags": [
           "Balancing"
          ],
          "x-title": "B1770"
         },
         "servers": [
          {
           "url": "https://api.bmreports.com"
          }
         ]
        },
        "/BMRS/B1780/v1": {
         "get": {
          "description": "Aggregated Imbalance Volumes",
          "parameters": [
           {
            "example": "AP8DA23",
            "in": "query",
            "name": "APIKey",
            "schema": {
             "type": "string"
            }
           },
           {
            "example": "2021-01-01",
            "in": "query",
            "name": "SettlementDate",
            "schema": {
             "type": "string"
            }
           },
           {
            "example": "1",
            "in": "query",
            "name": "Period",
            "schema": {
             "type": "string"
            }
           },
           {
            "examples": {
             "csv": {
              "value": "csv"
             },
             "xml": {
              "value": "xml"
             }
            },
            "in": "query",
            "name": "ServiceType",
            "schema": {
             "type": "string"
            }
           }
          ],
          "responses": {
           "200": {
            "description": "Aggregated Imbalance Volumes"
           }
          },
          "servers": [
           {
            "url": "https://api.bmreports.com"
           }
          ],
          "tags": [
           "Balancing"
          ],
          "x-title": "B1780"
         },
         "servers": [
          {
           "url": "https://api.bmreports.com"
          }
         ]
        },
        "/BMRS/B1790/v1": {
         "get": {
          "description": "Financial Expenses and Income For Balancing",
          "parameters": [
           {
            "example": "AP8DA23",
            "in": "query",
            "name": "APIKey",
            "schema": {
             "type": "string"
            }
           },
           {
            "example": "2021",
            "in": "query",
            "name": "Year",
            "schema": {
             "type": "string"
            }
           },
           {
            "example": "MAR",
            "in": "query",
            "name": "Month",
            "schema": {
             "type": "string"
            }
           },
           {
            "examples": {
             "csv": {
              "value": "csv"
             },
             "xml": {
              "value": "xml"
             }
            },
            "in": "query",
            "name": "ServiceType",
            "schema": {
             "type": "string"
            }
           }
          ],
          "responses": {
           "200": {
            "description": "Financial Expenses and Income For Balancing"
           }
          },
          "servers": [
           {
            "url": "https://api.bmreports.com"
           }
          ],
          "tags": [
           "Balancing"
          ],
          "x-title": "B1790"
         },
         "servers": [
          {
           "url": "https://api.bmreports.com"
          }
         ]
        },
        "/BMRS/B1810/v1": {
         "get": {
          "description": "Cross-Border Balancing Volumes of Exchanged Bids and Offers",
          "parameters": [
           {
            "example": "AP8DA23",
            "in": "query",
            "name": "APIKey",
            "schema": {
             "type": "string"
            }
           },
           {
            "example": "2021-01-01",
            "in": "query",
            "name": "SettlementDate",
            "schema": {
             "type": "string"
            }
           },
           {
            "example": "1",
            "in": "query",
            "name": "Period",
            "schema": {
             "type": "string"
            }
           },
           {
            "examples": {
             "csv": {
              "value": "csv"
             },
             "xml": {
              "value": "xml"
             }
            },
            "in": "query",
            "name": "ServiceType",
            "schema": {
             "type": "string"
            }
           }
          ],
          "responses": {
           "200": {
            "description": "Cross-Border Balancing Volumes of Exchanged Bids and Offers"
           }
          },
          "servers": [
           {
            "url": "https://api.bmreports.com"
           }
          ],
          "tags": [
           "Balancing"
          ],
          "x-title": "B1810"
         },
         "servers": [
          {
           "url": "https://api.bmreports.com"
          }
         ]
        },
        "/BMRS/B1820/v1": {
         "get": {
          "description": "Cross-Border Balancing Prices",
          "parameters": [
           {
            "example": "AP8DA23",
            "in": "query",
            "name": "APIKey",
            "schema": {
             "type": "string"
            }
           },
           {
            "example": "2021-01-01",
            "in": "query",
            "name": "SettlementDate",
            "schema": {
             "type": "string"
            }
           },
           {
            "example": "1",
            "in": "query",
            "name": "Period",
            "schema": {
             "type": "string"
            }
           },
           {
            "examples": {
             "csv": {
              "value": "csv"
             },
             "xml": {
              "value": "xml"
             }
            },
            "in": "query",
            "name": "ServiceType",
            "schema": {
             "type": "string"
            }
           }
          ],
          "responses": {
           "200": {
            "description": "Cross-Border Balancing Prices"
           }
          },
          "servers": [
           {
            "url": "https://api.bmreports.com"
           }
          ],
          "tags": [
           "Balancing"
          ],
          "x-title": "B1820"
         },
         "servers": [
          {
           "url": "https://api.bmreports.com"
          }
         ]
        },
        "/BMRS/B1830/v1": {
         "get": {
          "description": "Cross-border Balancing Energy Activated",
          "parameters": [
           {
            "example": "AP8DA23",
            "in": "query",
            "name": "APIKey",
            "schema": {
             "type": "string"
            }
           },
           {
            "example": "2021-01-01",
            "in": "query",
            "name": "SettlementDate",
            "schema": {
             "type": "string"
            }
           },
           {
            "example": "1",
            "in": "query",
            "name": "Period",
            "schema": {
             "type": "string"
            }
           },
           {
            "examples": {
             "csv": {
              "value": "csv"
             },
             "xml": {
              "value": "xml"
             }
            },
            "in": "query",
            "name": "ServiceType",
            "schema": {
             "type": "string"
            }
           }
          ],
          "responses": {
           "200": {
            "description": "Cross-border Balancing Energy Activated"
           }
          },
          "servers": [
           {
            "url": "https://api.bmreports.com"
           }
          ],
          "tags": [
           "Balancing"
          ],
          "x-title": "B1830"
         },
         "servers": [
          {
           "url": "https://api.bmreports.com"
          }
         ]
        },
        "/BMRS/BOD/v1": {
         "get": {
          "description": "Bid Offer Level Data",
          "parameters": [
           {
            "example": "AP8DA23",
            "in": "query",
            "name": "APIKey",
            "schema": {
             "type": "string"
            }
           },
           {
            "example": "2021-01-01",
            "in": "query",
            "name": "SettlementDate",
            "schema": {
             "type": "string"
            }
           },
           {
            "example": "12",
            "in": "query",
            "name": "SettlementPeriod",
            "schema": {
             "type": "string"
            }
           },
           {
            "example": "2__AEENG000, G, E.ON Energy, Solutions Limited, EAS-EST01",
            "in": "query",
            "name": "BMUnitId",
            "schema": {
             "type": "string"
            }
           },
           {
            "example": "G, S, E, I, T, etc",
            "in": "query",
            "name": "BMUnitType",
            "schema": {
             "type": "string"
            }
           },
           {
            "example": "AES New Energy Limited",
            "in": "query",
            "name": "LeadPartyName",
            "schema": {
             "type": "string"
            }
           },
           {
            "example": "EAS-ASP01, AES New Energy Limited, G, 2__AAEPD000",
            "in": "query",
            "name": "NGCBMUnit",
            "schema": {
             "type": "string"
            }
           },
           {
            "example": "2__AAEPD000",
            "in": "query",
            "name": "Name",
            "schema": {
             "type": "string"
            }
           },
           {
            "examples": {
             "csv": {
              "value": "csv"
             },
             "xml": {
              "value": "xml"
             }
            },
            "in": "query",
            "name": "ServiceType",
            "schema": {
             "type": "string"
            }
           }
          ],
          "responses": {
           "200": {
            "description": "Bid Offer Level Data"
           }
          },
          "servers": [
           {
            "url": "https://api.bmreports.com"
           }
          ],
          "tags": [
           "Balancing"
          ],
          "x-title": "BOD"
         },
         "servers": [
          {
           "url": "https://api.bmreports.com"
          }
         ]
        },
        "/BMRS/CDN/v1": {
         "get": {
          "description": "Credit Default Notice Data",
          "parameters": [
           {
            "example": "AP8DA23",
            "in": "query",
            "name": "APIKey",
            "schema": {
             "type": "string"
            }
           },
           {
            "example": "2021-01-01",
            "in": "query",
            "name": "FromClearedDate",
            "schema": {
             "type": "string"
            }
           },
           {
            "example": "2021-02-01",
            "in": "query",
            "name": "ToClearedDate",
            "schema": {
             "type": "string"
            }
           },
           {
            "examples": {
             "csv": {
              "value": "csv"
             },
             "xml": {
              "value": "xml"
             }
            },
            "in": "query",
            "name": "ServiceType",
            "schema": {
             "type": "string"
            }
           }
          ],
          "responses": {
           "200": {
            "description": "Credit Default Notice Data"
           }
          },
          "servers": [
           {
            "url": "https://api.bmreports.com"
           }
          ],
          "tags": [
           "Balancing"
          ],
          "x-title": "CDN"
         },
         "servers": [
          {
           "url": "https://api.bmreports.com"
          }
         ]
        },
        "/BMRS/DETSYSPRICES/v1": {
         "get": {
          "description": "Detailed System Prices",
          "parameters": [
           {
            "example": "AP8DA23",
            "in": "query",
            "name": "APIKey",
            "schema": {
             "type": "string"
            }
           },
           {
            "example": "2014-02-01",
            "in": "query",
            "name": "SettlementDate",
            "schema": {
             "type": "string"
            }
           },
           {
            "example": "2",
            "in": "query",
            "name": "SettlementPeriod",
            "schema": {
             "type": "string"
            }
           },
           {
            "examples": {
             "csv": {
              "value": "csv"
             },
             "xml": {
              "value": "xml"
             }
            },
            "in": "query",
            "name": "ServiceType",
            "schema": {
             "type": "string"
            }
           }
          ],
          "responses": {
           "200": {
            "description": "Detailed System Prices"
           }
          },
          "servers": [
           {
            "url": "https://api.bmreports.com"
           }
          ],
          "tags": [
           "Balancing"
          ],
          "x-title": "DETSYSPRICES"
         },
         "servers": [
          {
           "url": "https://api.bmreports.com"
          }
         ]
        },
        "/BMRS/DEVINDOD/v1": {
         "get": {
          "description": "Daily Energy Volume Data",
          "parameters": [
           {
            "example": "AP8DA23",
            "in": "query",
            "name": "APIKey",
            "schema": {
             "type": "string"
            }
           },
           {
            "example": "2021-01-01",
            "in": "query",
            "name": "FromDate",
            "schema": {
             "type": "string"
            }
           },
           {
            "example": "2021-02-01",
            "in": "query",
            "name": "ToDate",
            "schema": {
             "type": "string"
            }
           },
           {
            "examples": {
             "csv": {
              "value": "csv"
             },
             "xml": {
              "value": "xml"
             }
            },
            "in": "query",
            "name": "ServiceType",
            "schema": {
             "type": "string"
            }
           }
          ],
          "responses": {
           "200": {
            "description": "Daily Energy Volume Data"
           }
          },
          "servers": [
           {
            "url": "https://api.bmreports.com"
           }
          ],
          "tags": [
           "Balancing"
          ],
          "x-title": "DEVINDOD"
         },
         "servers": [
          {
           "url": "https://api.bmreports.com"
          }
         ]
        },
        "/BMRS/DISBSAD/v1": {
         "get": {
          "description": "Balancing Services Adjustment Action Data",
          "parameters": [
           {
            "example": "AP8DA23",
            "in": "query",
            "name": "APIKey",
            "schema": {
             "type": "string"
            }
           },
           {
            "example": "2021-01-01",
            "in": "query",
            "name": "SettlementDate",
            "schema": {
             "type": "string"
            }
           },
           {
            "example": "1",
            "in": "query",
            "name": "SettlementPeriod",
            "schema": {
             "type": "string"
            }
           },
           {
            "examples": {
             "csv": {
              "value": "csv"
             },
             "xml": {
              "value": "xml"
             }
            },
            "in": "query",
            "name": "ServiceType",
            "schema": {
             "type": "string"
            }
           }
          ],
          "responses": {
           "200": {
            "description": "Balancing Services Adjustment Action Data"
           }
          },
          "servers": [
           {
            "url": "https://api.bmreports.com"
           }
          ],
          "tags": [
           "Balancing"
          ],
          "x-title": "DISBSAD"
         },
         "servers": [
          {
           "url": "https://api.bmreports.com"
          }
         ]
        },
        "/BMRS/FORDAYDEM/v1": {
         "get": {
          "description": "Forecast Day and Day Ahead Demand Data",
          "parameters": [
           {
            "example": "AP8DA23",
            "in": "query",
            "name": "APIKey",
            "schema": {
             "type": "string"
            }
           },
           {
            "example": "N",
            "in": "query",
            "name": "ZoneIdentifier",
            "schema": {
             "type": "string"
            }
           },
           {
            "example": "2021-01-01",
            "in": "query",
            "name": "FromDate",
            "schema": {
             "type": "string"
            }
           },
           {
            "example": "2021-02-01",
            "in": "query",
            "name": "ToDate",
            "schema": {
             "type": "string"
            }
           },
           {
            "examples": {
             "csv": {
              "value": "csv"
             },
             "xml": {
              "value": "xml"
             }
            },
            "in": "query",
            "name": "ServiceType",
            "schema": {
             "type": "string"
            }
           }
          ],
          "responses": {
           "200": {
            "description": "Forecast Day and Day Ahead Demand Data"
           }
          },
          "servers": [
           {
            "url": "https://api.bmreports.com"
           }
          ],
          "tags": [
           "Demand"
          ],
          "x-title": "FORDAYDEM"
         },
         "servers": [
          {
           "url": "https://api.bmreports.com"
          }
         ]
        },
        "/BMRS/FREQ/v1": {
         "get": {
          "description": "Rolling System Frequency",
          "parameters": [
           {
            "example": "AP8DA23",
            "in": "query",
            "name": "APIKey",
            "schema": {
             "type": "string"
            }
           },
           {
            "example": "2021-01-01 00:01:00",
            "in": "query",
            "name": "FromDateTime",
            "schema": {
             "type": "string"
            }
           },
           {
            "example": "2021-01-02 23:59:00",
            "in": "query",
            "name": "ToDateTime",
            "schema": {
             "type": "string"
            }
           },
           {
            "examples": {
             "csv": {
              "value": "csv"
             },
             "xml": {
              "value": "xml"
             }
            },
            "in": "query",
            "name": "ServiceType",
            "schema": {
             "type": "string"
            }
           }
          ],
          "responses": {
           "200": {
            "description": "Rolling System Frequency"
           }
          },
          "servers": [
           {
            "url": "https://api.bmreports.com"
           }
          ],
          "tags": [
           "Demand"
          ],
          "x-title": "FREQ"
         },
         "servers": [
          {
           "url": "https://api.bmreports.com"
          }
         ]
        },
        "/BMRS/FUELHH/v1": {
         "get": {
          "description": "Half Hourly Outturn Generation by Fuel Type",
          "parameters": [
           {
            "example": "AP8DA23",
            "in": "query",
            "name": "APIKey",
            "schema": {
             "type": "string"
            }
           },
           {
            "example": "44197",
            "in": "query",
            "name": "FromDate",
            "schema": {
             "type": "string"
            }
           },
           {
            "example": "44228",
            "in": "query",
            "name": "ToDate",
            "schema": {
             "type": "string"
            }
           },
           {
            "examples": {
             "csv": {
              "value": "csv"
             },
             "xml": {
              "value": "xml"
             }
            },
            "in": "query",
            "name": "ServiceType",
            "schema": {
             "type": "string"
            }
           }
          ],
          "responses": {
           "200": {
            "description": "Half Hourly Outturn Generation by Fuel Type"
           }
          },
          "servers": [
           {
            "url": "https://api.bmreports.com"
           }
          ],
          "tags": [
           "Generation"
          ],
          "x-title": "FUELHH"
         },
         "servers": [
          {
           "url": "https://api.bmreports.com"
          }
         ]
        },
        "/BMRS/MELIMBALNGC/v1": {
         "get": {
          "description": "Forecast Day and Day Ahead Margin and Imbalance Data",
          "parameters": [
           {
            "example": "AP8DA23",
            "in": "query",
            "name": "APIKey",
            "schema": {
             "type": "string"
            }
           },
           {
            "example": "N",
            "in": "query",
            "name": "ZoneIdentifier",
            "schema": {
             "type": "string"
            }
           },
           {
            "example": "2021-01-01",
            "in": "query",
            "name": "FromDate",
            "schema": {
             "type": "string"
            }
           },
           {
            "example": "2021-02-01",
            "in": "query",
            "name": "ToDate",
            "schema": {
             "type": "string"
            }
           },
           {
            "examples": {
             "csv": {
              "value": "csv"
             },
             "xml": {
              "value": "xml"
             }
            },
            "in": "query",
            "name": "ServiceType",
            "schema": {
             "type": "string"
            }
           }
          ],
          "responses": {
           "200": {
            "description": "Forecast Day and Day Ahead Margin and Imbalance Data"
           }
          },
          "servers": [
           {
            "url": "https://api.bmreports.com"
           }
          ],
          "tags": [
           "Demand"
          ],
          "x-title": "MELIMBALNGC"
         },
         "servers": [
          {
           "url": "https://api.bmreports.com"
          }
         ]
        },
        "/BMRS/MID/v1": {
         "get": {
          "description": "Market Index Data",
          "parameters": [
           {
            "example": "AP8DA23",
            "in": "query",
            "name": "APIKey",
            "schema": {
             "type": "string"
            }
           },
           {
            "example": "2021-01-01",
            "in": "query",
            "name": "FromSettlementDate",
            "schema": {
             "type": "string"
            }
           },
           {
            "example": "2021-02-01",
            "in": "query",
            "name": "ToSettlementDate",
            "schema": {
             "type": "string"
            }
           },
           {
            "example": "*",
            "in": "query",
            "name": "Period",
            "schema": {
             "type": "string"
            }
           },
           {
            "examples": {
             "csv": {
              "value": "csv"
             },
             "xml": {
              "value": "xml"
             }
            },
            "in": "query",
            "name": "ServiceType",
            "schema": {
             "type": "string"
            }
           }
          ],
          "responses": {
           "200": {
            "description": "Market Index Data"
           }
          },
          "servers": [
           {
            "url": "https://api.bmreports.com"
           }
          ],
          "tags": [
           "Balancing"
          ],
          "x-title": "MID"
         },
         "servers": [
          {
           "url": "https://api.bmreports.com"
          }
         ]
        },
        "/BMRS/MessageDetailRetrieval/v1": {
         "get": {
          "description": "REMIT Flow - Message List Retrieval",
          "parameters": [
           {
            "example": "AP8DA23",
            "in": "query",
            "name": "APIKey",
            "schema": {
             "type": "string"
            }
           },
           {
            "example": "",
            "in": "query",
            "name": "MessageId",
            "schema": {
             "type": "string"
            }
           },
           {
            "example": "",
            "in": "query",
            "name": "ParticipantId",
            "schema": {
             "type": "string"
            }
           },
           {
            "example": "",
            "in": "query",
            "name": "SequenceId",
            "schema": {
             "type": "integer"
            }
           },
           {
            "example": "N",
            "in": "query",
            "name": "ActiveFlag",
            "schema": {
             "type": "string"
            }
           },
           {
            "example": "csv/xml.",
            "in": "query",
            "name": "ServiceType",
            "schema": {
             "type": "string"
            }
           }
          ],
          "responses": {
           "200": {
            "description": "REMIT Flow - Message List Retrieval"
           }
          },
          "servers": [
           {
            "url": "https://api.bmreports.com"
           }
          ],
          "tags": [
           "REMIT"
          ],
          "x-title": "MessageDetailRetrieval"
         },
         "servers": [
          {
           "url": "https://api.bmreports.com"
          }
         ]
        },
        "/BMRS/MessageListRetrieval/v1": {
         "get": {
          "description": "REMIT Flow - Message List Retrieval",
          "parameters": [
           {
            "example": "AP8DA23",
            "in": "query",
            "name": "APIKey",
            "schema": {
             "type": "string"
            }
           },
           {
            "example": "2021-01-01",
            "in": "query",
            "name": "EventStart",
            "schema": {
             "type": "string"
            }
           },
           {
            "example": "2021-02-01",
            "in": "query",
            "name": "EventEnd",
            "schema": {
             "type": "string"
            }
           },
           {
            "example": "2021-01-01",
            "in": "query",
            "name": "PublicationFrom",
            "schema": {
             "type": "string"
            }
           },
           {
            "example": "2021-02-01",
            "in": "query",
            "name": "PublicationTo",
            "schema": {
             "type": "string"
            }
           },
           {
            "example": "",
            "in": "query",
            "name": "ParticipantId",
            "schema": {
             "type": "string"
            }
           },
           {
            "example": "",
            "in": "query",
            "name": "MessageID",
            "schema": {
             "type": "string"
            }
           },
           {
            "example": "",
            "in": "query",
            "name": "AssetID",
            "schema": {
             "type": "string"
            }
           },
           {
            "example": "",
            "in": "query",
            "name": "EventType",
            "schema": {
             "type": "string"
            }
           },
           {
            "example": "",
            "in": "query",
            "name": "FuelType",
            "schema": {
             "type": "string"
            }
           },
           {
            "example": "",
            "in": "query",
            "name": "MessageType",
            "schema": {
             "type": "string"
            }
           },
           {
            "example": "",
            "in": "query",
            "name": "UnavailabilityType",
            "schema": {
             "type": "string"
            }
           },
           {
            "examples": {
             "csv": {
              "value": "csv"
             },
             "xml": {
              "value": "xml"
             }
            },
            "in": "query",
            "name": "ServiceType",
            "schema": {
             "type": "string"
            }
           }
          ],
          "responses": {
           "200": {
            "description": "REMIT Flow - Message List Retrieval"
           }
          },
          "servers": [
           {
            "url": "https://api.bmreports.com"
           }
          ],
          "tags": [
           "REMIT"
          ],
          "x-title": "MessageListRetrieval"
         },
         "servers": [
          {
           "url": "https://api.bmreports.com"
          }
         ]
        },
        "/BMRS/NETBSAD/v1": {
         "get": {
          "description": "Balancing Service Adjustment Data",
          "parameters": [
           {
            "example": "AP8DA23",
            "in": "query",
            "name": "APIKey",
            "schema": {
             "type": "string"
            }
           },
           {
            "example": "2021-01-01",
            "in": "query",
            "name": "SettlementDate",
            "schema": {
             "type": "string"
            }
           },
           {
            "example": "1",
            "in": "query",
            "name": "SettlementPeriod",
            "schema": {
             "type": "string"
            }
           },
           {
            "example": "FALSE",
            "in": "query",
            "name": "isTwoDayWindow",
            "schema": {
             "type": "string"
            }
           },
           {
            "examples": {
             "csv": {
              "value": "csv"
             },
             "xml": {
              "value": "xml"
             }
            },
            "in": "query",
            "name": "ServiceType",
            "schema": {
             "type": "string"
            }
           }
          ],
          "responses": {
           "200": {
            "description": "Balancing Service Adjustment Data"
           }
          },
          "servers": [
           {
            "url": "https://api.bmreports.com"
           }
          ],
          "tags": [
           "Balancing"
          ],
          "x-title": "NETBSAD"
         },
         "servers": [
          {
           "url": "https://api.bmreports.com"
          }
         ]
        },
        "/BMRS/NONBM/v1": {
         "get": {
          "description": "Non BM STOR Instructed Volume Data",
          "parameters": [
           {
            "example": "2021-01-01",
            "in": "query",
            "name": "FromDate",
            "schema": {
             "type": "string"
            }
           },
           {
            "example": "2021-02-01",
            "in": "query",
            "name": "ToDate",
            "schema": {
             "type": "string"
            }
           },
           {
            "example": "AP8DA23",
            "in": "query",
            "name": "APIKey",
            "schema": {
             "type": "string"
            }
           },
           {
            "examples": {
             "csv": {
              "value": "csv"
             },
             "xml": {
              "value": "xml"
             }
            },
            "in": "query",
            "name": "ServiceType",
            "schema": {
             "type": "string"
            }
           }
          ],
          "responses": {
           "200": {
            "description": "Non BM STOR Instructed Volume Data"
           }
          },
          "servers": [
           {
            "url": "https://api.bmreports.com"
           }
          ],
          "tags": [
           "Balancing"
          ],
          "x-title": "NONBM"
         },
         "servers": [
          {
           "url": "https://api.bmreports.com"
          }
         ]
        },
        "/BMRS/PHYBMDATA/v1": {
         "get": {
          "description": "Physical Data",
          "parameters": [
           {
            "example": "AP8DA23",
            "in": "query",
            "name": "APIKey",
            "schema": {
             "type": "string"
            }
           },
           {
            "example": "2021-01-01",
            "in": "query",
            "name": "SettlementDate",
            "schema": {
             "type": "string"
            }
           },
           {
            "example": "12",
            "in": "query",
            "name": "SettlementPeriod",
            "schema": {
             "type": "string"
            }
           },
           {
            "example": "",
            "in": "query",
            "name": "BMUnitId",
            "schema": {
             "type": "string"
            }
           },
           {
            "example": "",
            "in": "query",
            "name": "BMUnitType",
            "schema": {
             "type": "string"
            }
           },
           {
            "example": "",
            "in": "query",
            "name": "LeadPartyName",
            "schema": {
             "type": "string"
            }
           },
           {
            "example": "",
            "in": "query",
            "name": "NGCBMUnit",
            "schema": {
             "type": "string"
            }
           },
           {
            "example": "",
            "in": "query",
            "name": "Name",
            "schema": {
             "type": "string"
            }
           },
           {
            "examples": {
             "csv": {
              "value": "csv"
             },
             "xml": {
              "value": "xml"
             }
            },
            "in": "query",
            "name": "ServiceType",
            "schema": {
             "type": "string"
            }
           }
          ],
          "responses": {
           "200": {
            "description": "Physical Data"
           }
          },
          "servers": [
           {
            "url": "https://api.bmreports.com"
           }
          ],
          "tags": [
           "Balancing"
          ],
          "x-title": "PHYBMDATA"
         },
         "servers": [
          {
           "url": "https://api.bmreports.com"
          }
         ]
        },
        "/BMRS/SYSDEM/v1": {
         "get": {
          "description": "System Demand",
          "parameters": [
           {
            "example": "AP8DA23",
            "in": "query",
            "name": "APIKey",
            "schema": {
             "type": "string"
            }
           },
           {
            "example": "2021-01-01",
            "in": "query",
            "name": "FromDate",
            "schema": {
             "type": "string"
            }
           },
           {
            "example": "2021-02-01",
            "in": "query",
            "name": "ToDate",
            "schema": {
             "type": "string"
            }
           },
           {
            "examples": {
             "csv": {
              "value": "csv"
             },
             "xml": {
              "value": "xml"
             }
            },
            "in": "query",
            "name": "ServiceType",
            "schema": {
             "type": "string"
            }
           }
          ],
          "responses": {
           "200": {
            "description": "System Demand"
           }
          },
          "servers": [
           {
            "url": "https://api.bmreports.com"
           }
          ],
          "tags": [
           "Demand"
          ],
          "x-title": "SYSDEM"
         },
         "servers": [
          {
           "url": "https://api.bmreports.com"
          }
         ]
        },
        "/BMRS/SYSWARN/v1": {
         "get": {
          "description": "System Warnings",
          "parameters": [
           {
            "example": "AP8DA23",
            "in": "query",
            "name": "APIKey",
            "schema": {
             "type": "string"
            }
           },
           {
            "example": "2021-01-01",
            "in": "query",
            "name": "FromDate",
            "schema": {
             "type": "string"
            }
           },
           {
            "example": "2021-02-01",
            "in": "query",
            "name": "ToDate",
            "schema": {
             "type": "string"
            }
           },
           {
            "examples": {
             "csv": {
              "value": "csv"
             },
             "xml": {
              "value": "xml"
             }
            },
            "in": "query",
            "name": "ServiceType",
            "schema": {
             "type": "string"
            }
           }
          ],
          "responses": {
           "200": {
            "description": "System Warnings"
           }
          },
          "servers": [
           {
            "url": "https://api.bmreports.com"
           }
          ],
          "tags": [
           "Transmission"
          ],
          "x-title": "SYSWARN"
         },
         "servers": [
          {
           "url": "https://api.bmreports.com"
          }
         ]
        },
        "/BMRS/TEMP/v1": {
         "get": {
          "description": "Temperature Data",
          "parameters": [
           {
            "example": "AP8DA23",
            "in": "query",
            "name": "APIKey",
            "schema": {
             "type": "string"
            }
           },
           {
            "example": "2021-01-01",
            "in": "query",
            "name": "FromDate",
            "schema": {
             "type": "string"
            }
           },
           {
            "example": "2021-02-01",
            "in": "query",
            "name": "ToDate",
            "schema": {
             "type": "string"
            }
           },
           {
            "examples": {
             "csv": {
              "value": "csv"
             },
             "xml": {
              "value": "xml"
             }
            },
            "in": "query",
            "name": "ServiceType",
            "schema": {
             "type": "string"
            }
           }
          ],
          "responses": {
           "200": {
            "description": "Temperature Data"
           }
          },
          "servers": [
           {
            "url": "https://api.bmreports.com"
           }
          ],
          "tags": [
           "Generation"
          ],
          "x-title": "TEMP"
         },
         "servers": [
          {
           "url": "https://api.bmreports.com"
          }
         ]
        },
        "/BMRS/WINDFORFUELHH/v1": {
         "get": {
          "description": "Wind Generation Forecast and Out-turn Data",
          "parameters": [
           {
            "example": "AP8DA23",
            "in": "query",
            "name": "APIKey",
            "schema": {
             "type": "string"
            }
           },
           {
            "example": "2021-01-01",
            "in": "query",
            "name": "FromDate",
            "schema": {
             "type": "string"
            }
           },
           {
            "example": "2021-02-01",
            "in": "query",
            "name": "ToDate",
            "schema": {
             "type": "string"
            }
           },
           {
            "examples": {
             "csv": {
              "value": "csv"
             },
             "xml": {
              "value": "xml"
             }
            },
            "in": "query",
            "name": "ServiceType",
            "schema": {
             "type": "string"
            }
           }
          ],
          "responses": {
           "200": {
            "description": "Wind Generation Forecast and Out-turn Data"
           }
          },
          "servers": [
           {
            "url": "https://api.bmreports.com"
           }
          ],
          "tags": [
           "Generation"
          ],
          "x-title": "WINDFORFUELHH"
         },
         "servers": [
          {
           "url": "https://api.bmreports.com"
          }
         ]
        }
       },
       "servers": [
        {
         "url": "https://api.bmreports.com"
        }
       ],
       "tags": [
        {
         "description": "Data relating to the infrastructure on and management of the transmission network",
         "externalDocs": {
          "url": "https://www.bmreports.com/bmrs/?q=transmission/"
         },
         "name": "Transmission"
        },
        {
         "description": "Data relating to forecasts, out-turn, and reductions in demand",
         "externalDocs": {
          "url": "https://www.bmreports.com/bmrs/?q=demand/"
         },
         "name": "Demand"
        },
        {
         "description": "Data relating to forecasts, out-turn, and reductions in generation",
         "externalDocs": {
          "url": "https://www.bmreports.com/bmrs/?q=generation/"
         },
         "name": "Generation"
        },
        {
         "description": "Data relating to the prices, volumes, and units operating in short-term power markets",
         "externalDocs": {
          "url": "hhttps://www.bmreports.com/bmrs/?q=balancing/"
         },
         "name": "Balancing"
        }
       ]
      },
      "text/plain": [
       "<IPython.core.display.JSON object>"
      ]
     },
     "execution_count": 5,
     "metadata": {
      "application/json": {
       "expanded": false,
       "root": "root"
      }
     },
     "output_type": "execute_result"
    }
   ],
   "source": [
    "API_yaml = specgen.load_API_yaml(fp='../data/BMRS_API.yaml')\n",
    "\n",
    "JSON(API_yaml)"
   ]
  },
  {
   "cell_type": "code",
   "execution_count": null,
   "id": "1fdf42d7-72f4-4686-93ad-dfb3c0f40255",
   "metadata": {},
   "outputs": [],
   "source": []
  },
  {
   "cell_type": "code",
   "execution_count": 6,
   "id": "98a6831a-e490-432c-8c51-bc7c1b3353cf",
   "metadata": {},
   "outputs": [],
   "source": [
    "#exports\n",
    "def test_endpoints(\n",
    "    default_kwargs: dict\n",
    "):\n",
    "    methods_to_test = [func for func in dir(raw) if 'get_' in func]\n",
    "    stream_to_df = dict()\n",
    "\n",
    "    for method_to_test in tqdm(methods_to_test):\n",
    "        method_func = getattr(raw, method_to_test)\n",
    "        func_kwargs = dict(zip(method_func.__code__.co_varnames, method_func.__defaults__))\n",
    "\n",
    "        for kwarg, value in default_kwargs.items():\n",
    "            if kwarg in func_kwargs.keys():\n",
    "                func_kwargs.update({kwarg: value})\n",
    "\n",
    "        r = method_func(**func_kwargs)\n",
    "        df = utils.parse_xml_response(r)\n",
    "\n",
    "        stream_to_df[method_to_test.split('_')[1]] = df\n",
    "\n",
    "    streams_without_content = []\n",
    "\n",
    "    for stream, df in stream_to_df.items():\n",
    "        if df.size == 0:\n",
    "            streams_without_content += [stream]\n",
    "\n",
    "    return streams_without_content\n",
    "     \n",
    "    if len(streams_without_content) > 0:\n",
    "        warn(f\"The following data streams returned no content data: {', '.join(streams_without_content)}\")\n",
    "        \n",
    "    return stream_to_df"
   ]
  },
  {
   "cell_type": "code",
   "execution_count": 7,
   "id": "fad2a1f7-d5a3-4d4a-9dc8-e3424eab58db",
   "metadata": {
    "collapsed": true,
    "jupyter": {
     "outputs_hidden": true
    },
    "tags": []
   },
   "outputs": [
    {
     "name": "stderr",
     "output_type": "stream",
     "text": [
      "  9%|███████▌                                                                           | 5/55 [00:04<01:00,  1.20s/it]c:\\users\\ayrto\\desktop\\phd\\data\\bmrs\\elexon-bmrs-api-wrapper\\ElexonDataPortal\\dev\\utils.py:29: UserWarning: Data request was succesful but no content was returned\n",
      "  warn(f'Data request was succesful but no content was returned')\n",
      " 78%|████████████████████████████████████████████████████████████████                  | 43/55 [00:46<00:12,  1.08s/it]\n"
     ]
    },
    {
     "ename": "RequestError",
     "evalue": "400 - Bad request\nEither FromDate Parameter is not in proper format(yyyy-MM-dd) or is invalid",
     "output_type": "error",
     "traceback": [
      "\u001b[1;31m---------------------------------------------------------------------------\u001b[0m",
      "\u001b[1;31mRequestError\u001b[0m                              Traceback (most recent call last)",
      "\u001b[1;32m<ipython-input-7-975061b236b8>\u001b[0m in \u001b[0;36m<module>\u001b[1;34m\u001b[0m\n\u001b[0;32m      4\u001b[0m }\n\u001b[0;32m      5\u001b[0m \u001b[1;33m\u001b[0m\u001b[0m\n\u001b[1;32m----> 6\u001b[1;33m \u001b[0mstream_to_df\u001b[0m \u001b[1;33m=\u001b[0m \u001b[0mtest_endpoints\u001b[0m\u001b[1;33m(\u001b[0m\u001b[0mdefault_kwargs\u001b[0m\u001b[1;33m)\u001b[0m\u001b[1;33m\u001b[0m\u001b[1;33m\u001b[0m\u001b[0m\n\u001b[0m",
      "\u001b[1;32m<ipython-input-6-69ca5b576c7f>\u001b[0m in \u001b[0;36mtest_endpoints\u001b[1;34m(default_kwargs)\u001b[0m\n\u001b[0;32m     15\u001b[0m \u001b[1;33m\u001b[0m\u001b[0m\n\u001b[0;32m     16\u001b[0m         \u001b[0mr\u001b[0m \u001b[1;33m=\u001b[0m \u001b[0mmethod_func\u001b[0m\u001b[1;33m(\u001b[0m\u001b[1;33m**\u001b[0m\u001b[0mfunc_kwargs\u001b[0m\u001b[1;33m)\u001b[0m\u001b[1;33m\u001b[0m\u001b[1;33m\u001b[0m\u001b[0m\n\u001b[1;32m---> 17\u001b[1;33m         \u001b[0mdf\u001b[0m \u001b[1;33m=\u001b[0m \u001b[0mutils\u001b[0m\u001b[1;33m.\u001b[0m\u001b[0mparse_xml_response\u001b[0m\u001b[1;33m(\u001b[0m\u001b[0mr\u001b[0m\u001b[1;33m)\u001b[0m\u001b[1;33m\u001b[0m\u001b[1;33m\u001b[0m\u001b[0m\n\u001b[0m\u001b[0;32m     18\u001b[0m \u001b[1;33m\u001b[0m\u001b[0m\n\u001b[0;32m     19\u001b[0m         \u001b[0mstream_to_df\u001b[0m\u001b[1;33m[\u001b[0m\u001b[0mmethod_to_test\u001b[0m\u001b[1;33m.\u001b[0m\u001b[0msplit\u001b[0m\u001b[1;33m(\u001b[0m\u001b[1;34m'_'\u001b[0m\u001b[1;33m)\u001b[0m\u001b[1;33m[\u001b[0m\u001b[1;36m1\u001b[0m\u001b[1;33m]\u001b[0m\u001b[1;33m]\u001b[0m \u001b[1;33m=\u001b[0m \u001b[0mdf\u001b[0m\u001b[1;33m\u001b[0m\u001b[1;33m\u001b[0m\u001b[0m\n",
      "\u001b[1;32mc:\\users\\ayrto\\desktop\\phd\\data\\bmrs\\elexon-bmrs-api-wrapper\\ElexonDataPortal\\dev\\utils.py\u001b[0m in \u001b[0;36mparse_xml_response\u001b[1;34m(r)\u001b[0m\n\u001b[0;32m     70\u001b[0m     \u001b[0mr_dict\u001b[0m \u001b[1;33m=\u001b[0m \u001b[0mxmltodict\u001b[0m\u001b[1;33m.\u001b[0m\u001b[0mparse\u001b[0m\u001b[1;33m(\u001b[0m\u001b[0mr\u001b[0m\u001b[1;33m.\u001b[0m\u001b[0mtext\u001b[0m\u001b[1;33m)\u001b[0m\u001b[1;33m\u001b[0m\u001b[1;33m\u001b[0m\u001b[0m\n\u001b[0;32m     71\u001b[0m \u001b[1;33m\u001b[0m\u001b[0m\n\u001b[1;32m---> 72\u001b[1;33m     \u001b[0mstatus_check_response\u001b[0m \u001b[1;33m=\u001b[0m \u001b[0mcheck_status\u001b[0m\u001b[1;33m(\u001b[0m\u001b[0mr\u001b[0m\u001b[1;33m)\u001b[0m\u001b[1;33m\u001b[0m\u001b[1;33m\u001b[0m\u001b[0m\n\u001b[0m\u001b[0;32m     73\u001b[0m     \u001b[1;32mif\u001b[0m \u001b[0mstatus_check_response\u001b[0m \u001b[1;32mis\u001b[0m \u001b[1;32mnot\u001b[0m \u001b[1;32mNone\u001b[0m\u001b[1;33m:\u001b[0m\u001b[1;33m\u001b[0m\u001b[1;33m\u001b[0m\u001b[0m\n\u001b[0;32m     74\u001b[0m         \u001b[1;32mreturn\u001b[0m \u001b[0mstatus_check_response\u001b[0m\u001b[1;33m\u001b[0m\u001b[1;33m\u001b[0m\u001b[0m\n",
      "\u001b[1;32mc:\\users\\ayrto\\desktop\\phd\\data\\bmrs\\elexon-bmrs-api-wrapper\\ElexonDataPortal\\dev\\utils.py\u001b[0m in \u001b[0;36mcheck_status\u001b[1;34m(r)\u001b[0m\n\u001b[0;32m     31\u001b[0m \u001b[1;33m\u001b[0m\u001b[0m\n\u001b[0;32m     32\u001b[0m     \u001b[1;32melif\u001b[0m \u001b[0mr_metadata\u001b[0m\u001b[1;33m[\u001b[0m\u001b[1;34m'httpCode'\u001b[0m\u001b[1;33m]\u001b[0m \u001b[1;33m!=\u001b[0m \u001b[1;34m'200'\u001b[0m\u001b[1;33m:\u001b[0m\u001b[1;33m\u001b[0m\u001b[1;33m\u001b[0m\u001b[0m\n\u001b[1;32m---> 33\u001b[1;33m         \u001b[1;32mraise\u001b[0m \u001b[0mRequestError\u001b[0m\u001b[1;33m(\u001b[0m\u001b[0mr_metadata\u001b[0m\u001b[1;33m[\u001b[0m\u001b[1;34m'httpCode'\u001b[0m\u001b[1;33m]\u001b[0m\u001b[1;33m,\u001b[0m \u001b[0mr_metadata\u001b[0m\u001b[1;33m[\u001b[0m\u001b[1;34m'errorType'\u001b[0m\u001b[1;33m]\u001b[0m\u001b[1;33m,\u001b[0m \u001b[0mr_metadata\u001b[0m\u001b[1;33m[\u001b[0m\u001b[1;34m'description'\u001b[0m\u001b[1;33m]\u001b[0m\u001b[1;33m)\u001b[0m\u001b[1;33m\u001b[0m\u001b[1;33m\u001b[0m\u001b[0m\n\u001b[0m\u001b[0;32m     34\u001b[0m \u001b[1;33m\u001b[0m\u001b[0m\n\u001b[0;32m     35\u001b[0m     \u001b[1;32mreturn\u001b[0m \u001b[1;32mNone\u001b[0m\u001b[1;33m\u001b[0m\u001b[1;33m\u001b[0m\u001b[0m\n",
      "\u001b[1;31mRequestError\u001b[0m: 400 - Bad request\nEither FromDate Parameter is not in proper format(yyyy-MM-dd) or is invalid"
     ]
    }
   ],
   "source": [
    "default_kwargs = {\n",
    "    'APIKey': api_key,\n",
    "    'ServiceType': 'xml'\n",
    "}\n",
    "\n",
    "stream_to_df = test_endpoints(default_kwargs)"
   ]
  },
  {
   "cell_type": "code",
   "execution_count": null,
   "id": "52096a79-25fd-4866-9613-dcf3d60ea726",
   "metadata": {},
   "outputs": [],
   "source": []
  },
  {
   "cell_type": "code",
   "execution_count": 8,
   "id": "d61581ba-baf5-4a97-8ac9-3763f17206a2",
   "metadata": {},
   "outputs": [],
   "source": [
    "#exports\n",
    "def construct_method_to_params_dict(API_yaml):\n",
    "    method_to_params = reduce(lambda k, v: {**k, **v}, [\n",
    "        {\n",
    "            f'{k}_{rawgen.clean_path_name(stream)}': {\n",
    "                parameter['name']: rawgen.extract_parameter_example(parameter) \n",
    "                for parameter \n",
    "                in v['parameters']\n",
    "            } \n",
    "            for k, v \n",
    "            in method.items() \n",
    "            if k in ['get', 'post']\n",
    "        } \n",
    "        for stream, method \n",
    "        in API_yaml['paths'].items()\n",
    "    ])\n",
    "\n",
    "    return method_to_params"
   ]
  },
  {
   "cell_type": "code",
   "execution_count": 9,
   "id": "10020ce9-45bd-446f-b678-d979fddd33bc",
   "metadata": {
    "tags": []
   },
   "outputs": [
    {
     "data": {
      "text/plain": [
       "{'get_B0610': {'APIKey': 'AP8DA23',\n",
       "  'SettlementDate': '2021-01-01',\n",
       "  'Period': '1',\n",
       "  'ServiceType': 'csv'},\n",
       " 'get_B0620': {'APIKey': 'AP8DA23',\n",
       "  'SettlementDate': '2021-01-01',\n",
       "  'Period': '1',\n",
       "  'ServiceType': 'csv'},\n",
       " 'get_B0630': {'APIKey': 'AP8DA23',\n",
       "  'Year': '2021',\n",
       "  'Week': '22',\n",
       "  'ServiceType': 'csv'}}"
      ]
     },
     "execution_count": 9,
     "metadata": {},
     "output_type": "execute_result"
    }
   ],
   "source": [
    "method_to_params = construct_method_to_params_dict(API_yaml)\n",
    "\n",
    "pd.Series(method_to_params).head(3).to_dict()"
   ]
  },
  {
   "cell_type": "code",
   "execution_count": null,
   "id": "8cda9efd-038d-4eb3-885c-4f5e2394fdaa",
   "metadata": {},
   "outputs": [],
   "source": []
  },
  {
   "cell_type": "code",
   "execution_count": 10,
   "id": "ad672f49-1f30-4fdf-ace7-a3d49c9095fb",
   "metadata": {},
   "outputs": [
    {
     "data": {
      "text/plain": [
       "['APIKey',\n",
       " 'ActiveFlag',\n",
       " 'AssetID',\n",
       " 'BMUnitId',\n",
       " 'BMUnitType',\n",
       " 'EndDate',\n",
       " 'EndTime',\n",
       " 'EventEnd',\n",
       " 'EventStart',\n",
       " 'EventType',\n",
       " 'FromClearedDate',\n",
       " 'FromDate',\n",
       " 'FromDateTime',\n",
       " 'FromSettlementDate',\n",
       " 'FuelType',\n",
       " 'LeadPartyName',\n",
       " 'MessageID',\n",
       " 'MessageId',\n",
       " 'MessageType',\n",
       " 'Month',\n",
       " 'NGCBMUnit',\n",
       " 'NGCBMUnitID',\n",
       " 'Name',\n",
       " 'ParticipantId',\n",
       " 'Period',\n",
       " 'ProcessType',\n",
       " 'PublicationFrom',\n",
       " 'PublicationTo',\n",
       " 'SequenceId',\n",
       " 'ServiceType',\n",
       " 'SettlementDate',\n",
       " 'SettlementPeriod',\n",
       " 'StartDate',\n",
       " 'StartTime',\n",
       " 'ToClearedDate',\n",
       " 'ToDate',\n",
       " 'ToDateTime',\n",
       " 'ToSettlementDate',\n",
       " 'UnavailabilityType',\n",
       " 'Week',\n",
       " 'Year',\n",
       " 'ZoneIdentifier',\n",
       " 'isTwoDayWindow']"
      ]
     },
     "execution_count": 10,
     "metadata": {},
     "output_type": "execute_result"
    }
   ],
   "source": [
    "flatten_list = lambda list_: [item for sublist in list_ for item in sublist]\n",
    "\n",
    "field_names = sorted(list(set(flatten_list([list(params.keys()) for params in method_to_params.values()]))))\n",
    "\n",
    "field_names"
   ]
  },
  {
   "cell_type": "code",
   "execution_count": null,
   "id": "c74fb054-9035-4ea5-b5c0-50ec68ba0ed0",
   "metadata": {},
   "outputs": [],
   "source": []
  },
  {
   "cell_type": "code",
   "execution_count": 18,
   "id": "5e60b421-ffa7-4f4c-85d1-b844141930ae",
   "metadata": {},
   "outputs": [],
   "source": [
    "#exports\n",
    "def construct_request_type_filter(\n",
    "    has_start_time: bool,\n",
    "    has_end_time: bool,\n",
    "    has_start_date: bool,\n",
    "    has_end_date: bool,\n",
    "    has_date: bool,\n",
    "    has_SP: bool,\n",
    "    has_year: bool,\n",
    "    has_month: bool,\n",
    "    has_week: bool\n",
    "):\n",
    "    request_type_filter = {\n",
    "        'year': (has_year + has_month + has_week == 1) and (has_year == 1),\n",
    "        'month': (has_year + has_month == 1) and (has_month == 1),\n",
    "        'week': (has_year + has_week == 1) and (has_week == 1),\n",
    "        'year_and_month': has_year + has_month == 2,\n",
    "        'year_and_week': has_year + has_week == 2,\n",
    "        'SP_and_date': has_SP + has_date == 2,\n",
    "        'date_range': has_start_time + has_end_time + has_start_date + has_end_date == 2,\n",
    "        'date_time_range': has_start_time + has_end_time + has_start_date + has_end_date == 4,\n",
    "        'non_temporal': has_start_time + has_end_time + has_start_date + has_end_date + has_SP + has_date + has_year + has_month == 0,\n",
    "    }\n",
    "    \n",
    "    return request_type_filter\n",
    "\n",
    "def check_request_type_filter(\n",
    "    field_names: list,\n",
    "    request_type_filter: dict,\n",
    "    has_start_time: bool,\n",
    "    has_end_time: bool,\n",
    "    has_start_date: bool,\n",
    "    has_end_date: bool,\n",
    "    has_date: bool,\n",
    "    has_SP: bool,\n",
    "    has_year: bool,\n",
    "    has_month: bool,\n",
    "    has_week: bool\n",
    "):\n",
    "    \"\"\"\n",
    "    Checks the validity of the specified stream parameters\n",
    "    \n",
    "    The following conditions will raise an error:\n",
    "    * has month without a year\n",
    "    * has only one of start/end time\n",
    "    * has only one of start/end date\n",
    "    * has only one settlement period or date\n",
    "    * filter does not contain only one request type\n",
    "    \"\"\"\n",
    "    \n",
    "    filter_str = f'\\n\\nFilter:\\n{request_type_filter}\\n\\nField Names:\\n{\", \".join(field_names)}'\n",
    "\n",
    "    assert {(False, True): True, (False, False): False, (True, True): False, (True, False): False}[(has_year, has_month)] == False, 'Cannot provide a month without a year' + filter_str\n",
    "    assert {(False, True): True, (False, False): False, (True, True): False, (True, False): False}[(has_year, has_week)] == False, 'Cannot provide a week without a year' + filter_str\n",
    "    assert has_start_time + has_end_time != 1, 'Only one of start/end time was provided' + filter_str\n",
    "    assert has_start_date + has_end_date != 1, 'Only one of start/end date was provided' + filter_str\n",
    "    assert (has_SP + has_date != 1) or (has_start_date + has_end_date == 2), 'Only one of date/SP was provided' + filter_str\n",
    "    assert sum(request_type_filter.values()) == 1, 'Request type could not be determined\\n\\nFilter' + filter_str\n",
    "    \n",
    "    return \n",
    "\n",
    "def determine_request_type_from_fields(\n",
    "    field_names: list,\n",
    "    start_time_cols: list=['StartTime'],\n",
    "    end_time_cols: list=['EndTime'],\n",
    "    start_date_cols: list=['StartDate', 'FromSettlementDate', 'FromDate'],\n",
    "    end_date_cols: list=['EndDate', 'ToSettlementDate', 'ToDate'],\n",
    "    date_cols: list=['SettlementDate', 'ImplementationDate', 'DecommissioningDate', 'Date', 'startTimeOfHalfHrPeriod'],\n",
    "    SP_cols: list=['SettlementPeriod', 'Period', 'settlementPeriod'],\n",
    "    year_cols: list=['Year'],\n",
    "    month_cols: list=['Month', 'MonthName'],\n",
    "    week_cols: list=['Week']\n",
    "):   \n",
    "    has_start_time = bool(set(field_names).intersection(set(start_time_cols)))\n",
    "    has_end_time = bool(set(field_names).intersection(set(end_time_cols)))\n",
    "    has_start_date = bool(set(field_names).intersection(set(start_date_cols)))\n",
    "    has_end_date = bool(set(field_names).intersection(set(end_date_cols)))\n",
    "    has_date = bool(set(field_names).intersection(set(date_cols)))\n",
    "    has_SP = bool(set(field_names).intersection(set(SP_cols)))\n",
    "    has_year = bool(set(field_names).intersection(set(year_cols)))\n",
    "    has_month = bool(set(field_names).intersection(set(month_cols)))\n",
    "    has_week = bool(set(field_names).intersection(set(week_cols)))\n",
    "\n",
    "    request_type_filter = construct_request_type_filter(\n",
    "        has_start_time, has_end_time, has_start_date, \n",
    "        has_end_date, has_date, has_SP, has_year, has_month, has_week\n",
    "    )\n",
    "    \n",
    "    check_request_type_filter(\n",
    "        field_names, request_type_filter, has_start_time, has_end_time, has_start_date, \n",
    "        has_end_date, has_date, has_SP, has_year, has_month, has_week\n",
    "    )\n",
    "\n",
    "    request_type = [k for k, v in request_type_filter.items() if v==True][0]\n",
    "\n",
    "    return request_type"
   ]
  },
  {
   "cell_type": "code",
   "execution_count": 19,
   "id": "e8c44403-bb76-4d91-b531-bc54cd66c7fc",
   "metadata": {},
   "outputs": [
    {
     "data": {
      "text/plain": [
       "'SP_and_date'"
      ]
     },
     "execution_count": 19,
     "metadata": {},
     "output_type": "execute_result"
    }
   ],
   "source": [
    "method = 'get_B1610'\n",
    "\n",
    "field_names = list(method_to_params[method].keys())\n",
    "request_type = determine_request_type_from_fields(field_names)\n",
    "\n",
    "request_type"
   ]
  },
  {
   "cell_type": "code",
   "execution_count": null,
   "id": "8dacc7da-6781-4834-9603-b3549c482a9e",
   "metadata": {},
   "outputs": [],
   "source": []
  },
  {
   "cell_type": "code",
   "execution_count": 20,
   "id": "761e956a-ad95-4d78-b5e9-3057024deb85",
   "metadata": {},
   "outputs": [],
   "source": [
    "#exports\n",
    "def determine_method_request_types(method_to_params):\n",
    "    method_to_request_type = dict()\n",
    "\n",
    "    for method in method_to_params.keys():\n",
    "        field_names = list(method_to_params[method].keys())\n",
    "        method_to_request_type[method] = determine_request_type_from_fields(field_names)\n",
    "\n",
    "    return method_to_request_type"
   ]
  },
  {
   "cell_type": "code",
   "execution_count": 21,
   "id": "bd993f85-e64e-43b2-925c-e4f3716e1c1a",
   "metadata": {},
   "outputs": [
    {
     "data": {
      "text/plain": [
       "SP_and_date        23\n",
       "date_range         10\n",
       "date_time_range     9\n",
       "year                5\n",
       "non_temporal        4\n",
       "year_and_month      3\n",
       "year_and_week       1\n",
       "dtype: int64"
      ]
     },
     "execution_count": 21,
     "metadata": {},
     "output_type": "execute_result"
    }
   ],
   "source": [
    "method_to_request_type = determine_method_request_types(method_to_params)\n",
    "\n",
    "pd.Series(method_to_request_type).value_counts()"
   ]
  },
  {
   "cell_type": "code",
   "execution_count": null,
   "id": "71910444-811e-46da-b123-8f8147e301d6",
   "metadata": {},
   "outputs": [],
   "source": []
  },
  {
   "cell_type": "code",
   "execution_count": 22,
   "id": "22ef7e1a-fac7-466d-94c2-510cef64f42b",
   "metadata": {},
   "outputs": [],
   "source": [
    "#exports\n",
    "def construct_method_to_params_map(method_to_params):\n",
    "    standardised_params_map = {\n",
    "        'start_time': ['StartTime'],\n",
    "        'end_time': ['EndTime'],\n",
    "        'start_date': ['StartDate', 'FromSettlementDate', 'FromDate'],\n",
    "        'end_date': ['EndDate', 'ToSettlementDate', 'ToDate'],\n",
    "        'date': ['SettlementDate', 'ImplementationDate', 'DecommissioningDate', 'Date', 'startTimeOfHalfHrPeriod'],\n",
    "        'SP': ['SettlementPeriod', 'Period', 'settlementPeriod'],\n",
    "        'year': ['Year'],\n",
    "        'month': ['Month', 'MonthName'],\n",
    "        'week': ['Week']\n",
    "    }\n",
    "\n",
    "    method_to_params_map = dict()\n",
    "\n",
    "    for method, params in method_to_params.items():\n",
    "        method_to_params_map[method] = dict()\n",
    "\n",
    "        for param in params.keys():\n",
    "            for standardised_param, bmrs_params in standardised_params_map.items():\n",
    "                if param in bmrs_params:\n",
    "                    method_to_params_map[method][standardised_param] = param\n",
    "\n",
    "    return method_to_params_map"
   ]
  },
  {
   "cell_type": "code",
   "execution_count": 26,
   "id": "0dd7cc2d-d32c-40d7-80e0-6be234693890",
   "metadata": {},
   "outputs": [
    {
     "data": {
      "text/plain": [
       "{'get_B0610': {'date': 'SettlementDate', 'SP': 'Period'},\n",
       " 'get_B0620': {'date': 'SettlementDate', 'SP': 'Period'},\n",
       " 'get_B0630': {'year': 'Year', 'week': 'Week'}}"
      ]
     },
     "execution_count": 26,
     "metadata": {},
     "output_type": "execute_result"
    }
   ],
   "source": [
    "method_to_params_map = construct_method_to_params_map(method_to_params)\n",
    "\n",
    "pd.Series(method_to_params_map).head(3).to_dict()"
   ]
  },
  {
   "cell_type": "code",
   "execution_count": null,
   "id": "7ada1a3f-67f6-43c7-915d-3ec6e9bfdfc9",
   "metadata": {},
   "outputs": [],
   "source": []
  },
  {
   "cell_type": "code",
   "execution_count": 51,
   "id": "e7760e55-6d6a-4542-8d24-c72850cc1b4b",
   "metadata": {},
   "outputs": [],
   "source": [
    "#exports\n",
    "def construct_method_info_dict(API_yaml_fp: str):\n",
    "    API_yaml = specgen.load_API_yaml(API_yaml_fp)\n",
    "    \n",
    "    method_to_params = construct_method_to_params_dict(API_yaml)\n",
    "    method_to_request_type = determine_method_request_types(method_to_params)\n",
    "    method_to_params_map = construct_method_to_params_map(method_to_params)\n",
    "\n",
    "    method_info = dict()\n",
    "\n",
    "    for method, params in  method_to_params.items():\n",
    "        method_info[method] = dict()\n",
    "\n",
    "        method_info[method]['request_type'] = method_to_request_type[method]\n",
    "        method_info[method]['kwargs_map'] = method_to_params_map[method]\n",
    "        method_info[method]['func_kwargs'] = {\n",
    "            (\n",
    "                {v: k for k, v in method_to_params_map[method].items()}[k] \n",
    "                if k in method_to_params_map[method].values()\n",
    "                else k\n",
    "            ): v \n",
    "            for k, v \n",
    "            in method_to_params[method].items()\n",
    "        }\n",
    "        \n",
    "    return method_info"
   ]
  },
  {
   "cell_type": "code",
   "execution_count": 52,
   "id": "f5fa0deb-4fbb-4028-a81b-591dd4412f5c",
   "metadata": {},
   "outputs": [
    {
     "data": {
      "application/json": [
       {
        "get_B0610": {
         "func_kwargs": {
          "APIKey": "AP8DA23",
          "SP": "1",
          "ServiceType": "csv",
          "date": "2021-01-01"
         },
         "kwargs_map": {
          "SP": "Period",
          "date": "SettlementDate"
         },
         "request_type": "SP_and_date"
        },
        "get_B0620": {
         "func_kwargs": {
          "APIKey": "AP8DA23",
          "SP": "1",
          "ServiceType": "csv",
          "date": "2021-01-01"
         },
         "kwargs_map": {
          "SP": "Period",
          "date": "SettlementDate"
         },
         "request_type": "SP_and_date"
        },
        "get_B0630": {
         "func_kwargs": {
          "APIKey": "AP8DA23",
          "ServiceType": "csv",
          "week": "22",
          "year": "2021"
         },
         "kwargs_map": {
          "week": "Week",
          "year": "Year"
         },
         "request_type": "year_and_week"
        },
        "get_B0640": {
         "func_kwargs": {
          "APIKey": "AP8DA23",
          "ServiceType": "csv/xml/CSV/XML",
          "month": "MAR",
          "year": "2021"
         },
         "kwargs_map": {
          "month": "Month",
          "year": "Year"
         },
         "request_type": "year_and_month"
        },
        "get_B0650": {
         "func_kwargs": {
          "APIKey": "AP8DA23",
          "ServiceType": "csv",
          "year": "2021"
         },
         "kwargs_map": {
          "year": "Year"
         },
         "request_type": "year"
        },
        "get_B0710": {
         "func_kwargs": {
          "APIKey": "AP8DA23",
          "ServiceType": "csv",
          "end_date": "2021-01-02",
          "end_time": "23:59:59",
          "start_date": "2021-01-01",
          "start_time": "00:00:00"
         },
         "kwargs_map": {
          "end_date": "EndDate",
          "end_time": "EndTime",
          "start_date": "StartDate",
          "start_time": "StartTime"
         },
         "request_type": "date_time_range"
        },
        "get_B0720": {
         "func_kwargs": {
          "APIKey": "AP8DA23",
          "ServiceType": "csv",
          "end_date": "2021-01-02",
          "end_time": "23:59:59",
          "start_date": "2021-01-01",
          "start_time": "00:00:00"
         },
         "kwargs_map": {
          "end_date": "EndDate",
          "end_time": "EndTime",
          "start_date": "StartDate",
          "start_time": "StartTime"
         },
         "request_type": "date_time_range"
        },
        "get_B0810": {
         "func_kwargs": {
          "APIKey": "AP8DA23",
          "ServiceType": "csv",
          "year": "2021"
         },
         "kwargs_map": {
          "year": "Year"
         },
         "request_type": "year"
        },
        "get_B0910": {
         "func_kwargs": {
          "APIKey": "AP8DA23",
          "ServiceType": "csv",
          "year": "2021"
         },
         "kwargs_map": {
          "year": "Year"
         },
         "request_type": "year"
        },
        "get_B1010": {
         "func_kwargs": {
          "APIKey": "AP8DA23",
          "ServiceType": "csv",
          "end_date": "2021-01-02",
          "end_time": "23:59:59",
          "start_date": "2021-01-01",
          "start_time": "00:00:00"
         },
         "kwargs_map": {
          "end_date": "EndDate",
          "end_time": "EndTime",
          "start_date": "StartDate",
          "start_time": "StartTime"
         },
         "request_type": "date_time_range"
        },
        "get_B1020": {
         "func_kwargs": {
          "APIKey": "AP8DA23",
          "ServiceType": "csv",
          "end_date": "2021-01-02",
          "end_time": "23:59:59",
          "start_date": "2021-01-01",
          "start_time": "00:00:00"
         },
         "kwargs_map": {
          "end_date": "EndDate",
          "end_time": "EndTime",
          "start_date": "StartDate",
          "start_time": "StartTime"
         },
         "request_type": "date_time_range"
        },
        "get_B1030": {
         "func_kwargs": {
          "APIKey": "AP8DA23",
          "ServiceType": "csv",
          "end_date": "2021-01-02",
          "end_time": "23:59:59",
          "start_date": "2021-01-01",
          "start_time": "00:00:00"
         },
         "kwargs_map": {
          "end_date": "EndDate",
          "end_time": "EndTime",
          "start_date": "StartDate",
          "start_time": "StartTime"
         },
         "request_type": "date_time_range"
        },
        "get_B1320": {
         "func_kwargs": {
          "APIKey": "AP8DA23",
          "SP": "1",
          "ServiceType": "csv",
          "date": "2021-01-01"
         },
         "kwargs_map": {
          "SP": "Period",
          "date": "SettlementDate"
         },
         "request_type": "SP_and_date"
        },
        "get_B1330": {
         "func_kwargs": {
          "APIKey": "AP8DA23",
          "ServiceType": "csv",
          "month": "Mar",
          "year": "2021"
         },
         "kwargs_map": {
          "month": "Month",
          "year": "Year"
         },
         "request_type": "year_and_month"
        },
        "get_B1410": {
         "func_kwargs": {
          "APIKey": "AP8DA23",
          "ServiceType": "csv",
          "year": "2021"
         },
         "kwargs_map": {
          "year": "Year"
         },
         "request_type": "year"
        },
        "get_B1420": {
         "func_kwargs": {
          "APIKey": "AP8DA23",
          "ServiceType": "csv",
          "year": "2021"
         },
         "kwargs_map": {
          "year": "Year"
         },
         "request_type": "year"
        },
        "get_B1430": {
         "func_kwargs": {
          "APIKey": "AP8DA23",
          "SP": "1",
          "ServiceType": "csv",
          "date": "2021-01-01"
         },
         "kwargs_map": {
          "SP": "Period",
          "date": "SettlementDate"
         },
         "request_type": "SP_and_date"
        },
        "get_B1440": {
         "func_kwargs": {
          "APIKey": "AP8DA23",
          "ProcessType": "Day Ahead",
          "SP": "1",
          "ServiceType": "csv",
          "date": "2021-01-01"
         },
         "kwargs_map": {
          "SP": "Period",
          "date": "SettlementDate"
         },
         "request_type": "SP_and_date"
        },
        "get_B1510": {
         "func_kwargs": {
          "APIKey": "AP8DA23",
          "ServiceType": "csv",
          "end_date": "2021-01-02",
          "end_time": "23:59:59",
          "start_date": "2021-01-01",
          "start_time": "00:00:00"
         },
         "kwargs_map": {
          "end_date": "EndDate",
          "end_time": "EndTime",
          "start_date": "StartDate",
          "start_time": "StartTime"
         },
         "request_type": "date_time_range"
        },
        "get_B1520": {
         "func_kwargs": {
          "APIKey": "AP8DA23",
          "ServiceType": "csv",
          "end_date": "2021-01-02",
          "end_time": "23:59:59",
          "start_date": "2021-01-01",
          "start_time": "00:00:00"
         },
         "kwargs_map": {
          "end_date": "EndDate",
          "end_time": "EndTime",
          "start_date": "StartDate",
          "start_time": "StartTime"
         },
         "request_type": "date_time_range"
        },
        "get_B1530": {
         "func_kwargs": {
          "APIKey": "AP8DA23",
          "ServiceType": "csv",
          "end_date": "2021-01-02",
          "end_time": "23:59:59",
          "start_date": "2021-01-01",
          "start_time": "00:00:00"
         },
         "kwargs_map": {
          "end_date": "EndDate",
          "end_time": "EndTime",
          "start_date": "StartDate",
          "start_time": "StartTime"
         },
         "request_type": "date_time_range"
        },
        "get_B1540": {
         "func_kwargs": {
          "APIKey": "AP8DA23",
          "ServiceType": "csv",
          "end_date": "2021-01-02",
          "end_time": "23:59:59",
          "start_date": "2021-01-01",
          "start_time": "00:00:00"
         },
         "kwargs_map": {
          "end_date": "EndDate",
          "end_time": "EndTime",
          "start_date": "StartDate",
          "start_time": "StartTime"
         },
         "request_type": "date_time_range"
        },
        "get_B1610": {
         "func_kwargs": {
          "APIKey": "AP8DA23",
          "NGCBMUnitID": "*",
          "SP": "1",
          "ServiceType": "csv",
          "date": "2021-01-01"
         },
         "kwargs_map": {
          "SP": "Period",
          "date": "SettlementDate"
         },
         "request_type": "SP_and_date"
        },
        "get_B1620": {
         "func_kwargs": {
          "APIKey": "AP8DA23",
          "SP": "1",
          "ServiceType": "csv",
          "date": "2021-01-01"
         },
         "kwargs_map": {
          "SP": "Period",
          "date": "SettlementDate"
         },
         "request_type": "SP_and_date"
        },
        "get_B1630": {
         "func_kwargs": {
          "APIKey": "AP8DA23",
          "SP": "1",
          "ServiceType": "csv",
          "date": "2021-01-01"
         },
         "kwargs_map": {
          "SP": "Period",
          "date": "SettlementDate"
         },
         "request_type": "SP_and_date"
        },
        "get_B1720": {
         "func_kwargs": {
          "APIKey": "AP8DA23",
          "SP": "1",
          "ServiceType": "csv",
          "date": "2021-01-01"
         },
         "kwargs_map": {
          "SP": "Period",
          "date": "SettlementDate"
         },
         "request_type": "SP_and_date"
        },
        "get_B1730": {
         "func_kwargs": {
          "APIKey": "AP8DA23",
          "SP": "1",
          "ServiceType": "csv",
          "date": "2021-01-01"
         },
         "kwargs_map": {
          "SP": "Period",
          "date": "SettlementDate"
         },
         "request_type": "SP_and_date"
        },
        "get_B1740": {
         "func_kwargs": {
          "APIKey": "AP8DA23",
          "SP": "1",
          "ServiceType": "csv",
          "date": "2021-01-01"
         },
         "kwargs_map": {
          "SP": "Period",
          "date": "SettlementDate"
         },
         "request_type": "SP_and_date"
        },
        "get_B1750": {
         "func_kwargs": {
          "APIKey": "AP8DA23",
          "SP": "1",
          "ServiceType": "csv",
          "date": "2021-01-01"
         },
         "kwargs_map": {
          "SP": "Period",
          "date": "SettlementDate"
         },
         "request_type": "SP_and_date"
        },
        "get_B1760": {
         "func_kwargs": {
          "APIKey": "AP8DA23",
          "SP": "1",
          "ServiceType": "csv",
          "date": "2021-01-01"
         },
         "kwargs_map": {
          "SP": "Period",
          "date": "SettlementDate"
         },
         "request_type": "SP_and_date"
        },
        "get_B1770": {
         "func_kwargs": {
          "APIKey": "AP8DA23",
          "SP": "1",
          "ServiceType": "csv",
          "date": "2021-01-01"
         },
         "kwargs_map": {
          "SP": "Period",
          "date": "SettlementDate"
         },
         "request_type": "SP_and_date"
        },
        "get_B1780": {
         "func_kwargs": {
          "APIKey": "AP8DA23",
          "SP": "1",
          "ServiceType": "csv",
          "date": "2021-01-01"
         },
         "kwargs_map": {
          "SP": "Period",
          "date": "SettlementDate"
         },
         "request_type": "SP_and_date"
        },
        "get_B1790": {
         "func_kwargs": {
          "APIKey": "AP8DA23",
          "ServiceType": "csv/xml/CSV/XML",
          "month": "MAR",
          "year": "2021"
         },
         "kwargs_map": {
          "month": "Month",
          "year": "Year"
         },
         "request_type": "year_and_month"
        },
        "get_B1810": {
         "func_kwargs": {
          "APIKey": "AP8DA23",
          "SP": "1",
          "ServiceType": "csv",
          "date": "2021-01-01"
         },
         "kwargs_map": {
          "SP": "Period",
          "date": "SettlementDate"
         },
         "request_type": "SP_and_date"
        },
        "get_B1820": {
         "func_kwargs": {
          "APIKey": "AP8DA23",
          "SP": "1",
          "ServiceType": "csv",
          "date": "2021-01-01"
         },
         "kwargs_map": {
          "SP": "Period",
          "date": "SettlementDate"
         },
         "request_type": "SP_and_date"
        },
        "get_B1830": {
         "func_kwargs": {
          "APIKey": "AP8DA23",
          "SP": "1",
          "ServiceType": "csv",
          "date": "2021-01-01"
         },
         "kwargs_map": {
          "SP": "Period",
          "date": "SettlementDate"
         },
         "request_type": "SP_and_date"
        },
        "get_BOD": {
         "func_kwargs": {
          "APIKey": "AP8DA23",
          "BMUnitId": "2__AEENG000, G, E.ON Energy, Solutions Limited, EAS-EST01",
          "BMUnitType": "G, S, E, I, T, etc",
          "LeadPartyName": "AES New Energy Limited",
          "NGCBMUnit": "EAS-ASP01, AES New Energy Limited, G, 2__AAEPD000",
          "Name": "2__AAEPD000",
          "SP": "12",
          "ServiceType": "csv/xml/CSV/XML",
          "date": "2021-01-01"
         },
         "kwargs_map": {
          "SP": "SettlementPeriod",
          "date": "SettlementDate"
         },
         "request_type": "SP_and_date"
        },
        "get_CDN": {
         "func_kwargs": {
          "APIKey": "AP8DA23",
          "FromClearedDate": "2021-01-01",
          "ServiceType": "xml/XML/csv/CSV",
          "ToClearedDate": "2021-01-02"
         },
         "kwargs_map": {},
         "request_type": "non_temporal"
        },
        "get_DEVINDOD": {
         "func_kwargs": {
          "APIKey": "AP8DA23",
          "FromDate": "2021-01-01",
          "ServiceType": "xml/XML/csv/CSV",
          "ToDate": "2021-01-02"
         },
         "kwargs_map": {},
         "request_type": "non_temporal"
        },
        "get_DISBSAD": {
         "func_kwargs": {
          "APIKey": "AP8DA23",
          "SP": "1",
          "ServiceType": "xml/XML/csv/CSV",
          "date": "2021-01-01"
         },
         "kwargs_map": {
          "SP": "SettlementPeriod",
          "date": "SettlementDate"
         },
         "request_type": "SP_and_date"
        },
        "get_FREQ": {
         "func_kwargs": {
          "APIKey": "AP8DA23",
          "FromDateTime": "2021-01-01 00:01:00",
          "ServiceType": "xml/XML/csv/CSV",
          "ToDateTime": "2021-02-01 23:59:59"
         },
         "kwargs_map": {},
         "request_type": "non_temporal"
        },
        "get_MID": {
         "func_kwargs": {
          "APIKey": "AP8DA23",
          "FromSettlementDate": "2021-01-01",
          "SP": "*",
          "ServiceType": "csv/CSV/XML/xml",
          "ToSettlementDate": "2021-01-02"
         },
         "kwargs_map": {
          "SP": "Period"
         },
         "request_type": "date_range"
        },
        "get_MessageDetailRetrieval": {
         "func_kwargs": {
          "APIKey": "AP8DA23",
          "ActiveFlag": "N",
          "MessageId": "nan",
          "ParticipantId": "nan",
          "SequenceId": "nan",
          "ServiceType": "xml/XML/csv/CSV."
         },
         "kwargs_map": {},
         "request_type": "non_temporal"
        },
        "get_MessageListRetrieval": {
         "func_kwargs": {
          "APIKey": "AP8DA23",
          "AssetID": "nan",
          "EventEnd": "2021-01-02",
          "EventStart": "2021-01-01",
          "EventType": "nan",
          "FuelType": "nan",
          "MessageID": "nan",
          "MessageType": "nan",
          "ParticipantId": "nan",
          "PublicationFrom": "2021-01-01",
          "PublicationTo": "2021-01-02",
          "ServiceType": "xml/XML/csv/CSV",
          "UnavailabilityType": "nan"
         },
         "kwargs_map": {},
         "request_type": "non_temporal"
        },
        "get_NETBSAD": {
         "func_kwargs": {
          "APIKey": "AP8DA23",
          "SP": "1",
          "ServiceType": "xml/XML/csv/CSV",
          "date": "2021-01-01",
          "isTwoDayWindow": "FALSE"
         },
         "kwargs_map": {
          "SP": "SettlementPeriod",
          "date": "SettlementDate"
         },
         "request_type": "SP_and_date"
        },
        "get_NONBM": {
         "func_kwargs": {
          "APIKey": "AP8DA23",
          "FromDate": "2021-01-01",
          "ServiceType": "csv/CSV/XML/xml",
          "ToDate": "2021-01-02"
         },
         "kwargs_map": {},
         "request_type": "non_temporal"
        },
        "get_PHYBMDATA": {
         "func_kwargs": {
          "APIKey": "AP8DA23",
          "BMUnitId": "2__AEENG000, G, E.ON Energy Solutions Limited, EAS-EST01",
          "BMUnitType": "G, S, E, I, T, etc",
          "LeadPartyName": "AES New Energy Limited",
          "NGCBMUnit": "EAS-ASP01, AES New Energy",
          "Name": "Limited, G, 2__AAEPD000",
          "SP": "12",
          "ServiceType": "csv/xml/CSV/XML",
          "date": "2021-01-01"
         },
         "kwargs_map": {
          "SP": "SettlementPeriod",
          "date": "SettlementDate"
         },
         "request_type": "SP_and_date"
        },
        "get_SYSWARN": {
         "func_kwargs": {
          "APIKey": "AP8DA23",
          "FromDate": "2021-01-01",
          "ServiceType": "csv/CSV/xml/XML",
          "ToDate": "2021-01-02"
         },
         "kwargs_map": {},
         "request_type": "non_temporal"
        },
        "get_TEMP": {
         "func_kwargs": {
          "APIKey": "AP8DA23",
          "FromDate": "2021-01-01",
          "ServiceType": "csv/CSV/xml/XML",
          "ToDate": "2021-01-02"
         },
         "kwargs_map": {},
         "request_type": "non_temporal"
        }
       }
      ],
      "text/plain": [
       "<IPython.core.display.JSON object>"
      ]
     },
     "execution_count": 52,
     "metadata": {
      "application/json": {
       "expanded": false,
       "root": "root"
      }
     },
     "output_type": "execute_result"
    }
   ],
   "source": [
    "method_info = construct_method_info_dict('../data/BMRS_API.yaml')\n",
    "    \n",
    "JSON([method_info])"
   ]
  },
  {
   "cell_type": "code",
   "execution_count": null,
   "id": "d96ce0c9-f1d5-4dca-970b-3c21a1216a10",
   "metadata": {},
   "outputs": [],
   "source": []
  },
  {
   "cell_type": "code",
   "execution_count": 2,
   "id": "0103b771-1352-47bc-a6c2-662bae9968af",
   "metadata": {},
   "outputs": [
    {
     "name": "stdout",
     "output_type": "stream",
     "text": [
      "Converted 04-client-prep.ipynb.\n"
     ]
    }
   ],
   "source": [
    "#hide\n",
    "from ElexonDataPortal.dev.nbdev import notebook2script\n",
    "notebook2script('04-client-prep.ipynb')"
   ]
  }
 ],
 "metadata": {
  "kernelspec": {
   "display_name": "BMRS",
   "language": "python",
   "name": "bmrs"
  },
  "language_info": {
   "codemirror_mode": {
    "name": "ipython",
    "version": 3
   },
   "file_extension": ".py",
   "mimetype": "text/x-python",
   "name": "python",
   "nbconvert_exporter": "python",
   "pygments_lexer": "ipython3",
   "version": "3.9.4"
  }
 },
 "nbformat": 4,
 "nbformat_minor": 5
}
