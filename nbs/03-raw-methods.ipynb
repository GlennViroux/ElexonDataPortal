{
 "cells": [
  {
   "cell_type": "code",
   "execution_count": 1,
   "id": "3af11175-6830-4f62-8774-7d77b93e4cc8",
   "metadata": {},
   "outputs": [],
   "source": [
    "#hide\n",
    "#default_exp dev.rawgen"
   ]
  },
  {
   "cell_type": "markdown",
   "id": "9eece896-76aa-4899-838c-3f3e9e82445e",
   "metadata": {},
   "source": [
    "# Raw Method Generation"
   ]
  },
  {
   "cell_type": "markdown",
   "id": "8b0cccd6-d3f4-4446-bae7-5d47df0b15d1",
   "metadata": {},
   "source": [
    "<br>\n",
    "\n",
    "### Imports"
   ]
  },
  {
   "cell_type": "code",
   "execution_count": 2,
   "id": "fa431cf3-5d3f-495d-961a-94a1f0fcbd33",
   "metadata": {},
   "outputs": [],
   "source": [
    "#exports\n",
    "import pandas as pd\n",
    "import io\n",
    "import yaml\n",
    "import xmltodict\n",
    "from jinja2 import Template"
   ]
  },
  {
   "cell_type": "code",
   "execution_count": 3,
   "id": "93172df8-b8c2-40d8-b9f6-e119293b571c",
   "metadata": {},
   "outputs": [],
   "source": [
    "from IPython.display import JSON\n",
    "from ElexonDataPortal.dev import specgen"
   ]
  },
  {
   "cell_type": "code",
   "execution_count": null,
   "id": "403ab274-9371-419a-bd26-cfd02ee84fd7",
   "metadata": {},
   "outputs": [],
   "source": []
  },
  {
   "cell_type": "code",
   "execution_count": 4,
   "id": "3edeb09b-3b9e-4c22-b94c-23034be48433",
   "metadata": {},
   "outputs": [],
   "source": [
    "import os\n",
    "from dotenv import load_dotenv\n",
    "\n",
    "assert load_dotenv('../.env'), 'Environment variables could not be loaded'\n",
    "\n",
    "api_key = os.environ['BMRS_API_KEY']"
   ]
  },
  {
   "cell_type": "code",
   "execution_count": null,
   "id": "1233a2ec-fead-4450-8533-d8af9245430e",
   "metadata": {},
   "outputs": [],
   "source": []
  },
  {
   "cell_type": "code",
   "execution_count": 5,
   "id": "687721a1-c118-43cd-9c5f-dfa7d334d382",
   "metadata": {},
   "outputs": [
    {
     "data": {
      "application/json": {
       "info": {
        "description": "API for the Elexon Balancing Mechanism Reporting Service",
        "title": "BMRS API",
        "version": "2.0"
       },
       "openapi": "3.0.1",
       "paths": {
        "/BMRS/B0610/v1": {
         "get": {
          "description": "Actual Total Load per Bidding Zone",
          "parameters": [
           {
            "example": "AP8DA23",
            "in": "query",
            "name": "APIKey",
            "schema": {
             "type": "string"
            }
           },
           {
            "example": "2021-01-01",
            "in": "query",
            "name": "SettlementDate",
            "schema": {
             "type": "string"
            }
           },
           {
            "example": "1",
            "in": "query",
            "name": "Period",
            "schema": {
             "type": "string"
            }
           },
           {
            "examples": {
             "csv": {
              "value": "csv"
             },
             "xml": {
              "value": "xml"
             }
            },
            "in": "query",
            "name": "ServiceType",
            "schema": {
             "type": "string"
            }
           }
          ],
          "responses": {
           "200": {
            "description": "Actual Total Load per Bidding Zone"
           }
          },
          "servers": [
           {
            "url": "https://api.bmreports.com"
           }
          ],
          "tags": [
           "Demand"
          ],
          "x-title": "B0610"
         },
         "servers": [
          {
           "url": "https://api.bmreports.com"
          }
         ]
        },
        "/BMRS/B0620/v1": {
         "get": {
          "description": "Day-Ahead Total Load Forecast per Bidding Zone",
          "parameters": [
           {
            "example": "AP8DA23",
            "in": "query",
            "name": "APIKey",
            "schema": {
             "type": "string"
            }
           },
           {
            "example": "2021-01-01",
            "in": "query",
            "name": "SettlementDate",
            "schema": {
             "type": "string"
            }
           },
           {
            "example": "1",
            "in": "query",
            "name": "Period",
            "schema": {
             "type": "string"
            }
           },
           {
            "examples": {
             "csv": {
              "value": "csv"
             },
             "xml": {
              "value": "xml"
             }
            },
            "in": "query",
            "name": "ServiceType",
            "schema": {
             "type": "string"
            }
           }
          ],
          "responses": {
           "200": {
            "description": "Day-Ahead Total Load Forecast per Bidding Zone"
           }
          },
          "servers": [
           {
            "url": "https://api.bmreports.com"
           }
          ],
          "tags": [
           "Demand"
          ],
          "x-title": "B0620"
         },
         "servers": [
          {
           "url": "https://api.bmreports.com"
          }
         ]
        },
        "/BMRS/B0630/v1": {
         "get": {
          "description": "Week-Ahead Total Load Forecast per Bidding Zone",
          "parameters": [
           {
            "example": "AP8DA23",
            "in": "query",
            "name": "APIKey",
            "schema": {
             "type": "string"
            }
           },
           {
            "example": "2021",
            "in": "query",
            "name": "Year",
            "schema": {
             "type": "string"
            }
           },
           {
            "example": "22",
            "in": "query",
            "name": "Week",
            "schema": {
             "type": "string"
            }
           },
           {
            "examples": {
             "csv": {
              "value": "csv"
             },
             "xml": {
              "value": "xml"
             }
            },
            "in": "query",
            "name": "ServiceType",
            "schema": {
             "type": "string"
            }
           }
          ],
          "responses": {
           "200": {
            "description": "Week-Ahead Total Load Forecast per Bidding Zone"
           }
          },
          "servers": [
           {
            "url": "https://api.bmreports.com"
           }
          ],
          "tags": [
           "Demand"
          ],
          "x-title": "B0630"
         },
         "servers": [
          {
           "url": "https://api.bmreports.com"
          }
         ]
        },
        "/BMRS/B0640/v1": {
         "get": {
          "description": "Month-Ahead Total Load Forecast Per Bidding Zone",
          "parameters": [
           {
            "example": "AP8DA23",
            "in": "query",
            "name": "APIKey",
            "schema": {
             "type": "string"
            }
           },
           {
            "example": "2021",
            "in": "query",
            "name": "Year",
            "schema": {
             "type": "string"
            }
           },
           {
            "example": "MAR",
            "in": "query",
            "name": "Month",
            "schema": {
             "type": "string"
            }
           },
           {
            "examples": {
             "csv": {
              "value": "csv"
             },
             "xml": {
              "value": "xml"
             }
            },
            "in": "query",
            "name": "ServiceType",
            "schema": {
             "type": "string"
            }
           }
          ],
          "responses": {
           "200": {
            "description": "Month-Ahead Total Load Forecast Per Bidding Zone"
           }
          },
          "servers": [
           {
            "url": "https://api.bmreports.com"
           }
          ],
          "tags": [
           "Demand"
          ],
          "x-title": "B0640"
         },
         "servers": [
          {
           "url": "https://api.bmreports.com"
          }
         ]
        },
        "/BMRS/B0650/v1": {
         "get": {
          "description": "Year Ahead Total Load Forecast per Bidding Zone",
          "parameters": [
           {
            "example": "AP8DA23",
            "in": "query",
            "name": "APIKey",
            "schema": {
             "type": "string"
            }
           },
           {
            "example": "2021",
            "in": "query",
            "name": "Year",
            "schema": {
             "type": "string"
            }
           },
           {
            "examples": {
             "csv": {
              "value": "csv"
             },
             "xml": {
              "value": "xml"
             }
            },
            "in": "query",
            "name": "ServiceType",
            "schema": {
             "type": "string"
            }
           }
          ],
          "responses": {
           "200": {
            "description": "Year Ahead Total Load Forecast per Bidding Zone"
           }
          },
          "servers": [
           {
            "url": "https://api.bmreports.com"
           }
          ],
          "tags": [
           "Demand"
          ],
          "x-title": "B0650"
         },
         "servers": [
          {
           "url": "https://api.bmreports.com"
          }
         ]
        },
        "/BMRS/B0710/v1": {
         "get": {
          "description": "Planned Unavailability of Consumption Units",
          "parameters": [
           {
            "example": "AP8DA23",
            "in": "query",
            "name": "APIKey",
            "schema": {
             "type": "string"
            }
           },
           {
            "example": "23:59:59",
            "in": "query",
            "name": "EndTime",
            "schema": {
             "type": "string"
            }
           },
           {
            "example": "00:00:00",
            "in": "query",
            "name": "StartTime",
            "schema": {
             "type": "string"
            }
           },
           {
            "example": "2021-01-01",
            "in": "query",
            "name": "StartDate",
            "schema": {
             "type": "string"
            }
           },
           {
            "example": "2021-02-01",
            "in": "query",
            "name": "EndDate",
            "schema": {
             "type": "string"
            }
           },
           {
            "examples": {
             "csv": {
              "value": "csv"
             },
             "xml": {
              "value": "xml"
             }
            },
            "in": "query",
            "name": "ServiceType",
            "schema": {
             "type": "string"
            }
           }
          ],
          "responses": {
           "200": {
            "description": "Planned Unavailability of Consumption Units"
           }
          },
          "servers": [
           {
            "url": "https://api.bmreports.com"
           }
          ],
          "tags": [
           "Demand"
          ],
          "x-title": "B0710"
         },
         "servers": [
          {
           "url": "https://api.bmreports.com"
          }
         ]
        },
        "/BMRS/B0720/v1": {
         "get": {
          "description": "Changes In Actual Availability Of Consumption Units",
          "parameters": [
           {
            "example": "AP8DA23",
            "in": "query",
            "name": "APIKey",
            "schema": {
             "type": "string"
            }
           },
           {
            "example": "2021-01-01",
            "in": "query",
            "name": "StartDate",
            "schema": {
             "type": "string"
            }
           },
           {
            "example": "00:00:00",
            "in": "query",
            "name": "StartTime",
            "schema": {
             "type": "string"
            }
           },
           {
            "example": "2021-02-01",
            "in": "query",
            "name": "EndDate",
            "schema": {
             "type": "string"
            }
           },
           {
            "example": "23:59:59",
            "in": "query",
            "name": "EndTime",
            "schema": {
             "type": "string"
            }
           },
           {
            "examples": {
             "csv": {
              "value": "csv"
             },
             "xml": {
              "value": "xml"
             }
            },
            "in": "query",
            "name": "ServiceType",
            "schema": {
             "type": "string"
            }
           }
          ],
          "responses": {
           "200": {
            "description": "Changes In Actual Availability Of Consumption Units"
           }
          },
          "servers": [
           {
            "url": "https://api.bmreports.com"
           }
          ],
          "tags": [
           "Demand"
          ],
          "x-title": "B0720"
         },
         "servers": [
          {
           "url": "https://api.bmreports.com"
          }
         ]
        },
        "/BMRS/B0810/v1": {
         "get": {
          "description": "Year Ahead Forecast Margin",
          "parameters": [
           {
            "example": "AP8DA23",
            "in": "query",
            "name": "APIKey",
            "schema": {
             "type": "string"
            }
           },
           {
            "example": "2021",
            "in": "query",
            "name": "Year",
            "schema": {
             "type": "string"
            }
           },
           {
            "examples": {
             "csv": {
              "value": "csv"
             },
             "xml": {
              "value": "xml"
             }
            },
            "in": "query",
            "name": "ServiceType",
            "schema": {
             "type": "string"
            }
           }
          ],
          "responses": {
           "200": {
            "description": "Year Ahead Forecast Margin"
           }
          },
          "servers": [
           {
            "url": "https://api.bmreports.com"
           }
          ],
          "tags": [
           "Demand"
          ],
          "x-title": "B0810"
         },
         "servers": [
          {
           "url": "https://api.bmreports.com"
          }
         ]
        },
        "/BMRS/B0910/v1": {
         "get": {
          "description": "Expansion and Dismantling Projects",
          "parameters": [
           {
            "example": "AP8DA23",
            "in": "query",
            "name": "APIKey",
            "schema": {
             "type": "string"
            }
           },
           {
            "example": "2021",
            "in": "query",
            "name": "Year",
            "schema": {
             "type": "integer"
            }
           },
           {
            "examples": {
             "csv": {
              "value": "csv"
             },
             "xml": {
              "value": "xml"
             }
            },
            "in": "query",
            "name": "ServiceType",
            "schema": {
             "type": "string"
            }
           }
          ],
          "responses": {
           "200": {
            "description": "Expansion and Dismantling Projects"
           }
          },
          "servers": [
           {
            "url": "https://api.bmreports.com"
           }
          ],
          "tags": [
           "Transmission"
          ],
          "x-title": "B0910"
         },
         "servers": [
          {
           "url": "https://api.bmreports.com"
          }
         ]
        },
        "/BMRS/B1010/v1": {
         "get": {
          "description": "Planned Unavailability In The Transmission Grid",
          "parameters": [
           {
            "example": "AP8DA23",
            "in": "query",
            "name": "APIKey",
            "schema": {
             "type": "string"
            }
           },
           {
            "example": "2021-01-01",
            "in": "query",
            "name": "StartDate",
            "schema": {
             "type": "string"
            }
           },
           {
            "example": "2021-02-01",
            "in": "query",
            "name": "EndDate",
            "schema": {
             "type": "string"
            }
           },
           {
            "example": "00:00:00",
            "in": "query",
            "name": "StartTime",
            "schema": {
             "type": "string"
            }
           },
           {
            "example": "23:59:59",
            "in": "query",
            "name": "EndTime",
            "schema": {
             "type": "string"
            }
           },
           {
            "examples": {
             "csv": {
              "value": "csv"
             },
             "xml": {
              "value": "xml"
             }
            },
            "in": "query",
            "name": "ServiceType",
            "schema": {
             "type": "string"
            }
           }
          ],
          "responses": {
           "200": {
            "description": "Planned Unavailability In The Transmission Grid"
           }
          },
          "servers": [
           {
            "url": "https://api.bmreports.com"
           }
          ],
          "tags": [
           "Transmission"
          ],
          "x-title": "B1010"
         },
         "servers": [
          {
           "url": "https://api.bmreports.com"
          }
         ]
        },
        "/BMRS/B1020/v1": {
         "get": {
          "description": "Changes In Actual Availability In The Transmission Grid",
          "parameters": [
           {
            "example": "AP8DA23",
            "in": "query",
            "name": "APIKey",
            "schema": {
             "type": "string"
            }
           },
           {
            "example": "2021-01-01",
            "in": "query",
            "name": "StartDate",
            "schema": {
             "type": "string"
            }
           },
           {
            "example": "2021-02-01",
            "in": "query",
            "name": "EndDate",
            "schema": {
             "type": "string"
            }
           },
           {
            "example": "00:00:00",
            "in": "query",
            "name": "StartTime",
            "schema": {
             "type": "string"
            }
           },
           {
            "example": "23:59:59",
            "in": "query",
            "name": "EndTime",
            "schema": {
             "type": "string"
            }
           },
           {
            "examples": {
             "csv": {
              "value": "csv"
             },
             "xml": {
              "value": "xml"
             }
            },
            "in": "query",
            "name": "ServiceType",
            "schema": {
             "type": "string"
            }
           }
          ],
          "responses": {
           "200": {
            "description": "Changes In Actual Availability In The Transmission Grid"
           }
          },
          "servers": [
           {
            "url": "https://api.bmreports.com"
           }
          ],
          "tags": [
           "Transmission"
          ],
          "x-title": "B1020"
         },
         "servers": [
          {
           "url": "https://api.bmreports.com"
          }
         ]
        },
        "/BMRS/B1030/v1": {
         "get": {
          "description": "Changes In Actual Availability of Offshore Grid Infrastructure",
          "parameters": [
           {
            "example": "AP8DA23",
            "in": "query",
            "name": "APIKey",
            "schema": {
             "type": "string"
            }
           },
           {
            "example": "2021-01-01",
            "in": "query",
            "name": "StartDate",
            "schema": {
             "type": "string"
            }
           },
           {
            "example": "2021-02-01",
            "in": "query",
            "name": "EndDate",
            "schema": {
             "type": "string"
            }
           },
           {
            "example": "00:00:00",
            "in": "query",
            "name": "StartTime",
            "schema": {
             "type": "string"
            }
           },
           {
            "example": "23:59:59",
            "in": "query",
            "name": "EndTime",
            "schema": {
             "type": "string"
            }
           },
           {
            "examples": {
             "csv": {
              "value": "csv"
             },
             "xml": {
              "value": "xml"
             }
            },
            "in": "query",
            "name": "ServiceType",
            "schema": {
             "type": "string"
            }
           }
          ],
          "responses": {
           "200": {
            "description": "Changes In Actual Availability of Offshore Grid Infrastructure"
           }
          },
          "servers": [
           {
            "url": "https://api.bmreports.com"
           }
          ],
          "tags": [
           "Transmission"
          ],
          "x-title": "B1030"
         },
         "servers": [
          {
           "url": "https://api.bmreports.com"
          }
         ]
        },
        "/BMRS/B1320/v1": {
         "get": {
          "description": "Congestion Management Measures Countertrading",
          "parameters": [
           {
            "example": "AP8DA23",
            "in": "query",
            "name": "APIKey",
            "schema": {
             "type": "string"
            }
           },
           {
            "example": "2021-01-01",
            "in": "query",
            "name": "SettlementDate",
            "schema": {
             "type": "string"
            }
           },
           {
            "example": "1",
            "in": "query",
            "name": "Period",
            "schema": {
             "type": "string"
            }
           },
           {
            "examples": {
             "csv": {
              "value": "csv"
             },
             "xml": {
              "value": "xml"
             }
            },
            "in": "query",
            "name": "ServiceType",
            "schema": {
             "type": "string"
            }
           }
          ],
          "responses": {
           "200": {
            "description": "Congestion Management Measures Countertrading"
           }
          },
          "servers": [
           {
            "url": "https://api.bmreports.com"
           }
          ],
          "tags": [
           "Transmission"
          ],
          "x-title": "B1320"
         },
         "servers": [
          {
           "url": "https://api.bmreports.com"
          }
         ]
        },
        "/BMRS/B1330/v1": {
         "get": {
          "description": "Congestion Management Measures Costs of Congestion Management",
          "parameters": [
           {
            "example": "AP8DA23",
            "in": "query",
            "name": "APIKey",
            "schema": {
             "type": "string"
            }
           },
           {
            "example": "2021",
            "in": "query",
            "name": "Year",
            "schema": {
             "type": "string"
            }
           },
           {
            "example": "Mar",
            "in": "query",
            "name": "Month",
            "schema": {
             "type": "string"
            }
           },
           {
            "examples": {
             "csv": {
              "value": "csv"
             },
             "xml": {
              "value": "xml"
             }
            },
            "in": "query",
            "name": "ServiceType",
            "schema": {
             "type": "string"
            }
           }
          ],
          "responses": {
           "200": {
            "description": "Congestion Management Measures Costs of Congestion Management"
           }
          },
          "servers": [
           {
            "url": "https://api.bmreports.com"
           }
          ],
          "tags": [
           "Transmission"
          ],
          "x-title": "B1330"
         },
         "servers": [
          {
           "url": "https://api.bmreports.com"
          }
         ]
        },
        "/BMRS/B1410/v1": {
         "get": {
          "description": "Installed Generation Capacity Aggregated",
          "parameters": [
           {
            "example": "AP8DA23",
            "in": "query",
            "name": "APIKey",
            "schema": {
             "type": "string"
            }
           },
           {
            "example": "2021",
            "in": "query",
            "name": "Year",
            "schema": {
             "type": "string"
            }
           },
           {
            "examples": {
             "csv": {
              "value": "csv"
             },
             "xml": {
              "value": "xml"
             }
            },
            "in": "query",
            "name": "ServiceType",
            "schema": {
             "type": "string"
            }
           }
          ],
          "responses": {
           "200": {
            "description": "Installed Generation Capacity Aggregated"
           }
          },
          "servers": [
           {
            "url": "https://api.bmreports.com"
           }
          ],
          "tags": [
           "Generation"
          ],
          "x-title": "B1410"
         },
         "servers": [
          {
           "url": "https://api.bmreports.com"
          }
         ]
        },
        "/BMRS/B1420/v1": {
         "get": {
          "description": "Installed Generation Capacity per Unit",
          "parameters": [
           {
            "example": "AP8DA23",
            "in": "query",
            "name": "APIKey",
            "schema": {
             "type": "string"
            }
           },
           {
            "example": "2021",
            "in": "query",
            "name": "Year",
            "schema": {
             "type": "string"
            }
           },
           {
            "examples": {
             "csv": {
              "value": "csv"
             },
             "xml": {
              "value": "xml"
             }
            },
            "in": "query",
            "name": "ServiceType",
            "schema": {
             "type": "string"
            }
           }
          ],
          "responses": {
           "200": {
            "description": "Installed Generation Capacity per Unit"
           }
          },
          "servers": [
           {
            "url": "https://api.bmreports.com"
           }
          ],
          "tags": [
           "Generation"
          ],
          "x-title": "B1420"
         },
         "servers": [
          {
           "url": "https://api.bmreports.com"
          }
         ]
        },
        "/BMRS/B1430/v1": {
         "get": {
          "description": "Day-Ahead Aggregated Generation",
          "parameters": [
           {
            "example": "AP8DA23",
            "in": "query",
            "name": "APIKey",
            "schema": {
             "type": "string"
            }
           },
           {
            "example": "2021-01-01",
            "in": "query",
            "name": "SettlementDate",
            "schema": {
             "type": "string"
            }
           },
           {
            "example": "1",
            "in": "query",
            "name": "Period",
            "schema": {
             "type": "string"
            }
           },
           {
            "examples": {
             "csv": {
              "value": "csv"
             },
             "xml": {
              "value": "xml"
             }
            },
            "in": "query",
            "name": "ServiceType",
            "schema": {
             "type": "string"
            }
           }
          ],
          "responses": {
           "200": {
            "description": "Day-Ahead Aggregated Generation"
           }
          },
          "servers": [
           {
            "url": "https://api.bmreports.com"
           }
          ],
          "tags": [
           "Generation"
          ],
          "x-title": "B1430"
         },
         "servers": [
          {
           "url": "https://api.bmreports.com"
          }
         ]
        },
        "/BMRS/B1440/v1": {
         "get": {
          "description": "Generation forecasts for Wind and Solar",
          "parameters": [
           {
            "example": "AP8DA23",
            "in": "query",
            "name": "APIKey",
            "schema": {
             "type": "string"
            }
           },
           {
            "example": "2021-01-01",
            "in": "query",
            "name": "SettlementDate",
            "schema": {
             "type": "string"
            }
           },
           {
            "example": "1",
            "in": "query",
            "name": "Period",
            "schema": {
             "type": "string"
            }
           },
           {
            "example": "Day Ahead",
            "in": "query",
            "name": "ProcessType",
            "schema": {
             "type": "string"
            }
           },
           {
            "examples": {
             "csv": {
              "value": "csv"
             },
             "xml": {
              "value": "xml"
             }
            },
            "in": "query",
            "name": "ServiceType",
            "schema": {
             "type": "string"
            }
           }
          ],
          "responses": {
           "200": {
            "description": "Generation forecasts for Wind and Solar"
           }
          },
          "servers": [
           {
            "url": "https://api.bmreports.com"
           }
          ],
          "tags": [
           "Generation"
          ],
          "x-title": "B1440"
         },
         "servers": [
          {
           "url": "https://api.bmreports.com"
          }
         ]
        },
        "/BMRS/B1510/v1": {
         "get": {
          "description": "Planned Unavailability of Generation Units",
          "parameters": [
           {
            "example": "AP8DA23",
            "in": "query",
            "name": "APIKey",
            "schema": {
             "type": "string"
            }
           },
           {
            "example": "2021-01-01",
            "in": "query",
            "name": "StartDate",
            "schema": {
             "type": "string"
            }
           },
           {
            "example": "2021-02-01",
            "in": "query",
            "name": "EndDate",
            "schema": {
             "type": "string"
            }
           },
           {
            "example": "00:00:00",
            "in": "query",
            "name": "StartTime",
            "schema": {
             "type": "string"
            }
           },
           {
            "example": "23:59:59",
            "in": "query",
            "name": "EndTime",
            "schema": {
             "type": "string"
            }
           },
           {
            "examples": {
             "csv": {
              "value": "csv"
             },
             "xml": {
              "value": "xml"
             }
            },
            "in": "query",
            "name": "ServiceType",
            "schema": {
             "type": "string"
            }
           }
          ],
          "responses": {
           "200": {
            "description": "Planned Unavailability of Generation Units"
           }
          },
          "servers": [
           {
            "url": "https://api.bmreports.com"
           }
          ],
          "tags": [
           "Generation"
          ],
          "x-title": "B1510"
         },
         "servers": [
          {
           "url": "https://api.bmreports.com"
          }
         ]
        },
        "/BMRS/B1520/v1": {
         "get": {
          "description": "Changes In Actual Availability of Generation Units",
          "parameters": [
           {
            "example": "AP8DA23",
            "in": "query",
            "name": "APIKey",
            "schema": {
             "type": "string"
            }
           },
           {
            "example": "2021-01-01",
            "in": "query",
            "name": "StartDate",
            "schema": {
             "type": "string"
            }
           },
           {
            "example": "2021-02-01",
            "in": "query",
            "name": "EndDate",
            "schema": {
             "type": "string"
            }
           },
           {
            "example": "00:00:00",
            "in": "query",
            "name": "StartTime",
            "schema": {
             "type": "string"
            }
           },
           {
            "example": "23:59:59",
            "in": "query",
            "name": "EndTime",
            "schema": {
             "type": "string"
            }
           },
           {
            "examples": {
             "csv": {
              "value": "csv"
             },
             "xml": {
              "value": "xml"
             }
            },
            "in": "query",
            "name": "ServiceType",
            "schema": {
             "type": "string"
            }
           }
          ],
          "responses": {
           "200": {
            "description": "Changes In Actual Availability of Generation Units"
           }
          },
          "servers": [
           {
            "url": "https://api.bmreports.com"
           }
          ],
          "tags": [
           "Generation"
          ],
          "x-title": "B1520"
         },
         "servers": [
          {
           "url": "https://api.bmreports.com"
          }
         ]
        },
        "/BMRS/B1530/v1": {
         "get": {
          "description": "Planned Unavailability of Production Units",
          "parameters": [
           {
            "example": "AP8DA23",
            "in": "query",
            "name": "APIKey",
            "schema": {
             "type": "string"
            }
           },
           {
            "example": "2021-01-01",
            "in": "query",
            "name": "StartDate",
            "schema": {
             "type": "string"
            }
           },
           {
            "example": "2021-02-01",
            "in": "query",
            "name": "EndDate",
            "schema": {
             "type": "string"
            }
           },
           {
            "example": "00:00:00",
            "in": "query",
            "name": "StartTime",
            "schema": {
             "type": "string"
            }
           },
           {
            "example": "23:59:59",
            "in": "query",
            "name": "EndTime",
            "schema": {
             "type": "string"
            }
           },
           {
            "examples": {
             "csv": {
              "value": "csv"
             },
             "xml": {
              "value": "xml"
             }
            },
            "in": "query",
            "name": "ServiceType",
            "schema": {
             "type": "string"
            }
           }
          ],
          "responses": {
           "200": {
            "description": "Planned Unavailability of Production Units"
           }
          },
          "servers": [
           {
            "url": "https://api.bmreports.com"
           }
          ],
          "tags": [
           "Generation"
          ],
          "x-title": "B1530"
         },
         "servers": [
          {
           "url": "https://api.bmreports.com"
          }
         ]
        },
        "/BMRS/B1540/v1": {
         "get": {
          "description": "Changes In Actual Availability of Production Units",
          "parameters": [
           {
            "example": "AP8DA23",
            "in": "query",
            "name": "APIKey",
            "schema": {
             "type": "string"
            }
           },
           {
            "example": "2021-01-01",
            "in": "query",
            "name": "StartDate",
            "schema": {
             "type": "string"
            }
           },
           {
            "example": "2021-02-01",
            "in": "query",
            "name": "EndDate",
            "schema": {
             "type": "string"
            }
           },
           {
            "example": "00:00:00",
            "in": "query",
            "name": "StartTime",
            "schema": {
             "type": "string"
            }
           },
           {
            "example": "23:59:59",
            "in": "query",
            "name": "EndTime",
            "schema": {
             "type": "string"
            }
           },
           {
            "examples": {
             "csv": {
              "value": "csv"
             },
             "xml": {
              "value": "xml"
             }
            },
            "in": "query",
            "name": "ServiceType",
            "schema": {
             "type": "string"
            }
           }
          ],
          "responses": {
           "200": {
            "description": "Changes In Actual Availability of Production Units"
           }
          },
          "servers": [
           {
            "url": "https://api.bmreports.com"
           }
          ],
          "tags": [
           "Generation"
          ],
          "x-title": "B1540"
         },
         "servers": [
          {
           "url": "https://api.bmreports.com"
          }
         ]
        },
        "/BMRS/B1610/v2": {
         "get": {
          "description": "Actual Generation Output per Generation Unit",
          "parameters": [
           {
            "example": "AP8DA23",
            "in": "query",
            "name": "APIKey",
            "schema": {
             "type": "string"
            }
           },
           {
            "example": "2021-01-01",
            "in": "query",
            "name": "SettlementDate",
            "schema": {
             "type": "string"
            }
           },
           {
            "example": "1",
            "in": "query",
            "name": "Period",
            "schema": {
             "type": "string"
            }
           },
           {
            "example": "*",
            "in": "query",
            "name": "NGCBMUnitID",
            "schema": {
             "type": "string"
            }
           },
           {
            "examples": {
             "csv": {
              "value": "csv"
             },
             "xml": {
              "value": "xml"
             }
            },
            "in": "query",
            "name": "ServiceType",
            "schema": {
             "type": "string"
            }
           }
          ],
          "responses": {
           "200": {
            "description": "Actual Generation Output per Generation Unit"
           }
          },
          "servers": [
           {
            "url": "https://api.bmreports.com"
           }
          ],
          "tags": [
           "Generation"
          ],
          "x-title": "B1610"
         },
         "servers": [
          {
           "url": "https://api.bmreports.com"
          }
         ]
        },
        "/BMRS/B1620/v1": {
         "get": {
          "description": "Actual Aggregated Generation per Type",
          "parameters": [
           {
            "example": "AP8DA23",
            "in": "query",
            "name": "APIKey",
            "schema": {
             "type": "string"
            }
           },
           {
            "example": "2021-01-01",
            "in": "query",
            "name": "SettlementDate",
            "schema": {
             "type": "string"
            }
           },
           {
            "example": "1",
            "in": "query",
            "name": "Period",
            "schema": {
             "type": "string"
            }
           },
           {
            "examples": {
             "csv": {
              "value": "csv"
             },
             "xml": {
              "value": "xml"
             }
            },
            "in": "query",
            "name": "ServiceType",
            "schema": {
             "type": "string"
            }
           }
          ],
          "responses": {
           "200": {
            "description": "Actual Aggregated Generation per Type"
           }
          },
          "servers": [
           {
            "url": "https://api.bmreports.com"
           }
          ],
          "tags": [
           "Generation"
          ],
          "x-title": "B1620"
         },
         "servers": [
          {
           "url": "https://api.bmreports.com"
          }
         ]
        },
        "/BMRS/B1630/v1": {
         "get": {
          "description": "Actual Or Estimated Wind and Solar Power Generation",
          "parameters": [
           {
            "example": "AP8DA23",
            "in": "query",
            "name": "APIKey",
            "schema": {
             "type": "string"
            }
           },
           {
            "example": "2021-01-01",
            "in": "query",
            "name": "SettlementDate",
            "schema": {
             "type": "string"
            }
           },
           {
            "example": "1",
            "in": "query",
            "name": "Period",
            "schema": {
             "type": "string"
            }
           },
           {
            "examples": {
             "csv": {
              "value": "csv"
             },
             "xml": {
              "value": "xml"
             }
            },
            "in": "query",
            "name": "ServiceType",
            "schema": {
             "type": "string"
            }
           }
          ],
          "responses": {
           "200": {
            "description": "Actual Or Estimated Wind and Solar Power Generation"
           }
          },
          "servers": [
           {
            "url": "https://api.bmreports.com"
           }
          ],
          "tags": [
           "Generation"
          ],
          "x-title": "B1630"
         },
         "servers": [
          {
           "url": "https://api.bmreports.com"
          }
         ]
        },
        "/BMRS/B1720/v1": {
         "get": {
          "description": "Amount Of Balancing Reserves Under Contract Service",
          "parameters": [
           {
            "example": "AP8DA23",
            "in": "query",
            "name": "APIKey",
            "schema": {
             "type": "string"
            }
           },
           {
            "example": "2021-01-01",
            "in": "query",
            "name": "SettlementDate",
            "schema": {
             "type": "string"
            }
           },
           {
            "example": "1",
            "in": "query",
            "name": "Period",
            "schema": {
             "type": "string"
            }
           },
           {
            "examples": {
             "csv": {
              "value": "csv"
             },
             "xml": {
              "value": "xml"
             }
            },
            "in": "query",
            "name": "ServiceType",
            "schema": {
             "type": "string"
            }
           }
          ],
          "responses": {
           "200": {
            "description": "Amount Of Balancing Reserves Under Contract Service"
           }
          },
          "servers": [
           {
            "url": "https://api.bmreports.com"
           }
          ],
          "tags": [
           "Balancing"
          ],
          "x-title": "B1720"
         },
         "servers": [
          {
           "url": "https://api.bmreports.com"
          }
         ]
        },
        "/BMRS/B1730/v1": {
         "get": {
          "description": "Prices Of Procured Balancing Reserves Service",
          "parameters": [
           {
            "example": "AP8DA23",
            "in": "query",
            "name": "APIKey",
            "schema": {
             "type": "string"
            }
           },
           {
            "example": "2021-01-01",
            "in": "query",
            "name": "SettlementDate",
            "schema": {
             "type": "string"
            }
           },
           {
            "example": "1",
            "in": "query",
            "name": "Period",
            "schema": {
             "type": "string"
            }
           },
           {
            "examples": {
             "csv": {
              "value": "csv"
             },
             "xml": {
              "value": "xml"
             }
            },
            "in": "query",
            "name": "ServiceType",
            "schema": {
             "type": "string"
            }
           }
          ],
          "responses": {
           "200": {
            "description": "Prices Of Procured Balancing Reserves Service"
           }
          },
          "servers": [
           {
            "url": "https://api.bmreports.com"
           }
          ],
          "tags": [
           "Balancing"
          ],
          "x-title": "B1730"
         },
         "servers": [
          {
           "url": "https://api.bmreports.com"
          }
         ]
        },
        "/BMRS/B1740/v1": {
         "get": {
          "description": "Accepted Aggregated Offers",
          "parameters": [
           {
            "example": "AP8DA23",
            "in": "query",
            "name": "APIKey",
            "schema": {
             "type": "string"
            }
           },
           {
            "example": "2021-01-01",
            "in": "query",
            "name": "SettlementDate",
            "schema": {
             "type": "string"
            }
           },
           {
            "example": "1",
            "in": "query",
            "name": "Period",
            "schema": {
             "type": "string"
            }
           },
           {
            "examples": {
             "csv": {
              "value": "csv"
             },
             "xml": {
              "value": "xml"
             }
            },
            "in": "query",
            "name": "ServiceType",
            "schema": {
             "type": "string"
            }
           }
          ],
          "responses": {
           "200": {
            "description": "Accepted Aggregated Offers"
           }
          },
          "servers": [
           {
            "url": "https://api.bmreports.com"
           }
          ],
          "tags": [
           "Balancing"
          ],
          "x-title": "B1740"
         },
         "servers": [
          {
           "url": "https://api.bmreports.com"
          }
         ]
        },
        "/BMRS/B1750/v1": {
         "get": {
          "description": "Activated Balancing Energy",
          "parameters": [
           {
            "example": "AP8DA23",
            "in": "query",
            "name": "APIKey",
            "schema": {
             "type": "string"
            }
           },
           {
            "example": "2021-01-01",
            "in": "query",
            "name": "SettlementDate",
            "schema": {
             "type": "string"
            }
           },
           {
            "example": "1",
            "in": "query",
            "name": "Period",
            "schema": {
             "type": "string"
            }
           },
           {
            "examples": {
             "csv": {
              "value": "csv"
             },
             "xml": {
              "value": "xml"
             }
            },
            "in": "query",
            "name": "ServiceType",
            "schema": {
             "type": "string"
            }
           }
          ],
          "responses": {
           "200": {
            "description": "Activated Balancing Energy"
           }
          },
          "servers": [
           {
            "url": "https://api.bmreports.com"
           }
          ],
          "tags": [
           "Balancing"
          ],
          "x-title": "B1750"
         },
         "servers": [
          {
           "url": "https://api.bmreports.com"
          }
         ]
        },
        "/BMRS/B1760/v1": {
         "get": {
          "description": "Prices Of Activated Balancing Energy",
          "parameters": [
           {
            "example": "AP8DA23",
            "in": "query",
            "name": "APIKey",
            "schema": {
             "type": "string"
            }
           },
           {
            "example": "2021-01-01",
            "in": "query",
            "name": "SettlementDate",
            "schema": {
             "type": "string"
            }
           },
           {
            "example": "1",
            "in": "query",
            "name": "Period",
            "schema": {
             "type": "string"
            }
           },
           {
            "examples": {
             "csv": {
              "value": "csv"
             },
             "xml": {
              "value": "xml"
             }
            },
            "in": "query",
            "name": "ServiceType",
            "schema": {
             "type": "string"
            }
           }
          ],
          "responses": {
           "200": {
            "description": "Prices Of Activated Balancing Energy"
           }
          },
          "servers": [
           {
            "url": "https://api.bmreports.com"
           }
          ],
          "tags": [
           "Balancing"
          ],
          "x-title": "B1760"
         },
         "servers": [
          {
           "url": "https://api.bmreports.com"
          }
         ]
        },
        "/BMRS/B1770/v1": {
         "get": {
          "description": "Imbalance Prices",
          "parameters": [
           {
            "example": "AP8DA23",
            "in": "query",
            "name": "APIKey",
            "schema": {
             "type": "string"
            }
           },
           {
            "example": "2021-01-01",
            "in": "query",
            "name": "SettlementDate",
            "schema": {
             "type": "string"
            }
           },
           {
            "example": "1",
            "in": "query",
            "name": "Period",
            "schema": {
             "type": "string"
            }
           },
           {
            "examples": {
             "csv": {
              "value": "csv"
             },
             "xml": {
              "value": "xml"
             }
            },
            "in": "query",
            "name": "ServiceType",
            "schema": {
             "type": "string"
            }
           }
          ],
          "responses": {
           "200": {
            "description": "Imbalance Prices"
           }
          },
          "servers": [
           {
            "url": "https://api.bmreports.com"
           }
          ],
          "tags": [
           "Balancing"
          ],
          "x-title": "B1770"
         },
         "servers": [
          {
           "url": "https://api.bmreports.com"
          }
         ]
        },
        "/BMRS/B1780/v1": {
         "get": {
          "description": "Aggregated Imbalance Volumes",
          "parameters": [
           {
            "example": "AP8DA23",
            "in": "query",
            "name": "APIKey",
            "schema": {
             "type": "string"
            }
           },
           {
            "example": "2021-01-01",
            "in": "query",
            "name": "SettlementDate",
            "schema": {
             "type": "string"
            }
           },
           {
            "example": "1",
            "in": "query",
            "name": "Period",
            "schema": {
             "type": "string"
            }
           },
           {
            "examples": {
             "csv": {
              "value": "csv"
             },
             "xml": {
              "value": "xml"
             }
            },
            "in": "query",
            "name": "ServiceType",
            "schema": {
             "type": "string"
            }
           }
          ],
          "responses": {
           "200": {
            "description": "Aggregated Imbalance Volumes"
           }
          },
          "servers": [
           {
            "url": "https://api.bmreports.com"
           }
          ],
          "tags": [
           "Balancing"
          ],
          "x-title": "B1780"
         },
         "servers": [
          {
           "url": "https://api.bmreports.com"
          }
         ]
        },
        "/BMRS/B1790/v1": {
         "get": {
          "description": "Financial Expenses and Income For Balancing",
          "parameters": [
           {
            "example": "AP8DA23",
            "in": "query",
            "name": "APIKey",
            "schema": {
             "type": "string"
            }
           },
           {
            "example": "2021",
            "in": "query",
            "name": "Year",
            "schema": {
             "type": "string"
            }
           },
           {
            "example": "MAR",
            "in": "query",
            "name": "Month",
            "schema": {
             "type": "string"
            }
           },
           {
            "examples": {
             "csv": {
              "value": "csv"
             },
             "xml": {
              "value": "xml"
             }
            },
            "in": "query",
            "name": "ServiceType",
            "schema": {
             "type": "string"
            }
           }
          ],
          "responses": {
           "200": {
            "description": "Financial Expenses and Income For Balancing"
           }
          },
          "servers": [
           {
            "url": "https://api.bmreports.com"
           }
          ],
          "tags": [
           "Balancing"
          ],
          "x-title": "B1790"
         },
         "servers": [
          {
           "url": "https://api.bmreports.com"
          }
         ]
        },
        "/BMRS/B1810/v1": {
         "get": {
          "description": "Cross-Border Balancing Volumes of Exchanged Bids and Offers",
          "parameters": [
           {
            "example": "AP8DA23",
            "in": "query",
            "name": "APIKey",
            "schema": {
             "type": "string"
            }
           },
           {
            "example": "2021-01-01",
            "in": "query",
            "name": "SettlementDate",
            "schema": {
             "type": "string"
            }
           },
           {
            "example": "1",
            "in": "query",
            "name": "Period",
            "schema": {
             "type": "string"
            }
           },
           {
            "examples": {
             "csv": {
              "value": "csv"
             },
             "xml": {
              "value": "xml"
             }
            },
            "in": "query",
            "name": "ServiceType",
            "schema": {
             "type": "string"
            }
           }
          ],
          "responses": {
           "200": {
            "description": "Cross-Border Balancing Volumes of Exchanged Bids and Offers"
           }
          },
          "servers": [
           {
            "url": "https://api.bmreports.com"
           }
          ],
          "tags": [
           "Balancing"
          ],
          "x-title": "B1810"
         },
         "servers": [
          {
           "url": "https://api.bmreports.com"
          }
         ]
        },
        "/BMRS/B1820/v1": {
         "get": {
          "description": "Cross-Border Balancing Prices",
          "parameters": [
           {
            "example": "AP8DA23",
            "in": "query",
            "name": "APIKey",
            "schema": {
             "type": "string"
            }
           },
           {
            "example": "2021-01-01",
            "in": "query",
            "name": "SettlementDate",
            "schema": {
             "type": "string"
            }
           },
           {
            "example": "1",
            "in": "query",
            "name": "Period",
            "schema": {
             "type": "string"
            }
           },
           {
            "examples": {
             "csv": {
              "value": "csv"
             },
             "xml": {
              "value": "xml"
             }
            },
            "in": "query",
            "name": "ServiceType",
            "schema": {
             "type": "string"
            }
           }
          ],
          "responses": {
           "200": {
            "description": "Cross-Border Balancing Prices"
           }
          },
          "servers": [
           {
            "url": "https://api.bmreports.com"
           }
          ],
          "tags": [
           "Balancing"
          ],
          "x-title": "B1820"
         },
         "servers": [
          {
           "url": "https://api.bmreports.com"
          }
         ]
        },
        "/BMRS/B1830/v1": {
         "get": {
          "description": "Cross-border Balancing Energy Activated",
          "parameters": [
           {
            "example": "AP8DA23",
            "in": "query",
            "name": "APIKey",
            "schema": {
             "type": "string"
            }
           },
           {
            "example": "2021-01-01",
            "in": "query",
            "name": "SettlementDate",
            "schema": {
             "type": "string"
            }
           },
           {
            "example": "1",
            "in": "query",
            "name": "Period",
            "schema": {
             "type": "string"
            }
           },
           {
            "examples": {
             "csv": {
              "value": "csv"
             },
             "xml": {
              "value": "xml"
             }
            },
            "in": "query",
            "name": "ServiceType",
            "schema": {
             "type": "string"
            }
           }
          ],
          "responses": {
           "200": {
            "description": "Cross-border Balancing Energy Activated"
           }
          },
          "servers": [
           {
            "url": "https://api.bmreports.com"
           }
          ],
          "tags": [
           "Balancing"
          ],
          "x-title": "B1830"
         },
         "servers": [
          {
           "url": "https://api.bmreports.com"
          }
         ]
        },
        "/BMRS/BOD/v1": {
         "get": {
          "description": "Bid Offer Level Data",
          "parameters": [
           {
            "example": "AP8DA23",
            "in": "query",
            "name": "APIKey",
            "schema": {
             "type": "string"
            }
           },
           {
            "example": "2021-01-01",
            "in": "query",
            "name": "SettlementDate",
            "schema": {
             "type": "string"
            }
           },
           {
            "example": "12",
            "in": "query",
            "name": "SettlementPeriod",
            "schema": {
             "type": "string"
            }
           },
           {
            "example": "2__AEENG000, G, E.ON Energy, Solutions Limited, EAS-EST01",
            "in": "query",
            "name": "BMUnitId",
            "schema": {
             "type": "string"
            }
           },
           {
            "example": "G, S, E, I, T, etc",
            "in": "query",
            "name": "BMUnitType",
            "schema": {
             "type": "string"
            }
           },
           {
            "example": "AES New Energy Limited",
            "in": "query",
            "name": "LeadPartyName",
            "schema": {
             "type": "string"
            }
           },
           {
            "example": "EAS-ASP01, AES New Energy Limited, G, 2__AAEPD000",
            "in": "query",
            "name": "NGCBMUnit",
            "schema": {
             "type": "string"
            }
           },
           {
            "example": "2__AAEPD000",
            "in": "query",
            "name": "Name",
            "schema": {
             "type": "string"
            }
           },
           {
            "examples": {
             "csv": {
              "value": "csv"
             },
             "xml": {
              "value": "xml"
             }
            },
            "in": "query",
            "name": "ServiceType",
            "schema": {
             "type": "string"
            }
           }
          ],
          "responses": {
           "200": {
            "description": "Bid Offer Level Data"
           }
          },
          "servers": [
           {
            "url": "https://api.bmreports.com"
           }
          ],
          "tags": [
           "Balancing"
          ],
          "x-title": "BOD"
         },
         "servers": [
          {
           "url": "https://api.bmreports.com"
          }
         ]
        },
        "/BMRS/CDN/v1": {
         "get": {
          "description": "Credit Default Notice Data",
          "parameters": [
           {
            "example": "AP8DA23",
            "in": "query",
            "name": "APIKey",
            "schema": {
             "type": "string"
            }
           },
           {
            "example": "2021-01-01",
            "in": "query",
            "name": "FromClearedDate",
            "schema": {
             "type": "string"
            }
           },
           {
            "example": "2021-02-01",
            "in": "query",
            "name": "ToClearedDate",
            "schema": {
             "type": "string"
            }
           },
           {
            "examples": {
             "csv": {
              "value": "csv"
             },
             "xml": {
              "value": "xml"
             }
            },
            "in": "query",
            "name": "ServiceType",
            "schema": {
             "type": "string"
            }
           }
          ],
          "responses": {
           "200": {
            "description": "Credit Default Notice Data"
           }
          },
          "servers": [
           {
            "url": "https://api.bmreports.com"
           }
          ],
          "tags": [
           "Balancing"
          ],
          "x-title": "CDN"
         },
         "servers": [
          {
           "url": "https://api.bmreports.com"
          }
         ]
        },
        "/BMRS/DETSYSPRICES/v1": {
         "get": {
          "description": "Detailed System Prices",
          "parameters": [
           {
            "example": "AP8DA23",
            "in": "query",
            "name": "APIKey",
            "schema": {
             "type": "string"
            }
           },
           {
            "example": "2014-02-01",
            "in": "query",
            "name": "SettlementDate",
            "schema": {
             "type": "string"
            }
           },
           {
            "example": "2",
            "in": "query",
            "name": "SettlementPeriod",
            "schema": {
             "type": "string"
            }
           },
           {
            "examples": {
             "csv": {
              "value": "csv"
             },
             "xml": {
              "value": "xml"
             }
            },
            "in": "query",
            "name": "ServiceType",
            "schema": {
             "type": "string"
            }
           }
          ],
          "responses": {
           "200": {
            "description": "Detailed System Prices"
           }
          },
          "servers": [
           {
            "url": "https://api.bmreports.com"
           }
          ],
          "tags": [
           "Balancing"
          ],
          "x-title": "DETSYSPRICES"
         },
         "servers": [
          {
           "url": "https://api.bmreports.com"
          }
         ]
        },
        "/BMRS/DEVINDOD/v1": {
         "get": {
          "description": "Daily Energy Volume Data",
          "parameters": [
           {
            "example": "AP8DA23",
            "in": "query",
            "name": "APIKey",
            "schema": {
             "type": "string"
            }
           },
           {
            "example": "2021-01-01",
            "in": "query",
            "name": "FromDate",
            "schema": {
             "type": "string"
            }
           },
           {
            "example": "2021-02-01",
            "in": "query",
            "name": "ToDate",
            "schema": {
             "type": "string"
            }
           },
           {
            "examples": {
             "csv": {
              "value": "csv"
             },
             "xml": {
              "value": "xml"
             }
            },
            "in": "query",
            "name": "ServiceType",
            "schema": {
             "type": "string"
            }
           }
          ],
          "responses": {
           "200": {
            "description": "Daily Energy Volume Data"
           }
          },
          "servers": [
           {
            "url": "https://api.bmreports.com"
           }
          ],
          "tags": [
           "Balancing"
          ],
          "x-title": "DEVINDOD"
         },
         "servers": [
          {
           "url": "https://api.bmreports.com"
          }
         ]
        },
        "/BMRS/DISBSAD/v1": {
         "get": {
          "description": "Balancing Services Adjustment Action Data",
          "parameters": [
           {
            "example": "AP8DA23",
            "in": "query",
            "name": "APIKey",
            "schema": {
             "type": "string"
            }
           },
           {
            "example": "2021-01-01",
            "in": "query",
            "name": "SettlementDate",
            "schema": {
             "type": "string"
            }
           },
           {
            "example": "1",
            "in": "query",
            "name": "SettlementPeriod",
            "schema": {
             "type": "string"
            }
           },
           {
            "examples": {
             "csv": {
              "value": "csv"
             },
             "xml": {
              "value": "xml"
             }
            },
            "in": "query",
            "name": "ServiceType",
            "schema": {
             "type": "string"
            }
           }
          ],
          "responses": {
           "200": {
            "description": "Balancing Services Adjustment Action Data"
           }
          },
          "servers": [
           {
            "url": "https://api.bmreports.com"
           }
          ],
          "tags": [
           "Balancing"
          ],
          "x-title": "DISBSAD"
         },
         "servers": [
          {
           "url": "https://api.bmreports.com"
          }
         ]
        },
        "/BMRS/FORDAYDEM/v1": {
         "get": {
          "description": "Forecast Day and Day Ahead Demand Data",
          "parameters": [
           {
            "example": "AP8DA23",
            "in": "query",
            "name": "APIKey",
            "schema": {
             "type": "string"
            }
           },
           {
            "example": "N",
            "in": "query",
            "name": "ZoneIdentifier",
            "schema": {
             "type": "string"
            }
           },
           {
            "example": "2021-01-01",
            "in": "query",
            "name": "FromDate",
            "schema": {
             "type": "string"
            }
           },
           {
            "example": "2021-02-01",
            "in": "query",
            "name": "ToDate",
            "schema": {
             "type": "string"
            }
           },
           {
            "examples": {
             "csv": {
              "value": "csv"
             },
             "xml": {
              "value": "xml"
             }
            },
            "in": "query",
            "name": "ServiceType",
            "schema": {
             "type": "string"
            }
           }
          ],
          "responses": {
           "200": {
            "description": "Forecast Day and Day Ahead Demand Data"
           }
          },
          "servers": [
           {
            "url": "https://api.bmreports.com"
           }
          ],
          "tags": [
           "Demand"
          ],
          "x-title": "FORDAYDEM"
         },
         "servers": [
          {
           "url": "https://api.bmreports.com"
          }
         ]
        },
        "/BMRS/FREQ/v1": {
         "get": {
          "description": "Rolling System Frequency",
          "parameters": [
           {
            "example": "AP8DA23",
            "in": "query",
            "name": "APIKey",
            "schema": {
             "type": "string"
            }
           },
           {
            "example": "2021-01-01 00:01:00",
            "in": "query",
            "name": "FromDateTime",
            "schema": {
             "type": "string"
            }
           },
           {
            "example": "2021-01-02 23:59:00",
            "in": "query",
            "name": "ToDateTime",
            "schema": {
             "type": "string"
            }
           },
           {
            "examples": {
             "csv": {
              "value": "csv"
             },
             "xml": {
              "value": "xml"
             }
            },
            "in": "query",
            "name": "ServiceType",
            "schema": {
             "type": "string"
            }
           }
          ],
          "responses": {
           "200": {
            "description": "Rolling System Frequency"
           }
          },
          "servers": [
           {
            "url": "https://api.bmreports.com"
           }
          ],
          "tags": [
           "Demand"
          ],
          "x-title": "FREQ"
         },
         "servers": [
          {
           "url": "https://api.bmreports.com"
          }
         ]
        },
        "/BMRS/FUELHH/v1": {
         "get": {
          "description": "Half Hourly Outturn Generation by Fuel Type",
          "parameters": [
           {
            "example": "AP8DA23",
            "in": "query",
            "name": "APIKey",
            "schema": {
             "type": "string"
            }
           },
           {
            "example": "44197",
            "in": "query",
            "name": "FromDate",
            "schema": {
             "type": "string"
            }
           },
           {
            "example": "44228",
            "in": "query",
            "name": "ToDate",
            "schema": {
             "type": "string"
            }
           },
           {
            "examples": {
             "csv": {
              "value": "csv"
             },
             "xml": {
              "value": "xml"
             }
            },
            "in": "query",
            "name": "ServiceType",
            "schema": {
             "type": "string"
            }
           }
          ],
          "responses": {
           "200": {
            "description": "Half Hourly Outturn Generation by Fuel Type"
           }
          },
          "servers": [
           {
            "url": "https://api.bmreports.com"
           }
          ],
          "tags": [
           "Generation"
          ],
          "x-title": "FUELHH"
         },
         "servers": [
          {
           "url": "https://api.bmreports.com"
          }
         ]
        },
        "/BMRS/MELIMBALNGC/v1": {
         "get": {
          "description": "Forecast Day and Day Ahead Margin and Imbalance Data",
          "parameters": [
           {
            "example": "AP8DA23",
            "in": "query",
            "name": "APIKey",
            "schema": {
             "type": "string"
            }
           },
           {
            "example": "N",
            "in": "query",
            "name": "ZoneIdentifier",
            "schema": {
             "type": "string"
            }
           },
           {
            "example": "2021-01-01",
            "in": "query",
            "name": "FromDate",
            "schema": {
             "type": "string"
            }
           },
           {
            "example": "2021-02-01",
            "in": "query",
            "name": "ToDate",
            "schema": {
             "type": "string"
            }
           },
           {
            "examples": {
             "csv": {
              "value": "csv"
             },
             "xml": {
              "value": "xml"
             }
            },
            "in": "query",
            "name": "ServiceType",
            "schema": {
             "type": "string"
            }
           }
          ],
          "responses": {
           "200": {
            "description": "Forecast Day and Day Ahead Margin and Imbalance Data"
           }
          },
          "servers": [
           {
            "url": "https://api.bmreports.com"
           }
          ],
          "tags": [
           "Demand"
          ],
          "x-title": "MELIMBALNGC"
         },
         "servers": [
          {
           "url": "https://api.bmreports.com"
          }
         ]
        },
        "/BMRS/MID/v1": {
         "get": {
          "description": "Market Index Data",
          "parameters": [
           {
            "example": "AP8DA23",
            "in": "query",
            "name": "APIKey",
            "schema": {
             "type": "string"
            }
           },
           {
            "example": "2021-01-01",
            "in": "query",
            "name": "FromSettlementDate",
            "schema": {
             "type": "string"
            }
           },
           {
            "example": "2021-02-01",
            "in": "query",
            "name": "ToSettlementDate",
            "schema": {
             "type": "string"
            }
           },
           {
            "example": "*",
            "in": "query",
            "name": "Period",
            "schema": {
             "type": "string"
            }
           },
           {
            "examples": {
             "csv": {
              "value": "csv"
             },
             "xml": {
              "value": "xml"
             }
            },
            "in": "query",
            "name": "ServiceType",
            "schema": {
             "type": "string"
            }
           }
          ],
          "responses": {
           "200": {
            "description": "Market Index Data"
           }
          },
          "servers": [
           {
            "url": "https://api.bmreports.com"
           }
          ],
          "tags": [
           "Balancing"
          ],
          "x-title": "MID"
         },
         "servers": [
          {
           "url": "https://api.bmreports.com"
          }
         ]
        },
        "/BMRS/MessageDetailRetrieval/v1": {
         "get": {
          "description": "REMIT Flow - Message List Retrieval",
          "parameters": [
           {
            "example": "AP8DA23",
            "in": "query",
            "name": "APIKey",
            "schema": {
             "type": "string"
            }
           },
           {
            "example": "",
            "in": "query",
            "name": "MessageId",
            "schema": {
             "type": "string"
            }
           },
           {
            "example": "",
            "in": "query",
            "name": "ParticipantId",
            "schema": {
             "type": "string"
            }
           },
           {
            "example": "",
            "in": "query",
            "name": "SequenceId",
            "schema": {
             "type": "integer"
            }
           },
           {
            "example": "N",
            "in": "query",
            "name": "ActiveFlag",
            "schema": {
             "type": "string"
            }
           },
           {
            "example": "csv/xml.",
            "in": "query",
            "name": "ServiceType",
            "schema": {
             "type": "string"
            }
           }
          ],
          "responses": {
           "200": {
            "description": "REMIT Flow - Message List Retrieval"
           }
          },
          "servers": [
           {
            "url": "https://api.bmreports.com"
           }
          ],
          "tags": [
           "REMIT"
          ],
          "x-title": "MessageDetailRetrieval"
         },
         "servers": [
          {
           "url": "https://api.bmreports.com"
          }
         ]
        },
        "/BMRS/MessageListRetrieval/v1": {
         "get": {
          "description": "REMIT Flow - Message List Retrieval",
          "parameters": [
           {
            "example": "AP8DA23",
            "in": "query",
            "name": "APIKey",
            "schema": {
             "type": "string"
            }
           },
           {
            "example": "2021-01-01",
            "in": "query",
            "name": "EventStart",
            "schema": {
             "type": "string"
            }
           },
           {
            "example": "2021-02-01",
            "in": "query",
            "name": "EventEnd",
            "schema": {
             "type": "string"
            }
           },
           {
            "example": "2021-01-01",
            "in": "query",
            "name": "PublicationFrom",
            "schema": {
             "type": "string"
            }
           },
           {
            "example": "2021-02-01",
            "in": "query",
            "name": "PublicationTo",
            "schema": {
             "type": "string"
            }
           },
           {
            "example": "",
            "in": "query",
            "name": "ParticipantId",
            "schema": {
             "type": "string"
            }
           },
           {
            "example": "",
            "in": "query",
            "name": "MessageID",
            "schema": {
             "type": "string"
            }
           },
           {
            "example": "",
            "in": "query",
            "name": "AssetID",
            "schema": {
             "type": "string"
            }
           },
           {
            "example": "",
            "in": "query",
            "name": "EventType",
            "schema": {
             "type": "string"
            }
           },
           {
            "example": "",
            "in": "query",
            "name": "FuelType",
            "schema": {
             "type": "string"
            }
           },
           {
            "example": "",
            "in": "query",
            "name": "MessageType",
            "schema": {
             "type": "string"
            }
           },
           {
            "example": "",
            "in": "query",
            "name": "UnavailabilityType",
            "schema": {
             "type": "string"
            }
           },
           {
            "examples": {
             "csv": {
              "value": "csv"
             },
             "xml": {
              "value": "xml"
             }
            },
            "in": "query",
            "name": "ServiceType",
            "schema": {
             "type": "string"
            }
           }
          ],
          "responses": {
           "200": {
            "description": "REMIT Flow - Message List Retrieval"
           }
          },
          "servers": [
           {
            "url": "https://api.bmreports.com"
           }
          ],
          "tags": [
           "REMIT"
          ],
          "x-title": "MessageListRetrieval"
         },
         "servers": [
          {
           "url": "https://api.bmreports.com"
          }
         ]
        },
        "/BMRS/NETBSAD/v1": {
         "get": {
          "description": "Balancing Service Adjustment Data",
          "parameters": [
           {
            "example": "AP8DA23",
            "in": "query",
            "name": "APIKey",
            "schema": {
             "type": "string"
            }
           },
           {
            "example": "2021-01-01",
            "in": "query",
            "name": "SettlementDate",
            "schema": {
             "type": "string"
            }
           },
           {
            "example": "1",
            "in": "query",
            "name": "SettlementPeriod",
            "schema": {
             "type": "string"
            }
           },
           {
            "example": "FALSE",
            "in": "query",
            "name": "isTwoDayWindow",
            "schema": {
             "type": "string"
            }
           },
           {
            "examples": {
             "csv": {
              "value": "csv"
             },
             "xml": {
              "value": "xml"
             }
            },
            "in": "query",
            "name": "ServiceType",
            "schema": {
             "type": "string"
            }
           }
          ],
          "responses": {
           "200": {
            "description": "Balancing Service Adjustment Data"
           }
          },
          "servers": [
           {
            "url": "https://api.bmreports.com"
           }
          ],
          "tags": [
           "Balancing"
          ],
          "x-title": "NETBSAD"
         },
         "servers": [
          {
           "url": "https://api.bmreports.com"
          }
         ]
        },
        "/BMRS/NONBM/v1": {
         "get": {
          "description": "Non BM STOR Instructed Volume Data",
          "parameters": [
           {
            "example": "2021-01-01",
            "in": "query",
            "name": "FromDate",
            "schema": {
             "type": "string"
            }
           },
           {
            "example": "2021-02-01",
            "in": "query",
            "name": "ToDate",
            "schema": {
             "type": "string"
            }
           },
           {
            "example": "AP8DA23",
            "in": "query",
            "name": "APIKey",
            "schema": {
             "type": "string"
            }
           },
           {
            "examples": {
             "csv": {
              "value": "csv"
             },
             "xml": {
              "value": "xml"
             }
            },
            "in": "query",
            "name": "ServiceType",
            "schema": {
             "type": "string"
            }
           }
          ],
          "responses": {
           "200": {
            "description": "Non BM STOR Instructed Volume Data"
           }
          },
          "servers": [
           {
            "url": "https://api.bmreports.com"
           }
          ],
          "tags": [
           "Balancing"
          ],
          "x-title": "NONBM"
         },
         "servers": [
          {
           "url": "https://api.bmreports.com"
          }
         ]
        },
        "/BMRS/PHYBMDATA/v1": {
         "get": {
          "description": "Physical Data",
          "parameters": [
           {
            "example": "AP8DA23",
            "in": "query",
            "name": "APIKey",
            "schema": {
             "type": "string"
            }
           },
           {
            "example": "2021-01-01",
            "in": "query",
            "name": "SettlementDate",
            "schema": {
             "type": "string"
            }
           },
           {
            "example": "12",
            "in": "query",
            "name": "SettlementPeriod",
            "schema": {
             "type": "string"
            }
           },
           {
            "example": "",
            "in": "query",
            "name": "BMUnitId",
            "schema": {
             "type": "string"
            }
           },
           {
            "example": "",
            "in": "query",
            "name": "BMUnitType",
            "schema": {
             "type": "string"
            }
           },
           {
            "example": "",
            "in": "query",
            "name": "LeadPartyName",
            "schema": {
             "type": "string"
            }
           },
           {
            "example": "",
            "in": "query",
            "name": "NGCBMUnit",
            "schema": {
             "type": "string"
            }
           },
           {
            "example": "",
            "in": "query",
            "name": "Name",
            "schema": {
             "type": "string"
            }
           },
           {
            "examples": {
             "csv": {
              "value": "csv"
             },
             "xml": {
              "value": "xml"
             }
            },
            "in": "query",
            "name": "ServiceType",
            "schema": {
             "type": "string"
            }
           }
          ],
          "responses": {
           "200": {
            "description": "Physical Data"
           }
          },
          "servers": [
           {
            "url": "https://api.bmreports.com"
           }
          ],
          "tags": [
           "Balancing"
          ],
          "x-title": "PHYBMDATA"
         },
         "servers": [
          {
           "url": "https://api.bmreports.com"
          }
         ]
        },
        "/BMRS/SYSDEM/v1": {
         "get": {
          "description": "System Demand",
          "parameters": [
           {
            "example": "AP8DA23",
            "in": "query",
            "name": "APIKey",
            "schema": {
             "type": "string"
            }
           },
           {
            "example": "2021-01-01",
            "in": "query",
            "name": "FromDate",
            "schema": {
             "type": "string"
            }
           },
           {
            "example": "2021-02-01",
            "in": "query",
            "name": "ToDate",
            "schema": {
             "type": "string"
            }
           },
           {
            "examples": {
             "csv": {
              "value": "csv"
             },
             "xml": {
              "value": "xml"
             }
            },
            "in": "query",
            "name": "ServiceType",
            "schema": {
             "type": "string"
            }
           }
          ],
          "responses": {
           "200": {
            "description": "System Demand"
           }
          },
          "servers": [
           {
            "url": "https://api.bmreports.com"
           }
          ],
          "tags": [
           "Demand"
          ],
          "x-title": "SYSDEM"
         },
         "servers": [
          {
           "url": "https://api.bmreports.com"
          }
         ]
        },
        "/BMRS/SYSWARN/v1": {
         "get": {
          "description": "System Warnings",
          "parameters": [
           {
            "example": "AP8DA23",
            "in": "query",
            "name": "APIKey",
            "schema": {
             "type": "string"
            }
           },
           {
            "example": "2021-01-01",
            "in": "query",
            "name": "FromDate",
            "schema": {
             "type": "string"
            }
           },
           {
            "example": "2021-02-01",
            "in": "query",
            "name": "ToDate",
            "schema": {
             "type": "string"
            }
           },
           {
            "examples": {
             "csv": {
              "value": "csv"
             },
             "xml": {
              "value": "xml"
             }
            },
            "in": "query",
            "name": "ServiceType",
            "schema": {
             "type": "string"
            }
           }
          ],
          "responses": {
           "200": {
            "description": "System Warnings"
           }
          },
          "servers": [
           {
            "url": "https://api.bmreports.com"
           }
          ],
          "tags": [
           "Transmission"
          ],
          "x-title": "SYSWARN"
         },
         "servers": [
          {
           "url": "https://api.bmreports.com"
          }
         ]
        },
        "/BMRS/TEMP/v1": {
         "get": {
          "description": "Temperature Data",
          "parameters": [
           {
            "example": "AP8DA23",
            "in": "query",
            "name": "APIKey",
            "schema": {
             "type": "string"
            }
           },
           {
            "example": "2021-01-01",
            "in": "query",
            "name": "FromDate",
            "schema": {
             "type": "string"
            }
           },
           {
            "example": "2021-02-01",
            "in": "query",
            "name": "ToDate",
            "schema": {
             "type": "string"
            }
           },
           {
            "examples": {
             "csv": {
              "value": "csv"
             },
             "xml": {
              "value": "xml"
             }
            },
            "in": "query",
            "name": "ServiceType",
            "schema": {
             "type": "string"
            }
           }
          ],
          "responses": {
           "200": {
            "description": "Temperature Data"
           }
          },
          "servers": [
           {
            "url": "https://api.bmreports.com"
           }
          ],
          "tags": [
           "Generation"
          ],
          "x-title": "TEMP"
         },
         "servers": [
          {
           "url": "https://api.bmreports.com"
          }
         ]
        },
        "/BMRS/WINDFORFUELHH/v1": {
         "get": {
          "description": "Wind Generation Forecast and Out-turn Data",
          "parameters": [
           {
            "example": "AP8DA23",
            "in": "query",
            "name": "APIKey",
            "schema": {
             "type": "string"
            }
           },
           {
            "example": "2021-01-01",
            "in": "query",
            "name": "FromDate",
            "schema": {
             "type": "string"
            }
           },
           {
            "example": "2021-02-01",
            "in": "query",
            "name": "ToDate",
            "schema": {
             "type": "string"
            }
           },
           {
            "examples": {
             "csv": {
              "value": "csv"
             },
             "xml": {
              "value": "xml"
             }
            },
            "in": "query",
            "name": "ServiceType",
            "schema": {
             "type": "string"
            }
           }
          ],
          "responses": {
           "200": {
            "description": "Wind Generation Forecast and Out-turn Data"
           }
          },
          "servers": [
           {
            "url": "https://api.bmreports.com"
           }
          ],
          "tags": [
           "Generation"
          ],
          "x-title": "WINDFORFUELHH"
         },
         "servers": [
          {
           "url": "https://api.bmreports.com"
          }
         ]
        }
       },
       "servers": [
        {
         "url": "https://api.bmreports.com"
        }
       ],
       "tags": [
        {
         "description": "Data relating to the infrastructure on and management of the transmission network",
         "externalDocs": {
          "url": "https://www.bmreports.com/bmrs/?q=transmission/"
         },
         "name": "Transmission"
        },
        {
         "description": "Data relating to forecasts, out-turn, and reductions in demand",
         "externalDocs": {
          "url": "https://www.bmreports.com/bmrs/?q=demand/"
         },
         "name": "Demand"
        },
        {
         "description": "Data relating to forecasts, out-turn, and reductions in generation",
         "externalDocs": {
          "url": "https://www.bmreports.com/bmrs/?q=generation/"
         },
         "name": "Generation"
        },
        {
         "description": "Data relating to the prices, volumes, and units operating in short-term power markets",
         "externalDocs": {
          "url": "hhttps://www.bmreports.com/bmrs/?q=balancing/"
         },
         "name": "Balancing"
        }
       ]
      },
      "text/plain": [
       "<IPython.core.display.JSON object>"
      ]
     },
     "execution_count": 5,
     "metadata": {
      "application/json": {
       "expanded": false,
       "root": "root"
      }
     },
     "output_type": "execute_result"
    }
   ],
   "source": [
    "API_yaml = specgen.load_API_yaml(fp='../data/BMRS_API.yaml')\n",
    "\n",
    "JSON(API_yaml)"
   ]
  },
  {
   "cell_type": "markdown",
   "id": "5474d5bb-b12a-40ac-a283-2fe64e24bfa4",
   "metadata": {},
   "source": [
    "<br>\n",
    "\n",
    "### Raw Method Generation"
   ]
  },
  {
   "cell_type": "code",
   "execution_count": 6,
   "id": "58f3902f-c75d-43fd-8665-7c14ceb08713",
   "metadata": {},
   "outputs": [],
   "source": [
    "#exports\n",
    "dict_head = lambda dict_, n=5: dict(pd.Series(dict_).head(n))\n",
    "\n",
    "def clean_path_name(\n",
    "    path_name: str='/BMRS/B0610/v1',\n",
    "    name_components_to_drop: list=['BMRS', 'v1', 'v2']\n",
    "):\n",
    "    for name_component_to_drop in name_components_to_drop:\n",
    "        path_name = path_name.replace(name_component_to_drop, '')\n",
    "\n",
    "    path_name = path_name.strip('/')\n",
    "    \n",
    "    return path_name"
   ]
  },
  {
   "cell_type": "code",
   "execution_count": 7,
   "id": "b7bf814a-95c2-48cf-a6c5-3a2e9b4de419",
   "metadata": {},
   "outputs": [
    {
     "data": {
      "text/plain": [
       "'B0610'"
      ]
     },
     "execution_count": 7,
     "metadata": {},
     "output_type": "execute_result"
    }
   ],
   "source": [
    "path_name = '/BMRS/B0610/v1'\n",
    "\n",
    "clean_path_name(path_name)"
   ]
  },
  {
   "cell_type": "code",
   "execution_count": null,
   "id": "b85ff32b-2a43-4944-b04d-1168eb8da8e3",
   "metadata": {},
   "outputs": [],
   "source": []
  },
  {
   "cell_type": "code",
   "execution_count": 8,
   "id": "8a74345b-c36f-4cf4-a674-b273f75af0d5",
   "metadata": {},
   "outputs": [],
   "source": [
    "#exports\n",
    "def get_available_methods(\n",
    "    API_yaml: dict, \n",
    "    path: str,\n",
    "    acceptable_methods: list=['get', 'post', 'put', 'head', 'delete', 'patch', 'options']\n",
    "):\n",
    "    path_keys = API_yaml['paths'][path].keys()\n",
    "    available_methods = list(set(path_keys) - (set(path_keys) - set(acceptable_methods)))\n",
    "\n",
    "    return available_methods\n",
    "\n",
    "def extract_parameter_example(parameter):\n",
    "    if 'examples' in parameter.keys():\n",
    "        examples = [value['value'] for value in parameter['examples'].values()]\n",
    "        example = examples[0]\n",
    "    else:\n",
    "        example = parameter['example']\n",
    "        \n",
    "    return example\n",
    "\n",
    "def construct_parameters(method_details):    \n",
    "    parameters = list()\n",
    "    \n",
    "    for parameter in method_details['parameters']:\n",
    "        parameter_info = dict()\n",
    "        parameter_info['name'] = parameter['name']\n",
    "        parameter_info['type'] = parameter['schema']['type']\n",
    "        parameter_info['example'] = extract_parameter_example(parameter)\n",
    "\n",
    "        parameters += [parameter_info]\n",
    "        \n",
    "    return parameters\n",
    "    \n",
    "def construct_path_functions(API_yaml, path):\n",
    "    functions = list()\n",
    "    root_url = API_yaml['servers'][0]['url']\n",
    "    available_methods = get_available_methods(API_yaml, path)\n",
    "    \n",
    "    for method in available_methods:\n",
    "        function = dict()\n",
    "        method_details = API_yaml['paths'][path][method]\n",
    "        \n",
    "        function['name'] = f'{method}_{clean_path_name(path)}'\n",
    "        function['endpoint'] = f'{root_url}{path}'\n",
    "        function['description'] = method_details['description']\n",
    "        function['parameters'] = construct_parameters(method_details)\n",
    "        \n",
    "        functions += [function]\n",
    "        \n",
    "    return functions\n",
    "\n",
    "def construct_all_functions(API_yaml):\n",
    "    functions = list()\n",
    "\n",
    "    for path in API_yaml['paths']:\n",
    "        functions += construct_path_functions(API_yaml, path)\n",
    "        \n",
    "    return functions"
   ]
  },
  {
   "cell_type": "code",
   "execution_count": 9,
   "id": "c02f9d4e-5836-490f-978c-80a8ce54f367",
   "metadata": {},
   "outputs": [
    {
     "data": {
      "text/plain": [
       "{'name': 'get_B0610',\n",
       " 'endpoint': 'https://api.bmreports.com/BMRS/B0610/v1',\n",
       " 'description': 'Actual Total Load per Bidding Zone',\n",
       " 'parameters': [{'name': 'APIKey', 'type': 'string', 'example': 'AP8DA23'},\n",
       "  {'name': 'SettlementDate', 'type': 'string', 'example': '2021-01-01'},\n",
       "  {'name': 'Period', 'type': 'string', 'example': '1'},\n",
       "  {'name': 'ServiceType', 'type': 'string', 'example': 'csv'}]}"
      ]
     },
     "execution_count": 9,
     "metadata": {},
     "output_type": "execute_result"
    }
   ],
   "source": [
    "functions = construct_all_functions(API_yaml)\n",
    "    \n",
    "functions[0]"
   ]
  },
  {
   "cell_type": "code",
   "execution_count": null,
   "id": "10063a99-32f2-41c4-95bd-8fd6f50757df",
   "metadata": {},
   "outputs": [],
   "source": []
  },
  {
   "cell_type": "code",
   "execution_count": 10,
   "id": "4ea74cc6-d103-4ed5-8e6a-3392a8e1c3c2",
   "metadata": {},
   "outputs": [],
   "source": [
    "#exports\n",
    "def save_methods(\n",
    "    functions: list,\n",
    "    in_fp: str='../templates/raw_methods.py',\n",
    "    out_fp: str='../ElexonDataPortal/dev/raw.py'\n",
    "):\n",
    "    rendered_schema = Template(open(in_fp).read()).render(functions=functions)\n",
    "\n",
    "    with open(out_fp, 'w') as f:\n",
    "        try:\n",
    "            f.write(rendered_schema)\n",
    "        except e as exc:\n",
    "            raise exc"
   ]
  },
  {
   "cell_type": "code",
   "execution_count": 11,
   "id": "568144c2-1dd0-4d79-bf91-35c38620d774",
   "metadata": {},
   "outputs": [],
   "source": [
    "save_methods(functions)"
   ]
  },
  {
   "cell_type": "code",
   "execution_count": null,
   "id": "7b5100b1-f305-4484-90e0-6286cc7ede20",
   "metadata": {},
   "outputs": [],
   "source": []
  },
  {
   "cell_type": "code",
   "execution_count": 12,
   "id": "c31ffcae-454a-4061-b660-c1ccffe55557",
   "metadata": {
    "tags": []
   },
   "outputs": [
    {
     "data": {
      "text/html": [
       "<div>\n",
       "<style scoped>\n",
       "    .dataframe tbody tr th:only-of-type {\n",
       "        vertical-align: middle;\n",
       "    }\n",
       "\n",
       "    .dataframe tbody tr th {\n",
       "        vertical-align: top;\n",
       "    }\n",
       "\n",
       "    .dataframe thead th {\n",
       "        text-align: right;\n",
       "    }\n",
       "</style>\n",
       "<table border=\"1\" class=\"dataframe\">\n",
       "  <thead>\n",
       "    <tr style=\"text-align: right;\">\n",
       "      <th></th>\n",
       "      <th>Time Series ID</th>\n",
       "      <th>Registered Resource  EIC Code</th>\n",
       "      <th>BM Unit ID</th>\n",
       "      <th>NGC BM Unit ID</th>\n",
       "      <th>PSR Type</th>\n",
       "      <th>Market Generation Unit EIC Code</th>\n",
       "      <th>Market Generation BMU ID</th>\n",
       "      <th>Market Generation NGC BM Unit ID</th>\n",
       "      <th>Settlement Date</th>\n",
       "      <th>SP</th>\n",
       "      <th>Quantity (MW)</th>\n",
       "    </tr>\n",
       "  </thead>\n",
       "  <tbody>\n",
       "    <tr>\n",
       "      <th>0</th>\n",
       "      <td>ELX-EMFIP-AGOG-TS-319</td>\n",
       "      <td>48W00000LNCSO-1R</td>\n",
       "      <td>T_LNCSW-1</td>\n",
       "      <td>LNCSO-1</td>\n",
       "      <td>Generation</td>\n",
       "      <td>48W00000LNCSO-1R</td>\n",
       "      <td>T_LNCSW-1</td>\n",
       "      <td>LNCSO-1</td>\n",
       "      <td>2020-01-01</td>\n",
       "      <td>1</td>\n",
       "      <td>56.076</td>\n",
       "    </tr>\n",
       "    <tr>\n",
       "      <th>1</th>\n",
       "      <td>ELX-EMFIP-AGOG-TS-320</td>\n",
       "      <td>48W00000LNCSO-2P</td>\n",
       "      <td>T_LNCSW-2</td>\n",
       "      <td>LNCSO-2</td>\n",
       "      <td>Generation</td>\n",
       "      <td>48W00000LNCSO-2P</td>\n",
       "      <td>T_LNCSW-2</td>\n",
       "      <td>LNCSO-2</td>\n",
       "      <td>2020-01-01</td>\n",
       "      <td>1</td>\n",
       "      <td>47.456</td>\n",
       "    </tr>\n",
       "    <tr>\n",
       "      <th>2</th>\n",
       "      <td>ELX-EMFIP-AGOG-TS-175</td>\n",
       "      <td>48W00000CLDRW-16</td>\n",
       "      <td>E_CLDRW-1</td>\n",
       "      <td>CLDRW-1</td>\n",
       "      <td>Generation</td>\n",
       "      <td>48W00000CLDRW-16</td>\n",
       "      <td>E_CLDRW-1</td>\n",
       "      <td>CLDRW-1</td>\n",
       "      <td>2020-01-01</td>\n",
       "      <td>1</td>\n",
       "      <td>3.096</td>\n",
       "    </tr>\n",
       "  </tbody>\n",
       "</table>\n",
       "</div>"
      ],
      "text/plain": [
       "          Time Series ID Registered Resource  EIC Code BM Unit ID  \\\n",
       "0  ELX-EMFIP-AGOG-TS-319              48W00000LNCSO-1R  T_LNCSW-1   \n",
       "1  ELX-EMFIP-AGOG-TS-320              48W00000LNCSO-2P  T_LNCSW-2   \n",
       "2  ELX-EMFIP-AGOG-TS-175              48W00000CLDRW-16  E_CLDRW-1   \n",
       "\n",
       "  NGC BM Unit ID    PSR Type Market Generation Unit EIC Code  \\\n",
       "0        LNCSO-1  Generation                48W00000LNCSO-1R   \n",
       "1        LNCSO-2  Generation                48W00000LNCSO-2P   \n",
       "2        CLDRW-1  Generation                48W00000CLDRW-16   \n",
       "\n",
       "  Market Generation BMU ID Market Generation NGC BM Unit ID Settlement Date  \\\n",
       "0                T_LNCSW-1                          LNCSO-1      2020-01-01   \n",
       "1                T_LNCSW-2                          LNCSO-2      2020-01-01   \n",
       "2                E_CLDRW-1                          CLDRW-1      2020-01-01   \n",
       "\n",
       "   SP  Quantity (MW)  \n",
       "0   1         56.076  \n",
       "1   1         47.456  \n",
       "2   1          3.096  "
      ]
     },
     "execution_count": 12,
     "metadata": {},
     "output_type": "execute_result"
    }
   ],
   "source": [
    "from ElexonDataPortal.dev import raw\n",
    "\n",
    "r = raw.get_B1610(\n",
    "    APIKey=api_key, \n",
    "    SettlementDate='2020-01-01', \n",
    "    Period=1,\n",
    "    NGCBMUnitID='*', \n",
    "    ServiceType='csv'\n",
    ")\n",
    "\n",
    "pd.read_csv(io.StringIO(r.text), skiprows=1).head(3)"
   ]
  },
  {
   "cell_type": "code",
   "execution_count": null,
   "id": "d36509b7-8fe3-4ffa-b154-562e41968c46",
   "metadata": {},
   "outputs": [],
   "source": []
  },
  {
   "cell_type": "code",
   "execution_count": 13,
   "id": "0103b771-1352-47bc-a6c2-662bae9968af",
   "metadata": {},
   "outputs": [
    {
     "name": "stdout",
     "output_type": "stream",
     "text": [
      "Converted 03-raw-methods.ipynb.\n"
     ]
    }
   ],
   "source": [
    "#hide\n",
    "from ElexonDataPortal.dev.nbdev import notebook2script\n",
    "notebook2script('03-raw-methods.ipynb')"
   ]
  }
 ],
 "metadata": {
  "kernelspec": {
   "display_name": "BMRS",
   "language": "python",
   "name": "bmrs"
  },
  "language_info": {
   "codemirror_mode": {
    "name": "ipython",
    "version": 3
   },
   "file_extension": ".py",
   "mimetype": "text/x-python",
   "name": "python",
   "nbconvert_exporter": "python",
   "pygments_lexer": "ipython3",
   "version": "3.9.4"
  }
 },
 "nbformat": 4,
 "nbformat_minor": 5
}
