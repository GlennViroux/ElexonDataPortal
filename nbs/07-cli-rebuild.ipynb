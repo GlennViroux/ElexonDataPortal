{
 "cells": [
  {
   "cell_type": "code",
   "execution_count": 1,
   "id": "c9939e32-3bfc-41e0-9d05-6bd835bf4160",
   "metadata": {},
   "outputs": [],
   "source": [
    "#hide\n",
    "#default_exp rebuild"
   ]
  },
  {
   "cell_type": "markdown",
   "id": "33d5784f-7e60-43c3-9d7e-c9e887d0fe07",
   "metadata": {},
   "source": [
    "# Command Line Interface - Library Rebuilding"
   ]
  },
  {
   "cell_type": "markdown",
   "id": "99ac0439-cff2-4b14-afdc-1af81662b12e",
   "metadata": {},
   "source": [
    "<br>\n",
    "\n",
    "### Imports"
   ]
  },
  {
   "cell_type": "code",
   "execution_count": 2,
   "id": "18eafd81-1968-47b1-9249-0afa68e559fe",
   "metadata": {},
   "outputs": [],
   "source": [
    "#exports\n",
    "import typer\n",
    "import shutil\n",
    "import pandas as pd\n",
    "from fastcore.foundation import Config\n",
    "\n",
    "from ElexonDataPortal.dev import nbdev, specgen, rawgen, clientgen"
   ]
  },
  {
   "cell_type": "code",
   "execution_count": null,
   "id": "4d604847-ee3d-47c6-bf95-8de405466e19",
   "metadata": {},
   "outputs": [],
   "source": []
  },
  {
   "cell_type": "code",
   "execution_count": 3,
   "id": "b2505540-afde-488c-9b8e-db780e2cfdf1",
   "metadata": {},
   "outputs": [],
   "source": [
    "#exports\n",
    "app = typer.Typer()"
   ]
  },
  {
   "cell_type": "code",
   "execution_count": null,
   "id": "f292d08e-bb29-4032-a716-3dce706bb898",
   "metadata": {},
   "outputs": [],
   "source": []
  },
  {
   "cell_type": "code",
   "execution_count": 4,
   "id": "4c36d8c5-3f2c-44b5-a180-f4a4dd88c2de",
   "metadata": {},
   "outputs": [],
   "source": [
    "#exports\n",
    "@app.command()\n",
    "def rebuild_library():\n",
    "    lib_path = str(Config().path('lib_path'))\n",
    "    dir_root = f'{lib_path}/..'\n",
    "    endpoints_fp = f'{dir_root}/data/endpoints.csv'\n",
    "    \n",
    "    shutil.rmtree(lib_path)\n",
    "    nbdev.prepare_nbdev_module()\n",
    "    nbdev.notebook2script()\n",
    "    \n",
    "    df_endpoints = specgen.load_endpoints_df(endpoints_fp)\n",
    "    API_spec = specgen.construct_spec(df_endpoints)\n",
    "    \n",
    "    specgen.save_spec(\n",
    "        API_spec,\n",
    "        in_fp=f'{dir_root}/templates/open_api_spec.yaml',\n",
    "        out_fp=f'{dir_root}/data/BMRS_API.yaml'\n",
    "    )\n",
    "    \n",
    "    rawgen.save_methods(\n",
    "        functions=rawgen.construct_all_functions(specgen.load_API_yaml(fp=f'{dir_root}/data/BMRS_API.yaml')),\n",
    "        in_fp=f'{dir_root}/templates/raw_methods.py',\n",
    "        out_fp=f'{dir_root}/ElexonDataPortal/dev/raw.py'\n",
    "    )\n",
    "    \n",
    "    clientgen.save_api_client(\n",
    "        API_yaml_fp=f'{dir_root}/data/BMRS_API.yaml',\n",
    "        in_fp=f'{dir_root}/templates/api.py',\n",
    "        out_fp=f'{dir_root}/ElexonDataPortal/api.py'\n",
    "    )\n",
    "    \n",
    "    nbdev.add_extra_code_desc_to_mod()\n",
    "    \n",
    "    return"
   ]
  },
  {
   "cell_type": "code",
   "execution_count": 5,
   "id": "d2f242f6-0393-45e2-a24d-b1f0d71948d5",
   "metadata": {},
   "outputs": [
    {
     "name": "stdout",
     "output_type": "stream",
     "text": [
      "Converted 00-documentation.ipynb.\n",
      "Converted 01-utils.ipynb.\n",
      "Converted 02-spec-gen.ipynb.\n",
      "Converted 03-raw-methods.ipynb.\n",
      "Converted 04-client-prep.ipynb.\n",
      "Converted 05-orchestrator.ipynb.\n",
      "Converted 06-client-gen.ipynb.\n",
      "Converted 07-cli-rebuild.ipynb.\n",
      "Converted 08-quick-start.ipynb.\n",
      "Converted 09-map-gen.ipynb.\n",
      "Converted 10-nbdev.ipynb.\n",
      "Converted Example Usage.ipynb.\n"
     ]
    }
   ],
   "source": [
    "rebuild_library()"
   ]
  },
  {
   "cell_type": "code",
   "execution_count": null,
   "id": "0f410128-c8b6-47a9-9507-0000b6ca3fd7",
   "metadata": {},
   "outputs": [],
   "source": []
  },
  {
   "cell_type": "code",
   "execution_count": 6,
   "id": "d7327e68-a2b8-43f7-bd7e-19de05b66e73",
   "metadata": {},
   "outputs": [],
   "source": [
    "#exports\n",
    "if __name__ == '__main__' and '__file__' in globals():\n",
    "    app()"
   ]
  },
  {
   "cell_type": "code",
   "execution_count": null,
   "id": "0a27b78f-a83c-4456-aa4c-484682fef1b6",
   "metadata": {},
   "outputs": [],
   "source": []
  },
  {
   "cell_type": "code",
   "execution_count": 1,
   "id": "63928e4b-cdb3-4401-a41e-35db5e3a667e",
   "metadata": {},
   "outputs": [
    {
     "name": "stdout",
     "output_type": "stream",
     "text": [
      "Converted 07-cli-rebuild.ipynb.\n"
     ]
    }
   ],
   "source": [
    "#hide\n",
    "from ElexonDataPortal.dev.nbdev import notebook2script\n",
    "notebook2script('07-cli-rebuild.ipynb')"
   ]
  }
 ],
 "metadata": {
  "kernelspec": {
   "display_name": "BMRS",
   "language": "python",
   "name": "bmrs"
  },
  "language_info": {
   "codemirror_mode": {
    "name": "ipython",
    "version": 3
   },
   "file_extension": ".py",
   "mimetype": "text/x-python",
   "name": "python",
   "nbconvert_exporter": "python",
   "pygments_lexer": "ipython3",
   "version": "3.9.4"
  }
 },
 "nbformat": 4,
 "nbformat_minor": 5
}
