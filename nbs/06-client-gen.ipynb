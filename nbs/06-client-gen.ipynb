{
 "cells": [
  {
   "cell_type": "code",
   "execution_count": 1,
   "id": "9d64d56e-440a-4ae5-99e8-711474b28e85",
   "metadata": {},
   "outputs": [],
   "source": [
    "#hide\n",
    "#default_exp dev.clientgen"
   ]
  },
  {
   "cell_type": "code",
   "execution_count": null,
   "id": "a6d1b65b-ef00-4d10-bc79-7ba889116f01",
   "metadata": {},
   "outputs": [],
   "source": []
  },
  {
   "cell_type": "code",
   "execution_count": 2,
   "id": "f769597b-a8d3-4160-804a-0b069a9ac6b1",
   "metadata": {},
   "outputs": [],
   "source": [
    "#exports\n",
    "from jinja2 import Template\n",
    "\n",
    "from ElexonDataPortal.dev import specgen, rawgen, clientprep"
   ]
  },
  {
   "cell_type": "code",
   "execution_count": null,
   "id": "deaf596b-a2e3-4e7d-a949-e1dcbfad8ad1",
   "metadata": {},
   "outputs": [],
   "source": []
  },
  {
   "cell_type": "code",
   "execution_count": 3,
   "id": "e5111ffc-5ef6-44de-ba9a-bdd78ac53e24",
   "metadata": {},
   "outputs": [],
   "source": [
    "import os\n",
    "from dotenv import load_dotenv\n",
    "\n",
    "assert load_dotenv('../.env'), 'Environment variables could not be loaded'\n",
    "\n",
    "api_key = os.environ['BMRS_API_KEY']"
   ]
  },
  {
   "cell_type": "markdown",
   "id": "cf9b4f8d-30d3-46fa-afdf-aa4ca9fb585a",
   "metadata": {},
   "source": [
    "<br>\n",
    "\n",
    "### API Client Generation"
   ]
  },
  {
   "cell_type": "code",
   "execution_count": 4,
   "id": "b3b017d5-b2f7-4f2e-aa09-657014c87a19",
   "metadata": {},
   "outputs": [],
   "source": [
    "#exports\n",
    "def generate_streams(API_yaml_fp):\n",
    "    request_type_to_date_range_example = {\n",
    "        'SP_and_date': ('2020-01-01', '2020-01-01 1:30'),\n",
    "        'date_range': ('2020-01-01', '2020-01-07'),\n",
    "        'date_time_range': ('2020-01-01', '2020-01-07'),\n",
    "        'year': ('2019-01-01', '2021-01-01'),\n",
    "        'year_and_month': ('2020-01-01', '2020-06-01'),\n",
    "        'year_and_week': ('2020-01-01', '2020-06-01'),\n",
    "        'non_temporal': (None, None)\n",
    "    }\n",
    "    \n",
    "    API_yaml = specgen.load_API_yaml(API_yaml_fp)\n",
    "    functions = rawgen.construct_all_functions(API_yaml)\n",
    "    method_info = clientprep.construct_method_info_dict(API_yaml_fp)\n",
    "\n",
    "    streams = list()\n",
    "\n",
    "    for function in functions:\n",
    "        name = function['name']\n",
    "        function_method_info = method_info[name]\n",
    "\n",
    "        stream = dict()\n",
    "        stream['name'] = name\n",
    "        stream['description'] = function['description']\n",
    "        stream['date_range_example'] = request_type_to_date_range_example[function_method_info['request_type']]\n",
    "        stream['extra_kwargs'] = [param for param in function['parameters'] if param['name'] not in list(function_method_info['kwargs_map'].values())+['APIKey', 'ServiceType']]\n",
    "        stream['request_type'] = function_method_info['request_type']\n",
    "        stream['kwargs_map'] = function_method_info['kwargs_map']\n",
    "        stream['func_params'] = list(function_method_info['func_kwargs'].keys())\n",
    "\n",
    "        streams += [stream]\n",
    "        \n",
    "    return streams"
   ]
  },
  {
   "cell_type": "code",
   "execution_count": 5,
   "id": "ac397594-b269-465d-9967-2df9693b379c",
   "metadata": {},
   "outputs": [
    {
     "data": {
      "text/plain": [
       "{'name': 'get_B0610',\n",
       " 'description': 'Actual Total Load per Bidding Zone',\n",
       " 'date_range_example': ('2020-01-01', '2020-01-01 1:30'),\n",
       " 'extra_kwargs': [],\n",
       " 'request_type': 'SP_and_date',\n",
       " 'kwargs_map': {'date': 'SettlementDate', 'SP': 'Period'},\n",
       " 'func_params': ['APIKey', 'date', 'SP', 'ServiceType']}"
      ]
     },
     "execution_count": 5,
     "metadata": {},
     "output_type": "execute_result"
    }
   ],
   "source": [
    "API_yaml_fp = '../data/BMRS_API.yaml'\n",
    "\n",
    "streams = generate_streams(API_yaml_fp)\n",
    "\n",
    "streams[0]"
   ]
  },
  {
   "cell_type": "code",
   "execution_count": null,
   "id": "18d72425-dcc2-44fa-9fe2-cd737e69e028",
   "metadata": {},
   "outputs": [],
   "source": []
  },
  {
   "cell_type": "code",
   "execution_count": 6,
   "id": "eaebe4cc-8d24-47a2-aa31-695b8c7a5e4a",
   "metadata": {},
   "outputs": [],
   "source": [
    "#exports\n",
    "def save_api_client(\n",
    "    API_yaml_fp: str,\n",
    "    in_fp: str='../templates/api.py',\n",
    "    out_fp: str='../ElexonDataPortal/api.py'\n",
    "):\n",
    "    streams = generate_streams(API_yaml_fp)\n",
    "    rendered_schema = Template(open(in_fp).read()).render(streams=streams)\n",
    "\n",
    "    with open(out_fp, 'w') as f:\n",
    "        try:\n",
    "            f.write(rendered_schema)\n",
    "        except e as exc:\n",
    "            raise exc"
   ]
  },
  {
   "cell_type": "code",
   "execution_count": 7,
   "id": "509b5491-ac5c-4dd6-940b-31c3162665fe",
   "metadata": {},
   "outputs": [],
   "source": [
    "save_api_client(API_yaml_fp)"
   ]
  },
  {
   "cell_type": "markdown",
   "id": "682f0adc-36d4-4c58-a2f6-e912c98170b0",
   "metadata": {},
   "source": [
    "<br>\n",
    "\n",
    "### API Client Testing"
   ]
  },
  {
   "cell_type": "code",
   "execution_count": 8,
   "id": "b5219b38-7c11-4aa6-b857-1a6bcd6fb00f",
   "metadata": {},
   "outputs": [
    {
     "name": "stderr",
     "output_type": "stream",
     "text": [
      "c:\\users\\ayrto\\desktop\\phd\\data\\bmrs\\elexon-bmrs-api-wrapper\\ElexonDataPortal\\dev\\orchestrator.py:115: UserWarning: Response was capped, request is rerunning for missing data from 2020-01-05\n",
      "  warn(f'Response was capped, request is rerunning for missing data from {start_date}')\n"
     ]
    },
    {
     "data": {
      "text/html": [
       "<div>\n",
       "<style scoped>\n",
       "    .dataframe tbody tr th:only-of-type {\n",
       "        vertical-align: middle;\n",
       "    }\n",
       "\n",
       "    .dataframe tbody tr th {\n",
       "        vertical-align: top;\n",
       "    }\n",
       "\n",
       "    .dataframe thead th {\n",
       "        text-align: right;\n",
       "    }\n",
       "</style>\n",
       "<table border=\"1\" class=\"dataframe\">\n",
       "  <thead>\n",
       "    <tr style=\"text-align: right;\">\n",
       "      <th></th>\n",
       "      <th>recordType</th>\n",
       "      <th>startTimeOfHalfHrPeriod</th>\n",
       "      <th>settlementPeriod</th>\n",
       "      <th>initialForecastPublishingPeriodCommencingTime</th>\n",
       "      <th>initialForecastSpnGeneration</th>\n",
       "      <th>latestForecastPublishingPeriodCommencingTime</th>\n",
       "      <th>latestForecastSpnGeneration</th>\n",
       "      <th>outTurnPublishingPeriodCommencingTime</th>\n",
       "      <th>fuelTypeGeneration</th>\n",
       "      <th>activeFlag</th>\n",
       "    </tr>\n",
       "  </thead>\n",
       "  <tbody>\n",
       "    <tr>\n",
       "      <th>0</th>\n",
       "      <td>WIND</td>\n",
       "      <td>2020-01-01</td>\n",
       "      <td>1</td>\n",
       "      <td>2019-12-30 02:30:00</td>\n",
       "      <td>5396</td>\n",
       "      <td>2019-12-31 22:30:00</td>\n",
       "      <td>5001</td>\n",
       "      <td>2020-01-01 00:30:00</td>\n",
       "      <td>5004</td>\n",
       "      <td>Y</td>\n",
       "    </tr>\n",
       "    <tr>\n",
       "      <th>1</th>\n",
       "      <td>WIND</td>\n",
       "      <td>2020-01-01</td>\n",
       "      <td>2</td>\n",
       "      <td>NULL</td>\n",
       "      <td>NULL</td>\n",
       "      <td>NULL</td>\n",
       "      <td>NULL</td>\n",
       "      <td>2020-01-01 01:00:00</td>\n",
       "      <td>5043</td>\n",
       "      <td>Y</td>\n",
       "    </tr>\n",
       "    <tr>\n",
       "      <th>2</th>\n",
       "      <td>WIND</td>\n",
       "      <td>2020-01-01</td>\n",
       "      <td>3</td>\n",
       "      <td>2019-12-30 02:30:00</td>\n",
       "      <td>5440</td>\n",
       "      <td>2019-12-31 22:30:00</td>\n",
       "      <td>4857</td>\n",
       "      <td>2020-01-01 01:30:00</td>\n",
       "      <td>5030</td>\n",
       "      <td>Y</td>\n",
       "    </tr>\n",
       "  </tbody>\n",
       "</table>\n",
       "</div>"
      ],
      "text/plain": [
       "  recordType startTimeOfHalfHrPeriod settlementPeriod  \\\n",
       "0       WIND              2020-01-01                1   \n",
       "1       WIND              2020-01-01                2   \n",
       "2       WIND              2020-01-01                3   \n",
       "\n",
       "  initialForecastPublishingPeriodCommencingTime initialForecastSpnGeneration  \\\n",
       "0                           2019-12-30 02:30:00                         5396   \n",
       "1                                          NULL                         NULL   \n",
       "2                           2019-12-30 02:30:00                         5440   \n",
       "\n",
       "  latestForecastPublishingPeriodCommencingTime latestForecastSpnGeneration  \\\n",
       "0                          2019-12-31 22:30:00                        5001   \n",
       "1                                         NULL                        NULL   \n",
       "2                          2019-12-31 22:30:00                        4857   \n",
       "\n",
       "  outTurnPublishingPeriodCommencingTime fuelTypeGeneration activeFlag  \n",
       "0                   2020-01-01 00:30:00               5004          Y  \n",
       "1                   2020-01-01 01:00:00               5043          Y  \n",
       "2                   2020-01-01 01:30:00               5030          Y  "
      ]
     },
     "execution_count": 8,
     "metadata": {},
     "output_type": "execute_result"
    }
   ],
   "source": [
    "from ElexonDataPortal import api\n",
    "\n",
    "client = api.Client(api_key)\n",
    "\n",
    "df = client.get_WINDFORFUELHH()\n",
    "\n",
    "df.head(3)"
   ]
  },
  {
   "cell_type": "code",
   "execution_count": null,
   "id": "12a3bbde-5a93-44b8-91e2-20dd3466c29b",
   "metadata": {},
   "outputs": [],
   "source": []
  },
  {
   "cell_type": "code",
   "execution_count": 14,
   "id": "39ba24d4-0221-4c1f-8835-cf599efebeff",
   "metadata": {
    "tags": []
   },
   "outputs": [
    {
     "name": "stderr",
     "output_type": "stream",
     "text": [
      "B0610: 100%|█████████████████████████████████████████████████████████████████████████████| 3/3 [00:00<00:00,  7.21it/s]\n",
      "B0620: 100%|█████████████████████████████████████████████████████████████████████████████| 3/3 [00:00<00:00,  7.25it/s]\n",
      "B0630: 100%|███████████████████████████████████████████████████████████████████████████| 22/22 [00:03<00:00,  6.28it/s]\n",
      "B0640: 100%|█████████████████████████████████████████████████████████████████████████████| 5/5 [00:00<00:00,  6.99it/s]\n",
      "B0650: 100%|█████████████████████████████████████████████████████████████████████████████| 3/3 [00:02<00:00,  1.08it/s]\n",
      "B0810: 100%|█████████████████████████████████████████████████████████████████████████████| 3/3 [00:00<00:00,  6.49it/s]\n",
      "B0910: 100%|█████████████████████████████████████████████████████████████████████████████| 3/3 [00:00<00:00,  7.37it/s]\n",
      "B1320: 100%|█████████████████████████████████████████████████████████████████████████████| 3/3 [00:00<00:00,  6.86it/s]\n",
      "B1330: 100%|█████████████████████████████████████████████████████████████████████████████| 5/5 [00:01<00:00,  4.08it/s]\n",
      "B1410: 100%|█████████████████████████████████████████████████████████████████████████████| 3/3 [00:00<00:00,  4.06it/s]\n",
      "B1420: 100%|█████████████████████████████████████████████████████████████████████████████| 3/3 [00:02<00:00,  1.03it/s]\n",
      "B1430: 100%|█████████████████████████████████████████████████████████████████████████████| 3/3 [00:00<00:00,  5.01it/s]\n",
      "B1440: 100%|█████████████████████████████████████████████████████████████████████████████| 3/3 [00:00<00:00,  5.59it/s]\n",
      "B1610: 100%|█████████████████████████████████████████████████████████████████████████████| 3/3 [00:02<00:00,  1.44it/s]\n",
      "B1620: 100%|█████████████████████████████████████████████████████████████████████████████| 3/3 [00:00<00:00,  6.85it/s]\n",
      "B1630: 100%|█████████████████████████████████████████████████████████████████████████████| 3/3 [00:00<00:00,  6.88it/s]\n",
      "B1720: 100%|█████████████████████████████████████████████████████████████████████████████| 3/3 [00:00<00:00,  6.96it/s]\n",
      "B1730: 100%|█████████████████████████████████████████████████████████████████████████████| 3/3 [00:00<00:00,  7.50it/s]\n",
      "B1740: 100%|█████████████████████████████████████████████████████████████████████████████| 3/3 [00:00<00:00,  7.94it/s]\n",
      "B1750: 100%|█████████████████████████████████████████████████████████████████████████████| 3/3 [00:00<00:00,  7.28it/s]\n",
      "B1760: 100%|█████████████████████████████████████████████████████████████████████████████| 3/3 [00:00<00:00,  7.85it/s]\n",
      "B1770: 100%|█████████████████████████████████████████████████████████████████████████████| 3/3 [00:00<00:00,  7.73it/s]\n",
      "B1780: 100%|█████████████████████████████████████████████████████████████████████████████| 3/3 [00:00<00:00,  7.87it/s]\n",
      "B1790: 100%|█████████████████████████████████████████████████████████████████████████████| 5/5 [00:00<00:00,  6.89it/s]\n",
      "B1810: 100%|█████████████████████████████████████████████████████████████████████████████| 3/3 [00:00<00:00,  7.44it/s]\n",
      "B1820: 100%|█████████████████████████████████████████████████████████████████████████████| 3/3 [00:00<00:00,  6.77it/s]\n",
      "B1830: 100%|█████████████████████████████████████████████████████████████████████████████| 3/3 [00:00<00:00,  7.28it/s]\n",
      "BOD: 100%|███████████████████████████████████████████████████████████████████████████████| 3/3 [00:00<00:00,  6.82it/s]\n",
      "DETSYSPRICES: 100%|██████████████████████████████████████████████████████████████████████| 3/3 [00:01<00:00,  1.97it/s]\n",
      "DISBSAD: 100%|███████████████████████████████████████████████████████████████████████████| 3/3 [00:00<00:00,  6.42it/s]\n",
      "NETBSAD: 100%|███████████████████████████████████████████████████████████████████████████| 3/3 [00:00<00:00,  4.01it/s]\n",
      "PHYBMDATA: 100%|█████████████████████████████████████████████████████████████████████████| 3/3 [00:09<00:00,  3.13s/it]\n"
     ]
    }
   ],
   "source": [
    "client_methods = [method for method in dir(client) if ('__' not in method) and (method not in ['api_key', 'methods', 'n_retry_attempts'])]\n",
    "method_to_df = dict()\n",
    "\n",
    "for client_method in client_methods:\n",
    "    method_to_df[client_method] = getattr(client, client_method)()"
   ]
  },
  {
   "cell_type": "code",
   "execution_count": null,
   "id": "b72d76dd-7809-4c94-a1dc-48a484c2ea11",
   "metadata": {},
   "outputs": [],
   "source": []
  },
  {
   "cell_type": "code",
   "execution_count": 15,
   "id": "4d51547b-3a74-4a49-952e-619c94693ab4",
   "metadata": {
    "tags": []
   },
   "outputs": [
    {
     "name": "stdout",
     "output_type": "stream",
     "text": [
      "\n",
      "        Generation forecasts for Wind and Solar\n",
      "        \n",
      "        Parameters:\n",
      "            start_date (str)\n",
      "            end_date (str)\n",
      "            ProcessType (str)\n",
      "        \n"
     ]
    },
    {
     "data": {
      "text/html": [
       "<div>\n",
       "<style scoped>\n",
       "    .dataframe tbody tr th:only-of-type {\n",
       "        vertical-align: middle;\n",
       "    }\n",
       "\n",
       "    .dataframe tbody tr th {\n",
       "        vertical-align: top;\n",
       "    }\n",
       "\n",
       "    .dataframe thead th {\n",
       "        text-align: right;\n",
       "    }\n",
       "</style>\n",
       "<table border=\"1\" class=\"dataframe\">\n",
       "  <thead>\n",
       "    <tr style=\"text-align: right;\">\n",
       "      <th></th>\n",
       "      <th>local_datetime</th>\n",
       "      <th>timeSeriesID</th>\n",
       "      <th>businessType</th>\n",
       "      <th>powerSystemResourceType</th>\n",
       "      <th>settlementDate</th>\n",
       "      <th>processType</th>\n",
       "      <th>settlementPeriod</th>\n",
       "      <th>quantity</th>\n",
       "      <th>documentType</th>\n",
       "      <th>curveType</th>\n",
       "      <th>resolution</th>\n",
       "      <th>activeFlag</th>\n",
       "      <th>documentID</th>\n",
       "      <th>documentRevNum</th>\n",
       "    </tr>\n",
       "  </thead>\n",
       "  <tbody>\n",
       "    <tr>\n",
       "      <th>0</th>\n",
       "      <td>2020-01-01 00:00:00+00:00</td>\n",
       "      <td>NGET-EMFIP-DGWS-TS-00034592</td>\n",
       "      <td>Solar generation</td>\n",
       "      <td>\"Solar\"</td>\n",
       "      <td>2020-01-01</td>\n",
       "      <td>Day Ahead</td>\n",
       "      <td>1</td>\n",
       "      <td>0</td>\n",
       "      <td>Wind and solar forecast</td>\n",
       "      <td>Sequential fixed size block</td>\n",
       "      <td>PT30M</td>\n",
       "      <td>Y</td>\n",
       "      <td>NGET-EMFIP-DGWS-00035923</td>\n",
       "      <td>1</td>\n",
       "    </tr>\n",
       "    <tr>\n",
       "      <th>1</th>\n",
       "      <td>2020-01-01 00:00:00+00:00</td>\n",
       "      <td>NGET-EMFIP-DGWS-TS-00034590</td>\n",
       "      <td>Wind generation</td>\n",
       "      <td>\"Wind Offshore\"</td>\n",
       "      <td>2020-01-01</td>\n",
       "      <td>Day Ahead</td>\n",
       "      <td>1</td>\n",
       "      <td>2843.181</td>\n",
       "      <td>Wind and solar forecast</td>\n",
       "      <td>Sequential fixed size block</td>\n",
       "      <td>PT30M</td>\n",
       "      <td>Y</td>\n",
       "      <td>NGET-EMFIP-DGWS-00035923</td>\n",
       "      <td>1</td>\n",
       "    </tr>\n",
       "    <tr>\n",
       "      <th>2</th>\n",
       "      <td>2020-01-01 00:00:00+00:00</td>\n",
       "      <td>NGET-EMFIP-DGWS-TS-00034591</td>\n",
       "      <td>Wind generation</td>\n",
       "      <td>\"Wind Onshore\"</td>\n",
       "      <td>2020-01-01</td>\n",
       "      <td>Day Ahead</td>\n",
       "      <td>1</td>\n",
       "      <td>3024.238</td>\n",
       "      <td>Wind and solar forecast</td>\n",
       "      <td>Sequential fixed size block</td>\n",
       "      <td>PT30M</td>\n",
       "      <td>Y</td>\n",
       "      <td>NGET-EMFIP-DGWS-00035923</td>\n",
       "      <td>1</td>\n",
       "    </tr>\n",
       "  </tbody>\n",
       "</table>\n",
       "</div>"
      ],
      "text/plain": [
       "             local_datetime                 timeSeriesID      businessType  \\\n",
       "0 2020-01-01 00:00:00+00:00  NGET-EMFIP-DGWS-TS-00034592  Solar generation   \n",
       "1 2020-01-01 00:00:00+00:00  NGET-EMFIP-DGWS-TS-00034590   Wind generation   \n",
       "2 2020-01-01 00:00:00+00:00  NGET-EMFIP-DGWS-TS-00034591   Wind generation   \n",
       "\n",
       "  powerSystemResourceType settlementDate processType settlementPeriod  \\\n",
       "0                 \"Solar\"     2020-01-01   Day Ahead                1   \n",
       "1         \"Wind Offshore\"     2020-01-01   Day Ahead                1   \n",
       "2          \"Wind Onshore\"     2020-01-01   Day Ahead                1   \n",
       "\n",
       "   quantity             documentType                    curveType resolution  \\\n",
       "0         0  Wind and solar forecast  Sequential fixed size block      PT30M   \n",
       "1  2843.181  Wind and solar forecast  Sequential fixed size block      PT30M   \n",
       "2  3024.238  Wind and solar forecast  Sequential fixed size block      PT30M   \n",
       "\n",
       "  activeFlag                documentID documentRevNum  \n",
       "0          Y  NGET-EMFIP-DGWS-00035923              1  \n",
       "1          Y  NGET-EMFIP-DGWS-00035923              1  \n",
       "2          Y  NGET-EMFIP-DGWS-00035923              1  "
      ]
     },
     "execution_count": 15,
     "metadata": {},
     "output_type": "execute_result"
    }
   ],
   "source": [
    "method = 'get_B1440'\n",
    "\n",
    "print(getattr(client, method).__doc__)\n",
    "method_to_df[method].head(3)"
   ]
  },
  {
   "cell_type": "code",
   "execution_count": null,
   "id": "2cc02ec2-7c19-40ac-af6c-eda6da8d513d",
   "metadata": {},
   "outputs": [],
   "source": []
  },
  {
   "cell_type": "code",
   "execution_count": 16,
   "id": "e5109f43-bf0d-4e33-b740-48f38b70527a",
   "metadata": {},
   "outputs": [
    {
     "name": "stdout",
     "output_type": "stream",
     "text": [
      "Converted 05-orchestrator.ipynb.\n"
     ]
    }
   ],
   "source": [
    "#hide\n",
    "from ElexonDataPortal.dev.nbdev import notebook2script\n",
    "notebook2script('05-orchestrator.ipynb')"
   ]
  }
 ],
 "metadata": {
  "kernelspec": {
   "display_name": "BMRS",
   "language": "python",
   "name": "bmrs"
  },
  "language_info": {
   "codemirror_mode": {
    "name": "ipython",
    "version": 3
   },
   "file_extension": ".py",
   "mimetype": "text/x-python",
   "name": "python",
   "nbconvert_exporter": "python",
   "pygments_lexer": "ipython3",
   "version": "3.9.4"
  }
 },
 "nbformat": 4,
 "nbformat_minor": 5
}
