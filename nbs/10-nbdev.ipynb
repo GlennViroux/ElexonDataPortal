{
 "cells": [
  {
   "cell_type": "code",
   "execution_count": 1,
   "id": "5f632f64-2959-460a-97b5-3edc4688b4c8",
   "metadata": {},
   "outputs": [],
   "source": [
    "#hide\n",
    "#default_exp dev.nbdev"
   ]
  },
  {
   "cell_type": "markdown",
   "id": "696212eb-2739-45a2-b62a-619ff66e6afa",
   "metadata": {},
   "source": [
    "# NB-Dev Modification"
   ]
  },
  {
   "cell_type": "markdown",
   "id": "df9d3b7a-68c8-4047-a95b-f2a6ed70d2c0",
   "metadata": {},
   "source": [
    "<br>\n",
    "\n",
    "### Imports"
   ]
  },
  {
   "cell_type": "code",
   "execution_count": 2,
   "id": "5e2dc9cb-69e5-4309-95bf-b44bc843f48f",
   "metadata": {},
   "outputs": [],
   "source": [
    "#exports\n",
    "from fastcore.foundation import Config, Path\n",
    "from nbdev import export\n",
    "import os\n",
    "import re"
   ]
  },
  {
   "cell_type": "code",
   "execution_count": null,
   "id": "90694a42-8908-402d-ae32-d1cfbb9b8510",
   "metadata": {},
   "outputs": [],
   "source": []
  },
  {
   "cell_type": "code",
   "execution_count": 3,
   "id": "6afadefe-91d7-4fc8-9177-9407ee0be5e8",
   "metadata": {},
   "outputs": [],
   "source": [
    "#exports\n",
    "_re_version = re.compile('^__version__\\s*=.*$', re.MULTILINE)\n",
    "\n",
    "def update_version():\n",
    "    \"Add or update `__version__` in the main `__init__.py` of the library\"\n",
    "    fname = Config().path(\"lib_path\")/'__init__.py'\n",
    "    if not fname.exists(): fname.touch()\n",
    "    version = f'__version__ = \"{Config().version}\"'\n",
    "    with open(fname, 'r') as f: code = f.read()\n",
    "    if _re_version.search(code) is None: code = version + \"\\n\" + code\n",
    "    else: code = _re_version.sub(version, code)\n",
    "    with open(fname, 'w') as f: f.write(code)"
   ]
  },
  {
   "cell_type": "code",
   "execution_count": 4,
   "id": "19d0de0f-f936-4fda-8c65-0f4afaf88500",
   "metadata": {},
   "outputs": [],
   "source": [
    "export.update_version = update_version\n",
    "\n",
    "update_version()"
   ]
  },
  {
   "cell_type": "code",
   "execution_count": null,
   "id": "0c8ea929-1246-4865-8ed4-f2df24d6978f",
   "metadata": {},
   "outputs": [],
   "source": []
  },
  {
   "cell_type": "code",
   "execution_count": 5,
   "id": "7768af95-8e9a-4c99-b433-c679423e54dc",
   "metadata": {},
   "outputs": [],
   "source": [
    "#exports\n",
    "def add_init(path, contents=''):\n",
    "    \"Add `__init__.py` in all subdirs of `path` containing python files if it's not there already\"\n",
    "    for p,d,f in os.walk(path):\n",
    "        for f_ in f:\n",
    "            if f_.endswith('.py'):\n",
    "                if not (Path(p)/'__init__.py').exists(): (Path(p)/'__init__.py').write_text('\\n'+contents)\n",
    "                break\n",
    "\n",
    "def update_version(init_dir=None, extra_init_contents=''):\n",
    "    \"Add or update `__version__` in the main `__init__.py` of the library\"\n",
    "    version = Config().version\n",
    "    version_str = f'__version__ = \"{version}\"'\n",
    "    \n",
    "    if init_dir is None: path = Config().path(\"lib_path\")\n",
    "    else: path = Path(init_dir)\n",
    "    fname = path/'__init__.py'\n",
    "    \n",
    "    if not fname.exists(): add_init(path, contents=extra_init_contents)\n",
    "        \n",
    "    code = f'{version_str}\\n{extra_init_contents}'\n",
    "    with open(fname, 'w') as f: f.write(code)\n",
    "                \n",
    "export.add_init = add_init\n",
    "export.update_version = update_version"
   ]
  },
  {
   "cell_type": "code",
   "execution_count": null,
   "id": "57bdeaa5-97f6-49c4-861f-41435b6a6d70",
   "metadata": {},
   "outputs": [],
   "source": []
  },
  {
   "cell_type": "code",
   "execution_count": 6,
   "id": "b99f7d20-1cf0-4cb1-971f-cdbc17585c9d",
   "metadata": {},
   "outputs": [],
   "source": [
    "#exports\n",
    "def prepare_nbdev_module(extra_init_contents=''):\n",
    "    export.reset_nbdev_module()\n",
    "    export.update_version(extra_init_contents=extra_init_contents)\n",
    "    export.update_baseurl()"
   ]
  },
  {
   "cell_type": "code",
   "execution_count": 7,
   "id": "d20bcbfe-1eed-4892-a5d3-dafa07636ee5",
   "metadata": {},
   "outputs": [],
   "source": [
    "prepare_nbdev_module()"
   ]
  },
  {
   "cell_type": "code",
   "execution_count": null,
   "id": "ee57f911-e214-4712-89e8-52b62f0ba1dd",
   "metadata": {},
   "outputs": [],
   "source": []
  },
  {
   "cell_type": "code",
   "execution_count": 10,
   "id": "98315e6d-ba22-418f-867d-771f1b1c8fbf",
   "metadata": {},
   "outputs": [],
   "source": [
    "#exports\n",
    "def notebook2script(fname=None, silent=False, to_dict=False, bare=False, extra_init_contents=''):\n",
    "    \"Convert notebooks matching `fname` to modules\"\n",
    "    # initial checks\n",
    "    if os.environ.get('IN_TEST',0): return  # don't export if running tests\n",
    "    if fname is None: prepare_nbdev_module(extra_init_contents=extra_init_contents)\n",
    "        \n",
    "    files = export.nbglob(fname=fname)\n",
    "    d = collections.defaultdict(list) if to_dict else None\n",
    "    modules = export.create_mod_files(files, to_dict, bare=bare)\n",
    "    \n",
    "    for f in sorted(files): d = export._notebook2script(f, modules, silent=silent, to_dict=d, bare=bare)\n",
    "    if to_dict: return d\n",
    "    else: add_init(Config().path(\"lib_path\"))\n",
    "    \n",
    "    return"
   ]
  },
  {
   "cell_type": "code",
   "execution_count": 11,
   "id": "8258cc56-7440-40fd-b99b-2a614cf6f779",
   "metadata": {},
   "outputs": [
    {
     "name": "stdout",
     "output_type": "stream",
     "text": [
      "Converted 00-documentation.ipynb.\n",
      "Converted 01-utils.ipynb.\n",
      "Converted 02-spec-gen.ipynb.\n",
      "Converted 03-raw-methods.ipynb.\n",
      "Converted 04-client-prep.ipynb.\n",
      "Converted 05-orchestrator.ipynb.\n",
      "Converted 06-client-gen.ipynb.\n",
      "Converted 07-cli-rebuild.ipynb.\n",
      "Converted 08-quick-start.ipynb.\n",
      "Converted 09-map-gen.ipynb.\n",
      "Converted 10-nbdev.ipynb.\n",
      "Converted Example Usage.ipynb.\n"
     ]
    }
   ],
   "source": [
    "notebook2script()"
   ]
  },
  {
   "cell_type": "code",
   "execution_count": null,
   "id": "f11cb28a-cb4e-4cb9-805e-9ba0fa563f1f",
   "metadata": {},
   "outputs": [],
   "source": []
  },
  {
   "cell_type": "code",
   "execution_count": 12,
   "id": "72f87bae-6b80-43ce-b945-dc6a2c8b39e7",
   "metadata": {},
   "outputs": [],
   "source": [
    "#exports\n",
    "def add_mod_extra_indices(mod, extra_modules_to_source):\n",
    "    for extra_module, module_source in extra_modules_to_source.items():\n",
    "        extra_module_fp = export.Config().path(\"lib_path\")/extra_module\n",
    "\n",
    "        with open(extra_module_fp, 'r') as text_file:\n",
    "             extra_module_code = text_file.read()\n",
    "\n",
    "        names = export.export_names(extra_module_code)\n",
    "        mod.index.update({name: module_source for name in names})\n",
    "        \n",
    "    return mod\n",
    "\n",
    "def add_mod_extra_modules(mod, extra_modules):\n",
    "    extra_modules = [e for e in extra_modules if e not in mod.modules]\n",
    "    mod.modules = sorted(mod.modules + extra_modules)\n",
    "    \n",
    "    return mod\n",
    "\n",
    "def add_extra_code_desc_to_mod(\n",
    "    extra_modules_to_source = {\n",
    "        'api.py': '06-client-gen.ipynb', \n",
    "        'dev/raw.py': '03-raw-methods.ipynb'\n",
    "    }\n",
    "):\n",
    "    mod = export.get_nbdev_module()\n",
    "\n",
    "    mod = add_mod_extra_indices(mod, extra_modules_to_source)\n",
    "    mod = add_mod_extra_modules(mod, extra_modules_to_source.keys())\n",
    "\n",
    "    export.save_nbdev_module(mod)\n",
    "    \n",
    "    return"
   ]
  },
  {
   "cell_type": "code",
   "execution_count": 13,
   "id": "9cebfb1c-d7d8-4d93-9a8d-d6b445c6e559",
   "metadata": {
    "tags": []
   },
   "outputs": [],
   "source": [
    "# add_extra_code_desc_to_mod()"
   ]
  },
  {
   "cell_type": "code",
   "execution_count": null,
   "id": "6bcc4ea2-20d2-4576-8e2c-2f891e55d04c",
   "metadata": {},
   "outputs": [],
   "source": []
  },
  {
   "cell_type": "code",
   "execution_count": 14,
   "id": "639bbec6-35ec-4b5a-b03a-cb01c98a95e4",
   "metadata": {},
   "outputs": [
    {
     "name": "stdout",
     "output_type": "stream",
     "text": [
      "Converted 10-nbdev.ipynb.\n"
     ]
    }
   ],
   "source": [
    "#hide\n",
    "notebook2script('10-nbdev.ipynb')"
   ]
  }
 ],
 "metadata": {
  "kernelspec": {
   "display_name": "BMRS",
   "language": "python",
   "name": "bmrs"
  },
  "language_info": {
   "codemirror_mode": {
    "name": "ipython",
    "version": 3
   },
   "file_extension": ".py",
   "mimetype": "text/x-python",
   "name": "python",
   "nbconvert_exporter": "python",
   "pygments_lexer": "ipython3",
   "version": "3.9.4"
  }
 },
 "nbformat": 4,
 "nbformat_minor": 5
}
