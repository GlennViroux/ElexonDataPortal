{
 "cells": [
  {
   "cell_type": "code",
   "execution_count": 1,
   "id": "badb4159-2a75-4f09-9b0b-1105b634c724",
   "metadata": {},
   "outputs": [],
   "source": [
    "#hide\n",
    "#default_exp vis.gen"
   ]
  },
  {
   "cell_type": "markdown",
   "id": "92c1691e-7425-4fd7-bcc3-e938ac9bb9dc",
   "metadata": {},
   "source": [
    "# Visualisation Generation\n",
    "\n",
    "<br>\n",
    "\n",
    "### Imports"
   ]
  },
  {
   "cell_type": "code",
   "execution_count": 2,
   "id": "2c4f0c5f-06be-4e59-a808-3ef504e11a02",
   "metadata": {},
   "outputs": [],
   "source": [
    "#exports\n",
    "import json\n",
    "import pandas as pd\n",
    "\n",
    "import typer\n",
    "import croniter\n",
    "import importlib\n",
    "from tqdm import tqdm\n",
    "\n",
    "import matplotlib.pyplot as plt"
   ]
  },
  {
   "cell_type": "code",
   "execution_count": 3,
   "id": "263bf89f-522e-42c7-85f4-0fbce2c70342",
   "metadata": {},
   "outputs": [],
   "source": [
    "from IPython.display import JSON"
   ]
  },
  {
   "cell_type": "code",
   "execution_count": null,
   "id": "f35d4c3b-2fd9-4471-a4a8-88c041ce289b",
   "metadata": {},
   "outputs": [],
   "source": []
  },
  {
   "cell_type": "code",
   "execution_count": 4,
   "id": "f968baec-2824-4ab9-9241-36611a0bbe88",
   "metadata": {},
   "outputs": [],
   "source": [
    "#exports\n",
    "def rgb_2_plt_tuple(r, g, b):\n",
    "    \"\"\"converts a standard rgb set from a 0-255 range to 0-1\"\"\"\n",
    "    \n",
    "    plt_tuple = tuple([x/255 for x in (r, g, b)])\n",
    "    \n",
    "    return plt_tuple"
   ]
  },
  {
   "cell_type": "code",
   "execution_count": null,
   "id": "3b4f8072-5ffd-4af4-b016-e0cb22444e02",
   "metadata": {},
   "outputs": [],
   "source": []
  },
  {
   "cell_type": "code",
   "execution_count": 23,
   "id": "fd08601c-4bb6-4892-9eab-b102e678d5d5",
   "metadata": {},
   "outputs": [
    {
     "data": {
      "application/json": [
       {
        "cron": "0 * * * 1",
        "function": "ElexonDataPortal.vis.ei.generate_GB_decarb_progess",
        "kwargs": {
         "docs_dir": "docs",
         "dpi": 250,
         "dt_col": "local_datetime",
         "dt_tz": "Europe/London",
         "freq": "7D",
         "fuel_colour_dict": {
          "Imports & Storage": [
           0.4745098039215686,
           0.26666666666666666,
           0.5843137254901961
          ],
          "biomass": [
           0.6588235294117647,
           0.49019607843137253,
           0.3176470588235294
          ],
          "coal": [
           0.47843137254901963,
           0.47843137254901963,
           0.47843137254901963
          ],
          "gas": [
           0.996078431372549,
           0.611764705882353,
           0.25882352941176473
          ],
          "hydro": [
           0.19607843137254902,
           0.47058823529411764,
           0.7686274509803922
          ],
          "nuclear": [
           0.30196078431372547,
           0.615686274509804,
           0.3411764705882353
          ],
          "solar": [
           1,
           0.8588235294117647,
           0.2549019607843137
          ],
          "wind": [
           0.2823529411764706,
           0.7607843137254902,
           0.8901960784313725
          ]
         },
         "raw_file_prefix": "https://raw.githubusercontent.com/AyrtonB/Electric-Insights/master/",
         "update_time": null,
         "url": "https://api.github.com/repos/AyrtonB/Electric-Insights/git/trees/master?recursive=1",
         "use_preloaded_ei_df": true
        }
       },
       {
        "cron": "0 * * * 1",
        "function": "ElexonDataPortal.vis.ei.generate_moe",
        "kwargs": {
         "docs_dir": "docs",
         "dpi": 250,
         "dt_col": "local_datetime",
         "dt_idx": null,
         "dt_tz": "Europe/London",
         "img_name": "moe_surface",
         "num_fits": 15,
         "raw_file_prefix": "https://raw.githubusercontent.com/AyrtonB/Electric-Insights/master/",
         "reg_dates_end": null,
         "reg_dates_freq": "13W",
         "reg_dates_start": "2010-01-01",
         "update_time": null,
         "url": "https://api.github.com/repos/AyrtonB/Electric-Insights/git/trees/master?recursive=1",
         "use_preloaded_ei_df": true,
         "x_pred": null
        }
       },
       {
        "cron": "0,30 * * * *",
        "function": "ElexonDataPortal.vis.lolp.generate_lolpdrm_imgs_text",
        "kwargs": {
         "api_key": null,
         "docs_dir": "docs",
         "fcst_horizons": [
          8,
          4,
          2,
          1
         ],
         "update_time": null
        }
       },
       {
        "cron": "0,30 * * * *",
        "function": "ElexonDataPortal.vis.map.generate_map",
        "kwargs": {
         "api_key": null,
         "data_dir": "data/PN",
         "js_docs_fp": "docs/js/map.js",
         "js_template_fp": "templates/map.js",
         "md_template_fp": "templates/map.md",
         "plants_geojson_fp": "data/power_plants.json",
         "plants_geojson_url": "https://raw.githubusercontent.com/OSUKED/ElexonDataPortal/master/data/power_plants.json",
         "powerdict_url": "https://raw.githubusercontent.com/OSUKED/Power-Station-Dictionary/main/data/output/power_stations.csv",
         "routes_geojson_url": "https://raw.githubusercontent.com/OSUKED/ElexonDataPortal/master/data/network_routes.json",
         "update_time": null
        }
       }
      ],
      "text/plain": [
       "<IPython.core.display.JSON object>"
      ]
     },
     "execution_count": 23,
     "metadata": {
      "application/json": {
       "expanded": false,
       "root": "root"
      }
     },
     "output_type": "execute_result"
    }
   ],
   "source": [
    "vis_configs = [\n",
    "    {\n",
    "        'cron': '0 * * * 1', # midnight every monday\n",
    "        'function': 'ElexonDataPortal.vis.ei.generate_GB_decarb_progess',\n",
    "        'kwargs': {\n",
    "            'dt_col': 'local_datetime',\n",
    "            'dt_tz': 'Europe/London',\n",
    "            'url': 'https://api.github.com/repos/AyrtonB/Electric-Insights/git/trees/master?recursive=1',\n",
    "            'raw_file_prefix': 'https://raw.githubusercontent.com/AyrtonB/Electric-Insights/master/',\n",
    "            'update_time': pd.Timestamp.now().round('5min').strftime('%Y-%m-%d %H:%M'),\n",
    "            'dpi': 250,\n",
    "            'freq': '7D',\n",
    "            'use_preloaded_ei_df': True,\n",
    "            'fuel_colour_dict': {\n",
    "                'Imports & Storage' : rgb_2_plt_tuple(121,68,149), \n",
    "                'nuclear' : rgb_2_plt_tuple(77,157,87), \n",
    "                'biomass' : rgb_2_plt_tuple(168,125,81), \n",
    "                'gas' : rgb_2_plt_tuple(254,156,66), \n",
    "                'coal' : rgb_2_plt_tuple(122,122,122), \n",
    "                'hydro' : rgb_2_plt_tuple(50,120,196), \n",
    "                'wind' : rgb_2_plt_tuple(72,194,227), \n",
    "                'solar' : rgb_2_plt_tuple(255,219,65),\n",
    "            },\n",
    "            'docs_dir': 'docs',\n",
    "            'update_time': None,\n",
    "        }\n",
    "    },\n",
    "    {\n",
    "        'cron': '0 * * * 1', # midnight every monday\n",
    "        'function': 'ElexonDataPortal.vis.ei.generate_moe',\n",
    "        'kwargs': {\n",
    "            'dt_col': 'local_datetime',\n",
    "            'dt_tz': 'Europe/London',\n",
    "            'url': 'https://api.github.com/repos/AyrtonB/Electric-Insights/git/trees/master?recursive=1',\n",
    "            'raw_file_prefix': 'https://raw.githubusercontent.com/AyrtonB/Electric-Insights/master/',\n",
    "            'reg_dates_start': '2010-01-01',\n",
    "            'reg_dates_end': None,\n",
    "            'reg_dates_freq': '13W',\n",
    "            'num_fits': 15, \n",
    "            'x_pred': None,\n",
    "            'dt_idx': None,\n",
    "            'dpi': 250, \n",
    "            'use_preloaded_ei_df': True,\n",
    "            'img_name': 'moe_surface',\n",
    "            'docs_dir': 'docs',\n",
    "            'update_time': None,\n",
    "        }\n",
    "    },\n",
    "    {\n",
    "        'cron': '0,30 * * * *', # every half-hour\n",
    "        'function': 'ElexonDataPortal.vis.lolp.generate_lolpdrm_imgs_text',\n",
    "        'kwargs': {\n",
    "            'api_key': None,\n",
    "            'fcst_horizons': [8, 4, 2, 1],\n",
    "            'update_time': None,\n",
    "            'docs_dir': 'docs',\n",
    "            'update_time': None,\n",
    "        }\n",
    "    },\n",
    "    {\n",
    "        'cron': '0,30 * * * *', # every half-hour\n",
    "        'function': 'ElexonDataPortal.vis.map.generate_map',\n",
    "        'kwargs': {\n",
    "            'data_dir': 'data/PN',\n",
    "            'api_key': None,\n",
    "            'update_time': None,\n",
    "            'powerdict_url': 'https://raw.githubusercontent.com/OSUKED/Power-Station-Dictionary/main/data/output/power_stations.csv',\n",
    "            'js_template_fp': 'templates/map.js',\n",
    "            'js_docs_fp': 'docs/js/map.js', \n",
    "            'md_template_fp': 'templates/map.md', \n",
    "            'plants_geojson_fp': 'data/power_plants.json',\n",
    "            'plants_geojson_url': 'https://raw.githubusercontent.com/OSUKED/ElexonDataPortal/master/data/power_plants.json',\n",
    "            'routes_geojson_url': 'https://raw.githubusercontent.com/OSUKED/ElexonDataPortal/master/data/network_routes.json'\n",
    "\n",
    "        }\n",
    "    }\n",
    "]\n",
    "\n",
    "JSON(vis_configs)"
   ]
  },
  {
   "cell_type": "code",
   "execution_count": null,
   "id": "3fa9e2b6-5eb1-4782-94a3-d5b1088bf55c",
   "metadata": {},
   "outputs": [],
   "source": []
  },
  {
   "cell_type": "code",
   "execution_count": 24,
   "id": "8c5a5822-1cad-4915-b66a-ef20080f5119",
   "metadata": {},
   "outputs": [],
   "source": [
    "save_vis_configs = False\n",
    "\n",
    "if save_vis_configs == True:\n",
    "    with open('../data/vis_configs.json', 'w') as f:\n",
    "        json.dump(vis_configs, f)"
   ]
  },
  {
   "cell_type": "code",
   "execution_count": null,
   "id": "7ba91730-6f12-434f-9315-46685ee767db",
   "metadata": {},
   "outputs": [],
   "source": []
  },
  {
   "cell_type": "code",
   "execution_count": 7,
   "id": "107c58fd-762e-4df5-b0cb-7d890988c9a3",
   "metadata": {},
   "outputs": [],
   "source": [
    "#exports\n",
    "def get_vis_func(func_path):\n",
    "    *lib_path, func_name = func_path.split('.')\n",
    "    lib_obj = importlib.import_module('.'.join(lib_path))\n",
    "    \n",
    "    func = getattr(lib_obj, func_name)\n",
    "\n",
    "    return func\n",
    "\n",
    "def get_vis_md_text(vis_config, docs_dir=None, update_time=None):\n",
    "    func_path = vis_config['function']\n",
    "    kwargs = vis_config['kwargs']\n",
    "\n",
    "    if (docs_dir is not None) and ('docs_dir' in kwargs.keys()):\n",
    "        kwargs['docs_dir'] = docs_dir\n",
    "\n",
    "    if (update_time is not None) and ('update_time' in kwargs.keys()):\n",
    "        kwargs['update_time'] = update_time\n",
    "\n",
    "    vis_func = get_vis_func(func_path)\n",
    "    vis_md_text = vis_func(**kwargs)\n",
    "    plt.close()\n",
    "    \n",
    "    return vis_md_text"
   ]
  },
  {
   "cell_type": "code",
   "execution_count": 8,
   "id": "10b93dde-0705-4adf-92cf-6fc73116bbf6",
   "metadata": {},
   "outputs": [
    {
     "name": "stdout",
     "output_type": "stream",
     "text": [
      "### Measuring the Progress and Impacts of Decarbonising British Electricity\n",
      "\n",
      "The figures shown here are attempts to replicate the visualisations from [this paper](https://www.sciencedirect.com/science/article/pii/S0301421516307017) by Dr Iain Staffell which finds that:\n",
      "\n",
      "* CO2 emissions from British electricity have fallen 46% in the three years to June 2016.\n",
      "* Emissions from imports and biomass are not attributed to electricity, but add 5%.\n",
      "* Coal capacity fell 50% and output 75% due to prices, competition and legislation.\n",
      "* Wind, solar and biomass provided 20% of demand in 2015, with a peak of 45%.\n",
      "* Prices have become more volatile and net demand is falling towards must-run nuclear.\n",
      "\n",
      "These figures will be updated on a weekly basis, the last update was at: None\n",
      "\n",
      "<br>\n",
      "\n",
      "#### Weekly Averaged Generation Mix\n",
      "\n",
      "The following figure shows a stacked plot of the generation from different fuel types over time, averaged on a weekly basis. The original plot can be found [here](https://www.sciencedirect.com/science/article/pii/S0301421516307017#f0030), the following description is taken directly from the paper.\n",
      "\n",
      "> Over this period fossil fuels have become increasingly squeezed by the growth of imports, biomass, wind and solar. Coal is seen responding to seasonal changes in demand, and displaced gas over the second half of 2011. Gas generation fell steadily from an average of 17.3 GW in 2009–10 to just 9.3 GW in 2012–13. This trend reversed over the course of 2015 with gas generation rising from an average of 9.0 GW in the first quarter of 2015 to 13.8 GW in the first quarter of 2016. By May 2016 coal generation fell to an average of just 1.1 GW, and on the 10th of May instantaneous coal output fell to zero for the first in over 130 years.\n",
      "\n",
      "![](img/vis/ei_stacked_fuel.png)\n",
      "\n"
     ]
    }
   ],
   "source": [
    "docs_dir = '../docs'\n",
    "\n",
    "vis_config = vis_configs[0]\n",
    "vis_md_text = get_vis_md_text(vis_config, docs_dir=docs_dir)\n",
    "\n",
    "print(vis_md_text)"
   ]
  },
  {
   "cell_type": "code",
   "execution_count": null,
   "id": "c43471e4-1d83-4a74-99a0-c94652262771",
   "metadata": {},
   "outputs": [],
   "source": []
  },
  {
   "cell_type": "code",
   "execution_count": 9,
   "id": "74f09179-a9be-40af-9781-5a06979baa08",
   "metadata": {},
   "outputs": [],
   "source": [
    "#exports\n",
    "def get_rerun_vis_bool(vis_config):\n",
    "    if 'last_update_time' not in vis_config.keys():\n",
    "        return True\n",
    "    else:\n",
    "        last_update_time = pd.to_datetime(vis_config['last_update_time']).tz_localize('Europe/London')\n",
    "        \n",
    "    cron = croniter.croniter(vis_config['cron'], pd.Timestamp.now()-pd.Timedelta(weeks=1))\n",
    "    cron_dts = pd.to_datetime([cron.get_next() for i in range(10*48*7)], unit='s').tz_localize('UTC').tz_convert('Europe/London')\n",
    "    \n",
    "    s_cron_dts_time_delta_to_now = pd.Series((cron_dts - pd.Timestamp.now(tz='Europe/London')).total_seconds())\n",
    "    assert (s_cron_dts_time_delta_to_now<0).sum()>0 and (s_cron_dts_time_delta_to_now>0).sum()>0, 'The cron dts being assessed do not cross the current time'\n",
    "    \n",
    "    s_cron_dts_time_delta_to_last_update_time = pd.Series((cron_dts - last_update_time).total_seconds())\n",
    "    if s_cron_dts_time_delta_to_now.abs().idxmin() == s_cron_dts_time_delta_to_last_update_time.abs().idxmin():\n",
    "        return False\n",
    "    \n",
    "    avg_adj_dt_time_delta_s = pd.Series(cron_dts).diff(1).dropna().dt.total_seconds().mean()\n",
    "    min_time_delta_s = s_cron_dts_time_delta_to_now.abs().min()\n",
    "\n",
    "    rerun_vis = avg_adj_dt_time_delta_s >= min_time_delta_s\n",
    "\n",
    "    return rerun_vis"
   ]
  },
  {
   "cell_type": "code",
   "execution_count": 10,
   "id": "f4163a5a-b5ba-4f8c-93fd-06c4eb3014f6",
   "metadata": {},
   "outputs": [
    {
     "data": {
      "text/plain": [
       "True"
      ]
     },
     "execution_count": 10,
     "metadata": {},
     "output_type": "execute_result"
    }
   ],
   "source": [
    "rerun_vis = get_rerun_vis_bool(vis_config)\n",
    "\n",
    "rerun_vis"
   ]
  },
  {
   "cell_type": "code",
   "execution_count": null,
   "id": "5ed7f4f9-dcd4-4924-8aaf-db27273eb807",
   "metadata": {},
   "outputs": [],
   "source": []
  },
  {
   "cell_type": "code",
   "execution_count": 11,
   "id": "fe335465-bedd-4eca-9cbc-d73e132999ce",
   "metadata": {},
   "outputs": [],
   "source": [
    "#exports\n",
    "def update_vis_configs(\n",
    "    vis_configs, \n",
    "    docs_dir: str='docs',\n",
    "    override_rerun_vis_bool: bool=False\n",
    "):\n",
    "    for i, vis_config in enumerate(vis_configs):\n",
    "        update_time = pd.Timestamp.now().round('5min').strftime('%Y-%m-%d %H:%M')\n",
    "        rerun_vis = get_rerun_vis_bool(vis_config)\n",
    "        \n",
    "        if override_rerun_vis_bool == True:\n",
    "            rerun_vis = True\n",
    "\n",
    "        if rerun_vis == True:\n",
    "            vis_md_text = get_vis_md_text(vis_config, docs_dir=docs_dir, update_time=update_time)\n",
    "            vis_configs[i]['md_text'] = vis_md_text\n",
    "            vis_configs[i]['last_update_time'] = update_time\n",
    "            \n",
    "    return vis_configs"
   ]
  },
  {
   "cell_type": "code",
   "execution_count": 12,
   "id": "bc2ebbef-0dcd-4541-b0cf-da308b6a5789",
   "metadata": {},
   "outputs": [
    {
     "name": "stderr",
     "output_type": "stream",
     "text": [
      "100%|██████████████████████████████████████████████████████████████████████████████████| 47/47 [05:33<00:00,  7.10s/it]\n",
      "C:\\Users\\Ayrto\\AppData\\Roaming\\Python\\Python39\\site-packages\\sklearn\\utils\\validation.py:63: FutureWarning: Arrays of bytes/strings is being converted to decimal numbers if dtype='numeric'. This behavior is deprecated in 0.24 and will be removed in 1.1 (renaming of 0.26). Please convert your data to numeric values explicitly instead.\n",
      "  return f(*args, **kwargs)\n"
     ]
    }
   ],
   "source": [
    "docs_dir = '../docs'\n",
    "data_dir = '../data'\n",
    "\n",
    "with open(f'{data_dir}/vis_configs.json', 'r') as f:\n",
    "    vis_configs = json.load(f)\n",
    "\n",
    "vis_configs = update_vis_configs(vis_configs, docs_dir=docs_dir)\n",
    "    \n",
    "with open(f'{data_dir}/vis_configs.json', 'w') as f:\n",
    "    json.dump(vis_configs, f)"
   ]
  },
  {
   "cell_type": "code",
   "execution_count": null,
   "id": "8dd7e407-170b-4179-9f21-a2553cfcdb53",
   "metadata": {},
   "outputs": [],
   "source": []
  },
  {
   "cell_type": "code",
   "execution_count": 13,
   "id": "ed469a49-5d43-429f-9a8a-14f86d8ca76c",
   "metadata": {},
   "outputs": [],
   "source": [
    "# add in a mini example func template"
   ]
  },
  {
   "cell_type": "code",
   "execution_count": 14,
   "id": "6c50e01c-17a5-4cf1-8dcf-a6ef9ef51d59",
   "metadata": {},
   "outputs": [
    {
     "name": "stdout",
     "output_type": "stream",
     "text": [
      "# Visualisations\n",
      "\n",
      "<br>\n",
      "\n",
      "### Measuring the Progress and Impacts of Decarbonising British Electricity\n",
      "\n",
      "The figures shown here are attempts to replicate the visualisations from [this paper](https://www.sciencedirect.com/science/article/pii/S0301421516307017) by Dr Iain Staffell which finds that:\n",
      "\n",
      "* CO2 emissions from British electricity have fallen 46% in the three years to June 2016.\n",
      "* Emissions from imports and biomass are not attributed to electricity, but add 5%.\n",
      "* Coal capacity fell 50% and output 75% due to prices, competition and legislation.\n",
      "* Wind, solar and biomass provided 20% of demand in 2015, with a peak of 45%.\n",
      "* Prices have become more volatile and net demand is falling towards must-run nuclear.\n",
      "\n",
      "These figures will be updated on a weekly basis, the last update was at: 2021-07-05 13:15\n",
      "\n",
      "<br>\n",
      "\n",
      "#### Weekly Averaged Generation Mix\n",
      "\n",
      "The following figure shows a stacked plot of the generation from different fuel types over time, averaged on a weekly basis. The original plot can be found [here](https://www.sciencedirect.com/science/article/pii/S0301421516307017#f0030), the following description is taken directly from the paper.\n",
      "\n",
      "> Over this period fossil fuels have become increasingly squeezed by the growth of imports, biomass, wind and solar. Coal is seen responding to seasonal changes in demand, and displaced gas over the second half of 2011. Gas generation fell steadily from an average of 17.3 GW in 2009–10 to just 9.3 GW in 2012–13. This trend reversed over the course of 2015 with gas generation rising from an average of 9.0 GW in the first quarter of 2015 to 13.8 GW in the first quarter of 2016. By May 2016 coal generation fell to an average of just 1.1 GW, and on the 10th of May instantaneous coal output fell to zero for the first in over 130 years.\n",
      "\n",
      "![](img/vis/ei_stacked_fuel.png)\n",
      "\n",
      "\n",
      "<br>\n",
      "\n",
      "### Marginal Price Curve Estimation\n",
      "\n",
      "The figure shown here is reproduced from the work in [this paper](https://ayrtonb.github.io/Merit-Order-Effect/#paper) by Ayrton Bourn which investigates the merit order effect of renewables in the GB and DE power markets in terms of the price and carbon reductions - the key findings are as follows:\n",
      "\n",
      "* A LOWESS estimation of the non-linear marginal price curve for dispatchable generation shows high back-casting accuracy for Germany and Britain\n",
      "* The evolving Merit Order Effect (MOE) was estimated through a time-adaptive model, enabling long-term trends to be captured\n",
      "* In Britain the MOE has increased sharply since 2016, with a 0.67% price reduction per p.p. increase in RES penetration\n",
      "* Disaggregation of the MOE by fuel-type highlights key differences in the transition paths of Britain and Germany\n",
      "\n",
      "This figure will be updated on a weekly basis, the last update was at: 2021-07-05 13:20\n",
      "\n",
      "<br>\n",
      "\n",
      "#### Smoothed Price Time-Series Surface\n",
      "\n",
      "This figure shows the LOWESS (Locally Weighted Scatterplot Smoothing) regressions for the day-ahead marginal price curve visualised as a heatmap surface, highlighting the seasonal and non-cyclical changes over time. A mask has been applied where the residual demand after RES is outside the range of 99% of the data. This view is particularly helpful for picking up long-term trends in the market, for example the higher power prices seen in 18/19 due to high gas prices.\n",
      "\n",
      "\n",
      "![](img/vis/moe_surface.png)\n",
      "\n",
      "\n",
      "<br>\n",
      "\n",
      "### De-Rated Margin\n",
      "\n",
      "In each settlement period the system operator publishes the de-rated margin forecast calculated in accordance with the [Loss of Load Probability Calculation Statement](https://www.elexon.co.uk/documents/bsc-codes/lolp/loss-of-load-probability-calculation-statement/) at the following times:\n",
      "\n",
      "* At 1200 hours on each calendar day for all Settlement Periods for which Gate Closure has not yet passed and which occur within the current Operational Day or the following Operational Day; and\n",
      "* At eight, four, two and one hour(s) prior to the beginning of the Settlement Period to which the De-Rated Margin Forecast relates.\n",
      "\n",
      "These figures will be updated on an hourly basis, the last update was at: 2021-07-05 13:20\n",
      "\n",
      "<br>\n",
      "\n",
      "#### Forecasts\n",
      "\n",
      "The following heatmap shows the evolving de-rated margin forecast across the different forecast horizons.\n",
      "\n",
      "![](img/vis/drm_fcst_htmp.png)\n",
      "\n",
      "<br>\n",
      "\n",
      "#### Forecast Deltas\n",
      "\n",
      "The following heatmap shows how the more recent de-rated margin forecasts deviate from the 8 hours ahead forecast.\n",
      "\n",
      "![](img/vis/drm_fcst_delta_htmp.png)\n",
      "\n"
     ]
    }
   ],
   "source": [
    "all_vis_md_texts = ['# Visualisations'] + [vis_config['md_text'] for vis_config in vis_configs]\n",
    "combined_md_text = '\\n\\n<br>\\n\\n'.join(all_vis_md_texts)\n",
    "\n",
    "print(combined_md_text)"
   ]
  },
  {
   "cell_type": "code",
   "execution_count": null,
   "id": "e370356a-e3f3-41b4-9954-4268fe1d4100",
   "metadata": {},
   "outputs": [],
   "source": []
  },
  {
   "cell_type": "code",
   "execution_count": 15,
   "id": "cb16fc52-72e5-4236-90eb-f6fbcf7c999e",
   "metadata": {},
   "outputs": [],
   "source": [
    "with open('../docs/visualisations.md', 'w', encoding='utf-8') as f:\n",
    "    f.write(combined_md_text)"
   ]
  },
  {
   "cell_type": "code",
   "execution_count": null,
   "id": "b99033ed-5194-4579-bf16-85f412ed3bc9",
   "metadata": {},
   "outputs": [],
   "source": []
  },
  {
   "cell_type": "markdown",
   "id": "36983b7c-b1e4-4ebc-96b5-9c31a6f2c049",
   "metadata": {},
   "source": [
    "<br>\n",
    "\n",
    "`python -m ElexonDataPortal.vis.gen`"
   ]
  },
  {
   "cell_type": "code",
   "execution_count": 19,
   "id": "c462a1d2-a616-4eeb-960d-ba5e92498dc0",
   "metadata": {},
   "outputs": [],
   "source": [
    "#exports\n",
    "app = typer.Typer()\n",
    "\n",
    "@app.command()\n",
    "def update_vis(\n",
    "    docs_dir: str='docs',\n",
    "    data_dir: str='data',\n",
    "    override_rerun_vis_bool: bool=False\n",
    "):\n",
    "    with open(f'{data_dir}/vis_configs.json', 'r') as f:\n",
    "        vis_configs = json.load(f)\n",
    "\n",
    "    vis_configs = update_vis_configs(vis_configs, docs_dir=docs_dir, override_rerun_vis_bool=override_rerun_vis_bool)\n",
    "\n",
    "    with open(f'{data_dir}/vis_configs.json', 'w') as f:\n",
    "        json.dump(vis_configs, f)\n",
    "        \n",
    "    prefix_text = \"\"\"# Visualisations\n",
    "\n",
    "On this page you can view visualisations of key phenomena in the GB power sector, ranging from long-term trends in the generation-mix and market prices to information on excess capacity in the grid. All data used in these visualisations was either sourced directly from BMRS using the `ElexonDataPortal` client, or has been derived from BMRS data streams. As with the other components of the `ElexonDataPortal` the code to generate these visualisations is open-source and users are welcome to contribute their own visualisations, for more detail on how to do this please refer to the [user contribution guide](#contributor-guide)\n",
    "    \"\"\"\n",
    "        \n",
    "    suffix_text = \"\"\"### Contributor Guide\n",
    "\n",
    "We encourage users to contribute their own visualisations which the `ElexonDataPortal` will then update automatically. To this end the library adopts a standardised format for generating visualisations, the core component of which is the `data/vis_configs.json` file to which you will have to add detail on your visualisation function: \n",
    "\n",
    "```javascript\n",
    "[\n",
    "    ...\n",
    "    {\n",
    "        \"cron\": \"0 * * * *\", # the update schedule, in this instance to run at midnight every sunday\n",
    "        \"function\": \"path_to_function\", # e.g. ElexonDataPortal.vis.generate_vis\n",
    "        \"kwargs\": {\n",
    "            'api_key': null,  # if no api_key is passed then the client will try and look for the `BMRS_API_KEY` environment variable\n",
    "            'update_time': null, # if no update_time is passed you should generate it yourself, e.g. with `pd.Timestamp.now().round('5min').strftime('%Y-%m-%d %H:%M')`\n",
    "            'docs_dir': 'docs', # in almost all circumstances this should just be `docs`\n",
    "            \"optional_kwarg\": \"optional_value\" # you can specify any additional keyword arguments that your function requires\n",
    "        }\n",
    "    },\n",
    "    ...\n",
    "]\n",
    "```\n",
    "\n",
    "<br>\n",
    "\n",
    "The other core component is writing the function that generates the visualisation. This function should require parameters for the `docs_dir`, `api_key`, and `update_time` but can include optional parameters that you wish to specify, it should then return markdown text which will be used to populate the *Visualisations* page. These functions will normally contain three steps: data retrieval, generating the visualisation, and generating the accompanying text - an example can be seen below.\n",
    "\n",
    "```python\n",
    "import pandas as pd\n",
    "import matplotlib.pyplot as plt\n",
    "from ElexonDataPortal.api import Client\n",
    "\n",
    "def generate_vis(\n",
    "    docs_dir: str='docs',\n",
    "    api_key: str=None,\n",
    "    update_time: str=pd.Timestamp.now().round('5min').strftime('%Y-%m-%d %H:%M'),\n",
    ") -> str:\n",
    "\n",
    "    # Data Retrieval\n",
    "    client = Client(api_key=api_key)\n",
    "    df = client.get_data_stream(param1, param2)\n",
    "    \n",
    "    # Generating the Visualisation\n",
    "    fig, ax = plt.subplots(dpi=150)\n",
    "    df.plot(ax=ax)\n",
    "    fig.savefig(f'{docs_dir}/img/vis/great_vis_name.png')\n",
    "    \n",
    "    # Generating the Text\n",
    "    md_text = f\\\"\\\"\\\"### Title\n",
    "    \n",
    "Explanation of what your visualisation shows\n",
    "\n",
    "![](img/vis/great_vis_name.png)\n",
    "\\\"\\\"\\\"\n",
    "    \n",
    "    return md_text\n",
    "```\n",
    "\n",
    "N.b. the path to the image should be relative to the `docs` directory.\n",
    "\n",
    "If you require any assistance in this process please start a discussion [here](https://github.com/OSUKED/ElexonDataPortal/discussions) and we'll endeavour to help as best we can.\n",
    "\"\"\"\n",
    "        \n",
    "    all_vis_md_texts = [prefix_text] + [vis_config['md_text'] for vis_config in vis_configs] + [suffix_text]\n",
    "    combined_md_text = '\\n\\n<br>\\n\\n'.join(all_vis_md_texts)\n",
    "\n",
    "    with open(f'{docs_dir}/visualisations.md', 'w', encoding='utf-8') as f:\n",
    "        f.write(combined_md_text)\n",
    "        \n",
    "    return\n",
    "\n",
    "if __name__ == '__main__' and '__file__' in globals():\n",
    "    app()"
   ]
  },
  {
   "cell_type": "code",
   "execution_count": 22,
   "id": "ea75ebb9-8999-4dc4-a030-3ee4b362ea59",
   "metadata": {},
   "outputs": [
    {
     "name": "stderr",
     "output_type": "stream",
     "text": [
      "100%|██████████████████████████████████████████████████████████████████████████████████| 47/47 [05:40<00:00,  7.25s/it]\n",
      "C:\\Users\\Ayrto\\AppData\\Roaming\\Python\\Python39\\site-packages\\sklearn\\utils\\validation.py:63: FutureWarning: Arrays of bytes/strings is being converted to decimal numbers if dtype='numeric'. This behavior is deprecated in 0.24 and will be removed in 1.1 (renaming of 0.26). Please convert your data to numeric values explicitly instead.\n",
      "  return f(*args, **kwargs)\n"
     ]
    }
   ],
   "source": [
    "update_vis(docs_dir='../docs', data_dir='../data', override_rerun_vis_bool=True)"
   ]
  },
  {
   "cell_type": "code",
   "execution_count": null,
   "id": "31904856-2927-4f1c-bac0-b0a2b859fb0e",
   "metadata": {},
   "outputs": [],
   "source": []
  },
  {
   "cell_type": "code",
   "execution_count": null,
   "id": "f9ff3b3b-05e0-41a3-8a3c-4f5b4629b154",
   "metadata": {},
   "outputs": [],
   "source": [
    "# need to write a func that will be run by the GH action \n",
    "# should check the time between now and any cron jobs descs, then run those that are within 24hrs\n",
    "# no cron jobs will run more frequently than every 24hrs\n",
    "\n",
    "# How to contribute?\n",
    "# * Create a function that writes an image to the `docs/img/vis` directory \n",
    "# * Ensure that same function returns a markdown string which will render the desired text and images if loaded from the `docs` directory\n",
    "# * Add the function name, schedule (in cron notation), and any kwargs to be passed to the function as a new item in the `data/vis_configs.json` file"
   ]
  },
  {
   "cell_type": "code",
   "execution_count": null,
   "id": "6afdf3f7-933b-4246-9705-8192877c54e7",
   "metadata": {},
   "outputs": [],
   "source": []
  },
  {
   "cell_type": "code",
   "execution_count": 2,
   "id": "f85482ab-c55b-4def-bf69-ef515b2df63f",
   "metadata": {},
   "outputs": [
    {
     "name": "stdout",
     "output_type": "stream",
     "text": [
      "Converted vis-00-gen.ipynb.\n"
     ]
    }
   ],
   "source": [
    "#hide\n",
    "from ElexonDataPortal.dev.nbdev import notebook2script\n",
    "notebook2script('vis-00-gen.ipynb')"
   ]
  }
 ],
 "metadata": {
  "kernelspec": {
   "display_name": "BMRS",
   "language": "python",
   "name": "bmrs"
  },
  "language_info": {
   "codemirror_mode": {
    "name": "ipython",
    "version": 3
   },
   "file_extension": ".py",
   "mimetype": "text/x-python",
   "name": "python",
   "nbconvert_exporter": "python",
   "pygments_lexer": "ipython3",
   "version": "3.9.4"
  }
 },
 "nbformat": 4,
 "nbformat_minor": 5
}
