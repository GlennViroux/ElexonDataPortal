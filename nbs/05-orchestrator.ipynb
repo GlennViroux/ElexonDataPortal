{
 "cells": [
  {
   "cell_type": "code",
   "execution_count": 1,
   "id": "8adea44c-bc4e-4926-a03c-27454e578c6c",
   "metadata": {},
   "outputs": [],
   "source": [
    "#hide\n",
    "#default_exp dev.orchestrator"
   ]
  },
  {
   "cell_type": "markdown",
   "id": "b8f86587-732e-4582-8190-130c62f334ed",
   "metadata": {},
   "source": [
    "# Core API"
   ]
  },
  {
   "cell_type": "markdown",
   "id": "26f2b035-202e-4fa9-8129-1a2d1010fe45",
   "metadata": {},
   "source": [
    "<br>\n",
    "\n",
    "### Imports"
   ]
  },
  {
   "cell_type": "code",
   "execution_count": 2,
   "id": "f7fd2a42-ed8e-4fc1-945e-bbf705f72c26",
   "metadata": {},
   "outputs": [],
   "source": [
    "#exports\n",
    "import pandas as pd\n",
    "from tqdm import tqdm\n",
    "from warnings import warn\n",
    "from requests.models import Response\n",
    "\n",
    "from ElexonDataPortal.dev import utils, raw"
   ]
  },
  {
   "cell_type": "code",
   "execution_count": 3,
   "id": "b43a51a1-4378-41d9-bd86-5bb00ca1b4c5",
   "metadata": {},
   "outputs": [],
   "source": [
    "from IPython.display import JSON\n",
    "from ElexonDataPortal.dev import clientprep"
   ]
  },
  {
   "cell_type": "code",
   "execution_count": null,
   "id": "4984bebf-8b4a-4b93-bed9-f215f17da50a",
   "metadata": {},
   "outputs": [],
   "source": []
  },
  {
   "cell_type": "code",
   "execution_count": 4,
   "id": "278a1a75-7e3d-40ac-87cd-07a89cc09781",
   "metadata": {
    "tags": []
   },
   "outputs": [],
   "source": [
    "import os\n",
    "from dotenv import load_dotenv\n",
    "\n",
    "assert load_dotenv('../.env'), 'Environment variables could not be loaded'\n",
    "\n",
    "api_key = os.environ['BMRS_API_KEY']"
   ]
  },
  {
   "cell_type": "code",
   "execution_count": null,
   "id": "a8b03097-df1d-4a47-9851-5d6c37a69d43",
   "metadata": {},
   "outputs": [],
   "source": []
  },
  {
   "cell_type": "code",
   "execution_count": 5,
   "id": "aed7d400-9955-4fdf-9d08-77bc740aa00f",
   "metadata": {},
   "outputs": [
    {
     "data": {
      "application/json": [
       {
        "get_B0610": {
         "func_kwargs": {
          "APIKey": "AP8DA23",
          "SP": "1",
          "ServiceType": "csv",
          "date": "2021-01-01"
         },
         "kwargs_map": {
          "SP": "Period",
          "date": "SettlementDate"
         },
         "request_type": "SP_and_date"
        },
        "get_B0620": {
         "func_kwargs": {
          "APIKey": "AP8DA23",
          "SP": "1",
          "ServiceType": "csv",
          "date": "2021-01-01"
         },
         "kwargs_map": {
          "SP": "Period",
          "date": "SettlementDate"
         },
         "request_type": "SP_and_date"
        },
        "get_B0630": {
         "func_kwargs": {
          "APIKey": "AP8DA23",
          "ServiceType": "csv",
          "week": "22",
          "year": "2021"
         },
         "kwargs_map": {
          "week": "Week",
          "year": "Year"
         },
         "request_type": "year_and_week"
        },
        "get_B0640": {
         "func_kwargs": {
          "APIKey": "AP8DA23",
          "ServiceType": "csv",
          "month": "MAR",
          "year": "2021"
         },
         "kwargs_map": {
          "month": "Month",
          "year": "Year"
         },
         "request_type": "year_and_month"
        },
        "get_B0650": {
         "func_kwargs": {
          "APIKey": "AP8DA23",
          "ServiceType": "csv",
          "year": "2021"
         },
         "kwargs_map": {
          "year": "Year"
         },
         "request_type": "year"
        },
        "get_B0710": {
         "func_kwargs": {
          "APIKey": "AP8DA23",
          "ServiceType": "csv",
          "end_date": "2021-02-01",
          "end_time": "23:59:59",
          "start_date": "2021-01-01",
          "start_time": "00:00:00"
         },
         "kwargs_map": {
          "end_date": "EndDate",
          "end_time": "EndTime",
          "start_date": "StartDate",
          "start_time": "StartTime"
         },
         "request_type": "date_time_range"
        },
        "get_B0720": {
         "func_kwargs": {
          "APIKey": "AP8DA23",
          "ServiceType": "csv",
          "end_date": "2021-02-01",
          "end_time": "23:59:59",
          "start_date": "2021-01-01",
          "start_time": "00:00:00"
         },
         "kwargs_map": {
          "end_date": "EndDate",
          "end_time": "EndTime",
          "start_date": "StartDate",
          "start_time": "StartTime"
         },
         "request_type": "date_time_range"
        },
        "get_B0810": {
         "func_kwargs": {
          "APIKey": "AP8DA23",
          "ServiceType": "csv",
          "year": "2021"
         },
         "kwargs_map": {
          "year": "Year"
         },
         "request_type": "year"
        },
        "get_B0910": {
         "func_kwargs": {
          "APIKey": "AP8DA23",
          "ServiceType": "csv",
          "year": "2021"
         },
         "kwargs_map": {
          "year": "Year"
         },
         "request_type": "year"
        },
        "get_B1010": {
         "func_kwargs": {
          "APIKey": "AP8DA23",
          "ServiceType": "csv",
          "end_date": "2021-02-01",
          "end_time": "23:59:59",
          "start_date": "2021-01-01",
          "start_time": "00:00:00"
         },
         "kwargs_map": {
          "end_date": "EndDate",
          "end_time": "EndTime",
          "start_date": "StartDate",
          "start_time": "StartTime"
         },
         "request_type": "date_time_range"
        },
        "get_B1020": {
         "func_kwargs": {
          "APIKey": "AP8DA23",
          "ServiceType": "csv",
          "end_date": "2021-02-01",
          "end_time": "23:59:59",
          "start_date": "2021-01-01",
          "start_time": "00:00:00"
         },
         "kwargs_map": {
          "end_date": "EndDate",
          "end_time": "EndTime",
          "start_date": "StartDate",
          "start_time": "StartTime"
         },
         "request_type": "date_time_range"
        },
        "get_B1030": {
         "func_kwargs": {
          "APIKey": "AP8DA23",
          "ServiceType": "csv",
          "end_date": "2021-02-01",
          "end_time": "23:59:59",
          "start_date": "2021-01-01",
          "start_time": "00:00:00"
         },
         "kwargs_map": {
          "end_date": "EndDate",
          "end_time": "EndTime",
          "start_date": "StartDate",
          "start_time": "StartTime"
         },
         "request_type": "date_time_range"
        },
        "get_B1320": {
         "func_kwargs": {
          "APIKey": "AP8DA23",
          "SP": "1",
          "ServiceType": "csv",
          "date": "2021-01-01"
         },
         "kwargs_map": {
          "SP": "Period",
          "date": "SettlementDate"
         },
         "request_type": "SP_and_date"
        },
        "get_B1330": {
         "func_kwargs": {
          "APIKey": "AP8DA23",
          "ServiceType": "csv",
          "month": "Mar",
          "year": "2021"
         },
         "kwargs_map": {
          "month": "Month",
          "year": "Year"
         },
         "request_type": "year_and_month"
        },
        "get_B1410": {
         "func_kwargs": {
          "APIKey": "AP8DA23",
          "ServiceType": "csv",
          "year": "2021"
         },
         "kwargs_map": {
          "year": "Year"
         },
         "request_type": "year"
        },
        "get_B1420": {
         "func_kwargs": {
          "APIKey": "AP8DA23",
          "ServiceType": "csv",
          "year": "2021"
         },
         "kwargs_map": {
          "year": "Year"
         },
         "request_type": "year"
        },
        "get_B1430": {
         "func_kwargs": {
          "APIKey": "AP8DA23",
          "SP": "1",
          "ServiceType": "csv",
          "date": "2021-01-01"
         },
         "kwargs_map": {
          "SP": "Period",
          "date": "SettlementDate"
         },
         "request_type": "SP_and_date"
        },
        "get_B1440": {
         "func_kwargs": {
          "APIKey": "AP8DA23",
          "ProcessType": "Day Ahead",
          "SP": "1",
          "ServiceType": "csv",
          "date": "2021-01-01"
         },
         "kwargs_map": {
          "SP": "Period",
          "date": "SettlementDate"
         },
         "request_type": "SP_and_date"
        },
        "get_B1510": {
         "func_kwargs": {
          "APIKey": "AP8DA23",
          "ServiceType": "csv",
          "end_date": "2021-02-01",
          "end_time": "23:59:59",
          "start_date": "2021-01-01",
          "start_time": "00:00:00"
         },
         "kwargs_map": {
          "end_date": "EndDate",
          "end_time": "EndTime",
          "start_date": "StartDate",
          "start_time": "StartTime"
         },
         "request_type": "date_time_range"
        },
        "get_B1520": {
         "func_kwargs": {
          "APIKey": "AP8DA23",
          "ServiceType": "csv",
          "end_date": "2021-02-01",
          "end_time": "23:59:59",
          "start_date": "2021-01-01",
          "start_time": "00:00:00"
         },
         "kwargs_map": {
          "end_date": "EndDate",
          "end_time": "EndTime",
          "start_date": "StartDate",
          "start_time": "StartTime"
         },
         "request_type": "date_time_range"
        },
        "get_B1530": {
         "func_kwargs": {
          "APIKey": "AP8DA23",
          "ServiceType": "csv",
          "end_date": "2021-02-01",
          "end_time": "23:59:59",
          "start_date": "2021-01-01",
          "start_time": "00:00:00"
         },
         "kwargs_map": {
          "end_date": "EndDate",
          "end_time": "EndTime",
          "start_date": "StartDate",
          "start_time": "StartTime"
         },
         "request_type": "date_time_range"
        },
        "get_B1540": {
         "func_kwargs": {
          "APIKey": "AP8DA23",
          "ServiceType": "csv",
          "end_date": "2021-02-01",
          "end_time": "23:59:59",
          "start_date": "2021-01-01",
          "start_time": "00:00:00"
         },
         "kwargs_map": {
          "end_date": "EndDate",
          "end_time": "EndTime",
          "start_date": "StartDate",
          "start_time": "StartTime"
         },
         "request_type": "date_time_range"
        },
        "get_B1610": {
         "func_kwargs": {
          "APIKey": "AP8DA23",
          "NGCBMUnitID": "*",
          "SP": "1",
          "ServiceType": "csv",
          "date": "2021-01-01"
         },
         "kwargs_map": {
          "SP": "Period",
          "date": "SettlementDate"
         },
         "request_type": "SP_and_date"
        },
        "get_B1620": {
         "func_kwargs": {
          "APIKey": "AP8DA23",
          "SP": "1",
          "ServiceType": "csv",
          "date": "2021-01-01"
         },
         "kwargs_map": {
          "SP": "Period",
          "date": "SettlementDate"
         },
         "request_type": "SP_and_date"
        },
        "get_B1630": {
         "func_kwargs": {
          "APIKey": "AP8DA23",
          "SP": "1",
          "ServiceType": "csv",
          "date": "2021-01-01"
         },
         "kwargs_map": {
          "SP": "Period",
          "date": "SettlementDate"
         },
         "request_type": "SP_and_date"
        },
        "get_B1720": {
         "func_kwargs": {
          "APIKey": "AP8DA23",
          "SP": "1",
          "ServiceType": "csv",
          "date": "2021-01-01"
         },
         "kwargs_map": {
          "SP": "Period",
          "date": "SettlementDate"
         },
         "request_type": "SP_and_date"
        },
        "get_B1730": {
         "func_kwargs": {
          "APIKey": "AP8DA23",
          "SP": "1",
          "ServiceType": "csv",
          "date": "2021-01-01"
         },
         "kwargs_map": {
          "SP": "Period",
          "date": "SettlementDate"
         },
         "request_type": "SP_and_date"
        },
        "get_B1740": {
         "func_kwargs": {
          "APIKey": "AP8DA23",
          "SP": "1",
          "ServiceType": "csv",
          "date": "2021-01-01"
         },
         "kwargs_map": {
          "SP": "Period",
          "date": "SettlementDate"
         },
         "request_type": "SP_and_date"
        },
        "get_B1750": {
         "func_kwargs": {
          "APIKey": "AP8DA23",
          "SP": "1",
          "ServiceType": "csv",
          "date": "2021-01-01"
         },
         "kwargs_map": {
          "SP": "Period",
          "date": "SettlementDate"
         },
         "request_type": "SP_and_date"
        },
        "get_B1760": {
         "func_kwargs": {
          "APIKey": "AP8DA23",
          "SP": "1",
          "ServiceType": "csv",
          "date": "2021-01-01"
         },
         "kwargs_map": {
          "SP": "Period",
          "date": "SettlementDate"
         },
         "request_type": "SP_and_date"
        },
        "get_B1770": {
         "func_kwargs": {
          "APIKey": "AP8DA23",
          "SP": "1",
          "ServiceType": "csv",
          "date": "2021-01-01"
         },
         "kwargs_map": {
          "SP": "Period",
          "date": "SettlementDate"
         },
         "request_type": "SP_and_date"
        },
        "get_B1780": {
         "func_kwargs": {
          "APIKey": "AP8DA23",
          "SP": "1",
          "ServiceType": "csv",
          "date": "2021-01-01"
         },
         "kwargs_map": {
          "SP": "Period",
          "date": "SettlementDate"
         },
         "request_type": "SP_and_date"
        },
        "get_B1790": {
         "func_kwargs": {
          "APIKey": "AP8DA23",
          "ServiceType": "csv",
          "month": "MAR",
          "year": "2021"
         },
         "kwargs_map": {
          "month": "Month",
          "year": "Year"
         },
         "request_type": "year_and_month"
        },
        "get_B1810": {
         "func_kwargs": {
          "APIKey": "AP8DA23",
          "SP": "1",
          "ServiceType": "csv",
          "date": "2021-01-01"
         },
         "kwargs_map": {
          "SP": "Period",
          "date": "SettlementDate"
         },
         "request_type": "SP_and_date"
        },
        "get_B1820": {
         "func_kwargs": {
          "APIKey": "AP8DA23",
          "SP": "1",
          "ServiceType": "csv",
          "date": "2021-01-01"
         },
         "kwargs_map": {
          "SP": "Period",
          "date": "SettlementDate"
         },
         "request_type": "SP_and_date"
        },
        "get_B1830": {
         "func_kwargs": {
          "APIKey": "AP8DA23",
          "SP": "1",
          "ServiceType": "csv",
          "date": "2021-01-01"
         },
         "kwargs_map": {
          "SP": "Period",
          "date": "SettlementDate"
         },
         "request_type": "SP_and_date"
        },
        "get_BOD": {
         "func_kwargs": {
          "APIKey": "AP8DA23",
          "BMUnitId": "2__AEENG000, G, E.ON Energy, Solutions Limited, EAS-EST01",
          "BMUnitType": "G, S, E, I, T, etc",
          "LeadPartyName": "AES New Energy Limited",
          "NGCBMUnit": "EAS-ASP01, AES New Energy Limited, G, 2__AAEPD000",
          "Name": "2__AAEPD000",
          "SP": "12",
          "ServiceType": "csv",
          "date": "2021-01-01"
         },
         "kwargs_map": {
          "SP": "SettlementPeriod",
          "date": "SettlementDate"
         },
         "request_type": "SP_and_date"
        },
        "get_CDN": {
         "func_kwargs": {
          "APIKey": "AP8DA23",
          "FromClearedDate": "2021-01-01",
          "ServiceType": "csv",
          "ToClearedDate": "2021-02-01"
         },
         "kwargs_map": {},
         "request_type": "non_temporal"
        },
        "get_DETSYSPRICES": {
         "func_kwargs": {
          "APIKey": "AP8DA23",
          "SP": "2",
          "ServiceType": "csv",
          "date": "2014-02-01"
         },
         "kwargs_map": {
          "SP": "SettlementPeriod",
          "date": "SettlementDate"
         },
         "request_type": "SP_and_date"
        },
        "get_DEVINDOD": {
         "func_kwargs": {
          "APIKey": "AP8DA23",
          "ServiceType": "csv",
          "end_date": "2021-02-01",
          "start_date": "2021-01-01"
         },
         "kwargs_map": {
          "end_date": "ToDate",
          "start_date": "FromDate"
         },
         "request_type": "date_range"
        },
        "get_DISBSAD": {
         "func_kwargs": {
          "APIKey": "AP8DA23",
          "SP": "1",
          "ServiceType": "csv",
          "date": "2021-01-01"
         },
         "kwargs_map": {
          "SP": "SettlementPeriod",
          "date": "SettlementDate"
         },
         "request_type": "SP_and_date"
        },
        "get_FORDAYDEM": {
         "func_kwargs": {
          "APIKey": "AP8DA23",
          "ServiceType": "csv",
          "ZoneIdentifier": "N",
          "end_date": "2021-02-01",
          "start_date": "2021-01-01"
         },
         "kwargs_map": {
          "end_date": "ToDate",
          "start_date": "FromDate"
         },
         "request_type": "date_range"
        },
        "get_FREQ": {
         "func_kwargs": {
          "APIKey": "AP8DA23",
          "FromDateTime": "2021-01-01 00:01:00",
          "ServiceType": "csv",
          "ToDateTime": "2021-01-02 23:59:00"
         },
         "kwargs_map": {},
         "request_type": "non_temporal"
        },
        "get_FUELHH": {
         "func_kwargs": {
          "APIKey": "AP8DA23",
          "ServiceType": "csv",
          "end_date": "44228",
          "start_date": "44197"
         },
         "kwargs_map": {
          "end_date": "ToDate",
          "start_date": "FromDate"
         },
         "request_type": "date_range"
        },
        "get_MELIMBALNGC": {
         "func_kwargs": {
          "APIKey": "AP8DA23",
          "ServiceType": "csv",
          "ZoneIdentifier": "N",
          "end_date": "2021-02-01",
          "start_date": "2021-01-01"
         },
         "kwargs_map": {
          "end_date": "ToDate",
          "start_date": "FromDate"
         },
         "request_type": "date_range"
        },
        "get_MID": {
         "func_kwargs": {
          "APIKey": "AP8DA23",
          "SP": "*",
          "ServiceType": "csv",
          "end_date": "2021-02-01",
          "start_date": "2021-01-01"
         },
         "kwargs_map": {
          "SP": "Period",
          "end_date": "ToSettlementDate",
          "start_date": "FromSettlementDate"
         },
         "request_type": "date_range"
        },
        "get_MessageDetailRetrieval": {
         "func_kwargs": {
          "APIKey": "AP8DA23",
          "ActiveFlag": "N",
          "MessageId": "",
          "ParticipantId": "",
          "SequenceId": "",
          "ServiceType": "csv/xml."
         },
         "kwargs_map": {},
         "request_type": "non_temporal"
        },
        "get_MessageListRetrieval": {
         "func_kwargs": {
          "APIKey": "AP8DA23",
          "AssetID": "",
          "EventEnd": "2021-02-01",
          "EventStart": "2021-01-01",
          "EventType": "",
          "FuelType": "",
          "MessageID": "",
          "MessageType": "",
          "ParticipantId": "",
          "PublicationFrom": "2021-01-01",
          "PublicationTo": "2021-02-01",
          "ServiceType": "csv",
          "UnavailabilityType": ""
         },
         "kwargs_map": {},
         "request_type": "non_temporal"
        },
        "get_NETBSAD": {
         "func_kwargs": {
          "APIKey": "AP8DA23",
          "SP": "1",
          "ServiceType": "csv",
          "date": "2021-01-01",
          "isTwoDayWindow": "FALSE"
         },
         "kwargs_map": {
          "SP": "SettlementPeriod",
          "date": "SettlementDate"
         },
         "request_type": "SP_and_date"
        },
        "get_NONBM": {
         "func_kwargs": {
          "APIKey": "AP8DA23",
          "ServiceType": "csv",
          "end_date": "2021-02-01",
          "start_date": "2021-01-01"
         },
         "kwargs_map": {
          "end_date": "ToDate",
          "start_date": "FromDate"
         },
         "request_type": "date_range"
        },
        "get_PHYBMDATA": {
         "func_kwargs": {
          "APIKey": "AP8DA23",
          "BMUnitId": "",
          "BMUnitType": "",
          "LeadPartyName": "",
          "NGCBMUnit": "",
          "Name": "",
          "SP": "12",
          "ServiceType": "csv",
          "date": "2021-01-01"
         },
         "kwargs_map": {
          "SP": "SettlementPeriod",
          "date": "SettlementDate"
         },
         "request_type": "SP_and_date"
        },
        "get_SYSDEM": {
         "func_kwargs": {
          "APIKey": "AP8DA23",
          "ServiceType": "csv",
          "end_date": "2021-02-01",
          "start_date": "2021-01-01"
         },
         "kwargs_map": {
          "end_date": "ToDate",
          "start_date": "FromDate"
         },
         "request_type": "date_range"
        },
        "get_SYSWARN": {
         "func_kwargs": {
          "APIKey": "AP8DA23",
          "ServiceType": "csv",
          "end_date": "2021-02-01",
          "start_date": "2021-01-01"
         },
         "kwargs_map": {
          "end_date": "ToDate",
          "start_date": "FromDate"
         },
         "request_type": "date_range"
        },
        "get_TEMP": {
         "func_kwargs": {
          "APIKey": "AP8DA23",
          "ServiceType": "csv",
          "end_date": "2021-02-01",
          "start_date": "2021-01-01"
         },
         "kwargs_map": {
          "end_date": "ToDate",
          "start_date": "FromDate"
         },
         "request_type": "date_range"
        },
        "get_WINDFORFUELHH": {
         "func_kwargs": {
          "APIKey": "AP8DA23",
          "ServiceType": "csv",
          "end_date": "2021-02-01",
          "start_date": "2021-01-01"
         },
         "kwargs_map": {
          "end_date": "ToDate",
          "start_date": "FromDate"
         },
         "request_type": "date_range"
        }
       }
      ],
      "text/plain": [
       "<IPython.core.display.JSON object>"
      ]
     },
     "execution_count": 5,
     "metadata": {
      "application/json": {
       "expanded": false,
       "root": "root"
      }
     },
     "output_type": "execute_result"
    }
   ],
   "source": [
    "API_yaml_fp = '../data/BMRS_API.yaml'\n",
    "\n",
    "method_info = clientprep.construct_method_info_dict(API_yaml_fp)\n",
    "    \n",
    "JSON([method_info])"
   ]
  },
  {
   "cell_type": "markdown",
   "id": "ee6dc186-7060-4819-9c1b-c71955203e2f",
   "metadata": {},
   "source": [
    "<br>\n",
    "\n",
    "### Request Types"
   ]
  },
  {
   "cell_type": "code",
   "execution_count": 6,
   "id": "c8202c64-2386-44ef-84af-6f77dd1ee62c",
   "metadata": {},
   "outputs": [],
   "source": [
    "#exports\n",
    "def retry_request(raw, method, kwargs, n_attempts=3):\n",
    "    attempts = 0\n",
    "    success = False\n",
    "\n",
    "    while (attempts < n_attempts) and (success == False):\n",
    "        try:\n",
    "            r = getattr(raw, method)(**kwargs)\n",
    "            utils.check_status(r)\n",
    "            success = True\n",
    "        except Exception as e:\n",
    "            attempts += 1\n",
    "            if attempts == n_attempts:\n",
    "                raise e\n",
    "                \n",
    "    return r\n",
    "\n",
    "def if_possible_parse_local_datetime(df):\n",
    "    dt_cols_with_period_in_name = ['startTimeOfHalfHrPeriod', 'initialForecastPublishingPeriodCommencingTime', 'latestForecastPublishingPeriodCommencingTime', 'outTurnPublishingPeriodCommencingTime']\n",
    "    \n",
    "    dt_cols = [col for col in df.columns if 'date' in col.lower() or col in dt_cols_with_period_in_name]\n",
    "    sp_cols = [col for col in df.columns if 'period' in col.lower() and col not in dt_cols_with_period_in_name]\n",
    "\n",
    "    if len(dt_cols)==1 and len(sp_cols)==1:\n",
    "        df = utils.parse_local_datetime(df, dt_col=dt_cols[0], SP_col=sp_cols[0])\n",
    "        \n",
    "    return df\n",
    "\n",
    "def SP_and_date_request(\n",
    "    method: str,\n",
    "    kwargs_map: dict,\n",
    "    func_params: list,\n",
    "    api_key: str,\n",
    "    start_date: str,\n",
    "    end_date: str,\n",
    "    n_attempts: int=3,\n",
    "    **kwargs\n",
    "):\n",
    "    assert start_date is not None, '`start_date` must be specified'\n",
    "    assert end_date is not None, '`end_date` must be specified'\n",
    "    \n",
    "    df = pd.DataFrame()\n",
    "    stream = '_'.join(method.split('_')[1:])\n",
    "    \n",
    "    kwargs.update({\n",
    "        'APIKey': api_key,\n",
    "        'ServiceType': 'xml'\n",
    "    })\n",
    "\n",
    "    df_dates_SPs = utils.dt_rng_to_SPs(start_date, end_date)\n",
    "    date_SP_tuples = list(df_dates_SPs.reset_index().itertuples(index=False, name=None))[:-1]\n",
    "\n",
    "    for datetime, query_date, SP in tqdm(date_SP_tuples, desc=stream, total=len(date_SP_tuples)):\n",
    "        kwargs.update({\n",
    "            kwargs_map['date']: datetime.strftime('%Y-%m-%d'),\n",
    "            kwargs_map['SP']: SP,\n",
    "        })\n",
    "        \n",
    "        missing_kwargs = list(set(func_params) - set(['SP', 'date'] + list(kwargs.keys())))\n",
    "        assert len(missing_kwargs) == 0, f\"The following kwargs are missing: {', '.join(missing_kwargs)}\"\n",
    "\n",
    "        r = retry_request(raw, method, kwargs, n_attempts=n_attempts)\n",
    "\n",
    "        df_SP = utils.parse_xml_response(r)\n",
    "        df = df.append(df_SP)\n",
    "    \n",
    "    df = utils.expand_cols(df)\n",
    "    df = if_possible_parse_local_datetime(df)\n",
    "        \n",
    "    return df"
   ]
  },
  {
   "cell_type": "code",
   "execution_count": 7,
   "id": "fb69258e-4626-4c4a-84ba-8ac9f1ad6270",
   "metadata": {},
   "outputs": [
    {
     "name": "stderr",
     "output_type": "stream",
     "text": [
      "B1610: 100%|█████████████████████████████████████████████████████████████████████████████| 3/3 [00:01<00:00,  1.53it/s]\n"
     ]
    },
    {
     "data": {
      "text/html": [
       "<div>\n",
       "<style scoped>\n",
       "    .dataframe tbody tr th:only-of-type {\n",
       "        vertical-align: middle;\n",
       "    }\n",
       "\n",
       "    .dataframe tbody tr th {\n",
       "        vertical-align: top;\n",
       "    }\n",
       "\n",
       "    .dataframe thead th {\n",
       "        text-align: right;\n",
       "    }\n",
       "</style>\n",
       "<table border=\"1\" class=\"dataframe\">\n",
       "  <thead>\n",
       "    <tr style=\"text-align: right;\">\n",
       "      <th></th>\n",
       "      <th>local_datetime</th>\n",
       "      <th>documentType</th>\n",
       "      <th>businessType</th>\n",
       "      <th>processType</th>\n",
       "      <th>timeSeriesID</th>\n",
       "      <th>curveType</th>\n",
       "      <th>settlementDate</th>\n",
       "      <th>powerSystemResourceType</th>\n",
       "      <th>registeredResourceEICCode</th>\n",
       "      <th>marketGenerationUnitEICCode</th>\n",
       "      <th>...</th>\n",
       "      <th>bMUnitID</th>\n",
       "      <th>nGCBMUnitID</th>\n",
       "      <th>activeFlag</th>\n",
       "      <th>documentID</th>\n",
       "      <th>documentRevNum</th>\n",
       "      <th>resolution</th>\n",
       "      <th>start</th>\n",
       "      <th>end</th>\n",
       "      <th>settlementPeriod</th>\n",
       "      <th>quantity</th>\n",
       "    </tr>\n",
       "  </thead>\n",
       "  <tbody>\n",
       "    <tr>\n",
       "      <th>0</th>\n",
       "      <td>2020-01-01 00:00:00+00:00</td>\n",
       "      <td>Actual generation</td>\n",
       "      <td>Production</td>\n",
       "      <td>Realised</td>\n",
       "      <td>ELX-EMFIP-AGOG-TS-259</td>\n",
       "      <td>Sequential fixed size block</td>\n",
       "      <td>2020-01-01</td>\n",
       "      <td>Generation</td>\n",
       "      <td>48W000000ERRO-2N</td>\n",
       "      <td>48W000000ERRO-2N</td>\n",
       "      <td>...</td>\n",
       "      <td>T_ERRO-2</td>\n",
       "      <td>ERRO-2</td>\n",
       "      <td>Y</td>\n",
       "      <td>ELX-EMFIP-AGOG-22495386</td>\n",
       "      <td>1</td>\n",
       "      <td>PT30M</td>\n",
       "      <td>2020-01-01</td>\n",
       "      <td>2020-01-01</td>\n",
       "      <td>1</td>\n",
       "      <td>22.998</td>\n",
       "    </tr>\n",
       "    <tr>\n",
       "      <th>1</th>\n",
       "      <td>2020-01-01 00:00:00+00:00</td>\n",
       "      <td>Actual generation</td>\n",
       "      <td>Production</td>\n",
       "      <td>Realised</td>\n",
       "      <td>ELX-EMFIP-AGOG-TS-246</td>\n",
       "      <td>Sequential fixed size block</td>\n",
       "      <td>2020-01-01</td>\n",
       "      <td>Generation</td>\n",
       "      <td>48W00000DDGNO-3A</td>\n",
       "      <td>48W00000DDGNO-3A</td>\n",
       "      <td>...</td>\n",
       "      <td>T_DDGNO-3</td>\n",
       "      <td>DDGNO-3</td>\n",
       "      <td>Y</td>\n",
       "      <td>ELX-EMFIP-AGOG-22495386</td>\n",
       "      <td>1</td>\n",
       "      <td>PT30M</td>\n",
       "      <td>2020-01-01</td>\n",
       "      <td>2020-01-01</td>\n",
       "      <td>1</td>\n",
       "      <td>29.77</td>\n",
       "    </tr>\n",
       "    <tr>\n",
       "      <th>2</th>\n",
       "      <td>2020-01-01 00:00:00+00:00</td>\n",
       "      <td>Actual generation</td>\n",
       "      <td>Production</td>\n",
       "      <td>Realised</td>\n",
       "      <td>ELX-EMFIP-AGOG-TS-315</td>\n",
       "      <td>Sequential fixed size block</td>\n",
       "      <td>2020-01-01</td>\n",
       "      <td>Generation</td>\n",
       "      <td>48W00000LARYO-2X</td>\n",
       "      <td>48W00000LARYO-2X</td>\n",
       "      <td>...</td>\n",
       "      <td>T_LARYW-2</td>\n",
       "      <td>LARYO-2</td>\n",
       "      <td>Y</td>\n",
       "      <td>ELX-EMFIP-AGOG-22495386</td>\n",
       "      <td>1</td>\n",
       "      <td>PT30M</td>\n",
       "      <td>2020-01-01</td>\n",
       "      <td>2020-01-01</td>\n",
       "      <td>1</td>\n",
       "      <td>63.16</td>\n",
       "    </tr>\n",
       "  </tbody>\n",
       "</table>\n",
       "<p>3 rows × 22 columns</p>\n",
       "</div>"
      ],
      "text/plain": [
       "             local_datetime       documentType businessType processType  \\\n",
       "0 2020-01-01 00:00:00+00:00  Actual generation   Production    Realised   \n",
       "1 2020-01-01 00:00:00+00:00  Actual generation   Production    Realised   \n",
       "2 2020-01-01 00:00:00+00:00  Actual generation   Production    Realised   \n",
       "\n",
       "            timeSeriesID                    curveType settlementDate  \\\n",
       "0  ELX-EMFIP-AGOG-TS-259  Sequential fixed size block     2020-01-01   \n",
       "1  ELX-EMFIP-AGOG-TS-246  Sequential fixed size block     2020-01-01   \n",
       "2  ELX-EMFIP-AGOG-TS-315  Sequential fixed size block     2020-01-01   \n",
       "\n",
       "  powerSystemResourceType registeredResourceEICCode  \\\n",
       "0              Generation          48W000000ERRO-2N   \n",
       "1              Generation          48W00000DDGNO-3A   \n",
       "2              Generation          48W00000LARYO-2X   \n",
       "\n",
       "  marketGenerationUnitEICCode  ...   bMUnitID nGCBMUnitID activeFlag  \\\n",
       "0            48W000000ERRO-2N  ...   T_ERRO-2      ERRO-2          Y   \n",
       "1            48W00000DDGNO-3A  ...  T_DDGNO-3     DDGNO-3          Y   \n",
       "2            48W00000LARYO-2X  ...  T_LARYW-2     LARYO-2          Y   \n",
       "\n",
       "                documentID documentRevNum resolution       start         end  \\\n",
       "0  ELX-EMFIP-AGOG-22495386              1      PT30M  2020-01-01  2020-01-01   \n",
       "1  ELX-EMFIP-AGOG-22495386              1      PT30M  2020-01-01  2020-01-01   \n",
       "2  ELX-EMFIP-AGOG-22495386              1      PT30M  2020-01-01  2020-01-01   \n",
       "\n",
       "  settlementPeriod quantity  \n",
       "0                1   22.998  \n",
       "1                1    29.77  \n",
       "2                1    63.16  \n",
       "\n",
       "[3 rows x 22 columns]"
      ]
     },
     "execution_count": 7,
     "metadata": {},
     "output_type": "execute_result"
    }
   ],
   "source": [
    "method_info_mock = {\n",
    "    'get_B1610': {\n",
    "        'request_type': 'SP_and_date',\n",
    "        'kwargs_map': {'date': 'SettlementDate', 'SP': 'Period'},\n",
    "        'func_kwargs': {\n",
    "            'APIKey': 'AP8DA23',\n",
    "            'date': '2020-01-01',\n",
    "            'SP': '1',\n",
    "            'NGCBMUnitID': '*',\n",
    "            'ServiceType': 'csv'\n",
    "        }\n",
    "    }\n",
    "}\n",
    "\n",
    "method = 'get_B1610'\n",
    "kwargs = {'NGCBMUnitID': '*'}\n",
    "\n",
    "kwargs_map = method_info_mock[method]['kwargs_map']\n",
    "func_params = list(method_info_mock[method]['func_kwargs'].keys())\n",
    "\n",
    "df = SP_and_date_request(\n",
    "    method=method,\n",
    "    kwargs_map=kwargs_map,\n",
    "    func_params=func_params,\n",
    "    api_key=api_key,\n",
    "    start_date='2020-01-01',\n",
    "    end_date='2020-01-01 01:30',\n",
    "    **kwargs\n",
    ")\n",
    "    \n",
    "df.head(3)"
   ]
  },
  {
   "cell_type": "code",
   "execution_count": null,
   "id": "d6cd35da-2b98-4398-b6b3-0c0607d31ee8",
   "metadata": {},
   "outputs": [],
   "source": []
  },
  {
   "cell_type": "code",
   "execution_count": 8,
   "id": "a5e72b8a-4162-4088-a01f-b86ffe1552a3",
   "metadata": {},
   "outputs": [],
   "source": [
    "#exports\n",
    "def handle_capping(\n",
    "    r: Response, \n",
    "    df: pd.DataFrame,\n",
    "    method: str,\n",
    "    kwargs_map: dict,\n",
    "    func_params: list,\n",
    "    api_key: str,\n",
    "    end_date: str,\n",
    "    request_type: str,\n",
    "    **kwargs\n",
    "):\n",
    "    capping_applied = utils.check_capping(r)\n",
    "    assert capping_applied != None, 'No information on whether or not capping limits had been breached could be found in the response metadata'\n",
    "    \n",
    "    if capping_applied == True: # only subset of date range returned\n",
    "        dt_cols_with_period_in_name = ['startTimeOfHalfHrPeriod']\n",
    "        dt_cols = [col for col in df.columns if ('date' in col.lower() or col in dt_cols_with_period_in_name) and ('end' not in col.lower())]\n",
    "        \n",
    "        if len(dt_cols) == 1:\n",
    "            start_date = pd.to_datetime(df[dt_cols[0]]).max().strftime('%Y-%m-%d')\n",
    "            if 'start_time' in kwargs.keys():\n",
    "                kwargs['start_time'] = '00:00'\n",
    "            \n",
    "            if pd.to_datetime(start_date) >= pd.to_datetime(end_date):\n",
    "                warnings.warn(f'The `end_date` ({end_date}) was earlier than `start_date` ({start_date})\\nThe `start_date` will be set one day earlier than the `end_date`.')\n",
    "                start_date = (pd.to_datetime(end_date) - pd.Timedelta(days=1)).strftime('%Y-%m-%d')\n",
    "                        \n",
    "            warn(f'Response was capped, request is rerunning for missing data from {start_date}')\n",
    "            df_rerun = date_range_request(\n",
    "                            method=method,\n",
    "                            kwargs_map=kwargs_map,\n",
    "                            func_params=func_params,\n",
    "                            api_key=api_key,\n",
    "                            start_date=start_date,\n",
    "                            end_date=end_date,\n",
    "                            request_type=request_type,\n",
    "                            **kwargs\n",
    "                        )\n",
    "        \n",
    "            df = df.append(df_rerun)\n",
    "            df = df.drop_duplicates()\n",
    "            \n",
    "        else:\n",
    "            warn(f'Response was capped: a new `start_date` to continue requesting could not be determined automatically, please handle manually for `{method}`')\n",
    "            \n",
    "    return df\n",
    "    \n",
    "def date_range_request(\n",
    "    method: str,\n",
    "    kwargs_map: dict,\n",
    "    func_params: list,\n",
    "    api_key: str,\n",
    "    start_date: str,\n",
    "    end_date: str,\n",
    "    request_type: str,\n",
    "    n_attempts: int=3,\n",
    "    **kwargs\n",
    "):\n",
    "    assert start_date is not None, '`start_date` must be specified'\n",
    "    assert end_date is not None, '`end_date` must be specified'\n",
    "    \n",
    "    kwargs.update({\n",
    "        'APIKey': api_key,\n",
    "        'ServiceType': 'xml'\n",
    "    })\n",
    "\n",
    "    for kwarg in ['start_time', 'end_time']:\n",
    "        if kwarg not in kwargs_map.keys():\n",
    "            kwargs_map[kwarg] = kwarg\n",
    "        \n",
    "    kwargs[kwargs_map['start_date']], kwargs[kwargs_map['start_time']] = pd.to_datetime(start_date).strftime('%Y-%m-%d %H:%M:%S').split(' ')\n",
    "    kwargs[kwargs_map['end_date']], kwargs[kwargs_map['end_time']] = pd.to_datetime(end_date).strftime('%Y-%m-%d %H:%M:%S').split(' ')\n",
    "    \n",
    "    if 'SP' in kwargs_map.keys():\n",
    "        kwargs[kwargs_map['SP']] = '*'\n",
    "        func_params.remove('SP')\n",
    "        func_params += [kwargs_map['SP']]\n",
    "\n",
    "    missing_kwargs = list(set(func_params) - set(['start_date', 'end_date', 'start_time', 'end_time'] + list(kwargs.keys())))\n",
    "    assert len(missing_kwargs) == 0, f\"The following kwargs are missing: {', '.join(missing_kwargs)}\"\n",
    "    \n",
    "    if request_type == 'date_range':\n",
    "        kwargs.pop(kwargs_map['start_time'])\n",
    "        kwargs.pop(kwargs_map['end_time'])\n",
    "\n",
    "    r = retry_request(raw, method, kwargs, n_attempts=n_attempts)\n",
    "    \n",
    "    df = utils.parse_xml_response(r)\n",
    "    df = if_possible_parse_local_datetime(df)\n",
    "    \n",
    "    # Handling capping\n",
    "    df = handle_capping(\n",
    "        r, \n",
    "        df,\n",
    "        method=method,\n",
    "        kwargs_map=kwargs_map,\n",
    "        func_params=func_params,\n",
    "        api_key=api_key,\n",
    "        end_date=end_date,\n",
    "        request_type=request_type,\n",
    "        **kwargs\n",
    "    )\n",
    "        \n",
    "    return df"
   ]
  },
  {
   "cell_type": "code",
   "execution_count": 9,
   "id": "3a8b82cd-1e4a-40bd-88e5-ff61cda9f93f",
   "metadata": {},
   "outputs": [
    {
     "name": "stderr",
     "output_type": "stream",
     "text": [
      "<ipython-input-8-daff99463cc2>:29: UserWarning: Response was capped, request is rerunning for missing data from 2020-06-23\n",
      "  warn(f'Response was capped, request is rerunning for missing data from {start_date}')\n",
      "<ipython-input-8-daff99463cc2>:29: UserWarning: Response was capped, request is rerunning for missing data from 2020-11-03\n",
      "  warn(f'Response was capped, request is rerunning for missing data from {start_date}')\n",
      "<ipython-input-8-daff99463cc2>:29: UserWarning: Response was capped, request is rerunning for missing data from 2020-12-31\n",
      "  warn(f'Response was capped, request is rerunning for missing data from {start_date}')\n"
     ]
    },
    {
     "data": {
      "text/html": [
       "<div>\n",
       "<style scoped>\n",
       "    .dataframe tbody tr th:only-of-type {\n",
       "        vertical-align: middle;\n",
       "    }\n",
       "\n",
       "    .dataframe tbody tr th {\n",
       "        vertical-align: top;\n",
       "    }\n",
       "\n",
       "    .dataframe thead th {\n",
       "        text-align: right;\n",
       "    }\n",
       "</style>\n",
       "<table border=\"1\" class=\"dataframe\">\n",
       "  <thead>\n",
       "    <tr style=\"text-align: right;\">\n",
       "      <th></th>\n",
       "      <th>timeSeriesID</th>\n",
       "      <th>businessType</th>\n",
       "      <th>settlementStartDate</th>\n",
       "      <th>settlementStartTime</th>\n",
       "      <th>settlementEndDate</th>\n",
       "      <th>settlementEndTime</th>\n",
       "      <th>quantity</th>\n",
       "      <th>prodRegisteredResourcemRID</th>\n",
       "      <th>bMUnitID</th>\n",
       "      <th>nGCBMUnitID</th>\n",
       "      <th>documentType</th>\n",
       "      <th>processType</th>\n",
       "      <th>activeFlag</th>\n",
       "      <th>documentID</th>\n",
       "      <th>documentRevNum</th>\n",
       "      <th>reasonCode</th>\n",
       "      <th>prodRegisteredResourceName</th>\n",
       "      <th>prodRegisteredResourcemLocation</th>\n",
       "      <th>pSRType</th>\n",
       "      <th>reasonDescription</th>\n",
       "    </tr>\n",
       "  </thead>\n",
       "  <tbody>\n",
       "    <tr>\n",
       "      <th>0</th>\n",
       "      <td>MP-NGET-AAPU-TS-00050434</td>\n",
       "      <td>Unplanned outage</td>\n",
       "      <td>2020-06-23</td>\n",
       "      <td>23:00:00</td>\n",
       "      <td>2020-07-07</td>\n",
       "      <td>23:00:00</td>\n",
       "      <td>0</td>\n",
       "      <td>48WSTN0000ABTHBN</td>\n",
       "      <td>NA</td>\n",
       "      <td>ABTHB</td>\n",
       "      <td>Production unavailability</td>\n",
       "      <td>Outage information</td>\n",
       "      <td>Y</td>\n",
       "      <td>11XINNOGY------2-NGET-AAPU-00050434</td>\n",
       "      <td>597</td>\n",
       "      <td>NaN</td>\n",
       "      <td>NaN</td>\n",
       "      <td>NaN</td>\n",
       "      <td>NaN</td>\n",
       "      <td>NaN</td>\n",
       "    </tr>\n",
       "    <tr>\n",
       "      <th>1</th>\n",
       "      <td>NA</td>\n",
       "      <td>NA</td>\n",
       "      <td>2020-06-23</td>\n",
       "      <td>23:00:00</td>\n",
       "      <td>2020-07-07</td>\n",
       "      <td>23:00:00</td>\n",
       "      <td>NaN</td>\n",
       "      <td>NA</td>\n",
       "      <td>NA</td>\n",
       "      <td>NA</td>\n",
       "      <td>Production unavailability</td>\n",
       "      <td>Outage information</td>\n",
       "      <td>Y</td>\n",
       "      <td>11XINNOGY------2-NGET-AAPU-00050434</td>\n",
       "      <td>597</td>\n",
       "      <td>Failure</td>\n",
       "      <td>NA</td>\n",
       "      <td>NA</td>\n",
       "      <td>NA</td>\n",
       "      <td>NaN</td>\n",
       "    </tr>\n",
       "    <tr>\n",
       "      <th>2</th>\n",
       "      <td>NA</td>\n",
       "      <td>NA</td>\n",
       "      <td>2020-06-23</td>\n",
       "      <td>23:00:00</td>\n",
       "      <td>2020-07-07</td>\n",
       "      <td>23:00:00</td>\n",
       "      <td>NaN</td>\n",
       "      <td>NA</td>\n",
       "      <td>NA</td>\n",
       "      <td>NA</td>\n",
       "      <td>Production unavailability</td>\n",
       "      <td>Outage information</td>\n",
       "      <td>Y</td>\n",
       "      <td>11XINNOGY------2-NGET-AAPU-00050434</td>\n",
       "      <td>597</td>\n",
       "      <td>Complementary information</td>\n",
       "      <td>NA</td>\n",
       "      <td>NA</td>\n",
       "      <td>NA</td>\n",
       "      <td>Other</td>\n",
       "    </tr>\n",
       "  </tbody>\n",
       "</table>\n",
       "</div>"
      ],
      "text/plain": [
       "               timeSeriesID      businessType settlementStartDate  \\\n",
       "0  MP-NGET-AAPU-TS-00050434  Unplanned outage          2020-06-23   \n",
       "1                        NA                NA          2020-06-23   \n",
       "2                        NA                NA          2020-06-23   \n",
       "\n",
       "  settlementStartTime settlementEndDate settlementEndTime quantity  \\\n",
       "0            23:00:00        2020-07-07          23:00:00        0   \n",
       "1            23:00:00        2020-07-07          23:00:00      NaN   \n",
       "2            23:00:00        2020-07-07          23:00:00      NaN   \n",
       "\n",
       "  prodRegisteredResourcemRID bMUnitID nGCBMUnitID               documentType  \\\n",
       "0           48WSTN0000ABTHBN       NA       ABTHB  Production unavailability   \n",
       "1                         NA       NA          NA  Production unavailability   \n",
       "2                         NA       NA          NA  Production unavailability   \n",
       "\n",
       "          processType activeFlag                           documentID  \\\n",
       "0  Outage information          Y  11XINNOGY------2-NGET-AAPU-00050434   \n",
       "1  Outage information          Y  11XINNOGY------2-NGET-AAPU-00050434   \n",
       "2  Outage information          Y  11XINNOGY------2-NGET-AAPU-00050434   \n",
       "\n",
       "  documentRevNum                 reasonCode prodRegisteredResourceName  \\\n",
       "0            597                        NaN                        NaN   \n",
       "1            597                    Failure                         NA   \n",
       "2            597  Complementary information                         NA   \n",
       "\n",
       "  prodRegisteredResourcemLocation pSRType reasonDescription  \n",
       "0                             NaN     NaN               NaN  \n",
       "1                              NA      NA               NaN  \n",
       "2                              NA      NA             Other  "
      ]
     },
     "execution_count": 9,
     "metadata": {},
     "output_type": "execute_result"
    }
   ],
   "source": [
    "method = 'get_B1540'\n",
    "kwargs = {}\n",
    "\n",
    "kwargs_map = method_info[method]['kwargs_map']\n",
    "func_params = list(method_info[method]['func_kwargs'].keys())\n",
    "request_type = method_info[method]['request_type']\n",
    "    \n",
    "df = date_range_request(\n",
    "    method=method,\n",
    "    kwargs_map=kwargs_map,\n",
    "    func_params=func_params,\n",
    "    api_key=api_key,\n",
    "    start_date='2020-01-01',\n",
    "    end_date='2021-01-01',\n",
    "    request_type=request_type,\n",
    "    **kwargs\n",
    ")\n",
    "    \n",
    "df.head(3)"
   ]
  },
  {
   "cell_type": "code",
   "execution_count": null,
   "id": "4a8f712a-0835-471b-bd08-7ab2281707f9",
   "metadata": {},
   "outputs": [],
   "source": []
  },
  {
   "cell_type": "code",
   "execution_count": 10,
   "id": "3c048b44-2e83-4015-b51e-3049db6d9e10",
   "metadata": {},
   "outputs": [],
   "source": [
    "#exports\n",
    "def year_request(\n",
    "    method: str,\n",
    "    kwargs_map: dict,\n",
    "    func_params: list,\n",
    "    api_key: str,\n",
    "    start_date: str,\n",
    "    end_date: str,\n",
    "    n_attempts: int=3,\n",
    "    **kwargs\n",
    "):\n",
    "    assert start_date is not None, '`start_date` must be specified'\n",
    "    assert end_date is not None, '`end_date` must be specified'\n",
    "    \n",
    "    df = pd.DataFrame()\n",
    "    stream = '_'.join(method.split('_')[1:])\n",
    "    \n",
    "    kwargs.update({\n",
    "        'APIKey': api_key,\n",
    "        'ServiceType': 'xml'\n",
    "    })\n",
    "    \n",
    "    start_year = int(pd.to_datetime(start_date).strftime('%Y'))\n",
    "    end_year = int(pd.to_datetime(end_date).strftime('%Y'))\n",
    "\n",
    "    for year in tqdm(range(start_year, end_year+1), desc=stream):\n",
    "        kwargs.update({kwargs_map['year']: year})\n",
    "\n",
    "        missing_kwargs = list(set(func_params) - set(['year'] + list(kwargs.keys())))\n",
    "        assert len(missing_kwargs) == 0, f\"The following kwargs are missing: {', '.join(missing_kwargs)}\"\n",
    "\n",
    "        r = retry_request(raw, method, kwargs, n_attempts=n_attempts)\n",
    "        \n",
    "        df_year = utils.parse_xml_response(r)\n",
    "        df = df.append(df_year)\n",
    "        \n",
    "    df = if_possible_parse_local_datetime(df)\n",
    "        \n",
    "    return df"
   ]
  },
  {
   "cell_type": "code",
   "execution_count": 11,
   "id": "1b31f8eb-8256-419d-a16d-257dcc5db22b",
   "metadata": {},
   "outputs": [
    {
     "name": "stderr",
     "output_type": "stream",
     "text": [
      "B0650: 100%|█████████████████████████████████████████████████████████████████████████████| 2/2 [00:01<00:00,  1.01it/s]\n"
     ]
    },
    {
     "data": {
      "text/html": [
       "<div>\n",
       "<style scoped>\n",
       "    .dataframe tbody tr th:only-of-type {\n",
       "        vertical-align: middle;\n",
       "    }\n",
       "\n",
       "    .dataframe tbody tr th {\n",
       "        vertical-align: top;\n",
       "    }\n",
       "\n",
       "    .dataframe thead th {\n",
       "        text-align: right;\n",
       "    }\n",
       "</style>\n",
       "<table border=\"1\" class=\"dataframe\">\n",
       "  <thead>\n",
       "    <tr style=\"text-align: right;\">\n",
       "      <th></th>\n",
       "      <th>timeSeriesID</th>\n",
       "      <th>businessType</th>\n",
       "      <th>year</th>\n",
       "      <th>week</th>\n",
       "      <th>quantity</th>\n",
       "      <th>documentType</th>\n",
       "      <th>processType</th>\n",
       "      <th>objectAggregation</th>\n",
       "      <th>curveType</th>\n",
       "      <th>resolution</th>\n",
       "      <th>unitOfMeasure</th>\n",
       "      <th>monthName</th>\n",
       "      <th>activeFlag</th>\n",
       "      <th>documentID</th>\n",
       "      <th>documentRevNum</th>\n",
       "    </tr>\n",
       "  </thead>\n",
       "  <tbody>\n",
       "    <tr>\n",
       "      <th>0</th>\n",
       "      <td>NGET-EMFIP-YATL-TS-00000762</td>\n",
       "      <td>Maximum available</td>\n",
       "      <td>2020</td>\n",
       "      <td>53</td>\n",
       "      <td>4019</td>\n",
       "      <td>System total load</td>\n",
       "      <td>Year ahead</td>\n",
       "      <td>Area</td>\n",
       "      <td>Sequential fixed size block</td>\n",
       "      <td>P7D</td>\n",
       "      <td>Mega watt</td>\n",
       "      <td>DEC</td>\n",
       "      <td>Y</td>\n",
       "      <td>NGET-EMFIP-YATL-00000741</td>\n",
       "      <td>1</td>\n",
       "    </tr>\n",
       "    <tr>\n",
       "      <th>1</th>\n",
       "      <td>NGET-EMFIP-YATL-TS-00000781</td>\n",
       "      <td>Minimum possible</td>\n",
       "      <td>2020</td>\n",
       "      <td>53</td>\n",
       "      <td>2181</td>\n",
       "      <td>System total load</td>\n",
       "      <td>Year ahead</td>\n",
       "      <td>Area</td>\n",
       "      <td>Sequential fixed size block</td>\n",
       "      <td>P7D</td>\n",
       "      <td>Mega watt</td>\n",
       "      <td>DEC</td>\n",
       "      <td>Y</td>\n",
       "      <td>NGET-EMFIP-YATL-00000761</td>\n",
       "      <td>1</td>\n",
       "    </tr>\n",
       "    <tr>\n",
       "      <th>2</th>\n",
       "      <td>NGET-EMFIP-YATL-TS-00000782</td>\n",
       "      <td>Maximum available</td>\n",
       "      <td>2020</td>\n",
       "      <td>53</td>\n",
       "      <td>4100</td>\n",
       "      <td>System total load</td>\n",
       "      <td>Year ahead</td>\n",
       "      <td>Area</td>\n",
       "      <td>Sequential fixed size block</td>\n",
       "      <td>P7D</td>\n",
       "      <td>Mega watt</td>\n",
       "      <td>DEC</td>\n",
       "      <td>Y</td>\n",
       "      <td>NGET-EMFIP-YATL-00000761</td>\n",
       "      <td>1</td>\n",
       "    </tr>\n",
       "  </tbody>\n",
       "</table>\n",
       "</div>"
      ],
      "text/plain": [
       "                  timeSeriesID       businessType  year week quantity  \\\n",
       "0  NGET-EMFIP-YATL-TS-00000762  Maximum available  2020   53     4019   \n",
       "1  NGET-EMFIP-YATL-TS-00000781   Minimum possible  2020   53     2181   \n",
       "2  NGET-EMFIP-YATL-TS-00000782  Maximum available  2020   53     4100   \n",
       "\n",
       "        documentType processType objectAggregation  \\\n",
       "0  System total load  Year ahead              Area   \n",
       "1  System total load  Year ahead              Area   \n",
       "2  System total load  Year ahead              Area   \n",
       "\n",
       "                     curveType resolution unitOfMeasure monthName activeFlag  \\\n",
       "0  Sequential fixed size block        P7D     Mega watt       DEC          Y   \n",
       "1  Sequential fixed size block        P7D     Mega watt       DEC          Y   \n",
       "2  Sequential fixed size block        P7D     Mega watt       DEC          Y   \n",
       "\n",
       "                 documentID documentRevNum  \n",
       "0  NGET-EMFIP-YATL-00000741              1  \n",
       "1  NGET-EMFIP-YATL-00000761              1  \n",
       "2  NGET-EMFIP-YATL-00000761              1  "
      ]
     },
     "execution_count": 11,
     "metadata": {},
     "output_type": "execute_result"
    }
   ],
   "source": [
    "method = 'get_B0650'\n",
    "kwargs = {}\n",
    "\n",
    "kwargs_map = method_info[method]['kwargs_map']\n",
    "func_params = list(method_info[method]['func_kwargs'].keys())\n",
    "\n",
    "df = year_request(\n",
    "    method=method,\n",
    "    kwargs_map=kwargs_map,\n",
    "    func_params=func_params,\n",
    "    api_key=api_key,\n",
    "    start_date='2020-01-01',\n",
    "    end_date='2021-01-01 01:30',\n",
    "    **kwargs\n",
    ")\n",
    "    \n",
    "df.head(3)"
   ]
  },
  {
   "cell_type": "code",
   "execution_count": null,
   "id": "e6b95856-66f8-48e8-975f-0233d850092f",
   "metadata": {},
   "outputs": [],
   "source": []
  },
  {
   "cell_type": "code",
   "execution_count": 12,
   "id": "55a5f9bb-1a82-47e3-b091-199832c492e7",
   "metadata": {},
   "outputs": [],
   "source": [
    "#exports\n",
    "def construct_year_month_pairs(start_date, end_date):\n",
    "    dt_rng = pd.date_range(start_date, end_date, freq='M')\n",
    "\n",
    "    if len(dt_rng) == 0:\n",
    "        year_month_pairs = [tuple(pd.to_datetime(start_date).strftime('%Y %b').split(' '))]\n",
    "    else:\n",
    "        year_month_pairs = [tuple(dt.strftime('%Y %b').split(' ')) for dt in dt_rng]\n",
    "\n",
    "    year_month_pairs = [(int(year), week.upper()) for year, week in year_month_pairs]\n",
    "    \n",
    "    return year_month_pairs\n",
    "\n",
    "def year_and_month_request(\n",
    "    method: str,\n",
    "    kwargs_map: dict,\n",
    "    func_params: list,\n",
    "    api_key: str,\n",
    "    start_date: str,\n",
    "    end_date: str,\n",
    "    n_attempts: int=3,\n",
    "    **kwargs\n",
    "):\n",
    "    assert start_date is not None, '`start_date` must be specified'\n",
    "    assert end_date is not None, '`end_date` must be specified'\n",
    "    \n",
    "    df = pd.DataFrame()\n",
    "    stream = '_'.join(method.split('_')[1:])\n",
    "    \n",
    "    kwargs.update({\n",
    "        'APIKey': api_key,\n",
    "        'ServiceType': 'xml'\n",
    "    })\n",
    "    \n",
    "    year_month_pairs = construct_year_month_pairs(start_date, end_date)\n",
    "\n",
    "    for year, month in tqdm(year_month_pairs, desc=stream):\n",
    "        kwargs.update({\n",
    "            kwargs_map['year']: year,\n",
    "            kwargs_map['month']: month\n",
    "        })\n",
    "\n",
    "        missing_kwargs = list(set(func_params) - set(['year', 'month'] + list(kwargs.keys())))\n",
    "        assert len(missing_kwargs) == 0, f\"The following kwargs are missing: {', '.join(missing_kwargs)}\"\n",
    "\n",
    "        r = retry_request(raw, method, kwargs, n_attempts=n_attempts)\n",
    "        \n",
    "        df_year = utils.parse_xml_response(r)\n",
    "        df = df.append(df_year)\n",
    "        \n",
    "    df = if_possible_parse_local_datetime(df)\n",
    "    \n",
    "    return df"
   ]
  },
  {
   "cell_type": "code",
   "execution_count": 13,
   "id": "05b1eeef-fc28-4209-b469-2424abd85949",
   "metadata": {},
   "outputs": [
    {
     "name": "stderr",
     "output_type": "stream",
     "text": [
      "B0640: 100%|█████████████████████████████████████████████████████████████████████████████| 3/3 [00:00<00:00,  6.02it/s]\n"
     ]
    },
    {
     "data": {
      "text/html": [
       "<div>\n",
       "<style scoped>\n",
       "    .dataframe tbody tr th:only-of-type {\n",
       "        vertical-align: middle;\n",
       "    }\n",
       "\n",
       "    .dataframe tbody tr th {\n",
       "        vertical-align: top;\n",
       "    }\n",
       "\n",
       "    .dataframe thead th {\n",
       "        text-align: right;\n",
       "    }\n",
       "</style>\n",
       "<table border=\"1\" class=\"dataframe\">\n",
       "  <thead>\n",
       "    <tr style=\"text-align: right;\">\n",
       "      <th></th>\n",
       "      <th>timeSeriesID</th>\n",
       "      <th>businessType</th>\n",
       "      <th>year</th>\n",
       "      <th>monthName</th>\n",
       "      <th>week</th>\n",
       "      <th>quantity</th>\n",
       "      <th>documentType</th>\n",
       "      <th>processType</th>\n",
       "      <th>objectAggregation</th>\n",
       "      <th>curveType</th>\n",
       "      <th>resolution</th>\n",
       "      <th>unitOfMeasure</th>\n",
       "      <th>activeFlag</th>\n",
       "      <th>documentID</th>\n",
       "      <th>documentRevNum</th>\n",
       "    </tr>\n",
       "  </thead>\n",
       "  <tbody>\n",
       "    <tr>\n",
       "      <th>0</th>\n",
       "      <td>NGET-EMFIP-MATL-TS-06201799</td>\n",
       "      <td>Minimum possible</td>\n",
       "      <td>2020</td>\n",
       "      <td>JAN</td>\n",
       "      <td>2020-01-27</td>\n",
       "      <td>20201</td>\n",
       "      <td>System total load</td>\n",
       "      <td>Month ahead</td>\n",
       "      <td>Area</td>\n",
       "      <td>Sequential fixed size block</td>\n",
       "      <td>P7D</td>\n",
       "      <td>Mega watt</td>\n",
       "      <td>Y</td>\n",
       "      <td>NGET-EMFIP-MATL-16201797</td>\n",
       "      <td>1</td>\n",
       "    </tr>\n",
       "    <tr>\n",
       "      <th>1</th>\n",
       "      <td>NGET-EMFIP-MATL-TS-06201800</td>\n",
       "      <td>Maximum available</td>\n",
       "      <td>2020</td>\n",
       "      <td>JAN</td>\n",
       "      <td>2020-01-27</td>\n",
       "      <td>53599</td>\n",
       "      <td>System total load</td>\n",
       "      <td>Month ahead</td>\n",
       "      <td>Area</td>\n",
       "      <td>Sequential fixed size block</td>\n",
       "      <td>P7D</td>\n",
       "      <td>Mega watt</td>\n",
       "      <td>Y</td>\n",
       "      <td>NGET-EMFIP-MATL-16201797</td>\n",
       "      <td>1</td>\n",
       "    </tr>\n",
       "    <tr>\n",
       "      <th>2</th>\n",
       "      <td>NGET-EMFIP-MATL-TS-06201801</td>\n",
       "      <td>Minimum possible</td>\n",
       "      <td>2020</td>\n",
       "      <td>JAN</td>\n",
       "      <td>2020-01-27</td>\n",
       "      <td>20201</td>\n",
       "      <td>System total load</td>\n",
       "      <td>Month ahead</td>\n",
       "      <td>Area</td>\n",
       "      <td>Sequential fixed size block</td>\n",
       "      <td>P7D</td>\n",
       "      <td>Mega watt</td>\n",
       "      <td>Y</td>\n",
       "      <td>NGET-EMFIP-MATL-16201817</td>\n",
       "      <td>1</td>\n",
       "    </tr>\n",
       "  </tbody>\n",
       "</table>\n",
       "</div>"
      ],
      "text/plain": [
       "                  timeSeriesID       businessType  year monthName        week  \\\n",
       "0  NGET-EMFIP-MATL-TS-06201799   Minimum possible  2020       JAN  2020-01-27   \n",
       "1  NGET-EMFIP-MATL-TS-06201800  Maximum available  2020       JAN  2020-01-27   \n",
       "2  NGET-EMFIP-MATL-TS-06201801   Minimum possible  2020       JAN  2020-01-27   \n",
       "\n",
       "  quantity       documentType  processType objectAggregation  \\\n",
       "0    20201  System total load  Month ahead              Area   \n",
       "1    53599  System total load  Month ahead              Area   \n",
       "2    20201  System total load  Month ahead              Area   \n",
       "\n",
       "                     curveType resolution unitOfMeasure activeFlag  \\\n",
       "0  Sequential fixed size block        P7D     Mega watt          Y   \n",
       "1  Sequential fixed size block        P7D     Mega watt          Y   \n",
       "2  Sequential fixed size block        P7D     Mega watt          Y   \n",
       "\n",
       "                 documentID documentRevNum  \n",
       "0  NGET-EMFIP-MATL-16201797              1  \n",
       "1  NGET-EMFIP-MATL-16201797              1  \n",
       "2  NGET-EMFIP-MATL-16201817              1  "
      ]
     },
     "execution_count": 13,
     "metadata": {},
     "output_type": "execute_result"
    }
   ],
   "source": [
    "method = 'get_B0640'\n",
    "kwargs = {}\n",
    "\n",
    "kwargs_map = method_info[method]['kwargs_map']\n",
    "func_params = list(method_info[method]['func_kwargs'].keys())\n",
    "\n",
    "df = year_and_month_request(\n",
    "    method=method,\n",
    "    kwargs_map=kwargs_map,\n",
    "    func_params=func_params,\n",
    "    api_key=api_key,\n",
    "    start_date='2020-01-01',\n",
    "    end_date='2020-03-31',\n",
    "    **kwargs\n",
    ")\n",
    "    \n",
    "df.head(3)"
   ]
  },
  {
   "cell_type": "code",
   "execution_count": null,
   "id": "4eceefb0-c778-4378-8c5a-9a4f1295b2d0",
   "metadata": {},
   "outputs": [],
   "source": []
  },
  {
   "cell_type": "code",
   "execution_count": 14,
   "id": "b38c7d7f-89c2-406b-81a6-23f6af82dd75",
   "metadata": {},
   "outputs": [],
   "source": [
    "#exports\n",
    "def clean_year_week(year, week):\n",
    "    year = int(year)\n",
    "    \n",
    "    if week == '00':\n",
    "        year = int(year) - 1\n",
    "        week = 52\n",
    "        \n",
    "    else:\n",
    "        year = int(year)\n",
    "        week = int(week.strip('0'))\n",
    "        \n",
    "    return year, week\n",
    "\n",
    "def construct_year_week_pairs(start_date, end_date):\n",
    "    dt_rng = pd.date_range(start_date, end_date, freq='W')\n",
    "\n",
    "    if len(dt_rng) == 0:\n",
    "        year_week_pairs = [tuple(pd.to_datetime(start_date).strftime('%Y %W').split(' '))]\n",
    "    else:\n",
    "        year_week_pairs = [tuple(dt.strftime('%Y %W').split(' ')) for dt in dt_rng]\n",
    "\n",
    "    year_week_pairs = [clean_year_week(year, week) for year, week in year_week_pairs]\n",
    "    \n",
    "    return year_week_pairs\n",
    "\n",
    "def year_and_week_request(\n",
    "    method: str,\n",
    "    kwargs_map: dict,\n",
    "    func_params: list,\n",
    "    api_key: str,\n",
    "    start_date: str,\n",
    "    end_date: str,\n",
    "    n_attempts: int=3,\n",
    "    **kwargs\n",
    "):\n",
    "    assert start_date is not None, '`start_date` must be specified'\n",
    "    assert end_date is not None, '`end_date` must be specified'\n",
    "    \n",
    "    df = pd.DataFrame()\n",
    "    stream = '_'.join(method.split('_')[1:])\n",
    "    \n",
    "    kwargs.update({\n",
    "        'APIKey': api_key,\n",
    "        'ServiceType': 'xml'\n",
    "    })\n",
    "    \n",
    "    year_week_pairs = construct_year_week_pairs(start_date, end_date)\n",
    "\n",
    "    for year, week in tqdm(year_week_pairs, desc=stream):\n",
    "        kwargs.update({\n",
    "            kwargs_map['year']: year,\n",
    "            kwargs_map['week']: week\n",
    "        })\n",
    "\n",
    "        missing_kwargs = list(set(func_params) - set(['year', 'week'] + list(kwargs.keys())))\n",
    "        assert len(missing_kwargs) == 0, f\"The following kwargs are missing: {', '.join(missing_kwargs)}\"\n",
    "\n",
    "        r = retry_request(raw, method, kwargs, n_attempts=n_attempts)\n",
    "        \n",
    "        df_year = utils.parse_xml_response(r)\n",
    "        df = df.append(df_year)\n",
    "        \n",
    "    df = if_possible_parse_local_datetime(df)\n",
    "    \n",
    "    return df"
   ]
  },
  {
   "cell_type": "code",
   "execution_count": 15,
   "id": "3f265461-d36d-4530-80ba-12414f08d8bd",
   "metadata": {},
   "outputs": [
    {
     "name": "stderr",
     "output_type": "stream",
     "text": [
      "B0630: 100%|█████████████████████████████████████████████████████████████████████████████| 4/4 [00:00<00:00,  6.70it/s]\n"
     ]
    },
    {
     "data": {
      "text/html": [
       "<div>\n",
       "<style scoped>\n",
       "    .dataframe tbody tr th:only-of-type {\n",
       "        vertical-align: middle;\n",
       "    }\n",
       "\n",
       "    .dataframe tbody tr th {\n",
       "        vertical-align: top;\n",
       "    }\n",
       "\n",
       "    .dataframe thead th {\n",
       "        text-align: right;\n",
       "    }\n",
       "</style>\n",
       "<table border=\"1\" class=\"dataframe\">\n",
       "  <thead>\n",
       "    <tr style=\"text-align: right;\">\n",
       "      <th></th>\n",
       "      <th>timeSeriesID</th>\n",
       "      <th>businessType</th>\n",
       "      <th>settlementDate</th>\n",
       "      <th>quantity</th>\n",
       "      <th>week</th>\n",
       "      <th>documentType</th>\n",
       "      <th>processType</th>\n",
       "      <th>objectAggregation</th>\n",
       "      <th>curveType</th>\n",
       "      <th>resolution</th>\n",
       "      <th>unitOfMeasure</th>\n",
       "      <th>year</th>\n",
       "      <th>activeFlag</th>\n",
       "      <th>documentID</th>\n",
       "      <th>documentRevNum</th>\n",
       "    </tr>\n",
       "  </thead>\n",
       "  <tbody>\n",
       "    <tr>\n",
       "      <th>0</th>\n",
       "      <td>NGET-EMFIP-WATL-TS-00005681</td>\n",
       "      <td>Minimum possible</td>\n",
       "      <td>2019-12-29</td>\n",
       "      <td>22753</td>\n",
       "      <td>52</td>\n",
       "      <td>System total load</td>\n",
       "      <td>Week ahead</td>\n",
       "      <td>Area</td>\n",
       "      <td>Sequential fixed size block</td>\n",
       "      <td>P1D</td>\n",
       "      <td>Mega watt</td>\n",
       "      <td>2019</td>\n",
       "      <td>Y</td>\n",
       "      <td>NGET-EMFIP-WATL-00005681</td>\n",
       "      <td>1</td>\n",
       "    </tr>\n",
       "    <tr>\n",
       "      <th>1</th>\n",
       "      <td>NGET-EMFIP-WATL-TS-00005682</td>\n",
       "      <td>Maximum available</td>\n",
       "      <td>2019-12-29</td>\n",
       "      <td>40156</td>\n",
       "      <td>52</td>\n",
       "      <td>System total load</td>\n",
       "      <td>Week ahead</td>\n",
       "      <td>Area</td>\n",
       "      <td>Sequential fixed size block</td>\n",
       "      <td>P1D</td>\n",
       "      <td>Mega watt</td>\n",
       "      <td>2019</td>\n",
       "      <td>Y</td>\n",
       "      <td>NGET-EMFIP-WATL-00005681</td>\n",
       "      <td>1</td>\n",
       "    </tr>\n",
       "    <tr>\n",
       "      <th>2</th>\n",
       "      <td>NGET-EMFIP-WATL-TS-00005681</td>\n",
       "      <td>Minimum possible</td>\n",
       "      <td>2019-12-28</td>\n",
       "      <td>23644</td>\n",
       "      <td>52</td>\n",
       "      <td>System total load</td>\n",
       "      <td>Week ahead</td>\n",
       "      <td>Area</td>\n",
       "      <td>Sequential fixed size block</td>\n",
       "      <td>P1D</td>\n",
       "      <td>Mega watt</td>\n",
       "      <td>2019</td>\n",
       "      <td>Y</td>\n",
       "      <td>NGET-EMFIP-WATL-00005681</td>\n",
       "      <td>1</td>\n",
       "    </tr>\n",
       "  </tbody>\n",
       "</table>\n",
       "</div>"
      ],
      "text/plain": [
       "                  timeSeriesID       businessType settlementDate quantity  \\\n",
       "0  NGET-EMFIP-WATL-TS-00005681   Minimum possible     2019-12-29    22753   \n",
       "1  NGET-EMFIP-WATL-TS-00005682  Maximum available     2019-12-29    40156   \n",
       "2  NGET-EMFIP-WATL-TS-00005681   Minimum possible     2019-12-28    23644   \n",
       "\n",
       "  week       documentType processType objectAggregation  \\\n",
       "0   52  System total load  Week ahead              Area   \n",
       "1   52  System total load  Week ahead              Area   \n",
       "2   52  System total load  Week ahead              Area   \n",
       "\n",
       "                     curveType resolution unitOfMeasure  year activeFlag  \\\n",
       "0  Sequential fixed size block        P1D     Mega watt  2019          Y   \n",
       "1  Sequential fixed size block        P1D     Mega watt  2019          Y   \n",
       "2  Sequential fixed size block        P1D     Mega watt  2019          Y   \n",
       "\n",
       "                 documentID documentRevNum  \n",
       "0  NGET-EMFIP-WATL-00005681              1  \n",
       "1  NGET-EMFIP-WATL-00005681              1  \n",
       "2  NGET-EMFIP-WATL-00005681              1  "
      ]
     },
     "execution_count": 15,
     "metadata": {},
     "output_type": "execute_result"
    }
   ],
   "source": [
    "method = 'get_B0630'\n",
    "kwargs = {}\n",
    "\n",
    "kwargs_map = method_info[method]['kwargs_map']\n",
    "func_params = list(method_info[method]['func_kwargs'].keys())\n",
    "\n",
    "df = year_and_week_request(\n",
    "    method=method,\n",
    "    kwargs_map=kwargs_map,\n",
    "    func_params=func_params,\n",
    "    api_key=api_key,\n",
    "    start_date='2020-01-01',\n",
    "    end_date='2020-01-31',\n",
    "    **kwargs\n",
    ")\n",
    "    \n",
    "df.head(3)"
   ]
  },
  {
   "cell_type": "code",
   "execution_count": null,
   "id": "2b5299a6-da99-4ec3-b9ee-fbf455150f7c",
   "metadata": {},
   "outputs": [],
   "source": []
  },
  {
   "cell_type": "code",
   "execution_count": 16,
   "id": "9dfe47ac-e486-4253-85fd-3990d18fa88b",
   "metadata": {},
   "outputs": [],
   "source": [
    "#exports\n",
    "def non_temporal_request(\n",
    "    method: str,\n",
    "    api_key: str,\n",
    "    n_attempts: int=3,\n",
    "    **kwargs\n",
    "):    \n",
    "    kwargs.update({\n",
    "        'APIKey': api_key,\n",
    "        'ServiceType': 'xml'\n",
    "    })\n",
    "    \n",
    "    r = retry_request(raw, method, kwargs, n_attempts=n_attempts)\n",
    "    \n",
    "    df = utils.parse_xml_response(r)\n",
    "    df = if_possible_parse_local_datetime(df)\n",
    "        \n",
    "    return df"
   ]
  },
  {
   "cell_type": "code",
   "execution_count": null,
   "id": "e8b6d877-2401-4000-9079-eedb99e26f57",
   "metadata": {},
   "outputs": [],
   "source": []
  },
  {
   "cell_type": "markdown",
   "id": "8bcce98a-4368-4684-9a85-276befd6fb2a",
   "metadata": {},
   "source": [
    "<br>\n",
    "\n",
    "### Query Orchestrator"
   ]
  },
  {
   "cell_type": "code",
   "execution_count": 21,
   "id": "e4a9b263-665f-4eab-a36e-786e0cd4fc2c",
   "metadata": {},
   "outputs": [],
   "source": [
    "#exports\n",
    "def query_orchestrator(\n",
    "    method: str,\n",
    "    api_key: str,\n",
    "    request_type: str,\n",
    "    kwargs_map: dict=None,\n",
    "    func_params: list=None,\n",
    "    start_date: str=None,\n",
    "    end_date: str=None,\n",
    "    n_attempts: int=3,\n",
    "    **kwargs\n",
    "):    \n",
    "    if request_type not in ['non_temporal']:\n",
    "        kwargs.update({\n",
    "            'kwargs_map': kwargs_map,\n",
    "            'func_params': func_params,\n",
    "            'start_date': start_date,\n",
    "            'end_date': end_date,\n",
    "        })\n",
    "        \n",
    "    if request_type in ['date_range', 'date_time_range']:\n",
    "        kwargs.update({\n",
    "            'request_type': request_type,\n",
    "        })\n",
    "        \n",
    "    request_type_to_func = {\n",
    "        'SP_and_date': SP_and_date_request,\n",
    "        'date_range': date_range_request,\n",
    "        'date_time_range': date_range_request,\n",
    "        'year': year_request,\n",
    "        'year_and_month': year_and_month_request,\n",
    "        'year_and_week': year_and_week_request,\n",
    "        'non_temporal': non_temporal_request\n",
    "    }\n",
    "    \n",
    "    assert request_type in request_type_to_func.keys(), f\"{request_type} must be one of: {', '.join(request_type_to_func.keys())}\"\n",
    "    request_func = request_type_to_func[request_type]\n",
    "    \n",
    "    df = request_func(\n",
    "        method=method,\n",
    "        api_key=api_key,\n",
    "        n_attempts=n_attempts,\n",
    "        **kwargs\n",
    "    )\n",
    "    \n",
    "    df = df.reset_index(drop=True)\n",
    "\n",
    "    return df"
   ]
  },
  {
   "cell_type": "code",
   "execution_count": 22,
   "id": "c14b2252-441a-48ff-b7bb-71d4d8524e2b",
   "metadata": {},
   "outputs": [
    {
     "name": "stderr",
     "output_type": "stream",
     "text": [
      "B0630: 100%|█████████████████████████████████████████████████████████████████████████████| 4/4 [00:00<00:00,  7.66it/s]\n"
     ]
    },
    {
     "data": {
      "text/html": [
       "<div>\n",
       "<style scoped>\n",
       "    .dataframe tbody tr th:only-of-type {\n",
       "        vertical-align: middle;\n",
       "    }\n",
       "\n",
       "    .dataframe tbody tr th {\n",
       "        vertical-align: top;\n",
       "    }\n",
       "\n",
       "    .dataframe thead th {\n",
       "        text-align: right;\n",
       "    }\n",
       "</style>\n",
       "<table border=\"1\" class=\"dataframe\">\n",
       "  <thead>\n",
       "    <tr style=\"text-align: right;\">\n",
       "      <th></th>\n",
       "      <th>timeSeriesID</th>\n",
       "      <th>businessType</th>\n",
       "      <th>settlementDate</th>\n",
       "      <th>quantity</th>\n",
       "      <th>week</th>\n",
       "      <th>documentType</th>\n",
       "      <th>processType</th>\n",
       "      <th>objectAggregation</th>\n",
       "      <th>curveType</th>\n",
       "      <th>resolution</th>\n",
       "      <th>unitOfMeasure</th>\n",
       "      <th>year</th>\n",
       "      <th>activeFlag</th>\n",
       "      <th>documentID</th>\n",
       "      <th>documentRevNum</th>\n",
       "    </tr>\n",
       "  </thead>\n",
       "  <tbody>\n",
       "    <tr>\n",
       "      <th>0</th>\n",
       "      <td>NGET-EMFIP-WATL-TS-00005681</td>\n",
       "      <td>Minimum possible</td>\n",
       "      <td>2019-12-29</td>\n",
       "      <td>22753</td>\n",
       "      <td>52</td>\n",
       "      <td>System total load</td>\n",
       "      <td>Week ahead</td>\n",
       "      <td>Area</td>\n",
       "      <td>Sequential fixed size block</td>\n",
       "      <td>P1D</td>\n",
       "      <td>Mega watt</td>\n",
       "      <td>2019</td>\n",
       "      <td>Y</td>\n",
       "      <td>NGET-EMFIP-WATL-00005681</td>\n",
       "      <td>1</td>\n",
       "    </tr>\n",
       "    <tr>\n",
       "      <th>1</th>\n",
       "      <td>NGET-EMFIP-WATL-TS-00005682</td>\n",
       "      <td>Maximum available</td>\n",
       "      <td>2019-12-29</td>\n",
       "      <td>40156</td>\n",
       "      <td>52</td>\n",
       "      <td>System total load</td>\n",
       "      <td>Week ahead</td>\n",
       "      <td>Area</td>\n",
       "      <td>Sequential fixed size block</td>\n",
       "      <td>P1D</td>\n",
       "      <td>Mega watt</td>\n",
       "      <td>2019</td>\n",
       "      <td>Y</td>\n",
       "      <td>NGET-EMFIP-WATL-00005681</td>\n",
       "      <td>1</td>\n",
       "    </tr>\n",
       "    <tr>\n",
       "      <th>2</th>\n",
       "      <td>NGET-EMFIP-WATL-TS-00005681</td>\n",
       "      <td>Minimum possible</td>\n",
       "      <td>2019-12-28</td>\n",
       "      <td>23644</td>\n",
       "      <td>52</td>\n",
       "      <td>System total load</td>\n",
       "      <td>Week ahead</td>\n",
       "      <td>Area</td>\n",
       "      <td>Sequential fixed size block</td>\n",
       "      <td>P1D</td>\n",
       "      <td>Mega watt</td>\n",
       "      <td>2019</td>\n",
       "      <td>Y</td>\n",
       "      <td>NGET-EMFIP-WATL-00005681</td>\n",
       "      <td>1</td>\n",
       "    </tr>\n",
       "  </tbody>\n",
       "</table>\n",
       "</div>"
      ],
      "text/plain": [
       "                  timeSeriesID       businessType settlementDate quantity  \\\n",
       "0  NGET-EMFIP-WATL-TS-00005681   Minimum possible     2019-12-29    22753   \n",
       "1  NGET-EMFIP-WATL-TS-00005682  Maximum available     2019-12-29    40156   \n",
       "2  NGET-EMFIP-WATL-TS-00005681   Minimum possible     2019-12-28    23644   \n",
       "\n",
       "  week       documentType processType objectAggregation  \\\n",
       "0   52  System total load  Week ahead              Area   \n",
       "1   52  System total load  Week ahead              Area   \n",
       "2   52  System total load  Week ahead              Area   \n",
       "\n",
       "                     curveType resolution unitOfMeasure  year activeFlag  \\\n",
       "0  Sequential fixed size block        P1D     Mega watt  2019          Y   \n",
       "1  Sequential fixed size block        P1D     Mega watt  2019          Y   \n",
       "2  Sequential fixed size block        P1D     Mega watt  2019          Y   \n",
       "\n",
       "                 documentID documentRevNum  \n",
       "0  NGET-EMFIP-WATL-00005681              1  \n",
       "1  NGET-EMFIP-WATL-00005681              1  \n",
       "2  NGET-EMFIP-WATL-00005681              1  "
      ]
     },
     "execution_count": 22,
     "metadata": {},
     "output_type": "execute_result"
    }
   ],
   "source": [
    "method = 'get_B0630'\n",
    "start_date = '2020-01-01'\n",
    "end_date = '2020-01-31'\n",
    "\n",
    "request_type = method_info[method]['request_type']\n",
    "kwargs_map = method_info[method]['kwargs_map']\n",
    "func_params = list(method_info[method]['func_kwargs'].keys())\n",
    "\n",
    "df = query_orchestrator(\n",
    "    method=method,\n",
    "    api_key=api_key,\n",
    "    request_type=request_type,\n",
    "    kwargs_map=kwargs_map,\n",
    "    func_params=func_params,\n",
    "    start_date=start_date,\n",
    "    end_date=end_date\n",
    ")\n",
    "\n",
    "df.head(3)"
   ]
  },
  {
   "cell_type": "code",
   "execution_count": null,
   "id": "365a575b-d197-4946-9d34-60d1598b4e29",
   "metadata": {},
   "outputs": [],
   "source": []
  },
  {
   "cell_type": "code",
   "execution_count": 20,
   "id": "25e3b9c2-465b-49c6-8eea-f265a4a586b8",
   "metadata": {},
   "outputs": [
    {
     "name": "stdout",
     "output_type": "stream",
     "text": [
      "Converted 05-orchestrator.ipynb.\n"
     ]
    }
   ],
   "source": [
    "#hide\n",
    "from ElexonDataPortal.dev.nbdev import notebook2script\n",
    "notebook2script('05-orchestrator.ipynb')"
   ]
  }
 ],
 "metadata": {
  "kernelspec": {
   "display_name": "BMRS",
   "language": "python",
   "name": "bmrs"
  },
  "language_info": {
   "codemirror_mode": {
    "name": "ipython",
    "version": 3
   },
   "file_extension": ".py",
   "mimetype": "text/x-python",
   "name": "python",
   "nbconvert_exporter": "python",
   "pygments_lexer": "ipython3",
   "version": "3.9.4"
  }
 },
 "nbformat": 4,
 "nbformat_minor": 5
}
