{
 "cells": [
  {
   "cell_type": "code",
   "execution_count": 1,
   "id": "c5ad9cca-b934-42c4-a4f2-3b2fd5c559d8",
   "metadata": {},
   "outputs": [],
   "source": [
    "#hide\n",
    "#default_exp dev.specgen"
   ]
  },
  {
   "cell_type": "markdown",
   "id": "1589dda0-3c79-4892-8785-cba5f600d43c",
   "metadata": {},
   "source": [
    "# Open-API Specification Generation"
   ]
  },
  {
   "cell_type": "markdown",
   "id": "230a3932-6cab-4806-8f88-519caea0e151",
   "metadata": {},
   "source": [
    "<br>\n",
    "\n",
    "### Imports"
   ]
  },
  {
   "cell_type": "code",
   "execution_count": 2,
   "id": "c2f6acfc-19bb-4be2-8ad4-943142fbd86d",
   "metadata": {},
   "outputs": [],
   "source": [
    "#exports\n",
    "import numpy as np\n",
    "import pandas as pd\n",
    "\n",
    "import os\n",
    "import yaml\n",
    "\n",
    "from jinja2 import Template"
   ]
  },
  {
   "cell_type": "code",
   "execution_count": 3,
   "id": "d7cd8e47-5594-4dac-b817-910728eb002e",
   "metadata": {},
   "outputs": [],
   "source": [
    "from IPython.display import JSON"
   ]
  },
  {
   "cell_type": "code",
   "execution_count": null,
   "id": "dee470d0-5003-4e9a-839b-4a005cb94f2c",
   "metadata": {},
   "outputs": [],
   "source": []
  },
  {
   "cell_type": "code",
   "execution_count": 4,
   "id": "7314d35d-6a25-43d8-8dd1-c30021851548",
   "metadata": {},
   "outputs": [],
   "source": [
    "#exports\n",
    "def init_spec(\n",
    "    title='BMRS API',\n",
    "    description='API for the Elexon Balancing Mechanism Reporting Service',\n",
    "    root_url='https://api.bmreports.com'\n",
    "):\n",
    "    API_spec = dict()\n",
    "\n",
    "    API_spec['title'] = title\n",
    "    API_spec['description'] = description\n",
    "    API_spec['root_url'] = root_url\n",
    "    \n",
    "    return API_spec"
   ]
  },
  {
   "cell_type": "code",
   "execution_count": 5,
   "id": "f28357be-931f-41ad-8182-ff93a8cba7c3",
   "metadata": {},
   "outputs": [
    {
     "data": {
      "text/plain": [
       "{'title': 'BMRS API',\n",
       " 'description': 'API for the Elexon Balancing Mechanism Reporting Service',\n",
       " 'root_url': 'https://api.bmreports.com'}"
      ]
     },
     "execution_count": 5,
     "metadata": {},
     "output_type": "execute_result"
    }
   ],
   "source": [
    "API_spec = init_spec()\n",
    "\n",
    "API_spec"
   ]
  },
  {
   "cell_type": "code",
   "execution_count": null,
   "id": "f87b5ee0-108a-43a7-b5d5-27b61cc42697",
   "metadata": {},
   "outputs": [],
   "source": []
  },
  {
   "cell_type": "code",
   "execution_count": 6,
   "id": "b0bca11e-e28f-4a13-93c4-559ab7120e2f",
   "metadata": {},
   "outputs": [],
   "source": [
    "#exports\n",
    "def load_endpoints_df(endpoints_fp: str='data/endpoints.csv'):\n",
    "    df_endpoints = pd.read_csv(endpoints_fp)\n",
    "\n",
    "    date_idxs = (df_endpoints['Sample Data'].str.count('/')==2).replace(np.nan, False)\n",
    "    time_idxs = df_endpoints['Sample Data'].str.contains(':').replace(np.nan, False)\n",
    "\n",
    "    df_endpoints.loc[date_idxs & ~time_idxs, 'Sample Data'] = pd.to_datetime(df_endpoints.loc[date_idxs & ~time_idxs, 'Sample Data']).dt.strftime('%Y-%m-%d')\n",
    "    df_endpoints.loc[date_idxs & time_idxs, 'Sample Data'] = pd.to_datetime(df_endpoints.loc[date_idxs & time_idxs, 'Sample Data']).dt.strftime('%Y-%m-%d %H:%M:%S')\n",
    "\n",
    "    df_endpoints['Sample Data'] = df_endpoints['Sample Data'].fillna('')\n",
    "    df_endpoints['Field Name'] = df_endpoints['Field Name'].str.replace(' ', '')\n",
    "    \n",
    "    return df_endpoints"
   ]
  },
  {
   "cell_type": "code",
   "execution_count": 7,
   "id": "81ff5f54-2c9f-4524-a62d-6d54506bf886",
   "metadata": {},
   "outputs": [
    {
     "data": {
      "text/html": [
       "<div>\n",
       "<style scoped>\n",
       "    .dataframe tbody tr th:only-of-type {\n",
       "        vertical-align: middle;\n",
       "    }\n",
       "\n",
       "    .dataframe tbody tr th {\n",
       "        vertical-align: top;\n",
       "    }\n",
       "\n",
       "    .dataframe thead th {\n",
       "        text-align: right;\n",
       "    }\n",
       "</style>\n",
       "<table border=\"1\" class=\"dataframe\">\n",
       "  <thead>\n",
       "    <tr style=\"text-align: right;\">\n",
       "      <th></th>\n",
       "      <th>id</th>\n",
       "      <th>name</th>\n",
       "      <th>version</th>\n",
       "      <th>method</th>\n",
       "      <th>direction</th>\n",
       "      <th>Field Name</th>\n",
       "      <th>Field Type</th>\n",
       "      <th>Remarks</th>\n",
       "      <th>Mandatory</th>\n",
       "      <th>Format</th>\n",
       "      <th>Sample Data</th>\n",
       "      <th>tags</th>\n",
       "    </tr>\n",
       "  </thead>\n",
       "  <tbody>\n",
       "    <tr>\n",
       "      <th>0</th>\n",
       "      <td>B1720</td>\n",
       "      <td>Amount Of Balancing Reserves Under Contract Se...</td>\n",
       "      <td>1</td>\n",
       "      <td>get</td>\n",
       "      <td>request</td>\n",
       "      <td>APIKey</td>\n",
       "      <td>String</td>\n",
       "      <td>NaN</td>\n",
       "      <td>Yes</td>\n",
       "      <td>NaN</td>\n",
       "      <td>AP8DA23</td>\n",
       "      <td>Balancing</td>\n",
       "    </tr>\n",
       "    <tr>\n",
       "      <th>1</th>\n",
       "      <td>B1720</td>\n",
       "      <td>Amount Of Balancing Reserves Under Contract Se...</td>\n",
       "      <td>1</td>\n",
       "      <td>get</td>\n",
       "      <td>request</td>\n",
       "      <td>SettlementDate</td>\n",
       "      <td>String</td>\n",
       "      <td>NaN</td>\n",
       "      <td>Yes</td>\n",
       "      <td>YYYY-MM-DD</td>\n",
       "      <td>2021-01-01</td>\n",
       "      <td>Balancing</td>\n",
       "    </tr>\n",
       "    <tr>\n",
       "      <th>2</th>\n",
       "      <td>B1720</td>\n",
       "      <td>Amount Of Balancing Reserves Under Contract Se...</td>\n",
       "      <td>1</td>\n",
       "      <td>get</td>\n",
       "      <td>request</td>\n",
       "      <td>Period</td>\n",
       "      <td>String</td>\n",
       "      <td>NaN</td>\n",
       "      <td>Yes</td>\n",
       "      <td>*/1-50</td>\n",
       "      <td>1</td>\n",
       "      <td>Balancing</td>\n",
       "    </tr>\n",
       "  </tbody>\n",
       "</table>\n",
       "</div>"
      ],
      "text/plain": [
       "      id                                               name  version method  \\\n",
       "0  B1720  Amount Of Balancing Reserves Under Contract Se...        1    get   \n",
       "1  B1720  Amount Of Balancing Reserves Under Contract Se...        1    get   \n",
       "2  B1720  Amount Of Balancing Reserves Under Contract Se...        1    get   \n",
       "\n",
       "  direction      Field Name Field Type Remarks Mandatory      Format  \\\n",
       "0   request          APIKey     String     NaN       Yes         NaN   \n",
       "1   request  SettlementDate     String     NaN       Yes  YYYY-MM-DD   \n",
       "2   request          Period     String     NaN       Yes      */1-50   \n",
       "\n",
       "  Sample Data       tags  \n",
       "0     AP8DA23  Balancing  \n",
       "1  2021-01-01  Balancing  \n",
       "2           1  Balancing  "
      ]
     },
     "execution_count": 7,
     "metadata": {},
     "output_type": "execute_result"
    }
   ],
   "source": [
    "df_endpoints = load_endpoints_df('../data/endpoints.csv')\n",
    "df_endpoints.to_csv('../data/endpoints.csv', index=False)\n",
    "\n",
    "df_endpoints.head(3)"
   ]
  },
  {
   "cell_type": "code",
   "execution_count": null,
   "id": "a9a5194a-1085-4889-91a6-4783920071da",
   "metadata": {},
   "outputs": [],
   "source": []
  },
  {
   "cell_type": "code",
   "execution_count": 8,
   "id": "f313e257-db8d-4683-869a-5c60edca8274",
   "metadata": {},
   "outputs": [],
   "source": [
    "#exports\n",
    "def get_endpoint_single_attr(df_endpoint, attribute='version'):\n",
    "    attr_val = df_endpoint[attribute].unique()\n",
    "    assert len(attr_val)==1, f'Expected only 1 {attribute}, instead found {len(attr_val)}'\n",
    "    attr_val = attr_val[0]\n",
    "\n",
    "    return attr_val"
   ]
  },
  {
   "cell_type": "code",
   "execution_count": 9,
   "id": "ae409b5c-fe1a-4e9b-8eed-e58f5c047588",
   "metadata": {
    "tags": []
   },
   "outputs": [
    {
     "data": {
      "text/plain": [
       "1"
      ]
     },
     "execution_count": 9,
     "metadata": {},
     "output_type": "execute_result"
    }
   ],
   "source": [
    "endpoint_id = 'B1720'\n",
    "df_endpoint = df_endpoints.query(f'id==@endpoint_id')\n",
    "\n",
    "get_endpoint_single_attr(df_endpoint, 'version')"
   ]
  },
  {
   "cell_type": "code",
   "execution_count": null,
   "id": "d5e7eadd-5ad2-4a30-8a72-fdf0cfdf0510",
   "metadata": {},
   "outputs": [],
   "source": []
  },
  {
   "cell_type": "code",
   "execution_count": 10,
   "id": "beeed062-9e6d-487b-9712-38018f7990d8",
   "metadata": {},
   "outputs": [],
   "source": [
    "#exports\n",
    "def init_stream_dict(df_endpoint, endpoint_id):\n",
    "    version = get_endpoint_single_attr(df_endpoint, 'version')\n",
    "    name = get_endpoint_single_attr(df_endpoint, 'name')\n",
    "    tags = get_endpoint_single_attr(df_endpoint, 'tags')\n",
    "\n",
    "    stream = dict()\n",
    "    \n",
    "    stream['endpoint'] = f'/BMRS/{endpoint_id}/v{version}'\n",
    "    stream['x-title'] = endpoint_id\n",
    "    stream['description'] = name\n",
    "    stream['parameters'] = list()\n",
    "    \n",
    "    if isinstance(tags, str):\n",
    "        stream['tags'] = tags.split(', ')\n",
    "    \n",
    "    return stream"
   ]
  },
  {
   "cell_type": "code",
   "execution_count": 11,
   "id": "91803516-4af0-4af4-906b-f981d97bc3fe",
   "metadata": {},
   "outputs": [
    {
     "data": {
      "text/plain": [
       "{'endpoint': '/BMRS/B1720/v1',\n",
       " 'x-title': 'B1720',\n",
       " 'description': 'Amount Of Balancing Reserves Under Contract Service',\n",
       " 'parameters': [],\n",
       " 'tags': ['Balancing']}"
      ]
     },
     "execution_count": 11,
     "metadata": {},
     "output_type": "execute_result"
    }
   ],
   "source": [
    "stream = init_stream_dict(df_endpoint, endpoint_id)\n",
    "\n",
    "stream"
   ]
  },
  {
   "cell_type": "code",
   "execution_count": null,
   "id": "510b46cd-2d88-40ab-a358-4dbb7aa6ca62",
   "metadata": {},
   "outputs": [],
   "source": []
  },
  {
   "cell_type": "code",
   "execution_count": 12,
   "id": "ec72dc8e-6d3f-42bd-a367-2feafe6002cd",
   "metadata": {},
   "outputs": [],
   "source": [
    "#exports\n",
    "def add_params_to_stream_dict(\n",
    "    df_endpoint: pd.DataFrame, \n",
    "    stream: dict,\n",
    "    field_type_map: dict={\n",
    "        'String': 'string',\n",
    "        'Int': 'integer',\n",
    "        'int': 'integer',\n",
    "        'Integer': 'integer',\n",
    "        'Date': 'string'\n",
    "    }\n",
    "):\n",
    "    for _, (param_name, param_type, param_sample) in df_endpoint.query('direction==\"request\"')[['Field Name', 'Field Type', 'Sample Data']].iterrows():               \n",
    "        parameter = dict()\n",
    "        \n",
    "        parameter['name'] = param_name\n",
    "        parameter['type'] = field_type_map[param_type]\n",
    "        \n",
    "        if param_type in ['Date']:\n",
    "            parameter['format'] = 'date'\n",
    "        \n",
    "        if param_name == 'APIKey':\n",
    "            parameter['format'] = 'password'\n",
    "        \n",
    "        if param_sample == 'csv/xml':\n",
    "            parameter['examples'] = {f'{param_sub_sample}': {'value': param_sub_sample} for param_sub_sample in param_sample.split('/')}\n",
    "        else:\n",
    "            parameter['example'] = param_sample\n",
    "        \n",
    "        stream['parameters'] += [parameter]\n",
    "        \n",
    "    return stream"
   ]
  },
  {
   "cell_type": "code",
   "execution_count": 13,
   "id": "b50945ea-c5fb-4e8c-9ddb-de2b6f8fe21c",
   "metadata": {},
   "outputs": [
    {
     "data": {
      "text/plain": [
       "{'endpoint': '/BMRS/B1720/v1',\n",
       " 'x-title': 'B1720',\n",
       " 'description': 'Amount Of Balancing Reserves Under Contract Service',\n",
       " 'parameters': [{'name': 'APIKey',\n",
       "   'type': 'string',\n",
       "   'format': 'password',\n",
       "   'example': 'AP8DA23'},\n",
       "  {'name': 'SettlementDate', 'type': 'string', 'example': '2021-01-01'},\n",
       "  {'name': 'Period', 'type': 'string', 'example': '1'},\n",
       "  {'name': 'ServiceType',\n",
       "   'type': 'string',\n",
       "   'examples': {'csv': {'value': 'csv'}, 'xml': {'value': 'xml'}}}],\n",
       " 'tags': ['Balancing']}"
      ]
     },
     "execution_count": 13,
     "metadata": {},
     "output_type": "execute_result"
    }
   ],
   "source": [
    "stream = add_params_to_stream_dict(df_endpoint, stream)\n",
    "\n",
    "stream"
   ]
  },
  {
   "cell_type": "code",
   "execution_count": null,
   "id": "43d5e735-72f3-494b-97e2-2cad8b6a93d5",
   "metadata": {},
   "outputs": [],
   "source": []
  },
  {
   "cell_type": "code",
   "execution_count": 14,
   "id": "9644d0df-7501-4345-b6bd-320c3c529d21",
   "metadata": {},
   "outputs": [],
   "source": [
    "#exports\n",
    "def add_streams_to_spec(API_spec, df_endpoints):\n",
    "    API_spec['streams'] = list()\n",
    "    endpoint_ids = sorted(list(df_endpoints['id'].unique()))\n",
    "\n",
    "    for endpoint_id in endpoint_ids:\n",
    "        df_endpoint = df_endpoints.query(f'id==@endpoint_id')\n",
    "\n",
    "        stream = init_stream_dict(df_endpoint, endpoint_id)\n",
    "        stream = add_params_to_stream_dict(df_endpoint, stream)\n",
    "\n",
    "        API_spec['streams'] += [stream]\n",
    "        \n",
    "    return API_spec"
   ]
  },
  {
   "cell_type": "code",
   "execution_count": 15,
   "id": "677ea8cb-6f2e-43e5-a222-85b36896cb97",
   "metadata": {},
   "outputs": [
    {
     "data": {
      "application/json": {
       "description": "API for the Elexon Balancing Mechanism Reporting Service",
       "root_url": "https://api.bmreports.com",
       "streams": [
        {
         "description": "Actual Total Load per Bidding Zone",
         "endpoint": "/BMRS/B0610/v1",
         "parameters": [
          {
           "example": "AP8DA23",
           "format": "password",
           "name": "APIKey",
           "type": "string"
          },
          {
           "example": "2021-01-01",
           "name": "SettlementDate",
           "type": "string"
          },
          {
           "example": "1",
           "name": "Period",
           "type": "string"
          },
          {
           "examples": {
            "csv": {
             "value": "csv"
            },
            "xml": {
             "value": "xml"
            }
           },
           "name": "ServiceType",
           "type": "string"
          }
         ],
         "tags": [
          "Demand"
         ],
         "x-title": "B0610"
        },
        {
         "description": "Day-Ahead Total Load Forecast per Bidding Zone",
         "endpoint": "/BMRS/B0620/v1",
         "parameters": [
          {
           "example": "AP8DA23",
           "format": "password",
           "name": "APIKey",
           "type": "string"
          },
          {
           "example": "2021-01-01",
           "name": "SettlementDate",
           "type": "string"
          },
          {
           "example": "1",
           "name": "Period",
           "type": "string"
          },
          {
           "examples": {
            "csv": {
             "value": "csv"
            },
            "xml": {
             "value": "xml"
            }
           },
           "name": "ServiceType",
           "type": "string"
          }
         ],
         "tags": [
          "Demand"
         ],
         "x-title": "B0620"
        },
        {
         "description": "Week-Ahead Total Load Forecast per Bidding Zone",
         "endpoint": "/BMRS/B0630/v1",
         "parameters": [
          {
           "example": "AP8DA23",
           "format": "password",
           "name": "APIKey",
           "type": "string"
          },
          {
           "example": "2021",
           "name": "Year",
           "type": "string"
          },
          {
           "example": "22",
           "name": "Week",
           "type": "string"
          },
          {
           "examples": {
            "csv": {
             "value": "csv"
            },
            "xml": {
             "value": "xml"
            }
           },
           "name": "ServiceType",
           "type": "string"
          }
         ],
         "tags": [
          "Demand"
         ],
         "x-title": "B0630"
        },
        {
         "description": "Month-Ahead Total Load Forecast Per Bidding Zone",
         "endpoint": "/BMRS/B0640/v1",
         "parameters": [
          {
           "example": "AP8DA23",
           "format": "password",
           "name": "APIKey",
           "type": "string"
          },
          {
           "example": "2021",
           "name": "Year",
           "type": "string"
          },
          {
           "example": "MAR",
           "name": "Month",
           "type": "string"
          },
          {
           "examples": {
            "csv": {
             "value": "csv"
            },
            "xml": {
             "value": "xml"
            }
           },
           "name": "ServiceType",
           "type": "string"
          }
         ],
         "tags": [
          "Demand"
         ],
         "x-title": "B0640"
        },
        {
         "description": "Year Ahead Total Load Forecast per Bidding Zone",
         "endpoint": "/BMRS/B0650/v1",
         "parameters": [
          {
           "example": "AP8DA23",
           "format": "password",
           "name": "APIKey",
           "type": "string"
          },
          {
           "example": "2021",
           "name": "Year",
           "type": "string"
          },
          {
           "examples": {
            "csv": {
             "value": "csv"
            },
            "xml": {
             "value": "xml"
            }
           },
           "name": "ServiceType",
           "type": "string"
          }
         ],
         "tags": [
          "Demand"
         ],
         "x-title": "B0650"
        },
        {
         "description": "Planned Unavailability of Consumption Units",
         "endpoint": "/BMRS/B0710/v1",
         "parameters": [
          {
           "example": "AP8DA23",
           "format": "password",
           "name": "APIKey",
           "type": "string"
          },
          {
           "example": "23:59:59",
           "name": "EndTime",
           "type": "string"
          },
          {
           "example": "00:00:00",
           "name": "StartTime",
           "type": "string"
          },
          {
           "example": "2021-01-01",
           "name": "StartDate",
           "type": "string"
          },
          {
           "example": "2021-02-01",
           "name": "EndDate",
           "type": "string"
          },
          {
           "examples": {
            "csv": {
             "value": "csv"
            },
            "xml": {
             "value": "xml"
            }
           },
           "name": "ServiceType",
           "type": "string"
          }
         ],
         "tags": [
          "Demand"
         ],
         "x-title": "B0710"
        },
        {
         "description": "Changes In Actual Availability Of Consumption Units",
         "endpoint": "/BMRS/B0720/v1",
         "parameters": [
          {
           "example": "AP8DA23",
           "format": "password",
           "name": "APIKey",
           "type": "string"
          },
          {
           "example": "2021-01-01",
           "name": "StartDate",
           "type": "string"
          },
          {
           "example": "00:00:00",
           "name": "StartTime",
           "type": "string"
          },
          {
           "example": "2021-02-01",
           "name": "EndDate",
           "type": "string"
          },
          {
           "example": "23:59:59",
           "name": "EndTime",
           "type": "string"
          },
          {
           "examples": {
            "csv": {
             "value": "csv"
            },
            "xml": {
             "value": "xml"
            }
           },
           "name": "ServiceType",
           "type": "string"
          }
         ],
         "tags": [
          "Demand"
         ],
         "x-title": "B0720"
        },
        {
         "description": "Year Ahead Forecast Margin",
         "endpoint": "/BMRS/B0810/v1",
         "parameters": [
          {
           "example": "AP8DA23",
           "format": "password",
           "name": "APIKey",
           "type": "string"
          },
          {
           "example": "2021",
           "name": "Year",
           "type": "string"
          },
          {
           "examples": {
            "csv": {
             "value": "csv"
            },
            "xml": {
             "value": "xml"
            }
           },
           "name": "ServiceType",
           "type": "string"
          }
         ],
         "tags": [
          "Demand"
         ],
         "x-title": "B0810"
        },
        {
         "description": "Expansion and Dismantling Projects",
         "endpoint": "/BMRS/B0910/v1",
         "parameters": [
          {
           "example": "AP8DA23",
           "format": "password",
           "name": "APIKey",
           "type": "string"
          },
          {
           "example": "2021",
           "name": "Year",
           "type": "integer"
          },
          {
           "examples": {
            "csv": {
             "value": "csv"
            },
            "xml": {
             "value": "xml"
            }
           },
           "name": "ServiceType",
           "type": "string"
          }
         ],
         "tags": [
          "Transmission"
         ],
         "x-title": "B0910"
        },
        {
         "description": "Planned Unavailability In The Transmission Grid",
         "endpoint": "/BMRS/B1010/v1",
         "parameters": [
          {
           "example": "AP8DA23",
           "format": "password",
           "name": "APIKey",
           "type": "string"
          },
          {
           "example": "2021-01-01",
           "name": "StartDate",
           "type": "string"
          },
          {
           "example": "2021-02-01",
           "name": "EndDate",
           "type": "string"
          },
          {
           "example": "00:00:00",
           "name": "StartTime",
           "type": "string"
          },
          {
           "example": "23:59:59",
           "name": "EndTime",
           "type": "string"
          },
          {
           "examples": {
            "csv": {
             "value": "csv"
            },
            "xml": {
             "value": "xml"
            }
           },
           "name": "ServiceType",
           "type": "string"
          }
         ],
         "tags": [
          "Transmission"
         ],
         "x-title": "B1010"
        },
        {
         "description": "Changes In Actual Availability In The Transmission Grid",
         "endpoint": "/BMRS/B1020/v1",
         "parameters": [
          {
           "example": "AP8DA23",
           "format": "password",
           "name": "APIKey",
           "type": "string"
          },
          {
           "example": "2021-01-01",
           "name": "StartDate",
           "type": "string"
          },
          {
           "example": "2021-02-01",
           "name": "EndDate",
           "type": "string"
          },
          {
           "example": "00:00:00",
           "name": "StartTime",
           "type": "string"
          },
          {
           "example": "23:59:59",
           "name": "EndTime",
           "type": "string"
          },
          {
           "examples": {
            "csv": {
             "value": "csv"
            },
            "xml": {
             "value": "xml"
            }
           },
           "name": "ServiceType",
           "type": "string"
          }
         ],
         "tags": [
          "Transmission"
         ],
         "x-title": "B1020"
        },
        {
         "description": "Changes In Actual Availability of Offshore Grid Infrastructure",
         "endpoint": "/BMRS/B1030/v1",
         "parameters": [
          {
           "example": "AP8DA23",
           "format": "password",
           "name": "APIKey",
           "type": "string"
          },
          {
           "example": "2021-01-01",
           "name": "StartDate",
           "type": "string"
          },
          {
           "example": "2021-02-01",
           "name": "EndDate",
           "type": "string"
          },
          {
           "example": "00:00:00",
           "name": "StartTime",
           "type": "string"
          },
          {
           "example": "23:59:59",
           "name": "EndTime",
           "type": "string"
          },
          {
           "examples": {
            "csv": {
             "value": "csv"
            },
            "xml": {
             "value": "xml"
            }
           },
           "name": "ServiceType",
           "type": "string"
          }
         ],
         "tags": [
          "Transmission"
         ],
         "x-title": "B1030"
        },
        {
         "description": "Congestion Management Measures Countertrading",
         "endpoint": "/BMRS/B1320/v1",
         "parameters": [
          {
           "example": "AP8DA23",
           "format": "password",
           "name": "APIKey",
           "type": "string"
          },
          {
           "example": "2021-01-01",
           "name": "SettlementDate",
           "type": "string"
          },
          {
           "example": "1",
           "name": "Period",
           "type": "string"
          },
          {
           "examples": {
            "csv": {
             "value": "csv"
            },
            "xml": {
             "value": "xml"
            }
           },
           "name": "ServiceType",
           "type": "string"
          }
         ],
         "tags": [
          "Transmission"
         ],
         "x-title": "B1320"
        },
        {
         "description": "Congestion Management Measures Costs of Congestion Management",
         "endpoint": "/BMRS/B1330/v1",
         "parameters": [
          {
           "example": "AP8DA23",
           "format": "password",
           "name": "APIKey",
           "type": "string"
          },
          {
           "example": "2021",
           "name": "Year",
           "type": "string"
          },
          {
           "example": "Mar",
           "name": "Month",
           "type": "string"
          },
          {
           "examples": {
            "csv": {
             "value": "csv"
            },
            "xml": {
             "value": "xml"
            }
           },
           "name": "ServiceType",
           "type": "string"
          }
         ],
         "tags": [
          "Transmission"
         ],
         "x-title": "B1330"
        },
        {
         "description": "Installed Generation Capacity Aggregated",
         "endpoint": "/BMRS/B1410/v1",
         "parameters": [
          {
           "example": "AP8DA23",
           "format": "password",
           "name": "APIKey",
           "type": "string"
          },
          {
           "example": "2021",
           "name": "Year",
           "type": "string"
          },
          {
           "examples": {
            "csv": {
             "value": "csv"
            },
            "xml": {
             "value": "xml"
            }
           },
           "name": "ServiceType",
           "type": "string"
          }
         ],
         "tags": [
          "Generation"
         ],
         "x-title": "B1410"
        },
        {
         "description": "Installed Generation Capacity per Unit",
         "endpoint": "/BMRS/B1420/v1",
         "parameters": [
          {
           "example": "AP8DA23",
           "format": "password",
           "name": "APIKey",
           "type": "string"
          },
          {
           "example": "2021",
           "name": "Year",
           "type": "string"
          },
          {
           "examples": {
            "csv": {
             "value": "csv"
            },
            "xml": {
             "value": "xml"
            }
           },
           "name": "ServiceType",
           "type": "string"
          }
         ],
         "tags": [
          "Generation"
         ],
         "x-title": "B1420"
        },
        {
         "description": "Day-Ahead Aggregated Generation",
         "endpoint": "/BMRS/B1430/v1",
         "parameters": [
          {
           "example": "AP8DA23",
           "format": "password",
           "name": "APIKey",
           "type": "string"
          },
          {
           "example": "2021-01-01",
           "name": "SettlementDate",
           "type": "string"
          },
          {
           "example": "1",
           "name": "Period",
           "type": "string"
          },
          {
           "examples": {
            "csv": {
             "value": "csv"
            },
            "xml": {
             "value": "xml"
            }
           },
           "name": "ServiceType",
           "type": "string"
          }
         ],
         "tags": [
          "Generation"
         ],
         "x-title": "B1430"
        },
        {
         "description": "Generation forecasts for Wind and Solar",
         "endpoint": "/BMRS/B1440/v1",
         "parameters": [
          {
           "example": "AP8DA23",
           "format": "password",
           "name": "APIKey",
           "type": "string"
          },
          {
           "example": "2021-01-01",
           "name": "SettlementDate",
           "type": "string"
          },
          {
           "example": "1",
           "name": "Period",
           "type": "string"
          },
          {
           "example": "Day Ahead",
           "name": "ProcessType",
           "type": "string"
          },
          {
           "examples": {
            "csv": {
             "value": "csv"
            },
            "xml": {
             "value": "xml"
            }
           },
           "name": "ServiceType",
           "type": "string"
          }
         ],
         "tags": [
          "Generation"
         ],
         "x-title": "B1440"
        },
        {
         "description": "Planned Unavailability of Generation Units",
         "endpoint": "/BMRS/B1510/v1",
         "parameters": [
          {
           "example": "AP8DA23",
           "format": "password",
           "name": "APIKey",
           "type": "string"
          },
          {
           "example": "2021-01-01",
           "name": "StartDate",
           "type": "string"
          },
          {
           "example": "2021-02-01",
           "name": "EndDate",
           "type": "string"
          },
          {
           "example": "00:00:00",
           "name": "StartTime",
           "type": "string"
          },
          {
           "example": "23:59:59",
           "name": "EndTime",
           "type": "string"
          },
          {
           "examples": {
            "csv": {
             "value": "csv"
            },
            "xml": {
             "value": "xml"
            }
           },
           "name": "ServiceType",
           "type": "string"
          }
         ],
         "tags": [
          "Generation"
         ],
         "x-title": "B1510"
        },
        {
         "description": "Changes In Actual Availability of Generation Units",
         "endpoint": "/BMRS/B1520/v1",
         "parameters": [
          {
           "example": "AP8DA23",
           "format": "password",
           "name": "APIKey",
           "type": "string"
          },
          {
           "example": "2021-01-01",
           "name": "StartDate",
           "type": "string"
          },
          {
           "example": "2021-02-01",
           "name": "EndDate",
           "type": "string"
          },
          {
           "example": "00:00:00",
           "name": "StartTime",
           "type": "string"
          },
          {
           "example": "23:59:59",
           "name": "EndTime",
           "type": "string"
          },
          {
           "examples": {
            "csv": {
             "value": "csv"
            },
            "xml": {
             "value": "xml"
            }
           },
           "name": "ServiceType",
           "type": "string"
          }
         ],
         "tags": [
          "Generation"
         ],
         "x-title": "B1520"
        },
        {
         "description": "Planned Unavailability of Production Units",
         "endpoint": "/BMRS/B1530/v1",
         "parameters": [
          {
           "example": "AP8DA23",
           "format": "password",
           "name": "APIKey",
           "type": "string"
          },
          {
           "example": "2021-01-01",
           "name": "StartDate",
           "type": "string"
          },
          {
           "example": "2021-02-01",
           "name": "EndDate",
           "type": "string"
          },
          {
           "example": "00:00:00",
           "name": "StartTime",
           "type": "string"
          },
          {
           "example": "23:59:59",
           "name": "EndTime",
           "type": "string"
          },
          {
           "examples": {
            "csv": {
             "value": "csv"
            },
            "xml": {
             "value": "xml"
            }
           },
           "name": "ServiceType",
           "type": "string"
          }
         ],
         "tags": [
          "Generation"
         ],
         "x-title": "B1530"
        },
        {
         "description": "Changes In Actual Availability of Production Units",
         "endpoint": "/BMRS/B1540/v1",
         "parameters": [
          {
           "example": "AP8DA23",
           "format": "password",
           "name": "APIKey",
           "type": "string"
          },
          {
           "example": "2021-01-01",
           "name": "StartDate",
           "type": "string"
          },
          {
           "example": "2021-02-01",
           "name": "EndDate",
           "type": "string"
          },
          {
           "example": "00:00:00",
           "name": "StartTime",
           "type": "string"
          },
          {
           "example": "23:59:59",
           "name": "EndTime",
           "type": "string"
          },
          {
           "examples": {
            "csv": {
             "value": "csv"
            },
            "xml": {
             "value": "xml"
            }
           },
           "name": "ServiceType",
           "type": "string"
          }
         ],
         "tags": [
          "Generation"
         ],
         "x-title": "B1540"
        },
        {
         "description": "Actual Generation Output per Generation Unit",
         "endpoint": "/BMRS/B1610/v2",
         "parameters": [
          {
           "example": "AP8DA23",
           "format": "password",
           "name": "APIKey",
           "type": "string"
          },
          {
           "example": "2021-01-01",
           "name": "SettlementDate",
           "type": "string"
          },
          {
           "example": "1",
           "name": "Period",
           "type": "string"
          },
          {
           "example": "*",
           "name": "NGCBMUnitID",
           "type": "string"
          },
          {
           "examples": {
            "csv": {
             "value": "csv"
            },
            "xml": {
             "value": "xml"
            }
           },
           "name": "ServiceType",
           "type": "string"
          }
         ],
         "tags": [
          "Generation"
         ],
         "x-title": "B1610"
        },
        {
         "description": "Actual Aggregated Generation per Type",
         "endpoint": "/BMRS/B1620/v1",
         "parameters": [
          {
           "example": "AP8DA23",
           "format": "password",
           "name": "APIKey",
           "type": "string"
          },
          {
           "example": "2021-01-01",
           "name": "SettlementDate",
           "type": "string"
          },
          {
           "example": "1",
           "name": "Period",
           "type": "string"
          },
          {
           "examples": {
            "csv": {
             "value": "csv"
            },
            "xml": {
             "value": "xml"
            }
           },
           "name": "ServiceType",
           "type": "string"
          }
         ],
         "tags": [
          "Generation"
         ],
         "x-title": "B1620"
        },
        {
         "description": "Actual Or Estimated Wind and Solar Power Generation",
         "endpoint": "/BMRS/B1630/v1",
         "parameters": [
          {
           "example": "AP8DA23",
           "format": "password",
           "name": "APIKey",
           "type": "string"
          },
          {
           "example": "2021-01-01",
           "name": "SettlementDate",
           "type": "string"
          },
          {
           "example": "1",
           "name": "Period",
           "type": "string"
          },
          {
           "examples": {
            "csv": {
             "value": "csv"
            },
            "xml": {
             "value": "xml"
            }
           },
           "name": "ServiceType",
           "type": "string"
          }
         ],
         "tags": [
          "Generation"
         ],
         "x-title": "B1630"
        },
        {
         "description": "Amount Of Balancing Reserves Under Contract Service",
         "endpoint": "/BMRS/B1720/v1",
         "parameters": [
          {
           "example": "AP8DA23",
           "format": "password",
           "name": "APIKey",
           "type": "string"
          },
          {
           "example": "2021-01-01",
           "name": "SettlementDate",
           "type": "string"
          },
          {
           "example": "1",
           "name": "Period",
           "type": "string"
          },
          {
           "examples": {
            "csv": {
             "value": "csv"
            },
            "xml": {
             "value": "xml"
            }
           },
           "name": "ServiceType",
           "type": "string"
          }
         ],
         "tags": [
          "Balancing"
         ],
         "x-title": "B1720"
        },
        {
         "description": "Prices Of Procured Balancing Reserves Service",
         "endpoint": "/BMRS/B1730/v1",
         "parameters": [
          {
           "example": "AP8DA23",
           "format": "password",
           "name": "APIKey",
           "type": "string"
          },
          {
           "example": "2021-01-01",
           "name": "SettlementDate",
           "type": "string"
          },
          {
           "example": "1",
           "name": "Period",
           "type": "string"
          },
          {
           "examples": {
            "csv": {
             "value": "csv"
            },
            "xml": {
             "value": "xml"
            }
           },
           "name": "ServiceType",
           "type": "string"
          }
         ],
         "tags": [
          "Balancing"
         ],
         "x-title": "B1730"
        },
        {
         "description": "Accepted Aggregated Offers",
         "endpoint": "/BMRS/B1740/v1",
         "parameters": [
          {
           "example": "AP8DA23",
           "format": "password",
           "name": "APIKey",
           "type": "string"
          },
          {
           "example": "2021-01-01",
           "name": "SettlementDate",
           "type": "string"
          },
          {
           "example": "1",
           "name": "Period",
           "type": "string"
          },
          {
           "examples": {
            "csv": {
             "value": "csv"
            },
            "xml": {
             "value": "xml"
            }
           },
           "name": "ServiceType",
           "type": "string"
          }
         ],
         "tags": [
          "Balancing"
         ],
         "x-title": "B1740"
        },
        {
         "description": "Activated Balancing Energy",
         "endpoint": "/BMRS/B1750/v1",
         "parameters": [
          {
           "example": "AP8DA23",
           "format": "password",
           "name": "APIKey",
           "type": "string"
          },
          {
           "example": "2021-01-01",
           "name": "SettlementDate",
           "type": "string"
          },
          {
           "example": "1",
           "name": "Period",
           "type": "string"
          },
          {
           "examples": {
            "csv": {
             "value": "csv"
            },
            "xml": {
             "value": "xml"
            }
           },
           "name": "ServiceType",
           "type": "string"
          }
         ],
         "tags": [
          "Balancing"
         ],
         "x-title": "B1750"
        },
        {
         "description": "Prices Of Activated Balancing Energy",
         "endpoint": "/BMRS/B1760/v1",
         "parameters": [
          {
           "example": "AP8DA23",
           "format": "password",
           "name": "APIKey",
           "type": "string"
          },
          {
           "example": "2021-01-01",
           "name": "SettlementDate",
           "type": "string"
          },
          {
           "example": "1",
           "name": "Period",
           "type": "string"
          },
          {
           "examples": {
            "csv": {
             "value": "csv"
            },
            "xml": {
             "value": "xml"
            }
           },
           "name": "ServiceType",
           "type": "string"
          }
         ],
         "tags": [
          "Balancing"
         ],
         "x-title": "B1760"
        },
        {
         "description": "Imbalance Prices",
         "endpoint": "/BMRS/B1770/v1",
         "parameters": [
          {
           "example": "AP8DA23",
           "format": "password",
           "name": "APIKey",
           "type": "string"
          },
          {
           "example": "2021-01-01",
           "name": "SettlementDate",
           "type": "string"
          },
          {
           "example": "1",
           "name": "Period",
           "type": "string"
          },
          {
           "examples": {
            "csv": {
             "value": "csv"
            },
            "xml": {
             "value": "xml"
            }
           },
           "name": "ServiceType",
           "type": "string"
          }
         ],
         "tags": [
          "Balancing"
         ],
         "x-title": "B1770"
        },
        {
         "description": "Aggregated Imbalance Volumes",
         "endpoint": "/BMRS/B1780/v1",
         "parameters": [
          {
           "example": "AP8DA23",
           "format": "password",
           "name": "APIKey",
           "type": "string"
          },
          {
           "example": "2021-01-01",
           "name": "SettlementDate",
           "type": "string"
          },
          {
           "example": "1",
           "name": "Period",
           "type": "string"
          },
          {
           "examples": {
            "csv": {
             "value": "csv"
            },
            "xml": {
             "value": "xml"
            }
           },
           "name": "ServiceType",
           "type": "string"
          }
         ],
         "tags": [
          "Balancing"
         ],
         "x-title": "B1780"
        },
        {
         "description": "Financial Expenses and Income For Balancing",
         "endpoint": "/BMRS/B1790/v1",
         "parameters": [
          {
           "example": "AP8DA23",
           "format": "password",
           "name": "APIKey",
           "type": "string"
          },
          {
           "example": "2021",
           "name": "Year",
           "type": "string"
          },
          {
           "example": "MAR",
           "name": "Month",
           "type": "string"
          },
          {
           "examples": {
            "csv": {
             "value": "csv"
            },
            "xml": {
             "value": "xml"
            }
           },
           "name": "ServiceType",
           "type": "string"
          }
         ],
         "tags": [
          "Balancing"
         ],
         "x-title": "B1790"
        },
        {
         "description": "Cross-Border Balancing Volumes of Exchanged Bids and Offers",
         "endpoint": "/BMRS/B1810/v1",
         "parameters": [
          {
           "example": "AP8DA23",
           "format": "password",
           "name": "APIKey",
           "type": "string"
          },
          {
           "example": "2021-01-01",
           "name": "SettlementDate",
           "type": "string"
          },
          {
           "example": "1",
           "name": "Period",
           "type": "string"
          },
          {
           "examples": {
            "csv": {
             "value": "csv"
            },
            "xml": {
             "value": "xml"
            }
           },
           "name": "ServiceType",
           "type": "string"
          }
         ],
         "tags": [
          "Balancing"
         ],
         "x-title": "B1810"
        },
        {
         "description": "Cross-Border Balancing Prices",
         "endpoint": "/BMRS/B1820/v1",
         "parameters": [
          {
           "example": "AP8DA23",
           "format": "password",
           "name": "APIKey",
           "type": "string"
          },
          {
           "example": "2021-01-01",
           "name": "SettlementDate",
           "type": "string"
          },
          {
           "example": "1",
           "name": "Period",
           "type": "string"
          },
          {
           "examples": {
            "csv": {
             "value": "csv"
            },
            "xml": {
             "value": "xml"
            }
           },
           "name": "ServiceType",
           "type": "string"
          }
         ],
         "tags": [
          "Balancing"
         ],
         "x-title": "B1820"
        },
        {
         "description": "Cross-border Balancing Energy Activated",
         "endpoint": "/BMRS/B1830/v1",
         "parameters": [
          {
           "example": "AP8DA23",
           "format": "password",
           "name": "APIKey",
           "type": "string"
          },
          {
           "example": "2021-01-01",
           "name": "SettlementDate",
           "type": "string"
          },
          {
           "example": "1",
           "name": "Period",
           "type": "string"
          },
          {
           "examples": {
            "csv": {
             "value": "csv"
            },
            "xml": {
             "value": "xml"
            }
           },
           "name": "ServiceType",
           "type": "string"
          }
         ],
         "tags": [
          "Balancing"
         ],
         "x-title": "B1830"
        },
        {
         "description": "Bid Offer Level Data",
         "endpoint": "/BMRS/BOD/v1",
         "parameters": [
          {
           "example": "AP8DA23",
           "format": "password",
           "name": "APIKey",
           "type": "string"
          },
          {
           "example": "2021-01-01",
           "name": "SettlementDate",
           "type": "string"
          },
          {
           "example": "12",
           "name": "SettlementPeriod",
           "type": "string"
          },
          {
           "example": "2__AEENG000, G, E.ON Energy, Solutions Limited, EAS-EST01",
           "name": "BMUnitId",
           "type": "string"
          },
          {
           "example": "G, S, E, I, T, etc",
           "name": "BMUnitType",
           "type": "string"
          },
          {
           "example": "AES New Energy Limited",
           "name": "LeadPartyName",
           "type": "string"
          },
          {
           "example": "EAS-ASP01, AES New Energy Limited, G, 2__AAEPD000",
           "name": "NGCBMUnit",
           "type": "string"
          },
          {
           "example": "2__AAEPD000",
           "name": "Name",
           "type": "string"
          },
          {
           "examples": {
            "csv": {
             "value": "csv"
            },
            "xml": {
             "value": "xml"
            }
           },
           "name": "ServiceType",
           "type": "string"
          }
         ],
         "tags": [
          "Balancing"
         ],
         "x-title": "BOD"
        },
        {
         "description": "Credit Default Notice Data",
         "endpoint": "/BMRS/CDN/v1",
         "parameters": [
          {
           "example": "AP8DA23",
           "format": "password",
           "name": "APIKey",
           "type": "string"
          },
          {
           "example": "2021-01-01",
           "name": "FromClearedDate",
           "type": "string"
          },
          {
           "example": "2021-02-01",
           "name": "ToClearedDate",
           "type": "string"
          },
          {
           "examples": {
            "csv": {
             "value": "csv"
            },
            "xml": {
             "value": "xml"
            }
           },
           "name": "ServiceType",
           "type": "string"
          }
         ],
         "tags": [
          "Balancing"
         ],
         "x-title": "CDN"
        },
        {
         "description": "Detailed System Prices",
         "endpoint": "/BMRS/DETSYSPRICES/v1",
         "parameters": [
          {
           "example": "AP8DA23",
           "format": "password",
           "name": "APIKey",
           "type": "string"
          },
          {
           "example": "2014-02-01",
           "name": "SettlementDate",
           "type": "string"
          },
          {
           "example": "2",
           "name": "SettlementPeriod",
           "type": "string"
          },
          {
           "examples": {
            "csv": {
             "value": "csv"
            },
            "xml": {
             "value": "xml"
            }
           },
           "name": "ServiceType",
           "type": "string"
          }
         ],
         "tags": [
          "Balancing"
         ],
         "x-title": "DETSYSPRICES"
        },
        {
         "description": "Daily Energy Volume Data",
         "endpoint": "/BMRS/DEVINDOD/v1",
         "parameters": [
          {
           "example": "AP8DA23",
           "format": "password",
           "name": "APIKey",
           "type": "string"
          },
          {
           "example": "2021-01-01",
           "name": "FromDate",
           "type": "string"
          },
          {
           "example": "2021-02-01",
           "name": "ToDate",
           "type": "string"
          },
          {
           "examples": {
            "csv": {
             "value": "csv"
            },
            "xml": {
             "value": "xml"
            }
           },
           "name": "ServiceType",
           "type": "string"
          }
         ],
         "tags": [
          "Balancing"
         ],
         "x-title": "DEVINDOD"
        },
        {
         "description": "Balancing Services Adjustment Action Data",
         "endpoint": "/BMRS/DISBSAD/v1",
         "parameters": [
          {
           "example": "AP8DA23",
           "format": "password",
           "name": "APIKey",
           "type": "string"
          },
          {
           "example": "2021-01-01",
           "name": "SettlementDate",
           "type": "string"
          },
          {
           "example": "1",
           "name": "SettlementPeriod",
           "type": "string"
          },
          {
           "examples": {
            "csv": {
             "value": "csv"
            },
            "xml": {
             "value": "xml"
            }
           },
           "name": "ServiceType",
           "type": "string"
          }
         ],
         "tags": [
          "Balancing"
         ],
         "x-title": "DISBSAD"
        },
        {
         "description": "Forecast Day and Day Ahead Demand Data",
         "endpoint": "/BMRS/FORDAYDEM/v1",
         "parameters": [
          {
           "example": "AP8DA23",
           "format": "password",
           "name": "APIKey",
           "type": "string"
          },
          {
           "example": "N",
           "name": "ZoneIdentifier",
           "type": "string"
          },
          {
           "example": "2021-01-01",
           "name": "FromDate",
           "type": "string"
          },
          {
           "example": "2021-02-01",
           "name": "ToDate",
           "type": "string"
          },
          {
           "examples": {
            "csv": {
             "value": "csv"
            },
            "xml": {
             "value": "xml"
            }
           },
           "name": "ServiceType",
           "type": "string"
          }
         ],
         "tags": [
          "Demand"
         ],
         "x-title": "FORDAYDEM"
        },
        {
         "description": "Rolling System Frequency",
         "endpoint": "/BMRS/FREQ/v1",
         "parameters": [
          {
           "example": "AP8DA23",
           "format": "password",
           "name": "APIKey",
           "type": "string"
          },
          {
           "example": "2021-01-01 00:01:00",
           "name": "FromDateTime",
           "type": "string"
          },
          {
           "example": "2021-01-02 23:59:00",
           "name": "ToDateTime",
           "type": "string"
          },
          {
           "examples": {
            "csv": {
             "value": "csv"
            },
            "xml": {
             "value": "xml"
            }
           },
           "name": "ServiceType",
           "type": "string"
          }
         ],
         "tags": [
          "Demand"
         ],
         "x-title": "FREQ"
        },
        {
         "description": "Half Hourly Outturn Generation by Fuel Type",
         "endpoint": "/BMRS/FUELHH/v1",
         "parameters": [
          {
           "example": "AP8DA23",
           "format": "password",
           "name": "APIKey",
           "type": "string"
          },
          {
           "example": "44197",
           "name": "FromDate",
           "type": "string"
          },
          {
           "example": "44228",
           "name": "ToDate",
           "type": "string"
          },
          {
           "examples": {
            "csv": {
             "value": "csv"
            },
            "xml": {
             "value": "xml"
            }
           },
           "name": "ServiceType",
           "type": "string"
          }
         ],
         "tags": [
          "Generation"
         ],
         "x-title": "FUELHH"
        },
        {
         "description": "Forecast Day and Day Ahead Margin and Imbalance Data",
         "endpoint": "/BMRS/MELIMBALNGC/v1",
         "parameters": [
          {
           "example": "AP8DA23",
           "format": "password",
           "name": "APIKey",
           "type": "string"
          },
          {
           "example": "N",
           "name": "ZoneIdentifier",
           "type": "string"
          },
          {
           "example": "2021-01-01",
           "name": "FromDate",
           "type": "string"
          },
          {
           "example": "2021-02-01",
           "name": "ToDate",
           "type": "string"
          },
          {
           "examples": {
            "csv": {
             "value": "csv"
            },
            "xml": {
             "value": "xml"
            }
           },
           "name": "ServiceType",
           "type": "string"
          }
         ],
         "tags": [
          "Demand"
         ],
         "x-title": "MELIMBALNGC"
        },
        {
         "description": "Market Index Data",
         "endpoint": "/BMRS/MID/v1",
         "parameters": [
          {
           "example": "AP8DA23",
           "format": "password",
           "name": "APIKey",
           "type": "string"
          },
          {
           "example": "2021-01-01",
           "name": "FromSettlementDate",
           "type": "string"
          },
          {
           "example": "2021-02-01",
           "name": "ToSettlementDate",
           "type": "string"
          },
          {
           "example": "*",
           "name": "Period",
           "type": "string"
          },
          {
           "examples": {
            "csv": {
             "value": "csv"
            },
            "xml": {
             "value": "xml"
            }
           },
           "name": "ServiceType",
           "type": "string"
          }
         ],
         "tags": [
          "Balancing"
         ],
         "x-title": "MID"
        },
        {
         "description": "REMIT Flow - Message List Retrieval",
         "endpoint": "/BMRS/MessageDetailRetrieval/v1",
         "parameters": [
          {
           "example": "AP8DA23",
           "format": "password",
           "name": "APIKey",
           "type": "string"
          },
          {
           "example": "",
           "name": "MessageId",
           "type": "string"
          },
          {
           "example": "",
           "name": "ParticipantId",
           "type": "string"
          },
          {
           "example": "",
           "name": "SequenceId",
           "type": "integer"
          },
          {
           "example": "N",
           "name": "ActiveFlag",
           "type": "string"
          },
          {
           "example": "csv/xml.",
           "name": "ServiceType",
           "type": "string"
          }
         ],
         "tags": [
          "REMIT"
         ],
         "x-title": "MessageDetailRetrieval"
        },
        {
         "description": "REMIT Flow - Message List Retrieval",
         "endpoint": "/BMRS/MessageListRetrieval/v1",
         "parameters": [
          {
           "example": "AP8DA23",
           "format": "password",
           "name": "APIKey",
           "type": "string"
          },
          {
           "example": "2021-01-01",
           "name": "EventStart",
           "type": "string"
          },
          {
           "example": "2021-02-01",
           "name": "EventEnd",
           "type": "string"
          },
          {
           "example": "2021-01-01",
           "name": "PublicationFrom",
           "type": "string"
          },
          {
           "example": "2021-02-01",
           "name": "PublicationTo",
           "type": "string"
          },
          {
           "example": "",
           "name": "ParticipantId",
           "type": "string"
          },
          {
           "example": "",
           "name": "MessageID",
           "type": "string"
          },
          {
           "example": "",
           "name": "AssetID",
           "type": "string"
          },
          {
           "example": "",
           "name": "EventType",
           "type": "string"
          },
          {
           "example": "",
           "name": "FuelType",
           "type": "string"
          },
          {
           "example": "",
           "name": "MessageType",
           "type": "string"
          },
          {
           "example": "",
           "name": "UnavailabilityType",
           "type": "string"
          },
          {
           "examples": {
            "csv": {
             "value": "csv"
            },
            "xml": {
             "value": "xml"
            }
           },
           "name": "ServiceType",
           "type": "string"
          }
         ],
         "tags": [
          "REMIT"
         ],
         "x-title": "MessageListRetrieval"
        },
        {
         "description": "Balancing Service Adjustment Data",
         "endpoint": "/BMRS/NETBSAD/v1",
         "parameters": [
          {
           "example": "AP8DA23",
           "format": "password",
           "name": "APIKey",
           "type": "string"
          },
          {
           "example": "2021-01-01",
           "name": "SettlementDate",
           "type": "string"
          },
          {
           "example": "1",
           "name": "SettlementPeriod",
           "type": "string"
          },
          {
           "example": "FALSE",
           "name": "isTwoDayWindow",
           "type": "string"
          },
          {
           "examples": {
            "csv": {
             "value": "csv"
            },
            "xml": {
             "value": "xml"
            }
           },
           "name": "ServiceType",
           "type": "string"
          }
         ],
         "tags": [
          "Balancing"
         ],
         "x-title": "NETBSAD"
        },
        {
         "description": "Non BM STOR Instructed Volume Data",
         "endpoint": "/BMRS/NONBM/v1",
         "parameters": [
          {
           "example": "2021-01-01",
           "name": "FromDate",
           "type": "string"
          },
          {
           "example": "2021-02-01",
           "name": "ToDate",
           "type": "string"
          },
          {
           "example": "AP8DA23",
           "format": "password",
           "name": "APIKey",
           "type": "string"
          },
          {
           "examples": {
            "csv": {
             "value": "csv"
            },
            "xml": {
             "value": "xml"
            }
           },
           "name": "ServiceType",
           "type": "string"
          }
         ],
         "tags": [
          "Balancing"
         ],
         "x-title": "NONBM"
        },
        {
         "description": "Physical Data",
         "endpoint": "/BMRS/PHYBMDATA/v1",
         "parameters": [
          {
           "example": "AP8DA23",
           "format": "password",
           "name": "APIKey",
           "type": "string"
          },
          {
           "example": "2021-01-01",
           "name": "SettlementDate",
           "type": "string"
          },
          {
           "example": "12",
           "name": "SettlementPeriod",
           "type": "string"
          },
          {
           "example": "",
           "name": "BMUnitId",
           "type": "string"
          },
          {
           "example": "",
           "name": "BMUnitType",
           "type": "string"
          },
          {
           "example": "",
           "name": "LeadPartyName",
           "type": "string"
          },
          {
           "example": "",
           "name": "NGCBMUnit",
           "type": "string"
          },
          {
           "example": "",
           "name": "Name",
           "type": "string"
          },
          {
           "examples": {
            "csv": {
             "value": "csv"
            },
            "xml": {
             "value": "xml"
            }
           },
           "name": "ServiceType",
           "type": "string"
          }
         ],
         "tags": [
          "Balancing"
         ],
         "x-title": "PHYBMDATA"
        },
        {
         "description": "System Demand",
         "endpoint": "/BMRS/SYSDEM/v1",
         "parameters": [
          {
           "example": "AP8DA23",
           "format": "password",
           "name": "APIKey",
           "type": "string"
          },
          {
           "example": "2021-01-01",
           "name": "FromDate",
           "type": "string"
          },
          {
           "example": "2021-02-01",
           "name": "ToDate",
           "type": "string"
          },
          {
           "examples": {
            "csv": {
             "value": "csv"
            },
            "xml": {
             "value": "xml"
            }
           },
           "name": "ServiceType",
           "type": "string"
          }
         ],
         "tags": [
          "Demand"
         ],
         "x-title": "SYSDEM"
        },
        {
         "description": "System Warnings",
         "endpoint": "/BMRS/SYSWARN/v1",
         "parameters": [
          {
           "example": "AP8DA23",
           "format": "password",
           "name": "APIKey",
           "type": "string"
          },
          {
           "example": "2021-01-01",
           "name": "FromDate",
           "type": "string"
          },
          {
           "example": "2021-02-01",
           "name": "ToDate",
           "type": "string"
          },
          {
           "examples": {
            "csv": {
             "value": "csv"
            },
            "xml": {
             "value": "xml"
            }
           },
           "name": "ServiceType",
           "type": "string"
          }
         ],
         "tags": [
          "Transmission"
         ],
         "x-title": "SYSWARN"
        },
        {
         "description": "Temperature Data",
         "endpoint": "/BMRS/TEMP/v1",
         "parameters": [
          {
           "example": "AP8DA23",
           "format": "password",
           "name": "APIKey",
           "type": "string"
          },
          {
           "example": "2021-01-01",
           "name": "FromDate",
           "type": "string"
          },
          {
           "example": "2021-02-01",
           "name": "ToDate",
           "type": "string"
          },
          {
           "examples": {
            "csv": {
             "value": "csv"
            },
            "xml": {
             "value": "xml"
            }
           },
           "name": "ServiceType",
           "type": "string"
          }
         ],
         "tags": [
          "Generation"
         ],
         "x-title": "TEMP"
        },
        {
         "description": "Wind Generation Forecast and Out-turn Data",
         "endpoint": "/BMRS/WINDFORFUELHH/v1",
         "parameters": [
          {
           "example": "AP8DA23",
           "format": "password",
           "name": "APIKey",
           "type": "string"
          },
          {
           "example": "2021-01-01",
           "name": "FromDate",
           "type": "string"
          },
          {
           "example": "2021-02-01",
           "name": "ToDate",
           "type": "string"
          },
          {
           "examples": {
            "csv": {
             "value": "csv"
            },
            "xml": {
             "value": "xml"
            }
           },
           "name": "ServiceType",
           "type": "string"
          }
         ],
         "tags": [
          "Generation"
         ],
         "x-title": "WINDFORFUELHH"
        }
       ],
       "title": "BMRS API"
      },
      "text/plain": [
       "<IPython.core.display.JSON object>"
      ]
     },
     "execution_count": 15,
     "metadata": {
      "application/json": {
       "expanded": false,
       "root": "root"
      }
     },
     "output_type": "execute_result"
    }
   ],
   "source": [
    "API_spec = add_streams_to_spec(API_spec, df_endpoints)\n",
    "        \n",
    "JSON(API_spec)"
   ]
  },
  {
   "cell_type": "code",
   "execution_count": null,
   "id": "7fa2ad2d-f9db-44b5-acb4-2214f46ebf92",
   "metadata": {},
   "outputs": [],
   "source": []
  },
  {
   "cell_type": "code",
   "execution_count": 16,
   "id": "9266e55b-9ebd-4c0a-abf3-df7b8bdbc52c",
   "metadata": {},
   "outputs": [],
   "source": [
    "#exports\n",
    "def construct_spec(\n",
    "    df_endpoints: pd.DataFrame,\n",
    "    title: str='BMRS API',\n",
    "    description: str='API for the Elexon Balancing Mechanism Reporting Service',\n",
    "    root_url: str='https://api.bmreports.com'\n",
    "):\n",
    "    API_spec = init_spec()\n",
    "    API_spec = add_streams_to_spec(API_spec, df_endpoints)\n",
    "    \n",
    "    return API_spec"
   ]
  },
  {
   "cell_type": "code",
   "execution_count": 17,
   "id": "a176e663-a147-49f2-b82a-5ff3e792f1f7",
   "metadata": {},
   "outputs": [
    {
     "name": "stdout",
     "output_type": "stream",
     "text": [
      "Wall time: 409 ms\n"
     ]
    }
   ],
   "source": [
    "%%time\n",
    "\n",
    "API_spec = construct_spec(df_endpoints)"
   ]
  },
  {
   "cell_type": "code",
   "execution_count": null,
   "id": "d61268f2-ae2e-4f51-86e9-2b9c043fbd86",
   "metadata": {},
   "outputs": [],
   "source": []
  },
  {
   "cell_type": "code",
   "execution_count": 18,
   "id": "78e08743-00ea-480c-8a2b-e1bd05d57b4c",
   "metadata": {},
   "outputs": [],
   "source": [
    "#exports\n",
    "def save_spec(\n",
    "    API_spec: dict,\n",
    "    in_fp: str='../templates/open_api_spec.yaml',\n",
    "    out_fp: str='../data/BMRS_API.yaml'\n",
    "):\n",
    "    rendered_schema = Template(open(in_fp).read()).render(API_spec=API_spec)\n",
    "\n",
    "    with open(out_fp, 'w') as f:\n",
    "        try:\n",
    "            f.write(rendered_schema)\n",
    "        except e as exc:\n",
    "            raise exc"
   ]
  },
  {
   "cell_type": "code",
   "execution_count": 19,
   "id": "ba916f6a-cc4f-474c-ab0b-49b8bd0b618d",
   "metadata": {},
   "outputs": [],
   "source": [
    "save_spec(API_spec)"
   ]
  },
  {
   "cell_type": "code",
   "execution_count": null,
   "id": "92b4044d-4125-4e62-b681-fe05d8a9be1e",
   "metadata": {},
   "outputs": [],
   "source": []
  },
  {
   "cell_type": "code",
   "execution_count": 20,
   "id": "87913144-6a63-4aef-b3ce-3fabe3f5b51d",
   "metadata": {},
   "outputs": [],
   "source": [
    "#exports\n",
    "def load_API_yaml(fp='../data/BMRS_API.yaml'):\n",
    "    with open(fp, 'r') as stream:\n",
    "        try:\n",
    "            API_yaml = yaml.safe_load(stream)\n",
    "        except yaml.YAMLError as exc:\n",
    "            raise exc\n",
    "            \n",
    "    return API_yaml"
   ]
  },
  {
   "cell_type": "code",
   "execution_count": 21,
   "id": "c2f82329-0c31-4044-ba39-4122fa121855",
   "metadata": {},
   "outputs": [
    {
     "data": {
      "application/json": {
       "info": {
        "description": "API for the Elexon Balancing Mechanism Reporting Service",
        "title": "BMRS API",
        "version": "2.0"
       },
       "openapi": "3.0.1",
       "paths": {
        "/BMRS/B0610/v1": {
         "get": {
          "description": "Actual Total Load per Bidding Zone",
          "parameters": [
           {
            "example": "AP8DA23",
            "in": "query",
            "name": "APIKey",
            "schema": {
             "type": "string"
            }
           },
           {
            "example": "2021-01-01",
            "in": "query",
            "name": "SettlementDate",
            "schema": {
             "type": "string"
            }
           },
           {
            "example": "1",
            "in": "query",
            "name": "Period",
            "schema": {
             "type": "string"
            }
           },
           {
            "examples": {
             "csv": {
              "value": "csv"
             },
             "xml": {
              "value": "xml"
             }
            },
            "in": "query",
            "name": "ServiceType",
            "schema": {
             "type": "string"
            }
           }
          ],
          "responses": {
           "200": {
            "description": "Actual Total Load per Bidding Zone"
           }
          },
          "servers": [
           {
            "url": "https://api.bmreports.com"
           }
          ],
          "tags": [
           "Demand"
          ],
          "x-title": "B0610"
         },
         "servers": [
          {
           "url": "https://api.bmreports.com"
          }
         ]
        },
        "/BMRS/B0620/v1": {
         "get": {
          "description": "Day-Ahead Total Load Forecast per Bidding Zone",
          "parameters": [
           {
            "example": "AP8DA23",
            "in": "query",
            "name": "APIKey",
            "schema": {
             "type": "string"
            }
           },
           {
            "example": "2021-01-01",
            "in": "query",
            "name": "SettlementDate",
            "schema": {
             "type": "string"
            }
           },
           {
            "example": "1",
            "in": "query",
            "name": "Period",
            "schema": {
             "type": "string"
            }
           },
           {
            "examples": {
             "csv": {
              "value": "csv"
             },
             "xml": {
              "value": "xml"
             }
            },
            "in": "query",
            "name": "ServiceType",
            "schema": {
             "type": "string"
            }
           }
          ],
          "responses": {
           "200": {
            "description": "Day-Ahead Total Load Forecast per Bidding Zone"
           }
          },
          "servers": [
           {
            "url": "https://api.bmreports.com"
           }
          ],
          "tags": [
           "Demand"
          ],
          "x-title": "B0620"
         },
         "servers": [
          {
           "url": "https://api.bmreports.com"
          }
         ]
        },
        "/BMRS/B0630/v1": {
         "get": {
          "description": "Week-Ahead Total Load Forecast per Bidding Zone",
          "parameters": [
           {
            "example": "AP8DA23",
            "in": "query",
            "name": "APIKey",
            "schema": {
             "type": "string"
            }
           },
           {
            "example": "2021",
            "in": "query",
            "name": "Year",
            "schema": {
             "type": "string"
            }
           },
           {
            "example": "22",
            "in": "query",
            "name": "Week",
            "schema": {
             "type": "string"
            }
           },
           {
            "examples": {
             "csv": {
              "value": "csv"
             },
             "xml": {
              "value": "xml"
             }
            },
            "in": "query",
            "name": "ServiceType",
            "schema": {
             "type": "string"
            }
           }
          ],
          "responses": {
           "200": {
            "description": "Week-Ahead Total Load Forecast per Bidding Zone"
           }
          },
          "servers": [
           {
            "url": "https://api.bmreports.com"
           }
          ],
          "tags": [
           "Demand"
          ],
          "x-title": "B0630"
         },
         "servers": [
          {
           "url": "https://api.bmreports.com"
          }
         ]
        },
        "/BMRS/B0640/v1": {
         "get": {
          "description": "Month-Ahead Total Load Forecast Per Bidding Zone",
          "parameters": [
           {
            "example": "AP8DA23",
            "in": "query",
            "name": "APIKey",
            "schema": {
             "type": "string"
            }
           },
           {
            "example": "2021",
            "in": "query",
            "name": "Year",
            "schema": {
             "type": "string"
            }
           },
           {
            "example": "MAR",
            "in": "query",
            "name": "Month",
            "schema": {
             "type": "string"
            }
           },
           {
            "examples": {
             "csv": {
              "value": "csv"
             },
             "xml": {
              "value": "xml"
             }
            },
            "in": "query",
            "name": "ServiceType",
            "schema": {
             "type": "string"
            }
           }
          ],
          "responses": {
           "200": {
            "description": "Month-Ahead Total Load Forecast Per Bidding Zone"
           }
          },
          "servers": [
           {
            "url": "https://api.bmreports.com"
           }
          ],
          "tags": [
           "Demand"
          ],
          "x-title": "B0640"
         },
         "servers": [
          {
           "url": "https://api.bmreports.com"
          }
         ]
        },
        "/BMRS/B0650/v1": {
         "get": {
          "description": "Year Ahead Total Load Forecast per Bidding Zone",
          "parameters": [
           {
            "example": "AP8DA23",
            "in": "query",
            "name": "APIKey",
            "schema": {
             "type": "string"
            }
           },
           {
            "example": "2021",
            "in": "query",
            "name": "Year",
            "schema": {
             "type": "string"
            }
           },
           {
            "examples": {
             "csv": {
              "value": "csv"
             },
             "xml": {
              "value": "xml"
             }
            },
            "in": "query",
            "name": "ServiceType",
            "schema": {
             "type": "string"
            }
           }
          ],
          "responses": {
           "200": {
            "description": "Year Ahead Total Load Forecast per Bidding Zone"
           }
          },
          "servers": [
           {
            "url": "https://api.bmreports.com"
           }
          ],
          "tags": [
           "Demand"
          ],
          "x-title": "B0650"
         },
         "servers": [
          {
           "url": "https://api.bmreports.com"
          }
         ]
        },
        "/BMRS/B0710/v1": {
         "get": {
          "description": "Planned Unavailability of Consumption Units",
          "parameters": [
           {
            "example": "AP8DA23",
            "in": "query",
            "name": "APIKey",
            "schema": {
             "type": "string"
            }
           },
           {
            "example": "23:59:59",
            "in": "query",
            "name": "EndTime",
            "schema": {
             "type": "string"
            }
           },
           {
            "example": "00:00:00",
            "in": "query",
            "name": "StartTime",
            "schema": {
             "type": "string"
            }
           },
           {
            "example": "2021-01-01",
            "in": "query",
            "name": "StartDate",
            "schema": {
             "type": "string"
            }
           },
           {
            "example": "2021-02-01",
            "in": "query",
            "name": "EndDate",
            "schema": {
             "type": "string"
            }
           },
           {
            "examples": {
             "csv": {
              "value": "csv"
             },
             "xml": {
              "value": "xml"
             }
            },
            "in": "query",
            "name": "ServiceType",
            "schema": {
             "type": "string"
            }
           }
          ],
          "responses": {
           "200": {
            "description": "Planned Unavailability of Consumption Units"
           }
          },
          "servers": [
           {
            "url": "https://api.bmreports.com"
           }
          ],
          "tags": [
           "Demand"
          ],
          "x-title": "B0710"
         },
         "servers": [
          {
           "url": "https://api.bmreports.com"
          }
         ]
        },
        "/BMRS/B0720/v1": {
         "get": {
          "description": "Changes In Actual Availability Of Consumption Units",
          "parameters": [
           {
            "example": "AP8DA23",
            "in": "query",
            "name": "APIKey",
            "schema": {
             "type": "string"
            }
           },
           {
            "example": "2021-01-01",
            "in": "query",
            "name": "StartDate",
            "schema": {
             "type": "string"
            }
           },
           {
            "example": "00:00:00",
            "in": "query",
            "name": "StartTime",
            "schema": {
             "type": "string"
            }
           },
           {
            "example": "2021-02-01",
            "in": "query",
            "name": "EndDate",
            "schema": {
             "type": "string"
            }
           },
           {
            "example": "23:59:59",
            "in": "query",
            "name": "EndTime",
            "schema": {
             "type": "string"
            }
           },
           {
            "examples": {
             "csv": {
              "value": "csv"
             },
             "xml": {
              "value": "xml"
             }
            },
            "in": "query",
            "name": "ServiceType",
            "schema": {
             "type": "string"
            }
           }
          ],
          "responses": {
           "200": {
            "description": "Changes In Actual Availability Of Consumption Units"
           }
          },
          "servers": [
           {
            "url": "https://api.bmreports.com"
           }
          ],
          "tags": [
           "Demand"
          ],
          "x-title": "B0720"
         },
         "servers": [
          {
           "url": "https://api.bmreports.com"
          }
         ]
        },
        "/BMRS/B0810/v1": {
         "get": {
          "description": "Year Ahead Forecast Margin",
          "parameters": [
           {
            "example": "AP8DA23",
            "in": "query",
            "name": "APIKey",
            "schema": {
             "type": "string"
            }
           },
           {
            "example": "2021",
            "in": "query",
            "name": "Year",
            "schema": {
             "type": "string"
            }
           },
           {
            "examples": {
             "csv": {
              "value": "csv"
             },
             "xml": {
              "value": "xml"
             }
            },
            "in": "query",
            "name": "ServiceType",
            "schema": {
             "type": "string"
            }
           }
          ],
          "responses": {
           "200": {
            "description": "Year Ahead Forecast Margin"
           }
          },
          "servers": [
           {
            "url": "https://api.bmreports.com"
           }
          ],
          "tags": [
           "Demand"
          ],
          "x-title": "B0810"
         },
         "servers": [
          {
           "url": "https://api.bmreports.com"
          }
         ]
        },
        "/BMRS/B0910/v1": {
         "get": {
          "description": "Expansion and Dismantling Projects",
          "parameters": [
           {
            "example": "AP8DA23",
            "in": "query",
            "name": "APIKey",
            "schema": {
             "type": "string"
            }
           },
           {
            "example": "2021",
            "in": "query",
            "name": "Year",
            "schema": {
             "type": "integer"
            }
           },
           {
            "examples": {
             "csv": {
              "value": "csv"
             },
             "xml": {
              "value": "xml"
             }
            },
            "in": "query",
            "name": "ServiceType",
            "schema": {
             "type": "string"
            }
           }
          ],
          "responses": {
           "200": {
            "description": "Expansion and Dismantling Projects"
           }
          },
          "servers": [
           {
            "url": "https://api.bmreports.com"
           }
          ],
          "tags": [
           "Transmission"
          ],
          "x-title": "B0910"
         },
         "servers": [
          {
           "url": "https://api.bmreports.com"
          }
         ]
        },
        "/BMRS/B1010/v1": {
         "get": {
          "description": "Planned Unavailability In The Transmission Grid",
          "parameters": [
           {
            "example": "AP8DA23",
            "in": "query",
            "name": "APIKey",
            "schema": {
             "type": "string"
            }
           },
           {
            "example": "2021-01-01",
            "in": "query",
            "name": "StartDate",
            "schema": {
             "type": "string"
            }
           },
           {
            "example": "2021-02-01",
            "in": "query",
            "name": "EndDate",
            "schema": {
             "type": "string"
            }
           },
           {
            "example": "00:00:00",
            "in": "query",
            "name": "StartTime",
            "schema": {
             "type": "string"
            }
           },
           {
            "example": "23:59:59",
            "in": "query",
            "name": "EndTime",
            "schema": {
             "type": "string"
            }
           },
           {
            "examples": {
             "csv": {
              "value": "csv"
             },
             "xml": {
              "value": "xml"
             }
            },
            "in": "query",
            "name": "ServiceType",
            "schema": {
             "type": "string"
            }
           }
          ],
          "responses": {
           "200": {
            "description": "Planned Unavailability In The Transmission Grid"
           }
          },
          "servers": [
           {
            "url": "https://api.bmreports.com"
           }
          ],
          "tags": [
           "Transmission"
          ],
          "x-title": "B1010"
         },
         "servers": [
          {
           "url": "https://api.bmreports.com"
          }
         ]
        },
        "/BMRS/B1020/v1": {
         "get": {
          "description": "Changes In Actual Availability In The Transmission Grid",
          "parameters": [
           {
            "example": "AP8DA23",
            "in": "query",
            "name": "APIKey",
            "schema": {
             "type": "string"
            }
           },
           {
            "example": "2021-01-01",
            "in": "query",
            "name": "StartDate",
            "schema": {
             "type": "string"
            }
           },
           {
            "example": "2021-02-01",
            "in": "query",
            "name": "EndDate",
            "schema": {
             "type": "string"
            }
           },
           {
            "example": "00:00:00",
            "in": "query",
            "name": "StartTime",
            "schema": {
             "type": "string"
            }
           },
           {
            "example": "23:59:59",
            "in": "query",
            "name": "EndTime",
            "schema": {
             "type": "string"
            }
           },
           {
            "examples": {
             "csv": {
              "value": "csv"
             },
             "xml": {
              "value": "xml"
             }
            },
            "in": "query",
            "name": "ServiceType",
            "schema": {
             "type": "string"
            }
           }
          ],
          "responses": {
           "200": {
            "description": "Changes In Actual Availability In The Transmission Grid"
           }
          },
          "servers": [
           {
            "url": "https://api.bmreports.com"
           }
          ],
          "tags": [
           "Transmission"
          ],
          "x-title": "B1020"
         },
         "servers": [
          {
           "url": "https://api.bmreports.com"
          }
         ]
        },
        "/BMRS/B1030/v1": {
         "get": {
          "description": "Changes In Actual Availability of Offshore Grid Infrastructure",
          "parameters": [
           {
            "example": "AP8DA23",
            "in": "query",
            "name": "APIKey",
            "schema": {
             "type": "string"
            }
           },
           {
            "example": "2021-01-01",
            "in": "query",
            "name": "StartDate",
            "schema": {
             "type": "string"
            }
           },
           {
            "example": "2021-02-01",
            "in": "query",
            "name": "EndDate",
            "schema": {
             "type": "string"
            }
           },
           {
            "example": "00:00:00",
            "in": "query",
            "name": "StartTime",
            "schema": {
             "type": "string"
            }
           },
           {
            "example": "23:59:59",
            "in": "query",
            "name": "EndTime",
            "schema": {
             "type": "string"
            }
           },
           {
            "examples": {
             "csv": {
              "value": "csv"
             },
             "xml": {
              "value": "xml"
             }
            },
            "in": "query",
            "name": "ServiceType",
            "schema": {
             "type": "string"
            }
           }
          ],
          "responses": {
           "200": {
            "description": "Changes In Actual Availability of Offshore Grid Infrastructure"
           }
          },
          "servers": [
           {
            "url": "https://api.bmreports.com"
           }
          ],
          "tags": [
           "Transmission"
          ],
          "x-title": "B1030"
         },
         "servers": [
          {
           "url": "https://api.bmreports.com"
          }
         ]
        },
        "/BMRS/B1320/v1": {
         "get": {
          "description": "Congestion Management Measures Countertrading",
          "parameters": [
           {
            "example": "AP8DA23",
            "in": "query",
            "name": "APIKey",
            "schema": {
             "type": "string"
            }
           },
           {
            "example": "2021-01-01",
            "in": "query",
            "name": "SettlementDate",
            "schema": {
             "type": "string"
            }
           },
           {
            "example": "1",
            "in": "query",
            "name": "Period",
            "schema": {
             "type": "string"
            }
           },
           {
            "examples": {
             "csv": {
              "value": "csv"
             },
             "xml": {
              "value": "xml"
             }
            },
            "in": "query",
            "name": "ServiceType",
            "schema": {
             "type": "string"
            }
           }
          ],
          "responses": {
           "200": {
            "description": "Congestion Management Measures Countertrading"
           }
          },
          "servers": [
           {
            "url": "https://api.bmreports.com"
           }
          ],
          "tags": [
           "Transmission"
          ],
          "x-title": "B1320"
         },
         "servers": [
          {
           "url": "https://api.bmreports.com"
          }
         ]
        },
        "/BMRS/B1330/v1": {
         "get": {
          "description": "Congestion Management Measures Costs of Congestion Management",
          "parameters": [
           {
            "example": "AP8DA23",
            "in": "query",
            "name": "APIKey",
            "schema": {
             "type": "string"
            }
           },
           {
            "example": "2021",
            "in": "query",
            "name": "Year",
            "schema": {
             "type": "string"
            }
           },
           {
            "example": "Mar",
            "in": "query",
            "name": "Month",
            "schema": {
             "type": "string"
            }
           },
           {
            "examples": {
             "csv": {
              "value": "csv"
             },
             "xml": {
              "value": "xml"
             }
            },
            "in": "query",
            "name": "ServiceType",
            "schema": {
             "type": "string"
            }
           }
          ],
          "responses": {
           "200": {
            "description": "Congestion Management Measures Costs of Congestion Management"
           }
          },
          "servers": [
           {
            "url": "https://api.bmreports.com"
           }
          ],
          "tags": [
           "Transmission"
          ],
          "x-title": "B1330"
         },
         "servers": [
          {
           "url": "https://api.bmreports.com"
          }
         ]
        },
        "/BMRS/B1410/v1": {
         "get": {
          "description": "Installed Generation Capacity Aggregated",
          "parameters": [
           {
            "example": "AP8DA23",
            "in": "query",
            "name": "APIKey",
            "schema": {
             "type": "string"
            }
           },
           {
            "example": "2021",
            "in": "query",
            "name": "Year",
            "schema": {
             "type": "string"
            }
           },
           {
            "examples": {
             "csv": {
              "value": "csv"
             },
             "xml": {
              "value": "xml"
             }
            },
            "in": "query",
            "name": "ServiceType",
            "schema": {
             "type": "string"
            }
           }
          ],
          "responses": {
           "200": {
            "description": "Installed Generation Capacity Aggregated"
           }
          },
          "servers": [
           {
            "url": "https://api.bmreports.com"
           }
          ],
          "tags": [
           "Generation"
          ],
          "x-title": "B1410"
         },
         "servers": [
          {
           "url": "https://api.bmreports.com"
          }
         ]
        },
        "/BMRS/B1420/v1": {
         "get": {
          "description": "Installed Generation Capacity per Unit",
          "parameters": [
           {
            "example": "AP8DA23",
            "in": "query",
            "name": "APIKey",
            "schema": {
             "type": "string"
            }
           },
           {
            "example": "2021",
            "in": "query",
            "name": "Year",
            "schema": {
             "type": "string"
            }
           },
           {
            "examples": {
             "csv": {
              "value": "csv"
             },
             "xml": {
              "value": "xml"
             }
            },
            "in": "query",
            "name": "ServiceType",
            "schema": {
             "type": "string"
            }
           }
          ],
          "responses": {
           "200": {
            "description": "Installed Generation Capacity per Unit"
           }
          },
          "servers": [
           {
            "url": "https://api.bmreports.com"
           }
          ],
          "tags": [
           "Generation"
          ],
          "x-title": "B1420"
         },
         "servers": [
          {
           "url": "https://api.bmreports.com"
          }
         ]
        },
        "/BMRS/B1430/v1": {
         "get": {
          "description": "Day-Ahead Aggregated Generation",
          "parameters": [
           {
            "example": "AP8DA23",
            "in": "query",
            "name": "APIKey",
            "schema": {
             "type": "string"
            }
           },
           {
            "example": "2021-01-01",
            "in": "query",
            "name": "SettlementDate",
            "schema": {
             "type": "string"
            }
           },
           {
            "example": "1",
            "in": "query",
            "name": "Period",
            "schema": {
             "type": "string"
            }
           },
           {
            "examples": {
             "csv": {
              "value": "csv"
             },
             "xml": {
              "value": "xml"
             }
            },
            "in": "query",
            "name": "ServiceType",
            "schema": {
             "type": "string"
            }
           }
          ],
          "responses": {
           "200": {
            "description": "Day-Ahead Aggregated Generation"
           }
          },
          "servers": [
           {
            "url": "https://api.bmreports.com"
           }
          ],
          "tags": [
           "Generation"
          ],
          "x-title": "B1430"
         },
         "servers": [
          {
           "url": "https://api.bmreports.com"
          }
         ]
        },
        "/BMRS/B1440/v1": {
         "get": {
          "description": "Generation forecasts for Wind and Solar",
          "parameters": [
           {
            "example": "AP8DA23",
            "in": "query",
            "name": "APIKey",
            "schema": {
             "type": "string"
            }
           },
           {
            "example": "2021-01-01",
            "in": "query",
            "name": "SettlementDate",
            "schema": {
             "type": "string"
            }
           },
           {
            "example": "1",
            "in": "query",
            "name": "Period",
            "schema": {
             "type": "string"
            }
           },
           {
            "example": "Day Ahead",
            "in": "query",
            "name": "ProcessType",
            "schema": {
             "type": "string"
            }
           },
           {
            "examples": {
             "csv": {
              "value": "csv"
             },
             "xml": {
              "value": "xml"
             }
            },
            "in": "query",
            "name": "ServiceType",
            "schema": {
             "type": "string"
            }
           }
          ],
          "responses": {
           "200": {
            "description": "Generation forecasts for Wind and Solar"
           }
          },
          "servers": [
           {
            "url": "https://api.bmreports.com"
           }
          ],
          "tags": [
           "Generation"
          ],
          "x-title": "B1440"
         },
         "servers": [
          {
           "url": "https://api.bmreports.com"
          }
         ]
        },
        "/BMRS/B1510/v1": {
         "get": {
          "description": "Planned Unavailability of Generation Units",
          "parameters": [
           {
            "example": "AP8DA23",
            "in": "query",
            "name": "APIKey",
            "schema": {
             "type": "string"
            }
           },
           {
            "example": "2021-01-01",
            "in": "query",
            "name": "StartDate",
            "schema": {
             "type": "string"
            }
           },
           {
            "example": "2021-02-01",
            "in": "query",
            "name": "EndDate",
            "schema": {
             "type": "string"
            }
           },
           {
            "example": "00:00:00",
            "in": "query",
            "name": "StartTime",
            "schema": {
             "type": "string"
            }
           },
           {
            "example": "23:59:59",
            "in": "query",
            "name": "EndTime",
            "schema": {
             "type": "string"
            }
           },
           {
            "examples": {
             "csv": {
              "value": "csv"
             },
             "xml": {
              "value": "xml"
             }
            },
            "in": "query",
            "name": "ServiceType",
            "schema": {
             "type": "string"
            }
           }
          ],
          "responses": {
           "200": {
            "description": "Planned Unavailability of Generation Units"
           }
          },
          "servers": [
           {
            "url": "https://api.bmreports.com"
           }
          ],
          "tags": [
           "Generation"
          ],
          "x-title": "B1510"
         },
         "servers": [
          {
           "url": "https://api.bmreports.com"
          }
         ]
        },
        "/BMRS/B1520/v1": {
         "get": {
          "description": "Changes In Actual Availability of Generation Units",
          "parameters": [
           {
            "example": "AP8DA23",
            "in": "query",
            "name": "APIKey",
            "schema": {
             "type": "string"
            }
           },
           {
            "example": "2021-01-01",
            "in": "query",
            "name": "StartDate",
            "schema": {
             "type": "string"
            }
           },
           {
            "example": "2021-02-01",
            "in": "query",
            "name": "EndDate",
            "schema": {
             "type": "string"
            }
           },
           {
            "example": "00:00:00",
            "in": "query",
            "name": "StartTime",
            "schema": {
             "type": "string"
            }
           },
           {
            "example": "23:59:59",
            "in": "query",
            "name": "EndTime",
            "schema": {
             "type": "string"
            }
           },
           {
            "examples": {
             "csv": {
              "value": "csv"
             },
             "xml": {
              "value": "xml"
             }
            },
            "in": "query",
            "name": "ServiceType",
            "schema": {
             "type": "string"
            }
           }
          ],
          "responses": {
           "200": {
            "description": "Changes In Actual Availability of Generation Units"
           }
          },
          "servers": [
           {
            "url": "https://api.bmreports.com"
           }
          ],
          "tags": [
           "Generation"
          ],
          "x-title": "B1520"
         },
         "servers": [
          {
           "url": "https://api.bmreports.com"
          }
         ]
        },
        "/BMRS/B1530/v1": {
         "get": {
          "description": "Planned Unavailability of Production Units",
          "parameters": [
           {
            "example": "AP8DA23",
            "in": "query",
            "name": "APIKey",
            "schema": {
             "type": "string"
            }
           },
           {
            "example": "2021-01-01",
            "in": "query",
            "name": "StartDate",
            "schema": {
             "type": "string"
            }
           },
           {
            "example": "2021-02-01",
            "in": "query",
            "name": "EndDate",
            "schema": {
             "type": "string"
            }
           },
           {
            "example": "00:00:00",
            "in": "query",
            "name": "StartTime",
            "schema": {
             "type": "string"
            }
           },
           {
            "example": "23:59:59",
            "in": "query",
            "name": "EndTime",
            "schema": {
             "type": "string"
            }
           },
           {
            "examples": {
             "csv": {
              "value": "csv"
             },
             "xml": {
              "value": "xml"
             }
            },
            "in": "query",
            "name": "ServiceType",
            "schema": {
             "type": "string"
            }
           }
          ],
          "responses": {
           "200": {
            "description": "Planned Unavailability of Production Units"
           }
          },
          "servers": [
           {
            "url": "https://api.bmreports.com"
           }
          ],
          "tags": [
           "Generation"
          ],
          "x-title": "B1530"
         },
         "servers": [
          {
           "url": "https://api.bmreports.com"
          }
         ]
        },
        "/BMRS/B1540/v1": {
         "get": {
          "description": "Changes In Actual Availability of Production Units",
          "parameters": [
           {
            "example": "AP8DA23",
            "in": "query",
            "name": "APIKey",
            "schema": {
             "type": "string"
            }
           },
           {
            "example": "2021-01-01",
            "in": "query",
            "name": "StartDate",
            "schema": {
             "type": "string"
            }
           },
           {
            "example": "2021-02-01",
            "in": "query",
            "name": "EndDate",
            "schema": {
             "type": "string"
            }
           },
           {
            "example": "00:00:00",
            "in": "query",
            "name": "StartTime",
            "schema": {
             "type": "string"
            }
           },
           {
            "example": "23:59:59",
            "in": "query",
            "name": "EndTime",
            "schema": {
             "type": "string"
            }
           },
           {
            "examples": {
             "csv": {
              "value": "csv"
             },
             "xml": {
              "value": "xml"
             }
            },
            "in": "query",
            "name": "ServiceType",
            "schema": {
             "type": "string"
            }
           }
          ],
          "responses": {
           "200": {
            "description": "Changes In Actual Availability of Production Units"
           }
          },
          "servers": [
           {
            "url": "https://api.bmreports.com"
           }
          ],
          "tags": [
           "Generation"
          ],
          "x-title": "B1540"
         },
         "servers": [
          {
           "url": "https://api.bmreports.com"
          }
         ]
        },
        "/BMRS/B1610/v2": {
         "get": {
          "description": "Actual Generation Output per Generation Unit",
          "parameters": [
           {
            "example": "AP8DA23",
            "in": "query",
            "name": "APIKey",
            "schema": {
             "type": "string"
            }
           },
           {
            "example": "2021-01-01",
            "in": "query",
            "name": "SettlementDate",
            "schema": {
             "type": "string"
            }
           },
           {
            "example": "1",
            "in": "query",
            "name": "Period",
            "schema": {
             "type": "string"
            }
           },
           {
            "example": "*",
            "in": "query",
            "name": "NGCBMUnitID",
            "schema": {
             "type": "string"
            }
           },
           {
            "examples": {
             "csv": {
              "value": "csv"
             },
             "xml": {
              "value": "xml"
             }
            },
            "in": "query",
            "name": "ServiceType",
            "schema": {
             "type": "string"
            }
           }
          ],
          "responses": {
           "200": {
            "description": "Actual Generation Output per Generation Unit"
           }
          },
          "servers": [
           {
            "url": "https://api.bmreports.com"
           }
          ],
          "tags": [
           "Generation"
          ],
          "x-title": "B1610"
         },
         "servers": [
          {
           "url": "https://api.bmreports.com"
          }
         ]
        },
        "/BMRS/B1620/v1": {
         "get": {
          "description": "Actual Aggregated Generation per Type",
          "parameters": [
           {
            "example": "AP8DA23",
            "in": "query",
            "name": "APIKey",
            "schema": {
             "type": "string"
            }
           },
           {
            "example": "2021-01-01",
            "in": "query",
            "name": "SettlementDate",
            "schema": {
             "type": "string"
            }
           },
           {
            "example": "1",
            "in": "query",
            "name": "Period",
            "schema": {
             "type": "string"
            }
           },
           {
            "examples": {
             "csv": {
              "value": "csv"
             },
             "xml": {
              "value": "xml"
             }
            },
            "in": "query",
            "name": "ServiceType",
            "schema": {
             "type": "string"
            }
           }
          ],
          "responses": {
           "200": {
            "description": "Actual Aggregated Generation per Type"
           }
          },
          "servers": [
           {
            "url": "https://api.bmreports.com"
           }
          ],
          "tags": [
           "Generation"
          ],
          "x-title": "B1620"
         },
         "servers": [
          {
           "url": "https://api.bmreports.com"
          }
         ]
        },
        "/BMRS/B1630/v1": {
         "get": {
          "description": "Actual Or Estimated Wind and Solar Power Generation",
          "parameters": [
           {
            "example": "AP8DA23",
            "in": "query",
            "name": "APIKey",
            "schema": {
             "type": "string"
            }
           },
           {
            "example": "2021-01-01",
            "in": "query",
            "name": "SettlementDate",
            "schema": {
             "type": "string"
            }
           },
           {
            "example": "1",
            "in": "query",
            "name": "Period",
            "schema": {
             "type": "string"
            }
           },
           {
            "examples": {
             "csv": {
              "value": "csv"
             },
             "xml": {
              "value": "xml"
             }
            },
            "in": "query",
            "name": "ServiceType",
            "schema": {
             "type": "string"
            }
           }
          ],
          "responses": {
           "200": {
            "description": "Actual Or Estimated Wind and Solar Power Generation"
           }
          },
          "servers": [
           {
            "url": "https://api.bmreports.com"
           }
          ],
          "tags": [
           "Generation"
          ],
          "x-title": "B1630"
         },
         "servers": [
          {
           "url": "https://api.bmreports.com"
          }
         ]
        },
        "/BMRS/B1720/v1": {
         "get": {
          "description": "Amount Of Balancing Reserves Under Contract Service",
          "parameters": [
           {
            "example": "AP8DA23",
            "in": "query",
            "name": "APIKey",
            "schema": {
             "type": "string"
            }
           },
           {
            "example": "2021-01-01",
            "in": "query",
            "name": "SettlementDate",
            "schema": {
             "type": "string"
            }
           },
           {
            "example": "1",
            "in": "query",
            "name": "Period",
            "schema": {
             "type": "string"
            }
           },
           {
            "examples": {
             "csv": {
              "value": "csv"
             },
             "xml": {
              "value": "xml"
             }
            },
            "in": "query",
            "name": "ServiceType",
            "schema": {
             "type": "string"
            }
           }
          ],
          "responses": {
           "200": {
            "description": "Amount Of Balancing Reserves Under Contract Service"
           }
          },
          "servers": [
           {
            "url": "https://api.bmreports.com"
           }
          ],
          "tags": [
           "Balancing"
          ],
          "x-title": "B1720"
         },
         "servers": [
          {
           "url": "https://api.bmreports.com"
          }
         ]
        },
        "/BMRS/B1730/v1": {
         "get": {
          "description": "Prices Of Procured Balancing Reserves Service",
          "parameters": [
           {
            "example": "AP8DA23",
            "in": "query",
            "name": "APIKey",
            "schema": {
             "type": "string"
            }
           },
           {
            "example": "2021-01-01",
            "in": "query",
            "name": "SettlementDate",
            "schema": {
             "type": "string"
            }
           },
           {
            "example": "1",
            "in": "query",
            "name": "Period",
            "schema": {
             "type": "string"
            }
           },
           {
            "examples": {
             "csv": {
              "value": "csv"
             },
             "xml": {
              "value": "xml"
             }
            },
            "in": "query",
            "name": "ServiceType",
            "schema": {
             "type": "string"
            }
           }
          ],
          "responses": {
           "200": {
            "description": "Prices Of Procured Balancing Reserves Service"
           }
          },
          "servers": [
           {
            "url": "https://api.bmreports.com"
           }
          ],
          "tags": [
           "Balancing"
          ],
          "x-title": "B1730"
         },
         "servers": [
          {
           "url": "https://api.bmreports.com"
          }
         ]
        },
        "/BMRS/B1740/v1": {
         "get": {
          "description": "Accepted Aggregated Offers",
          "parameters": [
           {
            "example": "AP8DA23",
            "in": "query",
            "name": "APIKey",
            "schema": {
             "type": "string"
            }
           },
           {
            "example": "2021-01-01",
            "in": "query",
            "name": "SettlementDate",
            "schema": {
             "type": "string"
            }
           },
           {
            "example": "1",
            "in": "query",
            "name": "Period",
            "schema": {
             "type": "string"
            }
           },
           {
            "examples": {
             "csv": {
              "value": "csv"
             },
             "xml": {
              "value": "xml"
             }
            },
            "in": "query",
            "name": "ServiceType",
            "schema": {
             "type": "string"
            }
           }
          ],
          "responses": {
           "200": {
            "description": "Accepted Aggregated Offers"
           }
          },
          "servers": [
           {
            "url": "https://api.bmreports.com"
           }
          ],
          "tags": [
           "Balancing"
          ],
          "x-title": "B1740"
         },
         "servers": [
          {
           "url": "https://api.bmreports.com"
          }
         ]
        },
        "/BMRS/B1750/v1": {
         "get": {
          "description": "Activated Balancing Energy",
          "parameters": [
           {
            "example": "AP8DA23",
            "in": "query",
            "name": "APIKey",
            "schema": {
             "type": "string"
            }
           },
           {
            "example": "2021-01-01",
            "in": "query",
            "name": "SettlementDate",
            "schema": {
             "type": "string"
            }
           },
           {
            "example": "1",
            "in": "query",
            "name": "Period",
            "schema": {
             "type": "string"
            }
           },
           {
            "examples": {
             "csv": {
              "value": "csv"
             },
             "xml": {
              "value": "xml"
             }
            },
            "in": "query",
            "name": "ServiceType",
            "schema": {
             "type": "string"
            }
           }
          ],
          "responses": {
           "200": {
            "description": "Activated Balancing Energy"
           }
          },
          "servers": [
           {
            "url": "https://api.bmreports.com"
           }
          ],
          "tags": [
           "Balancing"
          ],
          "x-title": "B1750"
         },
         "servers": [
          {
           "url": "https://api.bmreports.com"
          }
         ]
        },
        "/BMRS/B1760/v1": {
         "get": {
          "description": "Prices Of Activated Balancing Energy",
          "parameters": [
           {
            "example": "AP8DA23",
            "in": "query",
            "name": "APIKey",
            "schema": {
             "type": "string"
            }
           },
           {
            "example": "2021-01-01",
            "in": "query",
            "name": "SettlementDate",
            "schema": {
             "type": "string"
            }
           },
           {
            "example": "1",
            "in": "query",
            "name": "Period",
            "schema": {
             "type": "string"
            }
           },
           {
            "examples": {
             "csv": {
              "value": "csv"
             },
             "xml": {
              "value": "xml"
             }
            },
            "in": "query",
            "name": "ServiceType",
            "schema": {
             "type": "string"
            }
           }
          ],
          "responses": {
           "200": {
            "description": "Prices Of Activated Balancing Energy"
           }
          },
          "servers": [
           {
            "url": "https://api.bmreports.com"
           }
          ],
          "tags": [
           "Balancing"
          ],
          "x-title": "B1760"
         },
         "servers": [
          {
           "url": "https://api.bmreports.com"
          }
         ]
        },
        "/BMRS/B1770/v1": {
         "get": {
          "description": "Imbalance Prices",
          "parameters": [
           {
            "example": "AP8DA23",
            "in": "query",
            "name": "APIKey",
            "schema": {
             "type": "string"
            }
           },
           {
            "example": "2021-01-01",
            "in": "query",
            "name": "SettlementDate",
            "schema": {
             "type": "string"
            }
           },
           {
            "example": "1",
            "in": "query",
            "name": "Period",
            "schema": {
             "type": "string"
            }
           },
           {
            "examples": {
             "csv": {
              "value": "csv"
             },
             "xml": {
              "value": "xml"
             }
            },
            "in": "query",
            "name": "ServiceType",
            "schema": {
             "type": "string"
            }
           }
          ],
          "responses": {
           "200": {
            "description": "Imbalance Prices"
           }
          },
          "servers": [
           {
            "url": "https://api.bmreports.com"
           }
          ],
          "tags": [
           "Balancing"
          ],
          "x-title": "B1770"
         },
         "servers": [
          {
           "url": "https://api.bmreports.com"
          }
         ]
        },
        "/BMRS/B1780/v1": {
         "get": {
          "description": "Aggregated Imbalance Volumes",
          "parameters": [
           {
            "example": "AP8DA23",
            "in": "query",
            "name": "APIKey",
            "schema": {
             "type": "string"
            }
           },
           {
            "example": "2021-01-01",
            "in": "query",
            "name": "SettlementDate",
            "schema": {
             "type": "string"
            }
           },
           {
            "example": "1",
            "in": "query",
            "name": "Period",
            "schema": {
             "type": "string"
            }
           },
           {
            "examples": {
             "csv": {
              "value": "csv"
             },
             "xml": {
              "value": "xml"
             }
            },
            "in": "query",
            "name": "ServiceType",
            "schema": {
             "type": "string"
            }
           }
          ],
          "responses": {
           "200": {
            "description": "Aggregated Imbalance Volumes"
           }
          },
          "servers": [
           {
            "url": "https://api.bmreports.com"
           }
          ],
          "tags": [
           "Balancing"
          ],
          "x-title": "B1780"
         },
         "servers": [
          {
           "url": "https://api.bmreports.com"
          }
         ]
        },
        "/BMRS/B1790/v1": {
         "get": {
          "description": "Financial Expenses and Income For Balancing",
          "parameters": [
           {
            "example": "AP8DA23",
            "in": "query",
            "name": "APIKey",
            "schema": {
             "type": "string"
            }
           },
           {
            "example": "2021",
            "in": "query",
            "name": "Year",
            "schema": {
             "type": "string"
            }
           },
           {
            "example": "MAR",
            "in": "query",
            "name": "Month",
            "schema": {
             "type": "string"
            }
           },
           {
            "examples": {
             "csv": {
              "value": "csv"
             },
             "xml": {
              "value": "xml"
             }
            },
            "in": "query",
            "name": "ServiceType",
            "schema": {
             "type": "string"
            }
           }
          ],
          "responses": {
           "200": {
            "description": "Financial Expenses and Income For Balancing"
           }
          },
          "servers": [
           {
            "url": "https://api.bmreports.com"
           }
          ],
          "tags": [
           "Balancing"
          ],
          "x-title": "B1790"
         },
         "servers": [
          {
           "url": "https://api.bmreports.com"
          }
         ]
        },
        "/BMRS/B1810/v1": {
         "get": {
          "description": "Cross-Border Balancing Volumes of Exchanged Bids and Offers",
          "parameters": [
           {
            "example": "AP8DA23",
            "in": "query",
            "name": "APIKey",
            "schema": {
             "type": "string"
            }
           },
           {
            "example": "2021-01-01",
            "in": "query",
            "name": "SettlementDate",
            "schema": {
             "type": "string"
            }
           },
           {
            "example": "1",
            "in": "query",
            "name": "Period",
            "schema": {
             "type": "string"
            }
           },
           {
            "examples": {
             "csv": {
              "value": "csv"
             },
             "xml": {
              "value": "xml"
             }
            },
            "in": "query",
            "name": "ServiceType",
            "schema": {
             "type": "string"
            }
           }
          ],
          "responses": {
           "200": {
            "description": "Cross-Border Balancing Volumes of Exchanged Bids and Offers"
           }
          },
          "servers": [
           {
            "url": "https://api.bmreports.com"
           }
          ],
          "tags": [
           "Balancing"
          ],
          "x-title": "B1810"
         },
         "servers": [
          {
           "url": "https://api.bmreports.com"
          }
         ]
        },
        "/BMRS/B1820/v1": {
         "get": {
          "description": "Cross-Border Balancing Prices",
          "parameters": [
           {
            "example": "AP8DA23",
            "in": "query",
            "name": "APIKey",
            "schema": {
             "type": "string"
            }
           },
           {
            "example": "2021-01-01",
            "in": "query",
            "name": "SettlementDate",
            "schema": {
             "type": "string"
            }
           },
           {
            "example": "1",
            "in": "query",
            "name": "Period",
            "schema": {
             "type": "string"
            }
           },
           {
            "examples": {
             "csv": {
              "value": "csv"
             },
             "xml": {
              "value": "xml"
             }
            },
            "in": "query",
            "name": "ServiceType",
            "schema": {
             "type": "string"
            }
           }
          ],
          "responses": {
           "200": {
            "description": "Cross-Border Balancing Prices"
           }
          },
          "servers": [
           {
            "url": "https://api.bmreports.com"
           }
          ],
          "tags": [
           "Balancing"
          ],
          "x-title": "B1820"
         },
         "servers": [
          {
           "url": "https://api.bmreports.com"
          }
         ]
        },
        "/BMRS/B1830/v1": {
         "get": {
          "description": "Cross-border Balancing Energy Activated",
          "parameters": [
           {
            "example": "AP8DA23",
            "in": "query",
            "name": "APIKey",
            "schema": {
             "type": "string"
            }
           },
           {
            "example": "2021-01-01",
            "in": "query",
            "name": "SettlementDate",
            "schema": {
             "type": "string"
            }
           },
           {
            "example": "1",
            "in": "query",
            "name": "Period",
            "schema": {
             "type": "string"
            }
           },
           {
            "examples": {
             "csv": {
              "value": "csv"
             },
             "xml": {
              "value": "xml"
             }
            },
            "in": "query",
            "name": "ServiceType",
            "schema": {
             "type": "string"
            }
           }
          ],
          "responses": {
           "200": {
            "description": "Cross-border Balancing Energy Activated"
           }
          },
          "servers": [
           {
            "url": "https://api.bmreports.com"
           }
          ],
          "tags": [
           "Balancing"
          ],
          "x-title": "B1830"
         },
         "servers": [
          {
           "url": "https://api.bmreports.com"
          }
         ]
        },
        "/BMRS/BOD/v1": {
         "get": {
          "description": "Bid Offer Level Data",
          "parameters": [
           {
            "example": "AP8DA23",
            "in": "query",
            "name": "APIKey",
            "schema": {
             "type": "string"
            }
           },
           {
            "example": "2021-01-01",
            "in": "query",
            "name": "SettlementDate",
            "schema": {
             "type": "string"
            }
           },
           {
            "example": "12",
            "in": "query",
            "name": "SettlementPeriod",
            "schema": {
             "type": "string"
            }
           },
           {
            "example": "2__AEENG000, G, E.ON Energy, Solutions Limited, EAS-EST01",
            "in": "query",
            "name": "BMUnitId",
            "schema": {
             "type": "string"
            }
           },
           {
            "example": "G, S, E, I, T, etc",
            "in": "query",
            "name": "BMUnitType",
            "schema": {
             "type": "string"
            }
           },
           {
            "example": "AES New Energy Limited",
            "in": "query",
            "name": "LeadPartyName",
            "schema": {
             "type": "string"
            }
           },
           {
            "example": "EAS-ASP01, AES New Energy Limited, G, 2__AAEPD000",
            "in": "query",
            "name": "NGCBMUnit",
            "schema": {
             "type": "string"
            }
           },
           {
            "example": "2__AAEPD000",
            "in": "query",
            "name": "Name",
            "schema": {
             "type": "string"
            }
           },
           {
            "examples": {
             "csv": {
              "value": "csv"
             },
             "xml": {
              "value": "xml"
             }
            },
            "in": "query",
            "name": "ServiceType",
            "schema": {
             "type": "string"
            }
           }
          ],
          "responses": {
           "200": {
            "description": "Bid Offer Level Data"
           }
          },
          "servers": [
           {
            "url": "https://api.bmreports.com"
           }
          ],
          "tags": [
           "Balancing"
          ],
          "x-title": "BOD"
         },
         "servers": [
          {
           "url": "https://api.bmreports.com"
          }
         ]
        },
        "/BMRS/CDN/v1": {
         "get": {
          "description": "Credit Default Notice Data",
          "parameters": [
           {
            "example": "AP8DA23",
            "in": "query",
            "name": "APIKey",
            "schema": {
             "type": "string"
            }
           },
           {
            "example": "2021-01-01",
            "in": "query",
            "name": "FromClearedDate",
            "schema": {
             "type": "string"
            }
           },
           {
            "example": "2021-02-01",
            "in": "query",
            "name": "ToClearedDate",
            "schema": {
             "type": "string"
            }
           },
           {
            "examples": {
             "csv": {
              "value": "csv"
             },
             "xml": {
              "value": "xml"
             }
            },
            "in": "query",
            "name": "ServiceType",
            "schema": {
             "type": "string"
            }
           }
          ],
          "responses": {
           "200": {
            "description": "Credit Default Notice Data"
           }
          },
          "servers": [
           {
            "url": "https://api.bmreports.com"
           }
          ],
          "tags": [
           "Balancing"
          ],
          "x-title": "CDN"
         },
         "servers": [
          {
           "url": "https://api.bmreports.com"
          }
         ]
        },
        "/BMRS/DETSYSPRICES/v1": {
         "get": {
          "description": "Detailed System Prices",
          "parameters": [
           {
            "example": "AP8DA23",
            "in": "query",
            "name": "APIKey",
            "schema": {
             "type": "string"
            }
           },
           {
            "example": "2014-02-01",
            "in": "query",
            "name": "SettlementDate",
            "schema": {
             "type": "string"
            }
           },
           {
            "example": "2",
            "in": "query",
            "name": "SettlementPeriod",
            "schema": {
             "type": "string"
            }
           },
           {
            "examples": {
             "csv": {
              "value": "csv"
             },
             "xml": {
              "value": "xml"
             }
            },
            "in": "query",
            "name": "ServiceType",
            "schema": {
             "type": "string"
            }
           }
          ],
          "responses": {
           "200": {
            "description": "Detailed System Prices"
           }
          },
          "servers": [
           {
            "url": "https://api.bmreports.com"
           }
          ],
          "tags": [
           "Balancing"
          ],
          "x-title": "DETSYSPRICES"
         },
         "servers": [
          {
           "url": "https://api.bmreports.com"
          }
         ]
        },
        "/BMRS/DEVINDOD/v1": {
         "get": {
          "description": "Daily Energy Volume Data",
          "parameters": [
           {
            "example": "AP8DA23",
            "in": "query",
            "name": "APIKey",
            "schema": {
             "type": "string"
            }
           },
           {
            "example": "2021-01-01",
            "in": "query",
            "name": "FromDate",
            "schema": {
             "type": "string"
            }
           },
           {
            "example": "2021-02-01",
            "in": "query",
            "name": "ToDate",
            "schema": {
             "type": "string"
            }
           },
           {
            "examples": {
             "csv": {
              "value": "csv"
             },
             "xml": {
              "value": "xml"
             }
            },
            "in": "query",
            "name": "ServiceType",
            "schema": {
             "type": "string"
            }
           }
          ],
          "responses": {
           "200": {
            "description": "Daily Energy Volume Data"
           }
          },
          "servers": [
           {
            "url": "https://api.bmreports.com"
           }
          ],
          "tags": [
           "Balancing"
          ],
          "x-title": "DEVINDOD"
         },
         "servers": [
          {
           "url": "https://api.bmreports.com"
          }
         ]
        },
        "/BMRS/DISBSAD/v1": {
         "get": {
          "description": "Balancing Services Adjustment Action Data",
          "parameters": [
           {
            "example": "AP8DA23",
            "in": "query",
            "name": "APIKey",
            "schema": {
             "type": "string"
            }
           },
           {
            "example": "2021-01-01",
            "in": "query",
            "name": "SettlementDate",
            "schema": {
             "type": "string"
            }
           },
           {
            "example": "1",
            "in": "query",
            "name": "SettlementPeriod",
            "schema": {
             "type": "string"
            }
           },
           {
            "examples": {
             "csv": {
              "value": "csv"
             },
             "xml": {
              "value": "xml"
             }
            },
            "in": "query",
            "name": "ServiceType",
            "schema": {
             "type": "string"
            }
           }
          ],
          "responses": {
           "200": {
            "description": "Balancing Services Adjustment Action Data"
           }
          },
          "servers": [
           {
            "url": "https://api.bmreports.com"
           }
          ],
          "tags": [
           "Balancing"
          ],
          "x-title": "DISBSAD"
         },
         "servers": [
          {
           "url": "https://api.bmreports.com"
          }
         ]
        },
        "/BMRS/FORDAYDEM/v1": {
         "get": {
          "description": "Forecast Day and Day Ahead Demand Data",
          "parameters": [
           {
            "example": "AP8DA23",
            "in": "query",
            "name": "APIKey",
            "schema": {
             "type": "string"
            }
           },
           {
            "example": "N",
            "in": "query",
            "name": "ZoneIdentifier",
            "schema": {
             "type": "string"
            }
           },
           {
            "example": "2021-01-01",
            "in": "query",
            "name": "FromDate",
            "schema": {
             "type": "string"
            }
           },
           {
            "example": "2021-02-01",
            "in": "query",
            "name": "ToDate",
            "schema": {
             "type": "string"
            }
           },
           {
            "examples": {
             "csv": {
              "value": "csv"
             },
             "xml": {
              "value": "xml"
             }
            },
            "in": "query",
            "name": "ServiceType",
            "schema": {
             "type": "string"
            }
           }
          ],
          "responses": {
           "200": {
            "description": "Forecast Day and Day Ahead Demand Data"
           }
          },
          "servers": [
           {
            "url": "https://api.bmreports.com"
           }
          ],
          "tags": [
           "Demand"
          ],
          "x-title": "FORDAYDEM"
         },
         "servers": [
          {
           "url": "https://api.bmreports.com"
          }
         ]
        },
        "/BMRS/FREQ/v1": {
         "get": {
          "description": "Rolling System Frequency",
          "parameters": [
           {
            "example": "AP8DA23",
            "in": "query",
            "name": "APIKey",
            "schema": {
             "type": "string"
            }
           },
           {
            "example": "2021-01-01 00:01:00",
            "in": "query",
            "name": "FromDateTime",
            "schema": {
             "type": "string"
            }
           },
           {
            "example": "2021-01-02 23:59:00",
            "in": "query",
            "name": "ToDateTime",
            "schema": {
             "type": "string"
            }
           },
           {
            "examples": {
             "csv": {
              "value": "csv"
             },
             "xml": {
              "value": "xml"
             }
            },
            "in": "query",
            "name": "ServiceType",
            "schema": {
             "type": "string"
            }
           }
          ],
          "responses": {
           "200": {
            "description": "Rolling System Frequency"
           }
          },
          "servers": [
           {
            "url": "https://api.bmreports.com"
           }
          ],
          "tags": [
           "Demand"
          ],
          "x-title": "FREQ"
         },
         "servers": [
          {
           "url": "https://api.bmreports.com"
          }
         ]
        },
        "/BMRS/FUELHH/v1": {
         "get": {
          "description": "Half Hourly Outturn Generation by Fuel Type",
          "parameters": [
           {
            "example": "AP8DA23",
            "in": "query",
            "name": "APIKey",
            "schema": {
             "type": "string"
            }
           },
           {
            "example": "44197",
            "in": "query",
            "name": "FromDate",
            "schema": {
             "type": "string"
            }
           },
           {
            "example": "44228",
            "in": "query",
            "name": "ToDate",
            "schema": {
             "type": "string"
            }
           },
           {
            "examples": {
             "csv": {
              "value": "csv"
             },
             "xml": {
              "value": "xml"
             }
            },
            "in": "query",
            "name": "ServiceType",
            "schema": {
             "type": "string"
            }
           }
          ],
          "responses": {
           "200": {
            "description": "Half Hourly Outturn Generation by Fuel Type"
           }
          },
          "servers": [
           {
            "url": "https://api.bmreports.com"
           }
          ],
          "tags": [
           "Generation"
          ],
          "x-title": "FUELHH"
         },
         "servers": [
          {
           "url": "https://api.bmreports.com"
          }
         ]
        },
        "/BMRS/MELIMBALNGC/v1": {
         "get": {
          "description": "Forecast Day and Day Ahead Margin and Imbalance Data",
          "parameters": [
           {
            "example": "AP8DA23",
            "in": "query",
            "name": "APIKey",
            "schema": {
             "type": "string"
            }
           },
           {
            "example": "N",
            "in": "query",
            "name": "ZoneIdentifier",
            "schema": {
             "type": "string"
            }
           },
           {
            "example": "2021-01-01",
            "in": "query",
            "name": "FromDate",
            "schema": {
             "type": "string"
            }
           },
           {
            "example": "2021-02-01",
            "in": "query",
            "name": "ToDate",
            "schema": {
             "type": "string"
            }
           },
           {
            "examples": {
             "csv": {
              "value": "csv"
             },
             "xml": {
              "value": "xml"
             }
            },
            "in": "query",
            "name": "ServiceType",
            "schema": {
             "type": "string"
            }
           }
          ],
          "responses": {
           "200": {
            "description": "Forecast Day and Day Ahead Margin and Imbalance Data"
           }
          },
          "servers": [
           {
            "url": "https://api.bmreports.com"
           }
          ],
          "tags": [
           "Demand"
          ],
          "x-title": "MELIMBALNGC"
         },
         "servers": [
          {
           "url": "https://api.bmreports.com"
          }
         ]
        },
        "/BMRS/MID/v1": {
         "get": {
          "description": "Market Index Data",
          "parameters": [
           {
            "example": "AP8DA23",
            "in": "query",
            "name": "APIKey",
            "schema": {
             "type": "string"
            }
           },
           {
            "example": "2021-01-01",
            "in": "query",
            "name": "FromSettlementDate",
            "schema": {
             "type": "string"
            }
           },
           {
            "example": "2021-02-01",
            "in": "query",
            "name": "ToSettlementDate",
            "schema": {
             "type": "string"
            }
           },
           {
            "example": "*",
            "in": "query",
            "name": "Period",
            "schema": {
             "type": "string"
            }
           },
           {
            "examples": {
             "csv": {
              "value": "csv"
             },
             "xml": {
              "value": "xml"
             }
            },
            "in": "query",
            "name": "ServiceType",
            "schema": {
             "type": "string"
            }
           }
          ],
          "responses": {
           "200": {
            "description": "Market Index Data"
           }
          },
          "servers": [
           {
            "url": "https://api.bmreports.com"
           }
          ],
          "tags": [
           "Balancing"
          ],
          "x-title": "MID"
         },
         "servers": [
          {
           "url": "https://api.bmreports.com"
          }
         ]
        },
        "/BMRS/MessageDetailRetrieval/v1": {
         "get": {
          "description": "REMIT Flow - Message List Retrieval",
          "parameters": [
           {
            "example": "AP8DA23",
            "in": "query",
            "name": "APIKey",
            "schema": {
             "type": "string"
            }
           },
           {
            "example": "",
            "in": "query",
            "name": "MessageId",
            "schema": {
             "type": "string"
            }
           },
           {
            "example": "",
            "in": "query",
            "name": "ParticipantId",
            "schema": {
             "type": "string"
            }
           },
           {
            "example": "",
            "in": "query",
            "name": "SequenceId",
            "schema": {
             "type": "integer"
            }
           },
           {
            "example": "N",
            "in": "query",
            "name": "ActiveFlag",
            "schema": {
             "type": "string"
            }
           },
           {
            "example": "csv/xml.",
            "in": "query",
            "name": "ServiceType",
            "schema": {
             "type": "string"
            }
           }
          ],
          "responses": {
           "200": {
            "description": "REMIT Flow - Message List Retrieval"
           }
          },
          "servers": [
           {
            "url": "https://api.bmreports.com"
           }
          ],
          "tags": [
           "REMIT"
          ],
          "x-title": "MessageDetailRetrieval"
         },
         "servers": [
          {
           "url": "https://api.bmreports.com"
          }
         ]
        },
        "/BMRS/MessageListRetrieval/v1": {
         "get": {
          "description": "REMIT Flow - Message List Retrieval",
          "parameters": [
           {
            "example": "AP8DA23",
            "in": "query",
            "name": "APIKey",
            "schema": {
             "type": "string"
            }
           },
           {
            "example": "2021-01-01",
            "in": "query",
            "name": "EventStart",
            "schema": {
             "type": "string"
            }
           },
           {
            "example": "2021-02-01",
            "in": "query",
            "name": "EventEnd",
            "schema": {
             "type": "string"
            }
           },
           {
            "example": "2021-01-01",
            "in": "query",
            "name": "PublicationFrom",
            "schema": {
             "type": "string"
            }
           },
           {
            "example": "2021-02-01",
            "in": "query",
            "name": "PublicationTo",
            "schema": {
             "type": "string"
            }
           },
           {
            "example": "",
            "in": "query",
            "name": "ParticipantId",
            "schema": {
             "type": "string"
            }
           },
           {
            "example": "",
            "in": "query",
            "name": "MessageID",
            "schema": {
             "type": "string"
            }
           },
           {
            "example": "",
            "in": "query",
            "name": "AssetID",
            "schema": {
             "type": "string"
            }
           },
           {
            "example": "",
            "in": "query",
            "name": "EventType",
            "schema": {
             "type": "string"
            }
           },
           {
            "example": "",
            "in": "query",
            "name": "FuelType",
            "schema": {
             "type": "string"
            }
           },
           {
            "example": "",
            "in": "query",
            "name": "MessageType",
            "schema": {
             "type": "string"
            }
           },
           {
            "example": "",
            "in": "query",
            "name": "UnavailabilityType",
            "schema": {
             "type": "string"
            }
           },
           {
            "examples": {
             "csv": {
              "value": "csv"
             },
             "xml": {
              "value": "xml"
             }
            },
            "in": "query",
            "name": "ServiceType",
            "schema": {
             "type": "string"
            }
           }
          ],
          "responses": {
           "200": {
            "description": "REMIT Flow - Message List Retrieval"
           }
          },
          "servers": [
           {
            "url": "https://api.bmreports.com"
           }
          ],
          "tags": [
           "REMIT"
          ],
          "x-title": "MessageListRetrieval"
         },
         "servers": [
          {
           "url": "https://api.bmreports.com"
          }
         ]
        },
        "/BMRS/NETBSAD/v1": {
         "get": {
          "description": "Balancing Service Adjustment Data",
          "parameters": [
           {
            "example": "AP8DA23",
            "in": "query",
            "name": "APIKey",
            "schema": {
             "type": "string"
            }
           },
           {
            "example": "2021-01-01",
            "in": "query",
            "name": "SettlementDate",
            "schema": {
             "type": "string"
            }
           },
           {
            "example": "1",
            "in": "query",
            "name": "SettlementPeriod",
            "schema": {
             "type": "string"
            }
           },
           {
            "example": "FALSE",
            "in": "query",
            "name": "isTwoDayWindow",
            "schema": {
             "type": "string"
            }
           },
           {
            "examples": {
             "csv": {
              "value": "csv"
             },
             "xml": {
              "value": "xml"
             }
            },
            "in": "query",
            "name": "ServiceType",
            "schema": {
             "type": "string"
            }
           }
          ],
          "responses": {
           "200": {
            "description": "Balancing Service Adjustment Data"
           }
          },
          "servers": [
           {
            "url": "https://api.bmreports.com"
           }
          ],
          "tags": [
           "Balancing"
          ],
          "x-title": "NETBSAD"
         },
         "servers": [
          {
           "url": "https://api.bmreports.com"
          }
         ]
        },
        "/BMRS/NONBM/v1": {
         "get": {
          "description": "Non BM STOR Instructed Volume Data",
          "parameters": [
           {
            "example": "2021-01-01",
            "in": "query",
            "name": "FromDate",
            "schema": {
             "type": "string"
            }
           },
           {
            "example": "2021-02-01",
            "in": "query",
            "name": "ToDate",
            "schema": {
             "type": "string"
            }
           },
           {
            "example": "AP8DA23",
            "in": "query",
            "name": "APIKey",
            "schema": {
             "type": "string"
            }
           },
           {
            "examples": {
             "csv": {
              "value": "csv"
             },
             "xml": {
              "value": "xml"
             }
            },
            "in": "query",
            "name": "ServiceType",
            "schema": {
             "type": "string"
            }
           }
          ],
          "responses": {
           "200": {
            "description": "Non BM STOR Instructed Volume Data"
           }
          },
          "servers": [
           {
            "url": "https://api.bmreports.com"
           }
          ],
          "tags": [
           "Balancing"
          ],
          "x-title": "NONBM"
         },
         "servers": [
          {
           "url": "https://api.bmreports.com"
          }
         ]
        },
        "/BMRS/PHYBMDATA/v1": {
         "get": {
          "description": "Physical Data",
          "parameters": [
           {
            "example": "AP8DA23",
            "in": "query",
            "name": "APIKey",
            "schema": {
             "type": "string"
            }
           },
           {
            "example": "2021-01-01",
            "in": "query",
            "name": "SettlementDate",
            "schema": {
             "type": "string"
            }
           },
           {
            "example": "12",
            "in": "query",
            "name": "SettlementPeriod",
            "schema": {
             "type": "string"
            }
           },
           {
            "example": "",
            "in": "query",
            "name": "BMUnitId",
            "schema": {
             "type": "string"
            }
           },
           {
            "example": "",
            "in": "query",
            "name": "BMUnitType",
            "schema": {
             "type": "string"
            }
           },
           {
            "example": "",
            "in": "query",
            "name": "LeadPartyName",
            "schema": {
             "type": "string"
            }
           },
           {
            "example": "",
            "in": "query",
            "name": "NGCBMUnit",
            "schema": {
             "type": "string"
            }
           },
           {
            "example": "",
            "in": "query",
            "name": "Name",
            "schema": {
             "type": "string"
            }
           },
           {
            "examples": {
             "csv": {
              "value": "csv"
             },
             "xml": {
              "value": "xml"
             }
            },
            "in": "query",
            "name": "ServiceType",
            "schema": {
             "type": "string"
            }
           }
          ],
          "responses": {
           "200": {
            "description": "Physical Data"
           }
          },
          "servers": [
           {
            "url": "https://api.bmreports.com"
           }
          ],
          "tags": [
           "Balancing"
          ],
          "x-title": "PHYBMDATA"
         },
         "servers": [
          {
           "url": "https://api.bmreports.com"
          }
         ]
        },
        "/BMRS/SYSDEM/v1": {
         "get": {
          "description": "System Demand",
          "parameters": [
           {
            "example": "AP8DA23",
            "in": "query",
            "name": "APIKey",
            "schema": {
             "type": "string"
            }
           },
           {
            "example": "2021-01-01",
            "in": "query",
            "name": "FromDate",
            "schema": {
             "type": "string"
            }
           },
           {
            "example": "2021-02-01",
            "in": "query",
            "name": "ToDate",
            "schema": {
             "type": "string"
            }
           },
           {
            "examples": {
             "csv": {
              "value": "csv"
             },
             "xml": {
              "value": "xml"
             }
            },
            "in": "query",
            "name": "ServiceType",
            "schema": {
             "type": "string"
            }
           }
          ],
          "responses": {
           "200": {
            "description": "System Demand"
           }
          },
          "servers": [
           {
            "url": "https://api.bmreports.com"
           }
          ],
          "tags": [
           "Demand"
          ],
          "x-title": "SYSDEM"
         },
         "servers": [
          {
           "url": "https://api.bmreports.com"
          }
         ]
        },
        "/BMRS/SYSWARN/v1": {
         "get": {
          "description": "System Warnings",
          "parameters": [
           {
            "example": "AP8DA23",
            "in": "query",
            "name": "APIKey",
            "schema": {
             "type": "string"
            }
           },
           {
            "example": "2021-01-01",
            "in": "query",
            "name": "FromDate",
            "schema": {
             "type": "string"
            }
           },
           {
            "example": "2021-02-01",
            "in": "query",
            "name": "ToDate",
            "schema": {
             "type": "string"
            }
           },
           {
            "examples": {
             "csv": {
              "value": "csv"
             },
             "xml": {
              "value": "xml"
             }
            },
            "in": "query",
            "name": "ServiceType",
            "schema": {
             "type": "string"
            }
           }
          ],
          "responses": {
           "200": {
            "description": "System Warnings"
           }
          },
          "servers": [
           {
            "url": "https://api.bmreports.com"
           }
          ],
          "tags": [
           "Transmission"
          ],
          "x-title": "SYSWARN"
         },
         "servers": [
          {
           "url": "https://api.bmreports.com"
          }
         ]
        },
        "/BMRS/TEMP/v1": {
         "get": {
          "description": "Temperature Data",
          "parameters": [
           {
            "example": "AP8DA23",
            "in": "query",
            "name": "APIKey",
            "schema": {
             "type": "string"
            }
           },
           {
            "example": "2021-01-01",
            "in": "query",
            "name": "FromDate",
            "schema": {
             "type": "string"
            }
           },
           {
            "example": "2021-02-01",
            "in": "query",
            "name": "ToDate",
            "schema": {
             "type": "string"
            }
           },
           {
            "examples": {
             "csv": {
              "value": "csv"
             },
             "xml": {
              "value": "xml"
             }
            },
            "in": "query",
            "name": "ServiceType",
            "schema": {
             "type": "string"
            }
           }
          ],
          "responses": {
           "200": {
            "description": "Temperature Data"
           }
          },
          "servers": [
           {
            "url": "https://api.bmreports.com"
           }
          ],
          "tags": [
           "Generation"
          ],
          "x-title": "TEMP"
         },
         "servers": [
          {
           "url": "https://api.bmreports.com"
          }
         ]
        },
        "/BMRS/WINDFORFUELHH/v1": {
         "get": {
          "description": "Wind Generation Forecast and Out-turn Data",
          "parameters": [
           {
            "example": "AP8DA23",
            "in": "query",
            "name": "APIKey",
            "schema": {
             "type": "string"
            }
           },
           {
            "example": "2021-01-01",
            "in": "query",
            "name": "FromDate",
            "schema": {
             "type": "string"
            }
           },
           {
            "example": "2021-02-01",
            "in": "query",
            "name": "ToDate",
            "schema": {
             "type": "string"
            }
           },
           {
            "examples": {
             "csv": {
              "value": "csv"
             },
             "xml": {
              "value": "xml"
             }
            },
            "in": "query",
            "name": "ServiceType",
            "schema": {
             "type": "string"
            }
           }
          ],
          "responses": {
           "200": {
            "description": "Wind Generation Forecast and Out-turn Data"
           }
          },
          "servers": [
           {
            "url": "https://api.bmreports.com"
           }
          ],
          "tags": [
           "Generation"
          ],
          "x-title": "WINDFORFUELHH"
         },
         "servers": [
          {
           "url": "https://api.bmreports.com"
          }
         ]
        }
       },
       "servers": [
        {
         "url": "https://api.bmreports.com"
        }
       ],
       "tags": [
        {
         "description": "Data relating to the infrastructure on and management of the transmission network",
         "externalDocs": {
          "url": "https://www.bmreports.com/bmrs/?q=transmission/"
         },
         "name": "Transmission"
        },
        {
         "description": "Data relating to forecasts, out-turn, and reductions in demand",
         "externalDocs": {
          "url": "https://www.bmreports.com/bmrs/?q=demand/"
         },
         "name": "Demand"
        },
        {
         "description": "Data relating to forecasts, out-turn, and reductions in generation",
         "externalDocs": {
          "url": "https://www.bmreports.com/bmrs/?q=generation/"
         },
         "name": "Generation"
        },
        {
         "description": "Data relating to the prices, volumes, and units operating in short-term power markets",
         "externalDocs": {
          "url": "hhttps://www.bmreports.com/bmrs/?q=balancing/"
         },
         "name": "Balancing"
        }
       ]
      },
      "text/plain": [
       "<IPython.core.display.JSON object>"
      ]
     },
     "execution_count": 21,
     "metadata": {
      "application/json": {
       "expanded": false,
       "root": "root"
      }
     },
     "output_type": "execute_result"
    }
   ],
   "source": [
    "API_yaml = load_API_yaml(fp='../data/BMRS_API.yaml')\n",
    "\n",
    "JSON(API_yaml)"
   ]
  },
  {
   "cell_type": "code",
   "execution_count": null,
   "id": "f9240051-60e4-457d-8de3-20294b6f54f2",
   "metadata": {},
   "outputs": [],
   "source": []
  },
  {
   "cell_type": "code",
   "execution_count": 22,
   "id": "109e5604-9c26-48e0-8053-435c000b6c4e",
   "metadata": {},
   "outputs": [],
   "source": [
    "# https://app.swaggerhub.com/apis/AyrtonB/default-title/0.1"
   ]
  },
  {
   "cell_type": "code",
   "execution_count": 23,
   "id": "f785d9d3-8ec4-4452-97f9-b1d57cf8508c",
   "metadata": {},
   "outputs": [
    {
     "name": "stdout",
     "output_type": "stream",
     "text": [
      "Converted 02-spec-gen.ipynb.\n"
     ]
    }
   ],
   "source": [
    "#hide\n",
    "from ElexonDataPortal.dev.nbdev import notebook2script\n",
    "notebook2script('02-spec-gen.ipynb')"
   ]
  }
 ],
 "metadata": {
  "kernelspec": {
   "display_name": "BMRS",
   "language": "python",
   "name": "bmrs"
  },
  "language_info": {
   "codemirror_mode": {
    "name": "ipython",
    "version": 3
   },
   "file_extension": ".py",
   "mimetype": "text/x-python",
   "name": "python",
   "nbconvert_exporter": "python",
   "pygments_lexer": "ipython3",
   "version": "3.9.4"
  }
 },
 "nbformat": 4,
 "nbformat_minor": 5
}
